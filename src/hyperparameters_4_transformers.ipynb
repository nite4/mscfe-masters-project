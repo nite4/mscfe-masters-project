{
 "cells": [
  {
   "cell_type": "code",
   "execution_count": 1,
   "id": "bb3e861e-48f6-4e4d-b2e0-61fd2c404c50",
   "metadata": {},
   "outputs": [
    {
     "name": "stderr",
     "output_type": "stream",
     "text": [
      "2025-03-01 18:15:20.856636: I tensorflow/core/util/port.cc:153] oneDNN custom operations are on. You may see slightly different numerical results due to floating-point round-off errors from different computation orders. To turn them off, set the environment variable `TF_ENABLE_ONEDNN_OPTS=0`.\n",
      "2025-03-01 18:15:20.866864: E external/local_xla/xla/stream_executor/cuda/cuda_fft.cc:477] Unable to register cuFFT factory: Attempting to register factory for plugin cuFFT when one has already been registered\n",
      "WARNING: All log messages before absl::InitializeLog() is called are written to STDERR\n",
      "E0000 00:00:1740824120.879122   26461 cuda_dnn.cc:8310] Unable to register cuDNN factory: Attempting to register factory for plugin cuDNN when one has already been registered\n",
      "E0000 00:00:1740824120.882733   26461 cuda_blas.cc:1418] Unable to register cuBLAS factory: Attempting to register factory for plugin cuBLAS when one has already been registered\n",
      "2025-03-01 18:15:20.895664: I tensorflow/core/platform/cpu_feature_guard.cc:210] This TensorFlow binary is optimized to use available CPU instructions in performance-critical operations.\n",
      "To enable the following instructions: AVX2 AVX_VNNI FMA, in other operations, rebuild TensorFlow with the appropriate compiler flags.\n"
     ]
    }
   ],
   "source": [
    "# %conda install -c conda-forge ta-lib -q\n",
    "# %pip install -r requirements.txt -q\n",
    "\n",
    "# import boto3\n",
    "import data\n",
    "import glob\n",
    "import matplotlib.pyplot as plt\n",
    "import models\n",
    "import numpy as np\n",
    "import os\n",
    "import pandas as pd\n",
    "import pypickle\n",
    "import strategy\n",
    "import time\n",
    "\n",
    "from data import * \n",
    "from feature_engineering import FeaturesEngineering\n",
    "from models import Models\n",
    "from io import StringIO\n",
    "from IPython.display import display\n",
    "from sklearn.linear_model import LassoCV\n",
    "from utils import log"
   ]
  },
  {
   "cell_type": "code",
   "execution_count": 2,
   "id": "72379642-7d44-4b0c-b4f9-1c34592312a3",
   "metadata": {},
   "outputs": [],
   "source": [
    "pypickle_overwrite = True\n",
    "\n",
    "models = Models(use_xgboost_gpu=True)"
   ]
  },
  {
   "cell_type": "code",
   "execution_count": 3,
   "id": "a10f57a0-0849-4813-bb67-801da2b8c8b4",
   "metadata": {},
   "outputs": [
    {
     "name": "stdout",
     "output_type": "stream",
     "text": [
      "\n",
      "Project directory: /home/alfred/projects/mscfe-masters-project/src\n",
      "Models directory: /home/alfred/projects/mscfe-masters-project/src/models\n",
      "Base models directory: /home/alfred/projects/mscfe-masters-project/src/models/base\n",
      "Scalers directory: /home/alfred/projects/mscfe-masters-project/src/models/scaler\n",
      "Best models directory: /home/alfred/projects/mscfe-masters-project/src/models/best\n",
      "\n"
     ]
    }
   ],
   "source": [
    "dir_project = os.getcwd()\n",
    "dir_models = os.path.join(dir_project, 'models')\n",
    "dir_models_base = os.path.join(dir_project, 'models', 'base')\n",
    "dir_models_scaler = os.path.join(dir_project, 'models', 'scaler')\n",
    "dir_models_best = os.path.join(dir_project, 'models', 'best')\n",
    "\n",
    "print(f\"\"\"\n",
    "Project directory: {dir_project}\n",
    "Models directory: {dir_models}\n",
    "Base models directory: {dir_models_base}\n",
    "Scalers directory: {dir_models_scaler}\n",
    "Best models directory: {dir_models_best}\n",
    "\"\"\")"
   ]
  },
  {
   "cell_type": "markdown",
   "id": "a0c06ccb-5fbb-4edc-b968-f6cf9050768d",
   "metadata": {},
   "source": [
    "# Read raw data"
   ]
  },
  {
   "cell_type": "code",
   "execution_count": 4,
   "id": "b3e39bdf-f344-4744-a85b-1659dad65f84",
   "metadata": {},
   "outputs": [
    {
     "data": {
      "text/html": [
       "<div>\n",
       "<style scoped>\n",
       "    .dataframe tbody tr th:only-of-type {\n",
       "        vertical-align: middle;\n",
       "    }\n",
       "\n",
       "    .dataframe tbody tr th {\n",
       "        vertical-align: top;\n",
       "    }\n",
       "\n",
       "    .dataframe thead th {\n",
       "        text-align: right;\n",
       "    }\n",
       "</style>\n",
       "<table border=\"1\" class=\"dataframe\">\n",
       "  <thead>\n",
       "    <tr style=\"text-align: right;\">\n",
       "      <th></th>\n",
       "      <th>seriesX</th>\n",
       "      <th>seriesY</th>\n",
       "      <th>correlation</th>\n",
       "      <th>spread_adf_stat</th>\n",
       "      <th>spread_adf_pValue</th>\n",
       "      <th>spread_stationary</th>\n",
       "      <th>series_coint_stat</th>\n",
       "      <th>series_coint_pValue</th>\n",
       "      <th>series_cointegrated</th>\n",
       "    </tr>\n",
       "  </thead>\n",
       "  <tbody>\n",
       "    <tr>\n",
       "      <th>0</th>\n",
       "      <td>GOOG</td>\n",
       "      <td>GOOGL</td>\n",
       "      <td>0.999931</td>\n",
       "      <td>-4.971937</td>\n",
       "      <td>0.000025</td>\n",
       "      <td>True</td>\n",
       "      <td>-4.976339</td>\n",
       "      <td>0.000182</td>\n",
       "      <td>True</td>\n",
       "    </tr>\n",
       "    <tr>\n",
       "      <th>1</th>\n",
       "      <td>META</td>\n",
       "      <td>DAXEX_ETF</td>\n",
       "      <td>0.888934</td>\n",
       "      <td>-2.917056</td>\n",
       "      <td>0.043400</td>\n",
       "      <td>True</td>\n",
       "      <td>-3.483091</td>\n",
       "      <td>0.033924</td>\n",
       "      <td>True</td>\n",
       "    </tr>\n",
       "    <tr>\n",
       "      <th>2</th>\n",
       "      <td>AMZN</td>\n",
       "      <td>BNBUSDT</td>\n",
       "      <td>0.877059</td>\n",
       "      <td>-3.631203</td>\n",
       "      <td>0.005192</td>\n",
       "      <td>True</td>\n",
       "      <td>-3.545100</td>\n",
       "      <td>0.028601</td>\n",
       "      <td>True</td>\n",
       "    </tr>\n",
       "    <tr>\n",
       "      <th>3</th>\n",
       "      <td>AMZN</td>\n",
       "      <td>TRXUSDT</td>\n",
       "      <td>0.814577</td>\n",
       "      <td>-3.869803</td>\n",
       "      <td>0.002269</td>\n",
       "      <td>True</td>\n",
       "      <td>-3.387413</td>\n",
       "      <td>0.043768</td>\n",
       "      <td>True</td>\n",
       "    </tr>\n",
       "    <tr>\n",
       "      <th>4</th>\n",
       "      <td>SPY_ETF</td>\n",
       "      <td>AVAXUSDT</td>\n",
       "      <td>0.847292</td>\n",
       "      <td>-3.309927</td>\n",
       "      <td>0.014441</td>\n",
       "      <td>True</td>\n",
       "      <td>-3.698512</td>\n",
       "      <td>0.018406</td>\n",
       "      <td>True</td>\n",
       "    </tr>\n",
       "    <tr>\n",
       "      <th>5</th>\n",
       "      <td>SPY_ETF</td>\n",
       "      <td>ETHUSDT</td>\n",
       "      <td>0.862483</td>\n",
       "      <td>-3.428205</td>\n",
       "      <td>0.010034</td>\n",
       "      <td>True</td>\n",
       "      <td>-3.737367</td>\n",
       "      <td>0.016394</td>\n",
       "      <td>True</td>\n",
       "    </tr>\n",
       "    <tr>\n",
       "      <th>6</th>\n",
       "      <td>EQQQ_ETF</td>\n",
       "      <td>BNBUSDT</td>\n",
       "      <td>0.886060</td>\n",
       "      <td>-3.816404</td>\n",
       "      <td>0.002744</td>\n",
       "      <td>True</td>\n",
       "      <td>-3.670509</td>\n",
       "      <td>0.019987</td>\n",
       "      <td>True</td>\n",
       "    </tr>\n",
       "    <tr>\n",
       "      <th>7</th>\n",
       "      <td>BNBUSDT</td>\n",
       "      <td>ADAUSDT</td>\n",
       "      <td>0.901459</td>\n",
       "      <td>-3.279504</td>\n",
       "      <td>0.015820</td>\n",
       "      <td>True</td>\n",
       "      <td>-3.775562</td>\n",
       "      <td>0.014607</td>\n",
       "      <td>True</td>\n",
       "    </tr>\n",
       "    <tr>\n",
       "      <th>8</th>\n",
       "      <td>BNBUSDT</td>\n",
       "      <td>BTCUSDT</td>\n",
       "      <td>0.884604</td>\n",
       "      <td>-2.909961</td>\n",
       "      <td>0.044202</td>\n",
       "      <td>True</td>\n",
       "      <td>-3.393160</td>\n",
       "      <td>0.043116</td>\n",
       "      <td>True</td>\n",
       "    </tr>\n",
       "    <tr>\n",
       "      <th>9</th>\n",
       "      <td>BNBUSDT</td>\n",
       "      <td>TRXUSDT</td>\n",
       "      <td>0.933562</td>\n",
       "      <td>-3.656380</td>\n",
       "      <td>0.004770</td>\n",
       "      <td>True</td>\n",
       "      <td>-4.003675</td>\n",
       "      <td>0.007095</td>\n",
       "      <td>True</td>\n",
       "    </tr>\n",
       "    <tr>\n",
       "      <th>10</th>\n",
       "      <td>BNBUSDT</td>\n",
       "      <td>XRPUSDT</td>\n",
       "      <td>0.919004</td>\n",
       "      <td>-3.380878</td>\n",
       "      <td>0.011628</td>\n",
       "      <td>True</td>\n",
       "      <td>-4.054516</td>\n",
       "      <td>0.005995</td>\n",
       "      <td>True</td>\n",
       "    </tr>\n",
       "  </tbody>\n",
       "</table>\n",
       "</div>"
      ],
      "text/plain": [
       "     seriesX    seriesY  correlation  spread_adf_stat  spread_adf_pValue  \\\n",
       "0       GOOG      GOOGL     0.999931        -4.971937           0.000025   \n",
       "1       META  DAXEX_ETF     0.888934        -2.917056           0.043400   \n",
       "2       AMZN    BNBUSDT     0.877059        -3.631203           0.005192   \n",
       "3       AMZN    TRXUSDT     0.814577        -3.869803           0.002269   \n",
       "4    SPY_ETF   AVAXUSDT     0.847292        -3.309927           0.014441   \n",
       "5    SPY_ETF    ETHUSDT     0.862483        -3.428205           0.010034   \n",
       "6   EQQQ_ETF    BNBUSDT     0.886060        -3.816404           0.002744   \n",
       "7    BNBUSDT    ADAUSDT     0.901459        -3.279504           0.015820   \n",
       "8    BNBUSDT    BTCUSDT     0.884604        -2.909961           0.044202   \n",
       "9    BNBUSDT    TRXUSDT     0.933562        -3.656380           0.004770   \n",
       "10   BNBUSDT    XRPUSDT     0.919004        -3.380878           0.011628   \n",
       "\n",
       "    spread_stationary  series_coint_stat  series_coint_pValue  \\\n",
       "0                True          -4.976339             0.000182   \n",
       "1                True          -3.483091             0.033924   \n",
       "2                True          -3.545100             0.028601   \n",
       "3                True          -3.387413             0.043768   \n",
       "4                True          -3.698512             0.018406   \n",
       "5                True          -3.737367             0.016394   \n",
       "6                True          -3.670509             0.019987   \n",
       "7                True          -3.775562             0.014607   \n",
       "8                True          -3.393160             0.043116   \n",
       "9                True          -4.003675             0.007095   \n",
       "10               True          -4.054516             0.005995   \n",
       "\n",
       "    series_cointegrated  \n",
       "0                  True  \n",
       "1                  True  \n",
       "2                  True  \n",
       "3                  True  \n",
       "4                  True  \n",
       "5                  True  \n",
       "6                  True  \n",
       "7                  True  \n",
       "8                  True  \n",
       "9                  True  \n",
       "10                 True  "
      ]
     },
     "metadata": {},
     "output_type": "display_data"
    }
   ],
   "source": [
    "# Define S3 bucket and file path\n",
    "bucket_name = 'mscfe-capstone-project-bucket'\n",
    "file_key = 'filtered_data.csv'\n",
    "\n",
    "filtered = pd.read_csv('filtered_data.csv').drop(['Unnamed: 0'], axis=1)\n",
    "display(filtered)"
   ]
  },
  {
   "cell_type": "code",
   "execution_count": 5,
   "id": "81678977-4845-4bf5-a08f-521e7a0f6595",
   "metadata": {},
   "outputs": [
    {
     "name": "stdout",
     "output_type": "stream",
     "text": [
      "********************\n",
      "Trading pairs:\n",
      "META DAXEX_ETF\n",
      "AMZN BNBUSDT\n",
      "AMZN TRXUSDT\n",
      "SPY_ETF AVAXUSDT\n",
      "SPY_ETF ETHUSDT\n",
      "EQQQ_ETF BNBUSDT\n",
      "BNBUSDT ADAUSDT\n",
      "BNBUSDT BTCUSDT\n",
      "BNBUSDT TRXUSDT\n",
      "BNBUSDT XRPUSDT\n",
      "********************\n",
      "Unique tickers:\n",
      "META\n",
      "AMZN\n",
      "SPY_ETF\n",
      "EQQQ_ETF\n",
      "BNBUSDT\n",
      "DAXEX_ETF\n",
      "TRXUSDT\n",
      "AVAXUSDT\n",
      "ETHUSDT\n",
      "ADAUSDT\n",
      "BTCUSDT\n",
      "XRPUSDT\n",
      "********************\n"
     ]
    },
    {
     "data": {
      "text/html": [
       "<div>\n",
       "<style scoped>\n",
       "    .dataframe tbody tr th:only-of-type {\n",
       "        vertical-align: middle;\n",
       "    }\n",
       "\n",
       "    .dataframe tbody tr th {\n",
       "        vertical-align: top;\n",
       "    }\n",
       "\n",
       "    .dataframe thead th {\n",
       "        text-align: right;\n",
       "    }\n",
       "</style>\n",
       "<table border=\"1\" class=\"dataframe\">\n",
       "  <thead>\n",
       "    <tr style=\"text-align: right;\">\n",
       "      <th></th>\n",
       "      <th>OpenTime</th>\n",
       "      <th>Open</th>\n",
       "      <th>High</th>\n",
       "      <th>Low</th>\n",
       "      <th>Close</th>\n",
       "      <th>Symbol</th>\n",
       "    </tr>\n",
       "  </thead>\n",
       "  <tbody>\n",
       "    <tr>\n",
       "      <th>172973</th>\n",
       "      <td>2024-11-05 06:15:00</td>\n",
       "      <td>0.1614</td>\n",
       "      <td>0.1614</td>\n",
       "      <td>0.1612</td>\n",
       "      <td>0.1613</td>\n",
       "      <td>TRXUSDT</td>\n",
       "    </tr>\n",
       "    <tr>\n",
       "      <th>51041</th>\n",
       "      <td>2024-12-11 18:05:00</td>\n",
       "      <td>608.0200</td>\n",
       "      <td>608.0400</td>\n",
       "      <td>607.8700</td>\n",
       "      <td>607.9400</td>\n",
       "      <td>SPY_ETF</td>\n",
       "    </tr>\n",
       "    <tr>\n",
       "      <th>21104</th>\n",
       "      <td>2024-11-07 17:45:00</td>\n",
       "      <td>592.6950</td>\n",
       "      <td>593.3999</td>\n",
       "      <td>592.5600</td>\n",
       "      <td>592.9850</td>\n",
       "      <td>META</td>\n",
       "    </tr>\n",
       "    <tr>\n",
       "      <th>253554</th>\n",
       "      <td>2024-12-03 05:45:00</td>\n",
       "      <td>0.9999</td>\n",
       "      <td>1.0000</td>\n",
       "      <td>0.9998</td>\n",
       "      <td>0.9998</td>\n",
       "      <td>USDCUSDT</td>\n",
       "    </tr>\n",
       "    <tr>\n",
       "      <th>75397</th>\n",
       "      <td>2025-01-13 12:25:00</td>\n",
       "      <td>167.1200</td>\n",
       "      <td>167.1200</td>\n",
       "      <td>167.0400</td>\n",
       "      <td>167.1000</td>\n",
       "      <td>DAXEX_ETF</td>\n",
       "    </tr>\n",
       "  </tbody>\n",
       "</table>\n",
       "</div>"
      ],
      "text/plain": [
       "                   OpenTime      Open      High       Low     Close     Symbol\n",
       "172973  2024-11-05 06:15:00    0.1614    0.1614    0.1612    0.1613    TRXUSDT\n",
       "51041   2024-12-11 18:05:00  608.0200  608.0400  607.8700  607.9400    SPY_ETF\n",
       "21104   2024-11-07 17:45:00  592.6950  593.3999  592.5600  592.9850       META\n",
       "253554  2024-12-03 05:45:00    0.9999    1.0000    0.9998    0.9998   USDCUSDT\n",
       "75397   2025-01-13 12:25:00  167.1200  167.1200  167.0400  167.1000  DAXEX_ETF"
      ]
     },
     "metadata": {},
     "output_type": "display_data"
    }
   ],
   "source": [
    "print('********************')\n",
    "pairs = filtered['seriesX'].iloc[1:] + ' ' + filtered['seriesY'].iloc[1:]\n",
    "print('Trading pairs:')\n",
    "for p in pairs:\n",
    "    print(p)\n",
    "print('********************')\n",
    "\n",
    "unique_tickers = pd.concat([filtered['seriesX'].iloc[1:], filtered['seriesY'].iloc[1:]]).drop_duplicates()\n",
    "print('Unique tickers:')\n",
    "for ut in unique_tickers:\n",
    "    print(ut)\n",
    "print('********************')\n",
    "\n",
    "# Preview the source data\n",
    "file_key = 'df_full.csv'\n",
    "df_full = pd.read_csv('df_full.csv').drop(['Unnamed: 0'], axis=1)\n",
    "# obj = s3.get_object(Bucket=bucket_name, Key=file_key)\n",
    "# df_full = pd.read_csv(StringIO(obj['Body'].read().decode('utf-8'))).drop(['Unnamed: 0'], axis=1)\n",
    "display(df_full.sample(5))"
   ]
  },
  {
   "cell_type": "markdown",
   "id": "592ec869-2800-42d1-8343-d7bf1b3e55fd",
   "metadata": {},
   "source": [
    "## Placeholders"
   ]
  },
  {
   "cell_type": "code",
   "execution_count": 6,
   "id": "870bbf1f-3b93-47db-afa0-847459a86f7a",
   "metadata": {},
   "outputs": [],
   "source": [
    "dict_data = {}\n",
    "dict_cv_features = {}"
   ]
  },
  {
   "cell_type": "markdown",
   "id": "62424baf-1ad3-42c4-9acd-2696e1d771b9",
   "metadata": {},
   "source": [
    "# Features Engineering\n",
    "\n",
    "## Create and normalizing features"
   ]
  },
  {
   "cell_type": "code",
   "execution_count": 7,
   "id": "daf187d8-7de3-4424-ac4b-5b49fa3572ca",
   "metadata": {},
   "outputs": [
    {
     "data": {
      "text/plain": [
       "{'ema': [8, 21, 55],\n",
       " 'macd': {'fast': 12, 'slow': 26, 'signal': 9},\n",
       " 'rsi': [14],\n",
       " 'bb': {'timeperiod': 20, 'nbdevup': 2, 'nbdevdn': 2},\n",
       " 'atr': {'timeperiod': 14},\n",
       " 'stoch': {'fastk_period': 14, 'slowk_period': 3, 'slowd_period': 3},\n",
       " 'cci': {'timeperiod': 20},\n",
       " 'willr': {'timeperiod': 14}}"
      ]
     },
     "execution_count": 7,
     "metadata": {},
     "output_type": "execute_result"
    }
   ],
   "source": [
    "# Initializing the FeaturesEngineering obj\n",
    "feat = FeaturesEngineering()\n",
    "\n",
    "# Default config\n",
    "feat.default_config"
   ]
  },
  {
   "cell_type": "markdown",
   "id": "1a34f932-bdf4-4378-9a53-9541a6157b96",
   "metadata": {},
   "source": [
    "1. Create features from pairs data\n",
    "2. Load saved scaler\n",
    "3. Perform normalization / standardization"
   ]
  },
  {
   "cell_type": "code",
   "execution_count": 8,
   "id": "889c9b25-0102-4097-9ce3-970e0575ef39",
   "metadata": {},
   "outputs": [
    {
     "name": "stdout",
     "output_type": "stream",
     "text": [
      "(1) Pairs: META DAXEX_ETF\n",
      "[pypickle] Pickle file loaded: [/home/alfred/projects/mscfe-masters-project/src/models/scaler/standardscaler_META_DAXEX_ETF.pkl]\n",
      "\n",
      "(2) Pairs: AMZN BNBUSDT\n",
      "[pypickle] Pickle file loaded: [/home/alfred/projects/mscfe-masters-project/src/models/scaler/standardscaler_AMZN_BNBUSDT.pkl]\n",
      "\n",
      "(3) Pairs: AMZN TRXUSDT\n",
      "[pypickle] Pickle file loaded: [/home/alfred/projects/mscfe-masters-project/src/models/scaler/standardscaler_AMZN_TRXUSDT.pkl]\n",
      "\n",
      "(4) Pairs: SPY_ETF AVAXUSDT\n",
      "[pypickle] Pickle file loaded: [/home/alfred/projects/mscfe-masters-project/src/models/scaler/standardscaler_SPY_ETF_AVAXUSDT.pkl]\n",
      "\n",
      "(5) Pairs: SPY_ETF ETHUSDT\n",
      "[pypickle] Pickle file loaded: [/home/alfred/projects/mscfe-masters-project/src/models/scaler/standardscaler_SPY_ETF_ETHUSDT.pkl]\n",
      "\n",
      "(6) Pairs: EQQQ_ETF BNBUSDT\n",
      "[pypickle] Pickle file loaded: [/home/alfred/projects/mscfe-masters-project/src/models/scaler/standardscaler_EQQQ_ETF_BNBUSDT.pkl]\n",
      "\n",
      "(7) Pairs: BNBUSDT ADAUSDT\n",
      "[pypickle] Pickle file loaded: [/home/alfred/projects/mscfe-masters-project/src/models/scaler/standardscaler_BNBUSDT_ADAUSDT.pkl]\n",
      "\n",
      "(8) Pairs: BNBUSDT BTCUSDT\n",
      "[pypickle] Pickle file loaded: [/home/alfred/projects/mscfe-masters-project/src/models/scaler/standardscaler_BNBUSDT_BTCUSDT.pkl]\n",
      "\n",
      "(9) Pairs: BNBUSDT TRXUSDT\n",
      "[pypickle] Pickle file loaded: [/home/alfred/projects/mscfe-masters-project/src/models/scaler/standardscaler_BNBUSDT_TRXUSDT.pkl]\n",
      "\n",
      "(10) Pairs: BNBUSDT XRPUSDT\n",
      "[pypickle] Pickle file loaded: [/home/alfred/projects/mscfe-masters-project/src/models/scaler/standardscaler_BNBUSDT_XRPUSDT.pkl]\n",
      "\n"
     ]
    }
   ],
   "source": [
    "scaler_type = \"StandardScaler\"\n",
    "dict_data['df_feat'] = {}\n",
    "dict_data['df_norm'] = {}\n",
    "dict_data['scaler'] = {}\n",
    "i = 1\n",
    "\n",
    "for p in pairs:\n",
    "\n",
    "    print(f\"({i}) Pairs: {p}\")\n",
    "    tickerX, tickerY = p.split(' ')\n",
    "    \n",
    "    # 1. Create features from pairs data\n",
    "    df_feat = feat.create_features(\n",
    "        tickerX, \n",
    "        tickerY,\n",
    "        df_full[df_full['Symbol']==tickerX],\n",
    "        df_full[df_full['Symbol']==tickerY],\n",
    "        config=None, # using default config in the FeaturesEngineering\n",
    "        dropna=True\n",
    "    )\n",
    "\n",
    "    # 2. Load saved scaler\n",
    "    scaler_name = f\"{scaler_type.lower()}_{p.replace(' ', '_')}.pkl\"\n",
    "    dir_scaler = os.path.join(dir_models_scaler, scaler_name)\n",
    "    scaler = pypickle.load(dir_scaler)\n",
    "\n",
    "    # 3. Perform normalization / standardization\n",
    "    data_scaled = scaler.transform(df_feat)\n",
    "    df_norm = pd.DataFrame(\n",
    "        data_scaled, index=df_feat.index, columns=df_feat.columns\n",
    "    )\n",
    "    df_norm = df_norm.rename(columns={'Spread':'NormalizedSpread'})\n",
    "    \n",
    "    dict_data['df_feat'][p] = df_feat\n",
    "    dict_data['df_norm'][p] = df_norm\n",
    "    dict_data['scaler'][p] = scaler\n",
    "\n",
    "    i+=1\n",
    "    print('')"
   ]
  },
  {
   "cell_type": "markdown",
   "id": "4933b4dd-5bf4-4267-b612-31bb6f87ea3e",
   "metadata": {},
   "source": [
    "## Read LassoCV selected features"
   ]
  },
  {
   "cell_type": "code",
   "execution_count": 9,
   "id": "ce80957b-1fc7-41e0-a28e-33024188a410",
   "metadata": {},
   "outputs": [
    {
     "name": "stdout",
     "output_type": "stream",
     "text": [
      "[pypickle] Pickle file loaded: [/home/alfred/projects/mscfe-masters-project/src/models/lasso_cv_features.pkl]\n",
      "META DAXEX_ETF: ['META_EMA8', 'META_EMA55', 'META_RSI14', 'META_ATR14', 'META_StochD3', 'META_CCI20', 'META_WILLR14', 'DAXEX_ETF_EMA8', 'DAXEX_ETF_EMA21', 'DAXEX_ETF_MACD', 'DAXEX_ETF_BBupper', 'DAXEX_ETF_BBmiddle', 'DAXEX_ETF_BBlower', 'DAXEX_ETF_StochD3']\n",
      "AMZN BNBUSDT: ['AMZN_EMA8', 'AMZN_EMA21', 'AMZN_EMA55', 'AMZN_RSI14', 'AMZN_ATR14', 'AMZN_StochD3', 'AMZN_WILLR14', 'BNBUSDT_EMA8', 'BNBUSDT_EMA55', 'BNBUSDT_MACD', 'BNBUSDT_RSI14', 'BNBUSDT_ATR14', 'BNBUSDT_StochD3', 'BNBUSDT_CCI20', 'BNBUSDT_WILLR14']\n",
      "AMZN TRXUSDT: ['AMZN_EMA8', 'AMZN_EMA55', 'AMZN_RSI14', 'AMZN_ATR14', 'AMZN_StochD3', 'AMZN_CCI20', 'AMZN_WILLR14', 'TRXUSDT_MACD']\n",
      "SPY_ETF AVAXUSDT: ['SPY_ETF_EMA8', 'SPY_ETF_EMA55', 'SPY_ETF_MACD', 'SPY_ETF_RSI14', 'SPY_ETF_BBupper', 'SPY_ETF_BBmiddle', 'SPY_ETF_BBlower', 'SPY_ETF_ATR14', 'SPY_ETF_StochK14', 'SPY_ETF_StochD3', 'SPY_ETF_CCI20', 'SPY_ETF_WILLR14', 'AVAXUSDT_EMA8', 'AVAXUSDT_EMA55', 'AVAXUSDT_MACD', 'AVAXUSDT_ATR14', 'AVAXUSDT_StochK14', 'AVAXUSDT_StochD3', 'AVAXUSDT_CCI20', 'AVAXUSDT_WILLR14']\n",
      "SPY_ETF ETHUSDT: ['SPY_ETF_EMA8', 'SPY_ETF_EMA21', 'SPY_ETF_MACD', 'SPY_ETF_BBupper', 'SPY_ETF_BBmiddle', 'SPY_ETF_BBlower', 'SPY_ETF_ATR14', 'SPY_ETF_CCI20', 'ETHUSDT_EMA8', 'ETHUSDT_EMA55', 'ETHUSDT_MACD', 'ETHUSDT_RSI14', 'ETHUSDT_ATR14', 'ETHUSDT_StochD3', 'ETHUSDT_CCI20']\n",
      "EQQQ_ETF BNBUSDT: ['EQQQ_ETF_EMA8', 'EQQQ_ETF_EMA55', 'EQQQ_ETF_RSI14', 'EQQQ_ETF_ATR14', 'EQQQ_ETF_StochD3', 'EQQQ_ETF_CCI20', 'EQQQ_ETF_WILLR14', 'BNBUSDT_EMA8', 'BNBUSDT_MACD', 'BNBUSDT_BBupper', 'BNBUSDT_BBmiddle', 'BNBUSDT_BBlower']\n",
      "BNBUSDT ADAUSDT: ['BNBUSDT_EMA8', 'BNBUSDT_MACD', 'BNBUSDT_RSI14', 'BNBUSDT_StochD3', 'BNBUSDT_CCI20', 'BNBUSDT_WILLR14', 'ADAUSDT_ATR14', 'ADAUSDT_WILLR14']\n",
      "BNBUSDT BTCUSDT: ['BNBUSDT_WILLR14', 'BTCUSDT_EMA8', 'BTCUSDT_EMA21', 'BTCUSDT_EMA55', 'BTCUSDT_RSI14', 'BTCUSDT_BBlower', 'BTCUSDT_CCI20', 'BTCUSDT_WILLR14']\n",
      "BNBUSDT TRXUSDT: ['BNBUSDT_EMA8', 'BNBUSDT_EMA55', 'BNBUSDT_MACD', 'BNBUSDT_RSI14', 'BNBUSDT_StochD3', 'BNBUSDT_CCI20', 'BNBUSDT_WILLR14', 'TRXUSDT_EMA8', 'TRXUSDT_MACD', 'TRXUSDT_CCI20', 'TRXUSDT_WILLR14']\n",
      "BNBUSDT XRPUSDT: ['BNBUSDT_EMA8', 'BNBUSDT_MACD', 'BNBUSDT_RSI14', 'BNBUSDT_ATR14', 'BNBUSDT_StochD3', 'BNBUSDT_CCI20', 'BNBUSDT_WILLR14', 'XRPUSDT_EMA21', 'XRPUSDT_BBupper', 'XRPUSDT_ATR14', 'XRPUSDT_WILLR14']\n"
     ]
    }
   ],
   "source": [
    "lasso_cv_name = f\"lasso_cv_features.pkl\"\n",
    "dir_lasso = os.path.join(dir_models, lasso_cv_name)\n",
    "dict_cv_features = pypickle.load(dir_lasso)\n",
    "\n",
    "for key in dict_cv_features:\n",
    "    print(f\"{key}: {dict_cv_features[key]}\")"
   ]
  },
  {
   "cell_type": "markdown",
   "id": "b22af26c-0d52-46b0-b8a5-bc1e47cb54f1",
   "metadata": {},
   "source": [
    "# Hyperparameters Tunning\n",
    "\n",
    "## Transformer Regression"
   ]
  },
  {
   "cell_type": "code",
   "execution_count": 10,
   "id": "512eaa8e-75b5-4dc4-aa44-2919702e485f",
   "metadata": {},
   "outputs": [
    {
     "name": "stdout",
     "output_type": "stream",
     "text": [
      "(1) Pairs: META DAXEX_ETF\n",
      "Testing params: {'num_heads': 2, 'dropout_rate': 0.25, 'batch_size': 32, 'ff_dim': 64}\n",
      "Training/Validation Phase\n"
     ]
    },
    {
     "name": "stderr",
     "output_type": "stream",
     "text": [
      "I0000 00:00:1740824123.312719   26461 gpu_device.cc:2022] Created device /job:localhost/replica:0/task:0/device:GPU:0 with 21799 MB memory:  -> device: 0, name: NVIDIA GeForce RTX 4090, pci bus id: 0000:01:00.0, compute capability: 8.9\n",
      "WARNING: All log messages before absl::InitializeLog() is called are written to STDERR\n",
      "I0000 00:00:1740824125.563107   26612 service.cc:148] XLA service 0x75f7c8005990 initialized for platform CUDA (this does not guarantee that XLA will be used). Devices:\n",
      "I0000 00:00:1740824125.563130   26612 service.cc:156]   StreamExecutor device (0): NVIDIA GeForce RTX 4090, Compute Capability 8.9\n",
      "2025-03-01 18:15:25.608526: I tensorflow/compiler/mlir/tensorflow/utils/dump_mlir_util.cc:268] disabling MLIR crash reproducer, set env var `MLIR_CRASH_REPRODUCER_DIRECTORY` to enable.\n",
      "I0000 00:00:1740824125.820259   26612 cuda_dnn.cc:529] Loaded cuDNN version 90300\n",
      "I0000 00:00:1740824128.740824   26612 device_compiler.h:188] Compiled cluster using XLA!  This line is logged at most once for the lifetime of the process.\n"
     ]
    },
    {
     "name": "stdout",
     "output_type": "stream",
     "text": [
      "\u001b[1m8/8\u001b[0m \u001b[32m━━━━━━━━━━━━━━━━━━━━\u001b[0m\u001b[37m\u001b[0m \u001b[1m1s\u001b[0m 107ms/step\n",
      "Transformer MSE: 0.040626238278947575\n",
      "Testing params: {'num_heads': 2, 'dropout_rate': 0.25, 'batch_size': 32, 'ff_dim': 128}\n",
      "Training/Validation Phase\n",
      "\u001b[1m8/8\u001b[0m \u001b[32m━━━━━━━━━━━━━━━━━━━━\u001b[0m\u001b[37m\u001b[0m \u001b[1m1s\u001b[0m 124ms/step\n",
      "Transformer MSE: 0.04928884863831479\n",
      "Testing params: {'num_heads': 2, 'dropout_rate': 0.25, 'batch_size': 64, 'ff_dim': 64}\n",
      "Training/Validation Phase\n"
     ]
    },
    {
     "name": "stderr",
     "output_type": "stream",
     "text": [
      "2025-03-01 18:15:53.577154: I external/local_xla/xla/stream_executor/cuda/cuda_asm_compiler.cc:397] ptxas warning : Registers are spilled to local memory in function 'input_multiply_reduce_select_fusion', 8 bytes spill stores, 4 bytes spill loads\n",
      "ptxas warning : Registers are spilled to local memory in function 'input_add_multiply_reduce_select_fusion', 8 bytes spill stores, 4 bytes spill loads\n",
      "\n"
     ]
    },
    {
     "name": "stdout",
     "output_type": "stream",
     "text": [
      "\u001b[1m8/8\u001b[0m \u001b[32m━━━━━━━━━━━━━━━━━━━━\u001b[0m\u001b[37m\u001b[0m \u001b[1m1s\u001b[0m 48ms/step \n",
      "Transformer MSE: 0.04657388803518155\n",
      "Testing params: {'num_heads': 2, 'dropout_rate': 0.25, 'batch_size': 64, 'ff_dim': 128}\n",
      "Training/Validation Phase\n"
     ]
    },
    {
     "name": "stderr",
     "output_type": "stream",
     "text": [
      "2025-03-01 18:16:03.138771: I external/local_xla/xla/stream_executor/cuda/cuda_asm_compiler.cc:397] ptxas warning : Registers are spilled to local memory in function 'input_multiply_reduce_select_fusion', 8 bytes spill stores, 4 bytes spill loads\n",
      "ptxas warning : Registers are spilled to local memory in function 'input_add_multiply_reduce_select_fusion', 8 bytes spill stores, 4 bytes spill loads\n",
      "\n"
     ]
    },
    {
     "name": "stdout",
     "output_type": "stream",
     "text": [
      "\u001b[1m8/8\u001b[0m \u001b[32m━━━━━━━━━━━━━━━━━━━━\u001b[0m\u001b[37m\u001b[0m \u001b[1m1s\u001b[0m 48ms/step \n",
      "Transformer MSE: 0.04369482681826833\n",
      "Testing params: {'num_heads': 4, 'dropout_rate': 0.25, 'batch_size': 32, 'ff_dim': 64}\n",
      "Training/Validation Phase\n",
      "\u001b[1m8/8\u001b[0m \u001b[32m━━━━━━━━━━━━━━━━━━━━\u001b[0m\u001b[37m\u001b[0m \u001b[1m1s\u001b[0m 73ms/step \n",
      "Transformer MSE: 0.0462586595015289\n",
      "Testing params: {'num_heads': 4, 'dropout_rate': 0.25, 'batch_size': 32, 'ff_dim': 128}\n",
      "Training/Validation Phase\n",
      "\u001b[1m8/8\u001b[0m \u001b[32m━━━━━━━━━━━━━━━━━━━━\u001b[0m\u001b[37m\u001b[0m \u001b[1m1s\u001b[0m 102ms/step\n",
      "Transformer MSE: 0.041959664586088886\n",
      "Testing params: {'num_heads': 4, 'dropout_rate': 0.25, 'batch_size': 64, 'ff_dim': 64}\n",
      "Training/Validation Phase\n"
     ]
    },
    {
     "name": "stderr",
     "output_type": "stream",
     "text": [
      "2025-03-01 18:16:34.117994: I external/local_xla/xla/stream_executor/cuda/cuda_asm_compiler.cc:397] ptxas warning : Registers are spilled to local memory in function 'input_multiply_reduce_select_fusion', 8 bytes spill stores, 4 bytes spill loads\n",
      "ptxas warning : Registers are spilled to local memory in function 'input_add_multiply_reduce_select_fusion', 8 bytes spill stores, 4 bytes spill loads\n",
      "\n"
     ]
    },
    {
     "name": "stdout",
     "output_type": "stream",
     "text": [
      "\u001b[1m8/8\u001b[0m \u001b[32m━━━━━━━━━━━━━━━━━━━━\u001b[0m\u001b[37m\u001b[0m \u001b[1m1s\u001b[0m 46ms/step \n",
      "Transformer MSE: 0.04180426149480028\n",
      "Testing params: {'num_heads': 4, 'dropout_rate': 0.25, 'batch_size': 64, 'ff_dim': 128}\n",
      "Training/Validation Phase\n"
     ]
    },
    {
     "name": "stderr",
     "output_type": "stream",
     "text": [
      "2025-03-01 18:16:43.014907: I external/local_xla/xla/stream_executor/cuda/cuda_asm_compiler.cc:397] ptxas warning : Registers are spilled to local memory in function 'input_multiply_reduce_select_fusion', 8 bytes spill stores, 4 bytes spill loads\n",
      "ptxas warning : Registers are spilled to local memory in function 'input_add_multiply_reduce_select_fusion', 8 bytes spill stores, 4 bytes spill loads\n",
      "\n"
     ]
    },
    {
     "name": "stdout",
     "output_type": "stream",
     "text": [
      "\u001b[1m8/8\u001b[0m \u001b[32m━━━━━━━━━━━━━━━━━━━━\u001b[0m\u001b[37m\u001b[0m \u001b[1m1s\u001b[0m 53ms/step \n",
      "Transformer MSE: 0.04227365986672392\n",
      "Best parameters: {'num_heads': 2, 'dropout_rate': 0.25, 'batch_size': 32, 'ff_dim': 64}, Best MSE: 0.040626238278947575\n",
      "Best MSE: 0.040626\n",
      "num_heads: 2, ff_dim: 64, batch_size: 32\n",
      "Time taken: 84.585100 seconds\n",
      "[pypickle] Pickle file saved: [/home/alfred/projects/mscfe-masters-project/src/models/best/transformer/best_transformer_META_DAXEX_ETF.pkl]\n",
      "\n",
      "(2) Pairs: AMZN BNBUSDT\n",
      "Testing params: {'num_heads': 2, 'dropout_rate': 0.25, 'batch_size': 32, 'ff_dim': 64}\n",
      "Training/Validation Phase\n",
      "\u001b[1m32/32\u001b[0m \u001b[32m━━━━━━━━━━━━━━━━━━━━\u001b[0m\u001b[37m\u001b[0m \u001b[1m1s\u001b[0m 26ms/step  \n",
      "Transformer MSE: 0.026827383079215165\n",
      "Testing params: {'num_heads': 2, 'dropout_rate': 0.25, 'batch_size': 32, 'ff_dim': 128}\n",
      "Training/Validation Phase\n",
      "\u001b[1m32/32\u001b[0m \u001b[32m━━━━━━━━━━━━━━━━━━━━\u001b[0m\u001b[37m\u001b[0m \u001b[1m1s\u001b[0m 29ms/step  \n",
      "Transformer MSE: 0.034943823200345475\n",
      "Testing params: {'num_heads': 2, 'dropout_rate': 0.25, 'batch_size': 64, 'ff_dim': 64}\n",
      "Training/Validation Phase\n",
      "\u001b[1m32/32\u001b[0m \u001b[32m━━━━━━━━━━━━━━━━━━━━\u001b[0m\u001b[37m\u001b[0m \u001b[1m1s\u001b[0m 12ms/step  \n",
      "Transformer MSE: 0.012461812709371115\n",
      "Testing params: {'num_heads': 2, 'dropout_rate': 0.25, 'batch_size': 64, 'ff_dim': 128}\n",
      "Training/Validation Phase\n",
      "\u001b[1m32/32\u001b[0m \u001b[32m━━━━━━━━━━━━━━━━━━━━\u001b[0m\u001b[37m\u001b[0m \u001b[1m1s\u001b[0m 12ms/step  \n",
      "Transformer MSE: 0.05445273519723254\n",
      "Testing params: {'num_heads': 4, 'dropout_rate': 0.25, 'batch_size': 32, 'ff_dim': 64}\n",
      "Training/Validation Phase\n",
      "\u001b[1m32/32\u001b[0m \u001b[32m━━━━━━━━━━━━━━━━━━━━\u001b[0m\u001b[37m\u001b[0m \u001b[1m1s\u001b[0m 18ms/step  \n",
      "Transformer MSE: 0.07673588519578259\n",
      "Testing params: {'num_heads': 4, 'dropout_rate': 0.25, 'batch_size': 32, 'ff_dim': 128}\n",
      "Training/Validation Phase\n",
      "\u001b[1m32/32\u001b[0m \u001b[32m━━━━━━━━━━━━━━━━━━━━\u001b[0m\u001b[37m\u001b[0m \u001b[1m1s\u001b[0m 27ms/step  \n",
      "Transformer MSE: 0.057684025788828495\n",
      "Testing params: {'num_heads': 4, 'dropout_rate': 0.25, 'batch_size': 64, 'ff_dim': 64}\n",
      "Training/Validation Phase\n",
      "\u001b[1m32/32\u001b[0m \u001b[32m━━━━━━━━━━━━━━━━━━━━\u001b[0m\u001b[37m\u001b[0m \u001b[1m1s\u001b[0m 11ms/step  \n",
      "Transformer MSE: 0.08038872895442344\n",
      "Testing params: {'num_heads': 4, 'dropout_rate': 0.25, 'batch_size': 64, 'ff_dim': 128}\n",
      "Training/Validation Phase\n",
      "\u001b[1m32/32\u001b[0m \u001b[32m━━━━━━━━━━━━━━━━━━━━\u001b[0m\u001b[37m\u001b[0m \u001b[1m1s\u001b[0m 13ms/step  \n",
      "Transformer MSE: 0.027729243116133756\n",
      "Best parameters: {'num_heads': 2, 'dropout_rate': 0.25, 'batch_size': 64, 'ff_dim': 64}, Best MSE: 0.012461812709371115\n",
      "Best MSE: 0.012462\n",
      "num_heads: 2, ff_dim: 64, batch_size: 64\n",
      "Time taken: 128.497912 seconds\n",
      "[pypickle] Pickle file saved: [/home/alfred/projects/mscfe-masters-project/src/models/best/transformer/best_transformer_AMZN_BNBUSDT.pkl]\n",
      "\n",
      "(3) Pairs: AMZN TRXUSDT\n",
      "Testing params: {'num_heads': 2, 'dropout_rate': 0.25, 'batch_size': 32, 'ff_dim': 64}\n",
      "Training/Validation Phase\n",
      "\u001b[1m32/32\u001b[0m \u001b[32m━━━━━━━━━━━━━━━━━━━━\u001b[0m\u001b[37m\u001b[0m \u001b[1m1s\u001b[0m 23ms/step  \n",
      "Transformer MSE: 0.004074160611791523\n",
      "Testing params: {'num_heads': 2, 'dropout_rate': 0.25, 'batch_size': 32, 'ff_dim': 128}\n",
      "Training/Validation Phase\n",
      "\u001b[1m32/32\u001b[0m \u001b[32m━━━━━━━━━━━━━━━━━━━━\u001b[0m\u001b[37m\u001b[0m \u001b[1m1s\u001b[0m 26ms/step  \n",
      "Transformer MSE: 0.005520445575605246\n",
      "Testing params: {'num_heads': 2, 'dropout_rate': 0.25, 'batch_size': 64, 'ff_dim': 64}\n",
      "Training/Validation Phase\n",
      "\u001b[1m32/32\u001b[0m \u001b[32m━━━━━━━━━━━━━━━━━━━━\u001b[0m\u001b[37m\u001b[0m \u001b[1m1s\u001b[0m 11ms/step \n",
      "Transformer MSE: 0.005761691162094275\n",
      "Testing params: {'num_heads': 2, 'dropout_rate': 0.25, 'batch_size': 64, 'ff_dim': 128}\n",
      "Training/Validation Phase\n",
      "\u001b[1m32/32\u001b[0m \u001b[32m━━━━━━━━━━━━━━━━━━━━\u001b[0m\u001b[37m\u001b[0m \u001b[1m1s\u001b[0m 12ms/step  \n",
      "Transformer MSE: 0.003325474438620472\n",
      "Testing params: {'num_heads': 4, 'dropout_rate': 0.25, 'batch_size': 32, 'ff_dim': 64}\n",
      "Training/Validation Phase\n",
      "\u001b[1m32/32\u001b[0m \u001b[32m━━━━━━━━━━━━━━━━━━━━\u001b[0m\u001b[37m\u001b[0m \u001b[1m1s\u001b[0m 15ms/step  \n",
      "Transformer MSE: 0.005034125583141399\n",
      "Testing params: {'num_heads': 4, 'dropout_rate': 0.25, 'batch_size': 32, 'ff_dim': 128}\n",
      "Training/Validation Phase\n",
      "\u001b[1m32/32\u001b[0m \u001b[32m━━━━━━━━━━━━━━━━━━━━\u001b[0m\u001b[37m\u001b[0m \u001b[1m1s\u001b[0m 24ms/step  \n",
      "Transformer MSE: 0.020565970117923077\n",
      "Testing params: {'num_heads': 4, 'dropout_rate': 0.25, 'batch_size': 64, 'ff_dim': 64}\n",
      "Training/Validation Phase\n",
      "\u001b[1m32/32\u001b[0m \u001b[32m━━━━━━━━━━━━━━━━━━━━\u001b[0m\u001b[37m\u001b[0m \u001b[1m1s\u001b[0m 11ms/step  \n",
      "Transformer MSE: 0.015205448815668524\n",
      "Testing params: {'num_heads': 4, 'dropout_rate': 0.25, 'batch_size': 64, 'ff_dim': 128}\n",
      "Training/Validation Phase\n",
      "\u001b[1m32/32\u001b[0m \u001b[32m━━━━━━━━━━━━━━━━━━━━\u001b[0m\u001b[37m\u001b[0m \u001b[1m1s\u001b[0m 12ms/step  \n",
      "Transformer MSE: 0.04311808275514205\n",
      "Best parameters: {'num_heads': 2, 'dropout_rate': 0.25, 'batch_size': 64, 'ff_dim': 128}, Best MSE: 0.003325474438620472\n",
      "Best MSE: 0.003325\n",
      "num_heads: 2, ff_dim: 128, batch_size: 64\n",
      "Time taken: 133.368427 seconds\n",
      "[pypickle] Pickle file saved: [/home/alfred/projects/mscfe-masters-project/src/models/best/transformer/best_transformer_AMZN_TRXUSDT.pkl]\n",
      "\n",
      "(4) Pairs: SPY_ETF AVAXUSDT\n",
      "Testing params: {'num_heads': 2, 'dropout_rate': 0.25, 'batch_size': 32, 'ff_dim': 64}\n",
      "Training/Validation Phase\n"
     ]
    },
    {
     "name": "stderr",
     "output_type": "stream",
     "text": [
      "2025-03-01 18:21:12.322696: I external/local_xla/xla/stream_executor/cuda/cuda_asm_compiler.cc:397] ptxas warning : Registers are spilled to local memory in function 'gemm_fusion_dot_28', 4 bytes spill stores, 4 bytes spill loads\n",
      "\n",
      "2025-03-01 18:21:12.329262: I external/local_xla/xla/stream_executor/cuda/cuda_asm_compiler.cc:397] ptxas warning : Registers are spilled to local memory in function 'gemm_fusion_dot_28', 4 bytes spill stores, 4 bytes spill loads\n",
      "\n",
      "2025-03-01 18:21:12.364954: I external/local_xla/xla/stream_executor/cuda/cuda_asm_compiler.cc:397] ptxas warning : Registers are spilled to local memory in function 'gemm_fusion_dot_28', 8 bytes spill stores, 8 bytes spill loads\n",
      "\n",
      "2025-03-01 18:21:12.431521: I external/local_xla/xla/stream_executor/cuda/cuda_asm_compiler.cc:397] ptxas warning : Registers are spilled to local memory in function 'gemm_fusion_dot_10', 8 bytes spill stores, 8 bytes spill loads\n",
      "\n",
      "2025-03-01 18:21:12.590996: I external/local_xla/xla/stream_executor/cuda/cuda_asm_compiler.cc:397] ptxas warning : Registers are spilled to local memory in function 'gemm_fusion_dot_10', 8 bytes spill stores, 8 bytes spill loads\n",
      "\n",
      "2025-03-01 18:21:12.734737: I external/local_xla/xla/stream_executor/cuda/cuda_asm_compiler.cc:397] ptxas warning : Registers are spilled to local memory in function 'gemm_fusion_dot_8', 8 bytes spill stores, 8 bytes spill loads\n",
      "\n",
      "2025-03-01 18:21:15.305375: I external/local_xla/xla/stream_executor/cuda/cuda_asm_compiler.cc:397] ptxas warning : Registers are spilled to local memory in function 'gemm_fusion_dot_28', 8 bytes spill stores, 8 bytes spill loads\n",
      "\n",
      "2025-03-01 18:21:15.318153: I external/local_xla/xla/stream_executor/cuda/cuda_asm_compiler.cc:397] ptxas warning : Registers are spilled to local memory in function 'gemm_fusion_dot_8', 8 bytes spill stores, 8 bytes spill loads\n",
      "\n",
      "2025-03-01 18:21:15.318890: I external/local_xla/xla/stream_executor/cuda/cuda_asm_compiler.cc:397] ptxas warning : Registers are spilled to local memory in function 'gemm_fusion_dot_28', 4 bytes spill stores, 4 bytes spill loads\n",
      "\n",
      "2025-03-01 18:21:15.336201: I external/local_xla/xla/stream_executor/cuda/cuda_asm_compiler.cc:397] ptxas warning : Registers are spilled to local memory in function 'gemm_fusion_dot_28', 4 bytes spill stores, 4 bytes spill loads\n",
      "\n",
      "2025-03-01 18:21:15.531471: I external/local_xla/xla/stream_executor/cuda/cuda_asm_compiler.cc:397] ptxas warning : Registers are spilled to local memory in function 'gemm_fusion_dot_10', 8 bytes spill stores, 8 bytes spill loads\n",
      "\n",
      "2025-03-01 18:21:15.842127: I external/local_xla/xla/stream_executor/cuda/cuda_asm_compiler.cc:397] ptxas warning : Registers are spilled to local memory in function 'gemm_fusion_dot_10', 8 bytes spill stores, 8 bytes spill loads\n",
      "\n",
      "2025-03-01 18:21:17.579908: I external/local_xla/xla/stream_executor/cuda/cuda_asm_compiler.cc:397] ptxas warning : Registers are spilled to local memory in function 'input_add_reduce_select_fusion', 136 bytes spill stores, 100 bytes spill loads\n",
      "\n"
     ]
    },
    {
     "name": "stdout",
     "output_type": "stream",
     "text": [
      "\u001b[1m32/32\u001b[0m \u001b[32m━━━━━━━━━━━━━━━━━━━━\u001b[0m\u001b[37m\u001b[0m \u001b[1m1s\u001b[0m 26ms/step  \n",
      "Transformer MSE: 0.06346362050190674\n",
      "Testing params: {'num_heads': 2, 'dropout_rate': 0.25, 'batch_size': 32, 'ff_dim': 128}\n",
      "Training/Validation Phase\n"
     ]
    },
    {
     "name": "stderr",
     "output_type": "stream",
     "text": [
      "2025-03-01 18:21:33.854189: I external/local_xla/xla/stream_executor/cuda/cuda_asm_compiler.cc:397] ptxas warning : Registers are spilled to local memory in function 'gemm_fusion_dot_28', 8 bytes spill stores, 8 bytes spill loads\n",
      "\n",
      "2025-03-01 18:21:33.877053: I external/local_xla/xla/stream_executor/cuda/cuda_asm_compiler.cc:397] ptxas warning : Registers are spilled to local memory in function 'gemm_fusion_dot_28', 4 bytes spill stores, 4 bytes spill loads\n",
      "\n",
      "2025-03-01 18:21:33.931694: I external/local_xla/xla/stream_executor/cuda/cuda_asm_compiler.cc:397] ptxas warning : Registers are spilled to local memory in function 'gemm_fusion_dot_28', 4 bytes spill stores, 4 bytes spill loads\n",
      "\n",
      "2025-03-01 18:21:33.945925: I external/local_xla/xla/stream_executor/cuda/cuda_asm_compiler.cc:397] ptxas warning : Registers are spilled to local memory in function 'gemm_fusion_dot_28', 4 bytes spill stores, 4 bytes spill loads\n",
      "\n",
      "2025-03-01 18:21:34.205102: I external/local_xla/xla/stream_executor/cuda/cuda_asm_compiler.cc:397] ptxas warning : Registers are spilled to local memory in function 'gemm_fusion_dot_10', 8 bytes spill stores, 8 bytes spill loads\n",
      "\n",
      "2025-03-01 18:21:34.300952: I external/local_xla/xla/stream_executor/cuda/cuda_asm_compiler.cc:397] ptxas warning : Registers are spilled to local memory in function 'gemm_fusion_dot_10', 8 bytes spill stores, 8 bytes spill loads\n",
      "\n",
      "2025-03-01 18:21:34.350334: I external/local_xla/xla/stream_executor/cuda/cuda_asm_compiler.cc:397] ptxas warning : Registers are spilled to local memory in function 'gemm_fusion_dot_8', 8 bytes spill stores, 8 bytes spill loads\n",
      "\n",
      "2025-03-01 18:21:34.359115: I external/local_xla/xla/stream_executor/cuda/cuda_asm_compiler.cc:397] ptxas warning : Registers are spilled to local memory in function 'gemm_fusion_dot_8', 8 bytes spill stores, 8 bytes spill loads\n",
      "\n",
      "2025-03-01 18:21:36.893685: I external/local_xla/xla/stream_executor/cuda/cuda_asm_compiler.cc:397] ptxas warning : Registers are spilled to local memory in function 'gemm_fusion_dot_10', 8 bytes spill stores, 8 bytes spill loads\n",
      "\n",
      "2025-03-01 18:21:36.898475: I external/local_xla/xla/stream_executor/cuda/cuda_asm_compiler.cc:397] ptxas warning : Registers are spilled to local memory in function 'gemm_fusion_dot_28', 8 bytes spill stores, 8 bytes spill loads\n",
      "\n",
      "2025-03-01 18:21:36.920100: I external/local_xla/xla/stream_executor/cuda/cuda_asm_compiler.cc:397] ptxas warning : Registers are spilled to local memory in function 'gemm_fusion_dot_28', 16 bytes spill stores, 16 bytes spill loads\n",
      "\n",
      "2025-03-01 18:21:36.930358: I external/local_xla/xla/stream_executor/cuda/cuda_asm_compiler.cc:397] ptxas warning : Registers are spilled to local memory in function 'gemm_fusion_dot_28', 4 bytes spill stores, 4 bytes spill loads\n",
      "\n",
      "2025-03-01 18:21:36.932128: I external/local_xla/xla/stream_executor/cuda/cuda_asm_compiler.cc:397] ptxas warning : Registers are spilled to local memory in function 'gemm_fusion_dot_28', 4 bytes spill stores, 4 bytes spill loads\n",
      "\n",
      "2025-03-01 18:21:36.939460: I external/local_xla/xla/stream_executor/cuda/cuda_asm_compiler.cc:397] ptxas warning : Registers are spilled to local memory in function 'gemm_fusion_dot_28', 4 bytes spill stores, 4 bytes spill loads\n",
      "\n",
      "2025-03-01 18:21:37.188708: I external/local_xla/xla/stream_executor/cuda/cuda_asm_compiler.cc:397] ptxas warning : Registers are spilled to local memory in function 'gemm_fusion_dot_10', 8 bytes spill stores, 8 bytes spill loads\n",
      "\n",
      "2025-03-01 18:21:37.356776: I external/local_xla/xla/stream_executor/cuda/cuda_asm_compiler.cc:397] ptxas warning : Registers are spilled to local memory in function 'gemm_fusion_dot_8', 8 bytes spill stores, 8 bytes spill loads\n",
      "\n",
      "2025-03-01 18:21:37.375937: I external/local_xla/xla/stream_executor/cuda/cuda_asm_compiler.cc:397] ptxas warning : Registers are spilled to local memory in function 'gemm_fusion_dot_8', 8 bytes spill stores, 8 bytes spill loads\n",
      "\n",
      "2025-03-01 18:21:37.482120: I external/local_xla/xla/stream_executor/cuda/cuda_asm_compiler.cc:397] ptxas warning : Registers are spilled to local memory in function 'gemm_fusion_dot_10', 8 bytes spill stores, 8 bytes spill loads\n",
      "\n",
      "2025-03-01 18:21:39.309911: I external/local_xla/xla/stream_executor/cuda/cuda_asm_compiler.cc:397] ptxas warning : Registers are spilled to local memory in function 'input_add_reduce_select_fusion', 136 bytes spill stores, 100 bytes spill loads\n",
      "\n"
     ]
    },
    {
     "name": "stdout",
     "output_type": "stream",
     "text": [
      "\u001b[1m 1/32\u001b[0m \u001b[37m━━━━━━━━━━━━━━━━━━━━\u001b[0m \u001b[1m15s\u001b[0m 490ms/step"
     ]
    },
    {
     "name": "stderr",
     "output_type": "stream",
     "text": [
      "2025-03-01 18:21:53.131697: I external/local_xla/xla/stream_executor/cuda/cuda_asm_compiler.cc:397] ptxas warning : Registers are spilled to local memory in function 'gemm_fusion_dot_10', 16 bytes spill stores, 16 bytes spill loads\n",
      "\n"
     ]
    },
    {
     "name": "stdout",
     "output_type": "stream",
     "text": [
      "\u001b[1m32/32\u001b[0m \u001b[32m━━━━━━━━━━━━━━━━━━━━\u001b[0m\u001b[37m\u001b[0m \u001b[1m1s\u001b[0m 31ms/step  \n",
      "Transformer MSE: 0.09666787887828608\n",
      "Testing params: {'num_heads': 2, 'dropout_rate': 0.25, 'batch_size': 64, 'ff_dim': 64}\n",
      "Training/Validation Phase\n"
     ]
    },
    {
     "name": "stderr",
     "output_type": "stream",
     "text": [
      "2025-03-01 18:21:56.028382: I external/local_xla/xla/stream_executor/cuda/cuda_asm_compiler.cc:397] ptxas warning : Registers are spilled to local memory in function 'gemm_fusion_dot_28', 8 bytes spill stores, 8 bytes spill loads\n",
      "\n",
      "2025-03-01 18:21:56.070562: I external/local_xla/xla/stream_executor/cuda/cuda_asm_compiler.cc:397] ptxas warning : Registers are spilled to local memory in function 'gemm_fusion_dot_8', 8 bytes spill stores, 8 bytes spill loads\n",
      "\n",
      "2025-03-01 18:21:56.097049: I external/local_xla/xla/stream_executor/cuda/cuda_asm_compiler.cc:397] ptxas warning : Registers are spilled to local memory in function 'gemm_fusion_dot_28', 4 bytes spill stores, 4 bytes spill loads\n",
      "\n",
      "2025-03-01 18:21:56.490270: I external/local_xla/xla/stream_executor/cuda/cuda_asm_compiler.cc:397] ptxas warning : Registers are spilled to local memory in function 'gemm_fusion_dot_10', 32 bytes spill stores, 32 bytes spill loads\n",
      "\n",
      "2025-03-01 18:21:56.502177: I external/local_xla/xla/stream_executor/cuda/cuda_asm_compiler.cc:397] ptxas warning : Registers are spilled to local memory in function 'gemm_fusion_dot_10', 8 bytes spill stores, 8 bytes spill loads\n",
      "\n"
     ]
    },
    {
     "name": "stdout",
     "output_type": "stream",
     "text": [
      "\u001b[1m32/32\u001b[0m \u001b[32m━━━━━━━━━━━━━━━━━━━━\u001b[0m\u001b[37m\u001b[0m \u001b[1m1s\u001b[0m 11ms/step  \n",
      "Transformer MSE: 0.04484387449617753\n",
      "Testing params: {'num_heads': 2, 'dropout_rate': 0.25, 'batch_size': 64, 'ff_dim': 128}\n",
      "Training/Validation Phase\n"
     ]
    },
    {
     "name": "stderr",
     "output_type": "stream",
     "text": [
      "2025-03-01 18:22:10.804961: I external/local_xla/xla/stream_executor/cuda/cuda_asm_compiler.cc:397] ptxas warning : Registers are spilled to local memory in function 'gemm_fusion_dot_28', 8 bytes spill stores, 8 bytes spill loads\n",
      "\n",
      "2025-03-01 18:22:10.853319: I external/local_xla/xla/stream_executor/cuda/cuda_asm_compiler.cc:397] ptxas warning : Registers are spilled to local memory in function 'gemm_fusion_dot_28', 4 bytes spill stores, 4 bytes spill loads\n",
      "\n",
      "2025-03-01 18:22:10.856452: I external/local_xla/xla/stream_executor/cuda/cuda_asm_compiler.cc:397] ptxas warning : Registers are spilled to local memory in function 'gemm_fusion_dot_10', 32 bytes spill stores, 32 bytes spill loads\n",
      "\n",
      "2025-03-01 18:22:10.983545: I external/local_xla/xla/stream_executor/cuda/cuda_asm_compiler.cc:397] ptxas warning : Registers are spilled to local memory in function 'gemm_fusion_dot_8', 8 bytes spill stores, 8 bytes spill loads\n",
      "\n",
      "2025-03-01 18:22:11.099901: I external/local_xla/xla/stream_executor/cuda/cuda_asm_compiler.cc:397] ptxas warning : Registers are spilled to local memory in function 'gemm_fusion_dot_10', 8 bytes spill stores, 8 bytes spill loads\n",
      "\n",
      "2025-03-01 18:22:11.114760: I external/local_xla/xla/stream_executor/cuda/cuda_asm_compiler.cc:397] ptxas warning : Registers are spilled to local memory in function 'gemm_fusion_dot_8', 32 bytes spill stores, 32 bytes spill loads\n",
      "\n",
      "2025-03-01 18:22:11.191432: I external/local_xla/xla/stream_executor/cuda/cuda_asm_compiler.cc:397] ptxas warning : Registers are spilled to local memory in function 'gemm_fusion_dot_10', 32 bytes spill stores, 32 bytes spill loads\n",
      "\n",
      "2025-03-01 18:22:15.036433: I external/local_xla/xla/stream_executor/cuda/cuda_asm_compiler.cc:397] ptxas warning : Registers are spilled to local memory in function 'input_add_reduce_select_fusion', 136 bytes spill stores, 100 bytes spill loads\n",
      "\n"
     ]
    },
    {
     "name": "stdout",
     "output_type": "stream",
     "text": [
      "\u001b[1m32/32\u001b[0m \u001b[32m━━━━━━━━━━━━━━━━━━━━\u001b[0m\u001b[37m\u001b[0m \u001b[1m1s\u001b[0m 14ms/step  \n",
      "Transformer MSE: 0.04896999688477958\n",
      "Testing params: {'num_heads': 4, 'dropout_rate': 0.25, 'batch_size': 32, 'ff_dim': 64}\n",
      "Training/Validation Phase\n"
     ]
    },
    {
     "name": "stderr",
     "output_type": "stream",
     "text": [
      "2025-03-01 18:22:29.535838: I external/local_xla/xla/stream_executor/cuda/cuda_asm_compiler.cc:397] ptxas warning : Registers are spilled to local memory in function 'input_add_reduce_select_fusion', 136 bytes spill stores, 100 bytes spill loads\n",
      "\n"
     ]
    },
    {
     "name": "stdout",
     "output_type": "stream",
     "text": [
      "\u001b[1m32/32\u001b[0m \u001b[32m━━━━━━━━━━━━━━━━━━━━\u001b[0m\u001b[37m\u001b[0m \u001b[1m1s\u001b[0m 18ms/step  \n",
      "Transformer MSE: 0.05411433640663042\n",
      "Testing params: {'num_heads': 4, 'dropout_rate': 0.25, 'batch_size': 32, 'ff_dim': 128}\n",
      "Training/Validation Phase\n"
     ]
    },
    {
     "name": "stderr",
     "output_type": "stream",
     "text": [
      "2025-03-01 18:22:44.035066: I external/local_xla/xla/stream_executor/cuda/cuda_asm_compiler.cc:397] ptxas warning : Registers are spilled to local memory in function 'gemm_fusion_dot_28', 4 bytes spill stores, 4 bytes spill loads\n",
      "\n",
      "2025-03-01 18:22:44.113310: I external/local_xla/xla/stream_executor/cuda/cuda_asm_compiler.cc:397] ptxas warning : Registers are spilled to local memory in function 'gemm_fusion_dot_28', 8 bytes spill stores, 8 bytes spill loads\n",
      "\n",
      "2025-03-01 18:22:44.186914: I external/local_xla/xla/stream_executor/cuda/cuda_asm_compiler.cc:397] ptxas warning : Registers are spilled to local memory in function 'gemm_fusion_dot_28', 4 bytes spill stores, 4 bytes spill loads\n",
      "\n",
      "2025-03-01 18:22:44.205603: I external/local_xla/xla/stream_executor/cuda/cuda_asm_compiler.cc:397] ptxas warning : Registers are spilled to local memory in function 'gemm_fusion_dot_28', 4 bytes spill stores, 4 bytes spill loads\n",
      "\n",
      "2025-03-01 18:22:44.318435: I external/local_xla/xla/stream_executor/cuda/cuda_asm_compiler.cc:397] ptxas warning : Registers are spilled to local memory in function 'gemm_fusion_dot_10', 8 bytes spill stores, 8 bytes spill loads\n",
      "\n",
      "2025-03-01 18:22:44.321215: I external/local_xla/xla/stream_executor/cuda/cuda_asm_compiler.cc:397] ptxas warning : Registers are spilled to local memory in function 'gemm_fusion_dot_10', 8 bytes spill stores, 8 bytes spill loads\n",
      "\n",
      "2025-03-01 18:22:46.926799: I external/local_xla/xla/stream_executor/cuda/cuda_asm_compiler.cc:397] ptxas warning : Registers are spilled to local memory in function 'gemm_fusion_dot_10', 8 bytes spill stores, 8 bytes spill loads\n",
      "\n",
      "2025-03-01 18:22:46.937328: I external/local_xla/xla/stream_executor/cuda/cuda_asm_compiler.cc:397] ptxas warning : Registers are spilled to local memory in function 'gemm_fusion_dot_10', 8 bytes spill stores, 8 bytes spill loads\n",
      "\n",
      "2025-03-01 18:22:46.940050: I external/local_xla/xla/stream_executor/cuda/cuda_asm_compiler.cc:397] ptxas warning : Registers are spilled to local memory in function 'gemm_fusion_dot_28', 8 bytes spill stores, 8 bytes spill loads\n",
      "\n",
      "2025-03-01 18:22:46.983805: I external/local_xla/xla/stream_executor/cuda/cuda_asm_compiler.cc:397] ptxas warning : Registers are spilled to local memory in function 'gemm_fusion_dot_28', 16 bytes spill stores, 16 bytes spill loads\n",
      "\n",
      "2025-03-01 18:22:46.987617: I external/local_xla/xla/stream_executor/cuda/cuda_asm_compiler.cc:397] ptxas warning : Registers are spilled to local memory in function 'gemm_fusion_dot_28', 4 bytes spill stores, 4 bytes spill loads\n",
      "\n",
      "2025-03-01 18:22:47.015731: I external/local_xla/xla/stream_executor/cuda/cuda_asm_compiler.cc:397] ptxas warning : Registers are spilled to local memory in function 'gemm_fusion_dot_28', 4 bytes spill stores, 4 bytes spill loads\n",
      "\n",
      "2025-03-01 18:22:47.031618: I external/local_xla/xla/stream_executor/cuda/cuda_asm_compiler.cc:397] ptxas warning : Registers are spilled to local memory in function 'gemm_fusion_dot_28', 4 bytes spill stores, 4 bytes spill loads\n",
      "\n",
      "2025-03-01 18:22:47.340701: I external/local_xla/xla/stream_executor/cuda/cuda_asm_compiler.cc:397] ptxas warning : Registers are spilled to local memory in function 'gemm_fusion_dot_10', 8 bytes spill stores, 8 bytes spill loads\n",
      "\n",
      "2025-03-01 18:22:49.032325: I external/local_xla/xla/stream_executor/cuda/cuda_asm_compiler.cc:397] ptxas warning : Registers are spilled to local memory in function 'input_add_reduce_select_fusion', 136 bytes spill stores, 100 bytes spill loads\n",
      "\n"
     ]
    },
    {
     "name": "stdout",
     "output_type": "stream",
     "text": [
      "\u001b[1m 1/32\u001b[0m \u001b[37m━━━━━━━━━━━━━━━━━━━━\u001b[0m \u001b[1m14s\u001b[0m 455ms/step"
     ]
    },
    {
     "name": "stderr",
     "output_type": "stream",
     "text": [
      "2025-03-01 18:23:01.379466: I external/local_xla/xla/stream_executor/cuda/cuda_asm_compiler.cc:397] ptxas warning : Registers are spilled to local memory in function 'gemm_fusion_dot_10', 16 bytes spill stores, 16 bytes spill loads\n",
      "\n"
     ]
    },
    {
     "name": "stdout",
     "output_type": "stream",
     "text": [
      "\u001b[1m32/32\u001b[0m \u001b[32m━━━━━━━━━━━━━━━━━━━━\u001b[0m\u001b[37m\u001b[0m \u001b[1m1s\u001b[0m 27ms/step  \n",
      "Transformer MSE: 0.05933305816821088\n",
      "Testing params: {'num_heads': 4, 'dropout_rate': 0.25, 'batch_size': 64, 'ff_dim': 64}\n",
      "Training/Validation Phase\n",
      "\u001b[1m32/32\u001b[0m \u001b[32m━━━━━━━━━━━━━━━━━━━━\u001b[0m\u001b[37m\u001b[0m \u001b[1m1s\u001b[0m 12ms/step  \n",
      "Transformer MSE: 0.04901132447429561\n",
      "Testing params: {'num_heads': 4, 'dropout_rate': 0.25, 'batch_size': 64, 'ff_dim': 128}\n",
      "Training/Validation Phase\n"
     ]
    },
    {
     "name": "stderr",
     "output_type": "stream",
     "text": [
      "2025-03-01 18:23:16.866370: I external/local_xla/xla/stream_executor/cuda/cuda_asm_compiler.cc:397] ptxas warning : Registers are spilled to local memory in function 'gemm_fusion_dot_28', 8 bytes spill stores, 8 bytes spill loads\n",
      "\n",
      "2025-03-01 18:23:16.976377: I external/local_xla/xla/stream_executor/cuda/cuda_asm_compiler.cc:397] ptxas warning : Registers are spilled to local memory in function 'gemm_fusion_dot_10', 32 bytes spill stores, 32 bytes spill loads\n",
      "\n",
      "2025-03-01 18:23:16.998481: I external/local_xla/xla/stream_executor/cuda/cuda_asm_compiler.cc:397] ptxas warning : Registers are spilled to local memory in function 'gemm_fusion_dot_28', 4 bytes spill stores, 4 bytes spill loads\n",
      "\n",
      "2025-03-01 18:23:17.031792: I external/local_xla/xla/stream_executor/cuda/cuda_asm_compiler.cc:397] ptxas warning : Registers are spilled to local memory in function 'gemm_fusion_dot_10', 32 bytes spill stores, 32 bytes spill loads\n",
      "\n",
      "2025-03-01 18:23:17.049049: I external/local_xla/xla/stream_executor/cuda/cuda_asm_compiler.cc:397] ptxas warning : Registers are spilled to local memory in function 'gemm_fusion_dot_10', 8 bytes spill stores, 8 bytes spill loads\n",
      "\n",
      "2025-03-01 18:23:20.835013: I external/local_xla/xla/stream_executor/cuda/cuda_asm_compiler.cc:397] ptxas warning : Registers are spilled to local memory in function 'input_add_reduce_select_fusion', 136 bytes spill stores, 100 bytes spill loads\n",
      "\n"
     ]
    },
    {
     "name": "stdout",
     "output_type": "stream",
     "text": [
      "\u001b[1m32/32\u001b[0m \u001b[32m━━━━━━━━━━━━━━━━━━━━\u001b[0m\u001b[37m\u001b[0m \u001b[1m1s\u001b[0m 12ms/step  \n",
      "Transformer MSE: 0.04944762870478118\n",
      "Best parameters: {'num_heads': 2, 'dropout_rate': 0.25, 'batch_size': 64, 'ff_dim': 64}, Best MSE: 0.04484387449617753\n",
      "Best MSE: 0.044844\n",
      "num_heads: 2, ff_dim: 64, batch_size: 64\n",
      "Time taken: 138.977108 seconds\n",
      "[pypickle] Pickle file saved: [/home/alfred/projects/mscfe-masters-project/src/models/best/transformer/best_transformer_SPY_ETF_AVAXUSDT.pkl]\n",
      "\n",
      "(5) Pairs: SPY_ETF ETHUSDT\n",
      "Testing params: {'num_heads': 2, 'dropout_rate': 0.25, 'batch_size': 32, 'ff_dim': 64}\n",
      "Training/Validation Phase\n",
      "\u001b[1m32/32\u001b[0m \u001b[32m━━━━━━━━━━━━━━━━━━━━\u001b[0m\u001b[37m\u001b[0m \u001b[1m1s\u001b[0m 22ms/step  \n",
      "Transformer MSE: 0.009498717371842946\n",
      "Testing params: {'num_heads': 2, 'dropout_rate': 0.25, 'batch_size': 32, 'ff_dim': 128}\n",
      "Training/Validation Phase\n",
      "\u001b[1m32/32\u001b[0m \u001b[32m━━━━━━━━━━━━━━━━━━━━\u001b[0m\u001b[37m\u001b[0m \u001b[1m1s\u001b[0m 27ms/step  \n",
      "Transformer MSE: 0.013252766874905978\n",
      "Testing params: {'num_heads': 2, 'dropout_rate': 0.25, 'batch_size': 64, 'ff_dim': 64}\n",
      "Training/Validation Phase\n",
      "\u001b[1m32/32\u001b[0m \u001b[32m━━━━━━━━━━━━━━━━━━━━\u001b[0m\u001b[37m\u001b[0m \u001b[1m1s\u001b[0m 11ms/step  \n",
      "Transformer MSE: 0.012323813277020307\n",
      "Testing params: {'num_heads': 2, 'dropout_rate': 0.25, 'batch_size': 64, 'ff_dim': 128}\n",
      "Training/Validation Phase\n",
      "\u001b[1m32/32\u001b[0m \u001b[32m━━━━━━━━━━━━━━━━━━━━\u001b[0m\u001b[37m\u001b[0m \u001b[1m1s\u001b[0m 13ms/step  \n",
      "Transformer MSE: 0.012325255203499303\n",
      "Testing params: {'num_heads': 4, 'dropout_rate': 0.25, 'batch_size': 32, 'ff_dim': 64}\n",
      "Training/Validation Phase\n",
      "\u001b[1m32/32\u001b[0m \u001b[32m━━━━━━━━━━━━━━━━━━━━\u001b[0m\u001b[37m\u001b[0m \u001b[1m1s\u001b[0m 15ms/step  \n",
      "Transformer MSE: 0.009684754335529443\n",
      "Testing params: {'num_heads': 4, 'dropout_rate': 0.25, 'batch_size': 32, 'ff_dim': 128}\n",
      "Training/Validation Phase\n",
      "\u001b[1m32/32\u001b[0m \u001b[32m━━━━━━━━━━━━━━━━━━━━\u001b[0m\u001b[37m\u001b[0m \u001b[1m1s\u001b[0m 23ms/step  \n",
      "Transformer MSE: 0.010374451853817647\n",
      "Testing params: {'num_heads': 4, 'dropout_rate': 0.25, 'batch_size': 64, 'ff_dim': 64}\n",
      "Training/Validation Phase\n",
      "\u001b[1m32/32\u001b[0m \u001b[32m━━━━━━━━━━━━━━━━━━━━\u001b[0m\u001b[37m\u001b[0m \u001b[1m1s\u001b[0m 11ms/step  \n",
      "Transformer MSE: 0.008839441972818324\n",
      "Testing params: {'num_heads': 4, 'dropout_rate': 0.25, 'batch_size': 64, 'ff_dim': 128}\n",
      "Training/Validation Phase\n",
      "\u001b[1m32/32\u001b[0m \u001b[32m━━━━━━━━━━━━━━━━━━━━\u001b[0m\u001b[37m\u001b[0m \u001b[1m1s\u001b[0m 12ms/step  \n",
      "Transformer MSE: 0.012747570270774174\n",
      "Best parameters: {'num_heads': 4, 'dropout_rate': 0.25, 'batch_size': 64, 'ff_dim': 64}, Best MSE: 0.008839441972818324\n",
      "Best MSE: 0.008839\n",
      "num_heads: 4, ff_dim: 64, batch_size: 64\n",
      "Time taken: 145.366396 seconds\n",
      "[pypickle] Pickle file saved: [/home/alfred/projects/mscfe-masters-project/src/models/best/transformer/best_transformer_SPY_ETF_ETHUSDT.pkl]\n",
      "\n",
      "(6) Pairs: EQQQ_ETF BNBUSDT\n",
      "Testing params: {'num_heads': 2, 'dropout_rate': 0.25, 'batch_size': 32, 'ff_dim': 64}\n",
      "Training/Validation Phase\n"
     ]
    },
    {
     "name": "stderr",
     "output_type": "stream",
     "text": [
      "2025-03-01 18:25:58.596438: I external/local_xla/xla/stream_executor/cuda/cuda_asm_compiler.cc:397] ptxas warning : Registers are spilled to local memory in function 'input_reduce_select_fusion', 16 bytes spill stores, 12 bytes spill loads\n",
      "ptxas warning : Registers are spilled to local memory in function 'input_add_reduce_select_fusion', 12 bytes spill stores, 8 bytes spill loads\n",
      "\n"
     ]
    },
    {
     "name": "stdout",
     "output_type": "stream",
     "text": [
      "\u001b[1m21/21\u001b[0m \u001b[32m━━━━━━━━━━━━━━━━━━━━\u001b[0m\u001b[37m\u001b[0m \u001b[1m1s\u001b[0m 41ms/step \n",
      "Transformer MSE: 0.03505805559974517\n",
      "Testing params: {'num_heads': 2, 'dropout_rate': 0.25, 'batch_size': 32, 'ff_dim': 128}\n",
      "Training/Validation Phase\n"
     ]
    },
    {
     "name": "stderr",
     "output_type": "stream",
     "text": [
      "2025-03-01 18:26:16.229768: I external/local_xla/xla/stream_executor/cuda/cuda_asm_compiler.cc:397] ptxas warning : Registers are spilled to local memory in function 'input_reduce_select_fusion', 16 bytes spill stores, 12 bytes spill loads\n",
      "ptxas warning : Registers are spilled to local memory in function 'input_add_reduce_select_fusion', 12 bytes spill stores, 8 bytes spill loads\n",
      "\n"
     ]
    },
    {
     "name": "stdout",
     "output_type": "stream",
     "text": [
      "\u001b[1m21/21\u001b[0m \u001b[32m━━━━━━━━━━━━━━━━━━━━\u001b[0m\u001b[37m\u001b[0m \u001b[1m2s\u001b[0m 53ms/step \n",
      "Transformer MSE: 0.04827082163745857\n",
      "Testing params: {'num_heads': 2, 'dropout_rate': 0.25, 'batch_size': 64, 'ff_dim': 64}\n",
      "Training/Validation Phase\n"
     ]
    },
    {
     "name": "stderr",
     "output_type": "stream",
     "text": [
      "2025-03-01 18:26:37.011339: I external/local_xla/xla/stream_executor/cuda/cuda_asm_compiler.cc:397] ptxas warning : Registers are spilled to local memory in function 'input_multiply_reduce_select_fusion', 16 bytes spill stores, 12 bytes spill loads\n",
      "\n"
     ]
    },
    {
     "name": "stdout",
     "output_type": "stream",
     "text": [
      "\u001b[1m21/21\u001b[0m \u001b[32m━━━━━━━━━━━━━━━━━━━━\u001b[0m\u001b[37m\u001b[0m \u001b[1m1s\u001b[0m 20ms/step \n",
      "Transformer MSE: 0.02524015386604289\n",
      "Testing params: {'num_heads': 2, 'dropout_rate': 0.25, 'batch_size': 64, 'ff_dim': 128}\n",
      "Training/Validation Phase\n"
     ]
    },
    {
     "name": "stderr",
     "output_type": "stream",
     "text": [
      "2025-03-01 18:26:49.654684: I external/local_xla/xla/stream_executor/cuda/cuda_asm_compiler.cc:397] ptxas warning : Registers are spilled to local memory in function 'input_multiply_reduce_select_fusion', 16 bytes spill stores, 12 bytes spill loads\n",
      "\n"
     ]
    },
    {
     "name": "stdout",
     "output_type": "stream",
     "text": [
      "\u001b[1m21/21\u001b[0m \u001b[32m━━━━━━━━━━━━━━━━━━━━\u001b[0m\u001b[37m\u001b[0m \u001b[1m1s\u001b[0m 21ms/step \n",
      "Transformer MSE: 0.026386052257526712\n",
      "Testing params: {'num_heads': 4, 'dropout_rate': 0.25, 'batch_size': 32, 'ff_dim': 64}\n",
      "Training/Validation Phase\n"
     ]
    },
    {
     "name": "stderr",
     "output_type": "stream",
     "text": [
      "2025-03-01 18:27:02.100690: I external/local_xla/xla/stream_executor/cuda/cuda_asm_compiler.cc:397] ptxas warning : Registers are spilled to local memory in function 'input_reduce_select_fusion', 16 bytes spill stores, 12 bytes spill loads\n",
      "ptxas warning : Registers are spilled to local memory in function 'input_add_reduce_select_fusion', 12 bytes spill stores, 8 bytes spill loads\n",
      "\n"
     ]
    },
    {
     "name": "stdout",
     "output_type": "stream",
     "text": [
      "\u001b[1m21/21\u001b[0m \u001b[32m━━━━━━━━━━━━━━━━━━━━\u001b[0m\u001b[37m\u001b[0m \u001b[1m1s\u001b[0m 35ms/step \n",
      "Transformer MSE: 0.03975966218451614\n",
      "Testing params: {'num_heads': 4, 'dropout_rate': 0.25, 'batch_size': 32, 'ff_dim': 128}\n",
      "Training/Validation Phase\n"
     ]
    },
    {
     "name": "stderr",
     "output_type": "stream",
     "text": [
      "2025-03-01 18:27:20.487816: I external/local_xla/xla/stream_executor/cuda/cuda_asm_compiler.cc:397] ptxas warning : Registers are spilled to local memory in function 'input_reduce_select_fusion', 16 bytes spill stores, 12 bytes spill loads\n",
      "ptxas warning : Registers are spilled to local memory in function 'input_add_reduce_select_fusion', 12 bytes spill stores, 8 bytes spill loads\n",
      "\n"
     ]
    },
    {
     "name": "stdout",
     "output_type": "stream",
     "text": [
      "\u001b[1m21/21\u001b[0m \u001b[32m━━━━━━━━━━━━━━━━━━━━\u001b[0m\u001b[37m\u001b[0m \u001b[1m1s\u001b[0m 47ms/step \n",
      "Transformer MSE: 0.050192918487649736\n",
      "Testing params: {'num_heads': 4, 'dropout_rate': 0.25, 'batch_size': 64, 'ff_dim': 64}\n",
      "Training/Validation Phase\n"
     ]
    },
    {
     "name": "stderr",
     "output_type": "stream",
     "text": [
      "2025-03-01 18:27:39.599037: I external/local_xla/xla/stream_executor/cuda/cuda_asm_compiler.cc:397] ptxas warning : Registers are spilled to local memory in function 'input_multiply_reduce_select_fusion', 16 bytes spill stores, 12 bytes spill loads\n",
      "\n"
     ]
    },
    {
     "name": "stdout",
     "output_type": "stream",
     "text": [
      "\u001b[1m21/21\u001b[0m \u001b[32m━━━━━━━━━━━━━━━━━━━━\u001b[0m\u001b[37m\u001b[0m \u001b[1m1s\u001b[0m 20ms/step \n",
      "Transformer MSE: 0.031913421928469694\n",
      "Testing params: {'num_heads': 4, 'dropout_rate': 0.25, 'batch_size': 64, 'ff_dim': 128}\n",
      "Training/Validation Phase\n"
     ]
    },
    {
     "name": "stderr",
     "output_type": "stream",
     "text": [
      "2025-03-01 18:27:51.613167: I external/local_xla/xla/stream_executor/cuda/cuda_asm_compiler.cc:397] ptxas warning : Registers are spilled to local memory in function 'input_multiply_reduce_select_fusion', 16 bytes spill stores, 12 bytes spill loads\n",
      "\n"
     ]
    },
    {
     "name": "stdout",
     "output_type": "stream",
     "text": [
      "\u001b[1m21/21\u001b[0m \u001b[32m━━━━━━━━━━━━━━━━━━━━\u001b[0m\u001b[37m\u001b[0m \u001b[1m1s\u001b[0m 23ms/step \n",
      "Transformer MSE: 0.041158230432303135\n",
      "Best parameters: {'num_heads': 2, 'dropout_rate': 0.25, 'batch_size': 64, 'ff_dim': 64}, Best MSE: 0.02524015386604289\n",
      "Best MSE: 0.025240\n",
      "num_heads: 2, ff_dim: 64, batch_size: 64\n",
      "Time taken: 125.814219 seconds\n",
      "[pypickle] Pickle file saved: [/home/alfred/projects/mscfe-masters-project/src/models/best/transformer/best_transformer_EQQQ_ETF_BNBUSDT.pkl]\n",
      "\n",
      "(7) Pairs: BNBUSDT ADAUSDT\n",
      "Testing params: {'num_heads': 2, 'dropout_rate': 0.25, 'batch_size': 32, 'ff_dim': 64}\n",
      "Training/Validation Phase\n",
      "\u001b[1m194/194\u001b[0m \u001b[32m━━━━━━━━━━━━━━━━━━━━\u001b[0m\u001b[37m\u001b[0m \u001b[1m1s\u001b[0m 1ms/step    \n",
      "Transformer MSE: 0.003719773813453491\n",
      "Testing params: {'num_heads': 2, 'dropout_rate': 0.25, 'batch_size': 32, 'ff_dim': 128}\n",
      "Training/Validation Phase\n",
      "\u001b[1m194/194\u001b[0m \u001b[32m━━━━━━━━━━━━━━━━━━━━\u001b[0m\u001b[37m\u001b[0m \u001b[1m1s\u001b[0m 792us/step  \n",
      "Transformer MSE: 0.006525716818887292\n",
      "Testing params: {'num_heads': 2, 'dropout_rate': 0.25, 'batch_size': 64, 'ff_dim': 64}\n",
      "Training/Validation Phase\n",
      "\u001b[1m194/194\u001b[0m \u001b[32m━━━━━━━━━━━━━━━━━━━━\u001b[0m\u001b[37m\u001b[0m \u001b[1m0s\u001b[0m 757us/step \n",
      "Transformer MSE: 0.0021025935100271263\n",
      "Testing params: {'num_heads': 2, 'dropout_rate': 0.25, 'batch_size': 64, 'ff_dim': 128}\n",
      "Training/Validation Phase\n",
      "\u001b[1m194/194\u001b[0m \u001b[32m━━━━━━━━━━━━━━━━━━━━\u001b[0m\u001b[37m\u001b[0m \u001b[1m1s\u001b[0m 820us/step  \n",
      "Transformer MSE: 0.0019777992986264167\n",
      "Testing params: {'num_heads': 4, 'dropout_rate': 0.25, 'batch_size': 32, 'ff_dim': 64}\n",
      "Training/Validation Phase\n",
      "\u001b[1m194/194\u001b[0m \u001b[32m━━━━━━━━━━━━━━━━━━━━\u001b[0m\u001b[37m\u001b[0m \u001b[1m1s\u001b[0m 898us/step  \n",
      "Transformer MSE: 0.002491713111983713\n",
      "Testing params: {'num_heads': 4, 'dropout_rate': 0.25, 'batch_size': 32, 'ff_dim': 128}\n",
      "Training/Validation Phase\n",
      "\u001b[1m194/194\u001b[0m \u001b[32m━━━━━━━━━━━━━━━━━━━━\u001b[0m\u001b[37m\u001b[0m \u001b[1m0s\u001b[0m 725us/step  \n",
      "Transformer MSE: 0.0032462051220584196\n",
      "Testing params: {'num_heads': 4, 'dropout_rate': 0.25, 'batch_size': 64, 'ff_dim': 64}\n",
      "Training/Validation Phase\n",
      "\u001b[1m194/194\u001b[0m \u001b[32m━━━━━━━━━━━━━━━━━━━━\u001b[0m\u001b[37m\u001b[0m \u001b[1m0s\u001b[0m 657us/step  \n",
      "Transformer MSE: 0.00461547356435276\n",
      "Testing params: {'num_heads': 4, 'dropout_rate': 0.25, 'batch_size': 64, 'ff_dim': 128}\n",
      "Training/Validation Phase\n",
      "\u001b[1m194/194\u001b[0m \u001b[32m━━━━━━━━━━━━━━━━━━━━\u001b[0m\u001b[37m\u001b[0m \u001b[1m0s\u001b[0m 753us/step  \n",
      "Transformer MSE: 0.000997782916763406\n",
      "Best parameters: {'num_heads': 4, 'dropout_rate': 0.25, 'batch_size': 64, 'ff_dim': 128}, Best MSE: 0.000997782916763406\n",
      "Best MSE: 0.000998\n",
      "num_heads: 4, ff_dim: 128, batch_size: 64\n",
      "Time taken: 536.755455 seconds\n",
      "[pypickle] Pickle file saved: [/home/alfred/projects/mscfe-masters-project/src/models/best/transformer/best_transformer_BNBUSDT_ADAUSDT.pkl]\n",
      "\n",
      "(8) Pairs: BNBUSDT BTCUSDT\n",
      "Testing params: {'num_heads': 2, 'dropout_rate': 0.25, 'batch_size': 32, 'ff_dim': 64}\n",
      "Training/Validation Phase\n",
      "\u001b[1m194/194\u001b[0m \u001b[32m━━━━━━━━━━━━━━━━━━━━\u001b[0m\u001b[37m\u001b[0m \u001b[1m0s\u001b[0m 696us/step  \n",
      "Transformer MSE: 0.001983618254286136\n",
      "Testing params: {'num_heads': 2, 'dropout_rate': 0.25, 'batch_size': 32, 'ff_dim': 128}\n",
      "Training/Validation Phase\n",
      "\u001b[1m194/194\u001b[0m \u001b[32m━━━━━━━━━━━━━━━━━━━━\u001b[0m\u001b[37m\u001b[0m \u001b[1m1s\u001b[0m 1ms/step    \n",
      "Transformer MSE: 0.0045461304624231785\n",
      "Testing params: {'num_heads': 2, 'dropout_rate': 0.25, 'batch_size': 64, 'ff_dim': 64}\n",
      "Training/Validation Phase\n",
      "\u001b[1m194/194\u001b[0m \u001b[32m━━━━━━━━━━━━━━━━━━━━\u001b[0m\u001b[37m\u001b[0m \u001b[1m0s\u001b[0m 765us/step  \n",
      "Transformer MSE: 0.0036264969957662276\n",
      "Testing params: {'num_heads': 2, 'dropout_rate': 0.25, 'batch_size': 64, 'ff_dim': 128}\n",
      "Training/Validation Phase\n",
      "\u001b[1m194/194\u001b[0m \u001b[32m━━━━━━━━━━━━━━━━━━━━\u001b[0m\u001b[37m\u001b[0m \u001b[1m1s\u001b[0m 1ms/step    \n",
      "Transformer MSE: 0.0031995257263072573\n",
      "Testing params: {'num_heads': 4, 'dropout_rate': 0.25, 'batch_size': 32, 'ff_dim': 64}\n",
      "Training/Validation Phase\n",
      "\u001b[1m194/194\u001b[0m \u001b[32m━━━━━━━━━━━━━━━━━━━━\u001b[0m\u001b[37m\u001b[0m \u001b[1m1s\u001b[0m 995us/step  \n",
      "Transformer MSE: 0.0045482593140635155\n",
      "Testing params: {'num_heads': 4, 'dropout_rate': 0.25, 'batch_size': 32, 'ff_dim': 128}\n",
      "Training/Validation Phase\n",
      "\u001b[1m194/194\u001b[0m \u001b[32m━━━━━━━━━━━━━━━━━━━━\u001b[0m\u001b[37m\u001b[0m \u001b[1m0s\u001b[0m 780us/step  \n",
      "Transformer MSE: 0.006075175518974787\n",
      "Testing params: {'num_heads': 4, 'dropout_rate': 0.25, 'batch_size': 64, 'ff_dim': 64}\n",
      "Training/Validation Phase\n",
      "\u001b[1m194/194\u001b[0m \u001b[32m━━━━━━━━━━━━━━━━━━━━\u001b[0m\u001b[37m\u001b[0m \u001b[1m0s\u001b[0m 596us/step  \n",
      "Transformer MSE: 0.0097430812280257\n",
      "Testing params: {'num_heads': 4, 'dropout_rate': 0.25, 'batch_size': 64, 'ff_dim': 128}\n",
      "Training/Validation Phase\n",
      "\u001b[1m194/194\u001b[0m \u001b[32m━━━━━━━━━━━━━━━━━━━━\u001b[0m\u001b[37m\u001b[0m \u001b[1m1s\u001b[0m 865us/step  \n",
      "Transformer MSE: 0.0072393330678895175\n",
      "Best parameters: {'num_heads': 2, 'dropout_rate': 0.25, 'batch_size': 32, 'ff_dim': 64}, Best MSE: 0.001983618254286136\n",
      "Best MSE: 0.001984\n",
      "num_heads: 2, ff_dim: 64, batch_size: 32\n",
      "Time taken: 586.943402 seconds\n",
      "[pypickle] Pickle file saved: [/home/alfred/projects/mscfe-masters-project/src/models/best/transformer/best_transformer_BNBUSDT_BTCUSDT.pkl]\n",
      "\n",
      "(9) Pairs: BNBUSDT TRXUSDT\n",
      "Testing params: {'num_heads': 2, 'dropout_rate': 0.25, 'batch_size': 32, 'ff_dim': 64}\n",
      "Training/Validation Phase\n",
      "\u001b[1m194/194\u001b[0m \u001b[32m━━━━━━━━━━━━━━━━━━━━\u001b[0m\u001b[37m\u001b[0m \u001b[1m1s\u001b[0m 881us/step  \n",
      "Transformer MSE: 0.004705103439027305\n",
      "Testing params: {'num_heads': 2, 'dropout_rate': 0.25, 'batch_size': 32, 'ff_dim': 128}\n",
      "Training/Validation Phase\n",
      "\u001b[1m194/194\u001b[0m \u001b[32m━━━━━━━━━━━━━━━━━━━━\u001b[0m\u001b[37m\u001b[0m \u001b[1m1s\u001b[0m 750us/step  \n",
      "Transformer MSE: 0.01095851039187365\n",
      "Testing params: {'num_heads': 2, 'dropout_rate': 0.25, 'batch_size': 64, 'ff_dim': 64}\n",
      "Training/Validation Phase\n"
     ]
    },
    {
     "name": "stderr",
     "output_type": "stream",
     "text": [
      "2025-03-01 18:50:18.525302: I external/local_xla/xla/stream_executor/cuda/cuda_asm_compiler.cc:397] ptxas warning : Registers are spilled to local memory in function 'input_add_multiply_reduce_select_fusion', 56 bytes spill stores, 44 bytes spill loads\n",
      "\n"
     ]
    },
    {
     "name": "stdout",
     "output_type": "stream",
     "text": [
      "\u001b[1m194/194\u001b[0m \u001b[32m━━━━━━━━━━━━━━━━━━━━\u001b[0m\u001b[37m\u001b[0m \u001b[1m0s\u001b[0m 832us/step  \n",
      "Transformer MSE: 0.00136576326501633\n",
      "Testing params: {'num_heads': 2, 'dropout_rate': 0.25, 'batch_size': 64, 'ff_dim': 128}\n",
      "Training/Validation Phase\n"
     ]
    },
    {
     "name": "stderr",
     "output_type": "stream",
     "text": [
      "2025-03-01 18:51:18.018605: I external/local_xla/xla/stream_executor/cuda/cuda_asm_compiler.cc:397] ptxas warning : Registers are spilled to local memory in function 'input_add_multiply_reduce_select_fusion', 56 bytes spill stores, 44 bytes spill loads\n",
      "\n"
     ]
    },
    {
     "name": "stdout",
     "output_type": "stream",
     "text": [
      "\u001b[1m194/194\u001b[0m \u001b[32m━━━━━━━━━━━━━━━━━━━━\u001b[0m\u001b[37m\u001b[0m \u001b[1m0s\u001b[0m 762us/step  \n",
      "Transformer MSE: 0.0020349352224050357\n",
      "Testing params: {'num_heads': 4, 'dropout_rate': 0.25, 'batch_size': 32, 'ff_dim': 64}\n",
      "Training/Validation Phase\n",
      "\u001b[1m194/194\u001b[0m \u001b[32m━━━━━━━━━━━━━━━━━━━━\u001b[0m\u001b[37m\u001b[0m \u001b[1m1s\u001b[0m 1ms/step    \n",
      "Transformer MSE: 0.0013163828028462546\n",
      "Testing params: {'num_heads': 4, 'dropout_rate': 0.25, 'batch_size': 32, 'ff_dim': 128}\n",
      "Training/Validation Phase\n",
      "\u001b[1m194/194\u001b[0m \u001b[32m━━━━━━━━━━━━━━━━━━━━\u001b[0m\u001b[37m\u001b[0m \u001b[1m1s\u001b[0m 806us/step  \n",
      "Transformer MSE: 0.013479935382164515\n",
      "Testing params: {'num_heads': 4, 'dropout_rate': 0.25, 'batch_size': 64, 'ff_dim': 64}\n",
      "Training/Validation Phase\n"
     ]
    },
    {
     "name": "stderr",
     "output_type": "stream",
     "text": [
      "2025-03-01 18:55:31.802914: I external/local_xla/xla/stream_executor/cuda/cuda_asm_compiler.cc:397] ptxas warning : Registers are spilled to local memory in function 'input_add_multiply_reduce_select_fusion', 56 bytes spill stores, 44 bytes spill loads\n",
      "\n"
     ]
    },
    {
     "name": "stdout",
     "output_type": "stream",
     "text": [
      "\u001b[1m194/194\u001b[0m \u001b[32m━━━━━━━━━━━━━━━━━━━━\u001b[0m\u001b[37m\u001b[0m \u001b[1m0s\u001b[0m 724us/step  \n",
      "Transformer MSE: 0.0029448245809372015\n",
      "Testing params: {'num_heads': 4, 'dropout_rate': 0.25, 'batch_size': 64, 'ff_dim': 128}\n",
      "Training/Validation Phase\n"
     ]
    },
    {
     "name": "stderr",
     "output_type": "stream",
     "text": [
      "2025-03-01 18:56:13.554306: I external/local_xla/xla/stream_executor/cuda/cuda_asm_compiler.cc:397] ptxas warning : Registers are spilled to local memory in function 'input_add_multiply_reduce_select_fusion', 56 bytes spill stores, 44 bytes spill loads\n",
      "\n"
     ]
    },
    {
     "name": "stdout",
     "output_type": "stream",
     "text": [
      "\u001b[1m194/194\u001b[0m \u001b[32m━━━━━━━━━━━━━━━━━━━━\u001b[0m\u001b[37m\u001b[0m \u001b[1m0s\u001b[0m 611us/step  \n",
      "Transformer MSE: 0.0013251824873671254\n",
      "Best parameters: {'num_heads': 4, 'dropout_rate': 0.25, 'batch_size': 32, 'ff_dim': 64}, Best MSE: 0.0013163828028462546\n",
      "Best MSE: 0.001316\n",
      "num_heads: 4, ff_dim: 64, batch_size: 32\n",
      "Time taken: 599.262882 seconds\n",
      "[pypickle] Pickle file saved: [/home/alfred/projects/mscfe-masters-project/src/models/best/transformer/best_transformer_BNBUSDT_TRXUSDT.pkl]\n",
      "\n",
      "(10) Pairs: BNBUSDT XRPUSDT\n",
      "Testing params: {'num_heads': 2, 'dropout_rate': 0.25, 'batch_size': 32, 'ff_dim': 64}\n",
      "Training/Validation Phase\n",
      "\u001b[1m194/194\u001b[0m \u001b[32m━━━━━━━━━━━━━━━━━━━━\u001b[0m\u001b[37m\u001b[0m \u001b[1m0s\u001b[0m 724us/step  \n",
      "Transformer MSE: 0.008258843120400905\n",
      "Testing params: {'num_heads': 2, 'dropout_rate': 0.25, 'batch_size': 32, 'ff_dim': 128}\n",
      "Training/Validation Phase\n",
      "\u001b[1m194/194\u001b[0m \u001b[32m━━━━━━━━━━━━━━━━━━━━\u001b[0m\u001b[37m\u001b[0m \u001b[1m1s\u001b[0m 830us/step  \n",
      "Transformer MSE: 0.02029675979544139\n",
      "Testing params: {'num_heads': 2, 'dropout_rate': 0.25, 'batch_size': 64, 'ff_dim': 64}\n",
      "Training/Validation Phase\n",
      "\u001b[1m194/194\u001b[0m \u001b[32m━━━━━━━━━━━━━━━━━━━━\u001b[0m\u001b[37m\u001b[0m \u001b[1m0s\u001b[0m 537us/step  \n",
      "Transformer MSE: 0.0035076021076534884\n",
      "Testing params: {'num_heads': 2, 'dropout_rate': 0.25, 'batch_size': 64, 'ff_dim': 128}\n",
      "Training/Validation Phase\n"
     ]
    },
    {
     "name": "stderr",
     "output_type": "stream",
     "text": [
      "2025-03-01 18:59:06.289101: I external/local_xla/xla/stream_executor/cuda/cuda_asm_compiler.cc:397] ptxas warning : Registers are spilled to local memory in function 'input_add_multiply_reduce_select_fusion', 56 bytes spill stores, 44 bytes spill loads\n",
      "\n"
     ]
    },
    {
     "name": "stdout",
     "output_type": "stream",
     "text": [
      "\u001b[1m194/194\u001b[0m \u001b[32m━━━━━━━━━━━━━━━━━━━━\u001b[0m\u001b[37m\u001b[0m \u001b[1m1s\u001b[0m 1ms/step    \n",
      "Transformer MSE: 0.008243859582909055\n",
      "Testing params: {'num_heads': 4, 'dropout_rate': 0.25, 'batch_size': 32, 'ff_dim': 64}\n",
      "Training/Validation Phase\n",
      "\u001b[1m194/194\u001b[0m \u001b[32m━━━━━━━━━━━━━━━━━━━━\u001b[0m\u001b[37m\u001b[0m \u001b[1m0s\u001b[0m 631us/step  \n",
      "Transformer MSE: 0.007440369684050442\n",
      "Testing params: {'num_heads': 4, 'dropout_rate': 0.25, 'batch_size': 32, 'ff_dim': 128}\n",
      "Training/Validation Phase\n",
      "\u001b[1m194/194\u001b[0m \u001b[32m━━━━━━━━━━━━━━━━━━━━\u001b[0m\u001b[37m\u001b[0m \u001b[1m0s\u001b[0m 643us/step  \n",
      "Transformer MSE: 0.014148639471741055\n",
      "Testing params: {'num_heads': 4, 'dropout_rate': 0.25, 'batch_size': 64, 'ff_dim': 64}\n",
      "Training/Validation Phase\n"
     ]
    },
    {
     "name": "stderr",
     "output_type": "stream",
     "text": [
      "2025-03-01 19:01:32.095523: I external/local_xla/xla/stream_executor/cuda/cuda_asm_compiler.cc:397] ptxas warning : Registers are spilled to local memory in function 'input_add_multiply_reduce_select_fusion', 56 bytes spill stores, 44 bytes spill loads\n",
      "\n"
     ]
    },
    {
     "name": "stdout",
     "output_type": "stream",
     "text": [
      "\u001b[1m194/194\u001b[0m \u001b[32m━━━━━━━━━━━━━━━━━━━━\u001b[0m\u001b[37m\u001b[0m \u001b[1m0s\u001b[0m 569us/step  \n",
      "Transformer MSE: 0.031239750589565452\n",
      "Testing params: {'num_heads': 4, 'dropout_rate': 0.25, 'batch_size': 64, 'ff_dim': 128}\n",
      "Training/Validation Phase\n"
     ]
    },
    {
     "name": "stderr",
     "output_type": "stream",
     "text": [
      "2025-03-01 19:02:03.434951: I external/local_xla/xla/stream_executor/cuda/cuda_asm_compiler.cc:397] ptxas warning : Registers are spilled to local memory in function 'input_add_multiply_reduce_select_fusion', 56 bytes spill stores, 44 bytes spill loads\n",
      "\n"
     ]
    },
    {
     "name": "stdout",
     "output_type": "stream",
     "text": [
      "\u001b[1m194/194\u001b[0m \u001b[32m━━━━━━━━━━━━━━━━━━━━\u001b[0m\u001b[37m\u001b[0m \u001b[1m0s\u001b[0m 583us/step  \n",
      "Transformer MSE: 0.018798797823860555\n",
      "Best parameters: {'num_heads': 2, 'dropout_rate': 0.25, 'batch_size': 64, 'ff_dim': 64}, Best MSE: 0.0035076021076534884\n",
      "Best MSE: 0.003508\n",
      "num_heads: 2, ff_dim: 64, batch_size: 64\n",
      "Time taken: 347.606255 seconds\n",
      "[pypickle] Pickle file saved: [/home/alfred/projects/mscfe-masters-project/src/models/best/transformer/best_transformer_BNBUSDT_XRPUSDT.pkl]\n",
      "\n"
     ]
    },
    {
     "data": {
      "text/html": [
       "<div>\n",
       "<style scoped>\n",
       "    .dataframe tbody tr th:only-of-type {\n",
       "        vertical-align: middle;\n",
       "    }\n",
       "\n",
       "    .dataframe tbody tr th {\n",
       "        vertical-align: top;\n",
       "    }\n",
       "\n",
       "    .dataframe thead th {\n",
       "        text-align: right;\n",
       "    }\n",
       "</style>\n",
       "<table border=\"1\" class=\"dataframe\">\n",
       "  <thead>\n",
       "    <tr style=\"text-align: right;\">\n",
       "      <th></th>\n",
       "      <th>best_mse</th>\n",
       "      <th>data_points</th>\n",
       "      <th>features</th>\n",
       "      <th>num_heads</th>\n",
       "      <th>dropout_rate</th>\n",
       "      <th>batch_size</th>\n",
       "      <th>ff_dim</th>\n",
       "    </tr>\n",
       "    <tr>\n",
       "      <th>pair</th>\n",
       "      <th></th>\n",
       "      <th></th>\n",
       "      <th></th>\n",
       "      <th></th>\n",
       "      <th></th>\n",
       "      <th></th>\n",
       "      <th></th>\n",
       "    </tr>\n",
       "  </thead>\n",
       "  <tbody>\n",
       "    <tr>\n",
       "      <th>META DAXEX_ETF</th>\n",
       "      <td>0.040626</td>\n",
       "      <td>1145</td>\n",
       "      <td>15</td>\n",
       "      <td>2</td>\n",
       "      <td>0.25</td>\n",
       "      <td>32</td>\n",
       "      <td>64</td>\n",
       "    </tr>\n",
       "    <tr>\n",
       "      <th>AMZN BNBUSDT</th>\n",
       "      <td>0.012462</td>\n",
       "      <td>4991</td>\n",
       "      <td>16</td>\n",
       "      <td>2</td>\n",
       "      <td>0.25</td>\n",
       "      <td>64</td>\n",
       "      <td>64</td>\n",
       "    </tr>\n",
       "    <tr>\n",
       "      <th>AMZN TRXUSDT</th>\n",
       "      <td>0.003325</td>\n",
       "      <td>4991</td>\n",
       "      <td>9</td>\n",
       "      <td>2</td>\n",
       "      <td>0.25</td>\n",
       "      <td>64</td>\n",
       "      <td>128</td>\n",
       "    </tr>\n",
       "    <tr>\n",
       "      <th>SPY_ETF AVAXUSDT</th>\n",
       "      <td>0.044844</td>\n",
       "      <td>4997</td>\n",
       "      <td>21</td>\n",
       "      <td>2</td>\n",
       "      <td>0.25</td>\n",
       "      <td>64</td>\n",
       "      <td>64</td>\n",
       "    </tr>\n",
       "    <tr>\n",
       "      <th>SPY_ETF ETHUSDT</th>\n",
       "      <td>0.008839</td>\n",
       "      <td>4997</td>\n",
       "      <td>16</td>\n",
       "      <td>4</td>\n",
       "      <td>0.25</td>\n",
       "      <td>64</td>\n",
       "      <td>64</td>\n",
       "    </tr>\n",
       "    <tr>\n",
       "      <th>EQQQ_ETF BNBUSDT</th>\n",
       "      <td>0.025240</td>\n",
       "      <td>3217</td>\n",
       "      <td>13</td>\n",
       "      <td>2</td>\n",
       "      <td>0.25</td>\n",
       "      <td>64</td>\n",
       "      <td>64</td>\n",
       "    </tr>\n",
       "    <tr>\n",
       "      <th>BNBUSDT ADAUSDT</th>\n",
       "      <td>0.000998</td>\n",
       "      <td>31051</td>\n",
       "      <td>9</td>\n",
       "      <td>4</td>\n",
       "      <td>0.25</td>\n",
       "      <td>64</td>\n",
       "      <td>128</td>\n",
       "    </tr>\n",
       "    <tr>\n",
       "      <th>BNBUSDT BTCUSDT</th>\n",
       "      <td>0.001984</td>\n",
       "      <td>31051</td>\n",
       "      <td>9</td>\n",
       "      <td>2</td>\n",
       "      <td>0.25</td>\n",
       "      <td>32</td>\n",
       "      <td>64</td>\n",
       "    </tr>\n",
       "    <tr>\n",
       "      <th>BNBUSDT TRXUSDT</th>\n",
       "      <td>0.001316</td>\n",
       "      <td>31051</td>\n",
       "      <td>12</td>\n",
       "      <td>4</td>\n",
       "      <td>0.25</td>\n",
       "      <td>32</td>\n",
       "      <td>64</td>\n",
       "    </tr>\n",
       "    <tr>\n",
       "      <th>BNBUSDT XRPUSDT</th>\n",
       "      <td>0.003508</td>\n",
       "      <td>31051</td>\n",
       "      <td>12</td>\n",
       "      <td>2</td>\n",
       "      <td>0.25</td>\n",
       "      <td>64</td>\n",
       "      <td>64</td>\n",
       "    </tr>\n",
       "  </tbody>\n",
       "</table>\n",
       "</div>"
      ],
      "text/plain": [
       "                  best_mse  data_points  features  num_heads  dropout_rate  \\\n",
       "pair                                                                         \n",
       "META DAXEX_ETF    0.040626         1145        15          2          0.25   \n",
       "AMZN BNBUSDT      0.012462         4991        16          2          0.25   \n",
       "AMZN TRXUSDT      0.003325         4991         9          2          0.25   \n",
       "SPY_ETF AVAXUSDT  0.044844         4997        21          2          0.25   \n",
       "SPY_ETF ETHUSDT   0.008839         4997        16          4          0.25   \n",
       "EQQQ_ETF BNBUSDT  0.025240         3217        13          2          0.25   \n",
       "BNBUSDT ADAUSDT   0.000998        31051         9          4          0.25   \n",
       "BNBUSDT BTCUSDT   0.001984        31051         9          2          0.25   \n",
       "BNBUSDT TRXUSDT   0.001316        31051        12          4          0.25   \n",
       "BNBUSDT XRPUSDT   0.003508        31051        12          2          0.25   \n",
       "\n",
       "                  batch_size  ff_dim  \n",
       "pair                                  \n",
       "META DAXEX_ETF            32      64  \n",
       "AMZN BNBUSDT              64      64  \n",
       "AMZN TRXUSDT              64     128  \n",
       "SPY_ETF AVAXUSDT          64      64  \n",
       "SPY_ETF ETHUSDT           64      64  \n",
       "EQQQ_ETF BNBUSDT          64      64  \n",
       "BNBUSDT ADAUSDT           64     128  \n",
       "BNBUSDT BTCUSDT           32      64  \n",
       "BNBUSDT TRXUSDT           32      64  \n",
       "BNBUSDT XRPUSDT           64      64  "
      ]
     },
     "metadata": {},
     "output_type": "display_data"
    }
   ],
   "source": [
    "dir_best = os.path.join(dir_models_best, 'transformer')\n",
    "param_grid = {\n",
    "    'num_heads': [2, 4],\n",
    "    'dropout_rate': [0.25],  # Dropout rates\n",
    "    'batch_size': [32, 64], # Number of data per batch\n",
    "    'ff_dim': [64, 128],\n",
    "}\n",
    "\n",
    "verbose = True\n",
    "tuned_params = []\n",
    "i = 1\n",
    "\n",
    "for p in pairs:\n",
    "    print(f\"({i}) Pairs: {p}\")\n",
    "\n",
    "    # 1. Read normalized features\n",
    "    df_norm = dict_data['df_norm'][p]\n",
    "    \n",
    "    # 2. Create X, y based on LassoCV\n",
    "    lasso_features_cols = dict_cv_features[p]\n",
    "    target_col = df_norm.columns.tolist()[-1]\n",
    "    df_lasso = pd.concat([df_norm[lasso_features_cols], df_norm[target_col]], axis=1)\n",
    "\n",
    "    # 3. Run Hyperparameters tunning\n",
    "    start_time = time.perf_counter()\n",
    "    best_model, best_params, best_mse, best_df_test = models.hyperparameter_tuning(\n",
    "        df=df_lasso, p=p, model_func=models.transformer_regression, param_grid=param_grid, verbose=verbose)\n",
    "    end_time = time.perf_counter()\n",
    "    elapsed_time = end_time - start_time\n",
    "\n",
    "    stats = {\n",
    "        'pair':p, \n",
    "        'best_mse': best_mse,\n",
    "        'data_points': len(df_lasso),\n",
    "        'features': len(df_lasso.columns),\n",
    "    }\n",
    "    stats.update(best_params)\n",
    "    tuned_params.append(stats)\n",
    "\n",
    "    print(f\"Best MSE: {best_mse:.6f}\")\n",
    "    print(f\"num_heads: {best_params['num_heads']}, ff_dim: {best_params['ff_dim']}, batch_size: {best_params['batch_size']}\")\n",
    "    print(f\"Time taken: {elapsed_time:.6f} seconds\")\n",
    "\n",
    "    # 4. Save best model future use like testing and strategy\n",
    "    model_name = f\"best_transformer_{p.replace(' ', '_')}.pkl\"\n",
    "    dir_model_name = os.path.join(dir_best, model_name)\n",
    "    pypickle.save(dir_model_name, best_model, overwrite=pypickle_overwrite)\n",
    "\n",
    "    i+=1\n",
    "    print('')\n",
    "\n",
    "dir_param = os.path.join(dir_best, 'best_model_results.csv')\n",
    "df_transformer = pd.DataFrame(tuned_params).set_index('pair')\n",
    "df_transformer.to_csv(dir_param)\n",
    "display(df_transformer)"
   ]
  },
  {
   "cell_type": "code",
   "execution_count": null,
   "id": "7f51ddd6-8c08-4cbb-b056-76d6fff9b260",
   "metadata": {},
   "outputs": [],
   "source": []
  },
  {
   "cell_type": "code",
   "execution_count": null,
   "id": "f4bc9841-6e32-4c55-90a4-0175e46749a5",
   "metadata": {},
   "outputs": [],
   "source": []
  }
 ],
 "metadata": {
  "kernelspec": {
   "display_name": "Python (tf_py311)",
   "language": "python",
   "name": "tf_py311"
  },
  "language_info": {
   "codemirror_mode": {
    "name": "ipython",
    "version": 3
   },
   "file_extension": ".py",
   "mimetype": "text/x-python",
   "name": "python",
   "nbconvert_exporter": "python",
   "pygments_lexer": "ipython3",
   "version": "3.11.11"
  }
 },
 "nbformat": 4,
 "nbformat_minor": 5
}
