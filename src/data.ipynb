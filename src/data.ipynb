{
 "cells": [
  {
   "cell_type": "code",
   "execution_count": 1,
   "id": "d2064c99-1a95-4448-83d8-98f49cacb73b",
   "metadata": {
    "tags": []
   },
   "outputs": [],
   "source": [
    "import numpy as np\n",
    "import os\n",
    "import pandas as pd\n",
    "\n",
    "from binance import Client, ThreadedWebsocketManager, ThreadedDepthCacheManager\n",
    "from data import *\n",
    "from IPython.display import display"
   ]
  },
  {
   "cell_type": "code",
   "execution_count": 2,
   "id": "dcbbc6db-fef8-4cd1-945b-252a4ef8ca48",
   "metadata": {
    "tags": []
   },
   "outputs": [
    {
     "name": "stdout",
     "output_type": "stream",
     "text": [
      "AAPL\n",
      "MSFT\n",
      "NVDA\n",
      "AMZN\n",
      "META\n",
      "GOOGL\n",
      "BRK.B\n",
      "GOOG\n",
      "AVGO\n",
      "TSLA\n",
      "SPY_ETF\n",
      "DAXEX_ETF\n",
      "CAC40_ETF\n",
      "NKY225_ETF\n",
      "DJIA_ETF\n",
      "EQQQ_ETF\n",
      "FTSE_ETF\n"
     ]
    },
    {
     "data": {
      "text/html": [
       "<div>\n",
       "<style scoped>\n",
       "    .dataframe tbody tr th:only-of-type {\n",
       "        vertical-align: middle;\n",
       "    }\n",
       "\n",
       "    .dataframe tbody tr th {\n",
       "        vertical-align: top;\n",
       "    }\n",
       "\n",
       "    .dataframe thead th {\n",
       "        text-align: right;\n",
       "    }\n",
       "</style>\n",
       "<table border=\"1\" class=\"dataframe\">\n",
       "  <thead>\n",
       "    <tr style=\"text-align: right;\">\n",
       "      <th></th>\n",
       "      <th>OpenTime</th>\n",
       "      <th>Open</th>\n",
       "      <th>High</th>\n",
       "      <th>Low</th>\n",
       "      <th>Close</th>\n",
       "      <th>Symbol</th>\n",
       "    </tr>\n",
       "  </thead>\n",
       "  <tbody>\n",
       "    <tr>\n",
       "      <th>2</th>\n",
       "      <td>2025-01-07 12:30:00</td>\n",
       "      <td>802.20</td>\n",
       "      <td>802.20</td>\n",
       "      <td>802.20</td>\n",
       "      <td>802.20</td>\n",
       "      <td>FTSE_ETF</td>\n",
       "    </tr>\n",
       "    <tr>\n",
       "      <th>0</th>\n",
       "      <td>2025-01-07 12:35:00</td>\n",
       "      <td>428.83</td>\n",
       "      <td>429.14</td>\n",
       "      <td>428.62</td>\n",
       "      <td>429.02</td>\n",
       "      <td>DJIA_ETF</td>\n",
       "    </tr>\n",
       "    <tr>\n",
       "      <th>0</th>\n",
       "      <td>2025-01-07 12:35:00</td>\n",
       "      <td>42000.00</td>\n",
       "      <td>42039.00</td>\n",
       "      <td>42000.00</td>\n",
       "      <td>42039.00</td>\n",
       "      <td>EQQQ_ETF</td>\n",
       "    </tr>\n",
       "    <tr>\n",
       "      <th>1</th>\n",
       "      <td>2025-01-07 12:35:00</td>\n",
       "      <td>803.50</td>\n",
       "      <td>803.50</td>\n",
       "      <td>803.50</td>\n",
       "      <td>803.50</td>\n",
       "      <td>FTSE_ETF</td>\n",
       "    </tr>\n",
       "    <tr>\n",
       "      <th>0</th>\n",
       "      <td>2025-01-07 12:40:00</td>\n",
       "      <td>803.80</td>\n",
       "      <td>803.80</td>\n",
       "      <td>803.80</td>\n",
       "      <td>803.80</td>\n",
       "      <td>FTSE_ETF</td>\n",
       "    </tr>\n",
       "  </tbody>\n",
       "</table>\n",
       "</div>"
      ],
      "text/plain": [
       "              OpenTime      Open      High       Low     Close    Symbol\n",
       "2  2025-01-07 12:30:00    802.20    802.20    802.20    802.20  FTSE_ETF\n",
       "0  2025-01-07 12:35:00    428.83    429.14    428.62    429.02  DJIA_ETF\n",
       "0  2025-01-07 12:35:00  42000.00  42039.00  42000.00  42039.00  EQQQ_ETF\n",
       "1  2025-01-07 12:35:00    803.50    803.50    803.50    803.50  FTSE_ETF\n",
       "0  2025-01-07 12:40:00    803.80    803.80    803.80    803.80  FTSE_ETF"
      ]
     },
     "metadata": {},
     "output_type": "display_data"
    }
   ],
   "source": [
    "df = read_excel_sheets()\n",
    "display(df.tail())"
   ]
  },
  {
   "cell_type": "code",
   "execution_count": 3,
   "id": "5a9fbac5-6f08-4ff2-92e2-d0d9c6c1729e",
   "metadata": {
    "tags": []
   },
   "outputs": [
    {
     "name": "stdout",
     "output_type": "stream",
     "text": [
      "BTCUSDT\n",
      "ETHUSDT\n",
      "XRPUSDT\n",
      "BNBUSDT\n",
      "SOLUSDT\n",
      "DOGEUSDT\n",
      "USDCUSDT\n",
      "ADAUSDT\n",
      "TRXUSDT\n",
      "AVAXUSDT\n"
     ]
    },
    {
     "data": {
      "text/html": [
       "<div>\n",
       "<style scoped>\n",
       "    .dataframe tbody tr th:only-of-type {\n",
       "        vertical-align: middle;\n",
       "    }\n",
       "\n",
       "    .dataframe tbody tr th {\n",
       "        vertical-align: top;\n",
       "    }\n",
       "\n",
       "    .dataframe thead th {\n",
       "        text-align: right;\n",
       "    }\n",
       "</style>\n",
       "<table border=\"1\" class=\"dataframe\">\n",
       "  <thead>\n",
       "    <tr style=\"text-align: right;\">\n",
       "      <th></th>\n",
       "      <th>OpenTime</th>\n",
       "      <th>Open</th>\n",
       "      <th>High</th>\n",
       "      <th>Low</th>\n",
       "      <th>Close</th>\n",
       "      <th>Symbol</th>\n",
       "    </tr>\n",
       "  </thead>\n",
       "  <tbody>\n",
       "    <tr>\n",
       "      <th>27360</th>\n",
       "      <td>2025-01-08</td>\n",
       "      <td>3381.3100</td>\n",
       "      <td>3386.6300</td>\n",
       "      <td>3378.2300</td>\n",
       "      <td>3379.6100</td>\n",
       "      <td>ETHUSDT</td>\n",
       "    </tr>\n",
       "    <tr>\n",
       "      <th>27360</th>\n",
       "      <td>2025-01-08</td>\n",
       "      <td>202.1700</td>\n",
       "      <td>202.8700</td>\n",
       "      <td>201.9000</td>\n",
       "      <td>202.2000</td>\n",
       "      <td>SOLUSDT</td>\n",
       "    </tr>\n",
       "    <tr>\n",
       "      <th>27360</th>\n",
       "      <td>2025-01-08</td>\n",
       "      <td>0.2527</td>\n",
       "      <td>0.2528</td>\n",
       "      <td>0.2524</td>\n",
       "      <td>0.2524</td>\n",
       "      <td>TRXUSDT</td>\n",
       "    </tr>\n",
       "    <tr>\n",
       "      <th>27360</th>\n",
       "      <td>2025-01-08</td>\n",
       "      <td>1.0001</td>\n",
       "      <td>1.0002</td>\n",
       "      <td>1.0001</td>\n",
       "      <td>1.0002</td>\n",
       "      <td>USDCUSDT</td>\n",
       "    </tr>\n",
       "    <tr>\n",
       "      <th>27360</th>\n",
       "      <td>2025-01-08</td>\n",
       "      <td>2.2712</td>\n",
       "      <td>2.2836</td>\n",
       "      <td>2.2687</td>\n",
       "      <td>2.2691</td>\n",
       "      <td>XRPUSDT</td>\n",
       "    </tr>\n",
       "  </tbody>\n",
       "</table>\n",
       "</div>"
      ],
      "text/plain": [
       "        OpenTime       Open       High        Low      Close    Symbol\n",
       "27360 2025-01-08  3381.3100  3386.6300  3378.2300  3379.6100   ETHUSDT\n",
       "27360 2025-01-08   202.1700   202.8700   201.9000   202.2000   SOLUSDT\n",
       "27360 2025-01-08     0.2527     0.2528     0.2524     0.2524   TRXUSDT\n",
       "27360 2025-01-08     1.0001     1.0002     1.0001     1.0002  USDCUSDT\n",
       "27360 2025-01-08     2.2712     2.2836     2.2687     2.2691   XRPUSDT"
      ]
     },
     "metadata": {},
     "output_type": "display_data"
    }
   ],
   "source": [
    "api_key = os.getenv('API_KEY')\n",
    "api_secret = os.getenv('API_SECRET')\n",
    "client = Client(api_key, api_secret)\n",
    "crypto_df = get_crypto_data(client)\n",
    "display(crypto_df.tail())"
   ]
  }
 ],
 "metadata": {
  "kernelspec": {
   "display_name": "Python 3 (ipykernel)",
   "language": "python",
   "name": "python3"
  },
  "language_info": {
   "codemirror_mode": {
    "name": "ipython",
    "version": 3
   },
   "file_extension": ".py",
   "mimetype": "text/x-python",
   "name": "python",
   "nbconvert_exporter": "python",
   "pygments_lexer": "ipython3",
   "version": "3.11.5"
  }
 },
 "nbformat": 4,
 "nbformat_minor": 5
}
