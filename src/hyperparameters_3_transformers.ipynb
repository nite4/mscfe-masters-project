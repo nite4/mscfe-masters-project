{
 "cells": [
  {
   "cell_type": "code",
   "execution_count": 1,
   "id": "bb3e861e-48f6-4e4d-b2e0-61fd2c404c50",
   "metadata": {},
   "outputs": [
    {
     "name": "stderr",
     "output_type": "stream",
     "text": [
      "2025-02-25 20:12:17.916683: I tensorflow/core/util/port.cc:153] oneDNN custom operations are on. You may see slightly different numerical results due to floating-point round-off errors from different computation orders. To turn them off, set the environment variable `TF_ENABLE_ONEDNN_OPTS=0`.\n",
      "2025-02-25 20:12:18.038685: E external/local_xla/xla/stream_executor/cuda/cuda_fft.cc:477] Unable to register cuFFT factory: Attempting to register factory for plugin cuFFT when one has already been registered\n",
      "WARNING: All log messages before absl::InitializeLog() is called are written to STDERR\n",
      "E0000 00:00:1740485538.082531    4511 cuda_dnn.cc:8310] Unable to register cuDNN factory: Attempting to register factory for plugin cuDNN when one has already been registered\n",
      "E0000 00:00:1740485538.096835    4511 cuda_blas.cc:1418] Unable to register cuBLAS factory: Attempting to register factory for plugin cuBLAS when one has already been registered\n",
      "2025-02-25 20:12:18.221800: I tensorflow/core/platform/cpu_feature_guard.cc:210] This TensorFlow binary is optimized to use available CPU instructions in performance-critical operations.\n",
      "To enable the following instructions: AVX2 AVX_VNNI FMA, in other operations, rebuild TensorFlow with the appropriate compiler flags.\n"
     ]
    }
   ],
   "source": [
    "# %conda install -c conda-forge ta-lib -q\n",
    "# %pip install -r requirements.txt -q\n",
    "\n",
    "# import boto3\n",
    "import data\n",
    "import glob\n",
    "import matplotlib.pyplot as plt\n",
    "import models\n",
    "import numpy as np\n",
    "import os\n",
    "import pandas as pd\n",
    "import pypickle\n",
    "import strategy\n",
    "import time\n",
    "\n",
    "from data import * \n",
    "from feature_engineering import FeaturesEngineering\n",
    "from models import Models\n",
    "from io import StringIO\n",
    "from IPython.display import display\n",
    "from sklearn.linear_model import LassoCV\n",
    "from utils import log"
   ]
  },
  {
   "cell_type": "code",
   "execution_count": 2,
   "id": "72379642-7d44-4b0c-b4f9-1c34592312a3",
   "metadata": {},
   "outputs": [],
   "source": [
    "pypickle_overwrite = True\n",
    "\n",
    "models = Models(use_xgboost_gpu=True)"
   ]
  },
  {
   "cell_type": "code",
   "execution_count": 3,
   "id": "a10f57a0-0849-4813-bb67-801da2b8c8b4",
   "metadata": {},
   "outputs": [
    {
     "name": "stdout",
     "output_type": "stream",
     "text": [
      "\n",
      "Project directory: /home/alfred/projects/mscfe-masters-project/src\n",
      "Models directory: /home/alfred/projects/mscfe-masters-project/src/models\n",
      "Base models directory: /home/alfred/projects/mscfe-masters-project/src/models/base\n",
      "Scalers directory: /home/alfred/projects/mscfe-masters-project/src/models/scaler\n",
      "Best models directory: /home/alfred/projects/mscfe-masters-project/src/models/best\n",
      "\n"
     ]
    }
   ],
   "source": [
    "dir_project = os.getcwd()\n",
    "dir_models = os.path.join(dir_project, 'models')\n",
    "dir_models_base = os.path.join(dir_project, 'models', 'base')\n",
    "dir_models_scaler = os.path.join(dir_project, 'models', 'scaler')\n",
    "dir_models_best = os.path.join(dir_project, 'models', 'best')\n",
    "\n",
    "print(f\"\"\"\n",
    "Project directory: {dir_project}\n",
    "Models directory: {dir_models}\n",
    "Base models directory: {dir_models_base}\n",
    "Scalers directory: {dir_models_scaler}\n",
    "Best models directory: {dir_models_best}\n",
    "\"\"\")"
   ]
  },
  {
   "cell_type": "markdown",
   "id": "a0c06ccb-5fbb-4edc-b968-f6cf9050768d",
   "metadata": {},
   "source": [
    "# Read raw data"
   ]
  },
  {
   "cell_type": "code",
   "execution_count": 4,
   "id": "b3e39bdf-f344-4744-a85b-1659dad65f84",
   "metadata": {},
   "outputs": [
    {
     "data": {
      "text/html": [
       "<div>\n",
       "<style scoped>\n",
       "    .dataframe tbody tr th:only-of-type {\n",
       "        vertical-align: middle;\n",
       "    }\n",
       "\n",
       "    .dataframe tbody tr th {\n",
       "        vertical-align: top;\n",
       "    }\n",
       "\n",
       "    .dataframe thead th {\n",
       "        text-align: right;\n",
       "    }\n",
       "</style>\n",
       "<table border=\"1\" class=\"dataframe\">\n",
       "  <thead>\n",
       "    <tr style=\"text-align: right;\">\n",
       "      <th></th>\n",
       "      <th>seriesX</th>\n",
       "      <th>seriesY</th>\n",
       "      <th>correlation</th>\n",
       "      <th>spread_adf_stat</th>\n",
       "      <th>spread_adf_pValue</th>\n",
       "      <th>spread_stationary</th>\n",
       "      <th>series_coint_stat</th>\n",
       "      <th>series_coint_pValue</th>\n",
       "      <th>series_cointegrated</th>\n",
       "    </tr>\n",
       "  </thead>\n",
       "  <tbody>\n",
       "    <tr>\n",
       "      <th>0</th>\n",
       "      <td>GOOG</td>\n",
       "      <td>GOOGL</td>\n",
       "      <td>0.999931</td>\n",
       "      <td>-4.971937</td>\n",
       "      <td>0.000025</td>\n",
       "      <td>True</td>\n",
       "      <td>-4.976339</td>\n",
       "      <td>0.000182</td>\n",
       "      <td>True</td>\n",
       "    </tr>\n",
       "    <tr>\n",
       "      <th>1</th>\n",
       "      <td>META</td>\n",
       "      <td>DAXEX_ETF</td>\n",
       "      <td>0.888934</td>\n",
       "      <td>-2.917056</td>\n",
       "      <td>0.043400</td>\n",
       "      <td>True</td>\n",
       "      <td>-3.483091</td>\n",
       "      <td>0.033924</td>\n",
       "      <td>True</td>\n",
       "    </tr>\n",
       "    <tr>\n",
       "      <th>2</th>\n",
       "      <td>AMZN</td>\n",
       "      <td>BNBUSDT</td>\n",
       "      <td>0.877059</td>\n",
       "      <td>-3.631203</td>\n",
       "      <td>0.005192</td>\n",
       "      <td>True</td>\n",
       "      <td>-3.545100</td>\n",
       "      <td>0.028601</td>\n",
       "      <td>True</td>\n",
       "    </tr>\n",
       "    <tr>\n",
       "      <th>3</th>\n",
       "      <td>AMZN</td>\n",
       "      <td>TRXUSDT</td>\n",
       "      <td>0.814577</td>\n",
       "      <td>-3.869803</td>\n",
       "      <td>0.002269</td>\n",
       "      <td>True</td>\n",
       "      <td>-3.387413</td>\n",
       "      <td>0.043768</td>\n",
       "      <td>True</td>\n",
       "    </tr>\n",
       "    <tr>\n",
       "      <th>4</th>\n",
       "      <td>SPY_ETF</td>\n",
       "      <td>AVAXUSDT</td>\n",
       "      <td>0.847292</td>\n",
       "      <td>-3.309927</td>\n",
       "      <td>0.014441</td>\n",
       "      <td>True</td>\n",
       "      <td>-3.698512</td>\n",
       "      <td>0.018406</td>\n",
       "      <td>True</td>\n",
       "    </tr>\n",
       "    <tr>\n",
       "      <th>5</th>\n",
       "      <td>SPY_ETF</td>\n",
       "      <td>ETHUSDT</td>\n",
       "      <td>0.862483</td>\n",
       "      <td>-3.428205</td>\n",
       "      <td>0.010034</td>\n",
       "      <td>True</td>\n",
       "      <td>-3.737367</td>\n",
       "      <td>0.016394</td>\n",
       "      <td>True</td>\n",
       "    </tr>\n",
       "    <tr>\n",
       "      <th>6</th>\n",
       "      <td>EQQQ_ETF</td>\n",
       "      <td>BNBUSDT</td>\n",
       "      <td>0.886060</td>\n",
       "      <td>-3.816404</td>\n",
       "      <td>0.002744</td>\n",
       "      <td>True</td>\n",
       "      <td>-3.670509</td>\n",
       "      <td>0.019987</td>\n",
       "      <td>True</td>\n",
       "    </tr>\n",
       "    <tr>\n",
       "      <th>7</th>\n",
       "      <td>BNBUSDT</td>\n",
       "      <td>ADAUSDT</td>\n",
       "      <td>0.901459</td>\n",
       "      <td>-3.279504</td>\n",
       "      <td>0.015820</td>\n",
       "      <td>True</td>\n",
       "      <td>-3.775562</td>\n",
       "      <td>0.014607</td>\n",
       "      <td>True</td>\n",
       "    </tr>\n",
       "    <tr>\n",
       "      <th>8</th>\n",
       "      <td>BNBUSDT</td>\n",
       "      <td>BTCUSDT</td>\n",
       "      <td>0.884604</td>\n",
       "      <td>-2.909961</td>\n",
       "      <td>0.044202</td>\n",
       "      <td>True</td>\n",
       "      <td>-3.393160</td>\n",
       "      <td>0.043116</td>\n",
       "      <td>True</td>\n",
       "    </tr>\n",
       "    <tr>\n",
       "      <th>9</th>\n",
       "      <td>BNBUSDT</td>\n",
       "      <td>TRXUSDT</td>\n",
       "      <td>0.933562</td>\n",
       "      <td>-3.656380</td>\n",
       "      <td>0.004770</td>\n",
       "      <td>True</td>\n",
       "      <td>-4.003675</td>\n",
       "      <td>0.007095</td>\n",
       "      <td>True</td>\n",
       "    </tr>\n",
       "    <tr>\n",
       "      <th>10</th>\n",
       "      <td>BNBUSDT</td>\n",
       "      <td>XRPUSDT</td>\n",
       "      <td>0.919004</td>\n",
       "      <td>-3.380878</td>\n",
       "      <td>0.011628</td>\n",
       "      <td>True</td>\n",
       "      <td>-4.054516</td>\n",
       "      <td>0.005995</td>\n",
       "      <td>True</td>\n",
       "    </tr>\n",
       "  </tbody>\n",
       "</table>\n",
       "</div>"
      ],
      "text/plain": [
       "     seriesX    seriesY  correlation  spread_adf_stat  spread_adf_pValue  \\\n",
       "0       GOOG      GOOGL     0.999931        -4.971937           0.000025   \n",
       "1       META  DAXEX_ETF     0.888934        -2.917056           0.043400   \n",
       "2       AMZN    BNBUSDT     0.877059        -3.631203           0.005192   \n",
       "3       AMZN    TRXUSDT     0.814577        -3.869803           0.002269   \n",
       "4    SPY_ETF   AVAXUSDT     0.847292        -3.309927           0.014441   \n",
       "5    SPY_ETF    ETHUSDT     0.862483        -3.428205           0.010034   \n",
       "6   EQQQ_ETF    BNBUSDT     0.886060        -3.816404           0.002744   \n",
       "7    BNBUSDT    ADAUSDT     0.901459        -3.279504           0.015820   \n",
       "8    BNBUSDT    BTCUSDT     0.884604        -2.909961           0.044202   \n",
       "9    BNBUSDT    TRXUSDT     0.933562        -3.656380           0.004770   \n",
       "10   BNBUSDT    XRPUSDT     0.919004        -3.380878           0.011628   \n",
       "\n",
       "    spread_stationary  series_coint_stat  series_coint_pValue  \\\n",
       "0                True          -4.976339             0.000182   \n",
       "1                True          -3.483091             0.033924   \n",
       "2                True          -3.545100             0.028601   \n",
       "3                True          -3.387413             0.043768   \n",
       "4                True          -3.698512             0.018406   \n",
       "5                True          -3.737367             0.016394   \n",
       "6                True          -3.670509             0.019987   \n",
       "7                True          -3.775562             0.014607   \n",
       "8                True          -3.393160             0.043116   \n",
       "9                True          -4.003675             0.007095   \n",
       "10               True          -4.054516             0.005995   \n",
       "\n",
       "    series_cointegrated  \n",
       "0                  True  \n",
       "1                  True  \n",
       "2                  True  \n",
       "3                  True  \n",
       "4                  True  \n",
       "5                  True  \n",
       "6                  True  \n",
       "7                  True  \n",
       "8                  True  \n",
       "9                  True  \n",
       "10                 True  "
      ]
     },
     "metadata": {},
     "output_type": "display_data"
    }
   ],
   "source": [
    "# Define S3 bucket and file path\n",
    "bucket_name = 'mscfe-capstone-project-bucket'\n",
    "file_key = 'filtered_data.csv'\n",
    "\n",
    "filtered = pd.read_csv('filtered_data.csv').drop(['Unnamed: 0'], axis=1)\n",
    "display(filtered)"
   ]
  },
  {
   "cell_type": "code",
   "execution_count": 5,
   "id": "81678977-4845-4bf5-a08f-521e7a0f6595",
   "metadata": {},
   "outputs": [
    {
     "name": "stdout",
     "output_type": "stream",
     "text": [
      "********************\n",
      "Trading pairs:\n",
      "META DAXEX_ETF\n",
      "AMZN BNBUSDT\n",
      "AMZN TRXUSDT\n",
      "SPY_ETF AVAXUSDT\n",
      "SPY_ETF ETHUSDT\n",
      "EQQQ_ETF BNBUSDT\n",
      "BNBUSDT ADAUSDT\n",
      "BNBUSDT BTCUSDT\n",
      "BNBUSDT TRXUSDT\n",
      "BNBUSDT XRPUSDT\n",
      "********************\n",
      "Unique tickers:\n",
      "META\n",
      "AMZN\n",
      "SPY_ETF\n",
      "EQQQ_ETF\n",
      "BNBUSDT\n",
      "DAXEX_ETF\n",
      "TRXUSDT\n",
      "AVAXUSDT\n",
      "ETHUSDT\n",
      "ADAUSDT\n",
      "BTCUSDT\n",
      "XRPUSDT\n",
      "********************\n"
     ]
    },
    {
     "data": {
      "text/html": [
       "<div>\n",
       "<style scoped>\n",
       "    .dataframe tbody tr th:only-of-type {\n",
       "        vertical-align: middle;\n",
       "    }\n",
       "\n",
       "    .dataframe tbody tr th {\n",
       "        vertical-align: top;\n",
       "    }\n",
       "\n",
       "    .dataframe thead th {\n",
       "        text-align: right;\n",
       "    }\n",
       "</style>\n",
       "<table border=\"1\" class=\"dataframe\">\n",
       "  <thead>\n",
       "    <tr style=\"text-align: right;\">\n",
       "      <th></th>\n",
       "      <th>OpenTime</th>\n",
       "      <th>Open</th>\n",
       "      <th>High</th>\n",
       "      <th>Low</th>\n",
       "      <th>Close</th>\n",
       "      <th>Symbol</th>\n",
       "    </tr>\n",
       "  </thead>\n",
       "  <tbody>\n",
       "    <tr>\n",
       "      <th>277941</th>\n",
       "      <td>2024-12-11 17:00:00</td>\n",
       "      <td>3817.8100</td>\n",
       "      <td>3821.830</td>\n",
       "      <td>3812.87</td>\n",
       "      <td>3821.8300</td>\n",
       "      <td>ETHUSDT</td>\n",
       "    </tr>\n",
       "    <tr>\n",
       "      <th>155261</th>\n",
       "      <td>2024-10-30 02:40:00</td>\n",
       "      <td>2685.5100</td>\n",
       "      <td>2691.040</td>\n",
       "      <td>2684.77</td>\n",
       "      <td>2689.7500</td>\n",
       "      <td>ETHUSDT</td>\n",
       "    </tr>\n",
       "    <tr>\n",
       "      <th>4207</th>\n",
       "      <td>2024-10-17 18:50:00</td>\n",
       "      <td>164.6800</td>\n",
       "      <td>164.735</td>\n",
       "      <td>164.53</td>\n",
       "      <td>164.5900</td>\n",
       "      <td>GOOG</td>\n",
       "    </tr>\n",
       "    <tr>\n",
       "      <th>331752</th>\n",
       "      <td>2024-12-30 09:25:00</td>\n",
       "      <td>188.2300</td>\n",
       "      <td>188.580</td>\n",
       "      <td>187.97</td>\n",
       "      <td>188.4500</td>\n",
       "      <td>SOLUSDT</td>\n",
       "    </tr>\n",
       "    <tr>\n",
       "      <th>30856</th>\n",
       "      <td>2024-11-19 13:20:00</td>\n",
       "      <td>142.8099</td>\n",
       "      <td>142.980</td>\n",
       "      <td>142.55</td>\n",
       "      <td>142.8901</td>\n",
       "      <td>NVDA</td>\n",
       "    </tr>\n",
       "  </tbody>\n",
       "</table>\n",
       "</div>"
      ],
      "text/plain": [
       "                   OpenTime       Open      High      Low      Close   Symbol\n",
       "277941  2024-12-11 17:00:00  3817.8100  3821.830  3812.87  3821.8300  ETHUSDT\n",
       "155261  2024-10-30 02:40:00  2685.5100  2691.040  2684.77  2689.7500  ETHUSDT\n",
       "4207    2024-10-17 18:50:00   164.6800   164.735   164.53   164.5900     GOOG\n",
       "331752  2024-12-30 09:25:00   188.2300   188.580   187.97   188.4500  SOLUSDT\n",
       "30856   2024-11-19 13:20:00   142.8099   142.980   142.55   142.8901     NVDA"
      ]
     },
     "metadata": {},
     "output_type": "display_data"
    }
   ],
   "source": [
    "print('********************')\n",
    "pairs = filtered['seriesX'].iloc[1:] + ' ' + filtered['seriesY'].iloc[1:]\n",
    "print('Trading pairs:')\n",
    "for p in pairs:\n",
    "    print(p)\n",
    "print('********************')\n",
    "\n",
    "unique_tickers = pd.concat([filtered['seriesX'].iloc[1:], filtered['seriesY'].iloc[1:]]).drop_duplicates()\n",
    "print('Unique tickers:')\n",
    "for ut in unique_tickers:\n",
    "    print(ut)\n",
    "print('********************')\n",
    "\n",
    "# Preview the source data\n",
    "file_key = 'df_full.csv'\n",
    "df_full = pd.read_csv('df_full.csv').drop(['Unnamed: 0'], axis=1)\n",
    "# obj = s3.get_object(Bucket=bucket_name, Key=file_key)\n",
    "# df_full = pd.read_csv(StringIO(obj['Body'].read().decode('utf-8'))).drop(['Unnamed: 0'], axis=1)\n",
    "display(df_full.sample(5))"
   ]
  },
  {
   "cell_type": "markdown",
   "id": "592ec869-2800-42d1-8343-d7bf1b3e55fd",
   "metadata": {},
   "source": [
    "## Placeholders"
   ]
  },
  {
   "cell_type": "code",
   "execution_count": 6,
   "id": "870bbf1f-3b93-47db-afa0-847459a86f7a",
   "metadata": {},
   "outputs": [],
   "source": [
    "dict_data = {}\n",
    "dict_cv_features = {}"
   ]
  },
  {
   "cell_type": "markdown",
   "id": "62424baf-1ad3-42c4-9acd-2696e1d771b9",
   "metadata": {},
   "source": [
    "# Features Engineering\n",
    "\n",
    "## Create and normalizing features"
   ]
  },
  {
   "cell_type": "code",
   "execution_count": 7,
   "id": "daf187d8-7de3-4424-ac4b-5b49fa3572ca",
   "metadata": {},
   "outputs": [
    {
     "data": {
      "text/plain": [
       "{'ema': [8, 21, 55],\n",
       " 'macd': {'fast': 12, 'slow': 26, 'signal': 9},\n",
       " 'rsi': [14],\n",
       " 'bb': {'timeperiod': 20, 'nbdevup': 2, 'nbdevdn': 2},\n",
       " 'atr': {'timeperiod': 14},\n",
       " 'stoch': {'fastk_period': 14, 'slowk_period': 3, 'slowd_period': 3},\n",
       " 'cci': {'timeperiod': 20},\n",
       " 'willr': {'timeperiod': 14}}"
      ]
     },
     "execution_count": 7,
     "metadata": {},
     "output_type": "execute_result"
    }
   ],
   "source": [
    "# Initializing the FeaturesEngineering obj\n",
    "feat = FeaturesEngineering()\n",
    "\n",
    "# Default config\n",
    "feat.default_config"
   ]
  },
  {
   "cell_type": "markdown",
   "id": "1a34f932-bdf4-4378-9a53-9541a6157b96",
   "metadata": {},
   "source": [
    "1. Create features from pairs data\n",
    "2. Load saved scaler\n",
    "3. Perform normalization / standardization"
   ]
  },
  {
   "cell_type": "code",
   "execution_count": 8,
   "id": "889c9b25-0102-4097-9ce3-970e0575ef39",
   "metadata": {},
   "outputs": [
    {
     "name": "stdout",
     "output_type": "stream",
     "text": [
      "(1) Pairs: META DAXEX_ETF\n",
      "[pypickle] Pickle file loaded: [/home/alfred/projects/mscfe-masters-project/src/models/scaler/standardscaler_META_DAXEX_ETF.pkl]\n",
      "\n",
      "(2) Pairs: AMZN BNBUSDT\n",
      "[pypickle] Pickle file loaded: [/home/alfred/projects/mscfe-masters-project/src/models/scaler/standardscaler_AMZN_BNBUSDT.pkl]\n",
      "\n",
      "(3) Pairs: AMZN TRXUSDT\n",
      "[pypickle] Pickle file loaded: [/home/alfred/projects/mscfe-masters-project/src/models/scaler/standardscaler_AMZN_TRXUSDT.pkl]\n",
      "\n",
      "(4) Pairs: SPY_ETF AVAXUSDT\n",
      "[pypickle] Pickle file loaded: [/home/alfred/projects/mscfe-masters-project/src/models/scaler/standardscaler_SPY_ETF_AVAXUSDT.pkl]\n",
      "\n",
      "(5) Pairs: SPY_ETF ETHUSDT\n",
      "[pypickle] Pickle file loaded: [/home/alfred/projects/mscfe-masters-project/src/models/scaler/standardscaler_SPY_ETF_ETHUSDT.pkl]\n",
      "\n",
      "(6) Pairs: EQQQ_ETF BNBUSDT\n",
      "[pypickle] Pickle file loaded: [/home/alfred/projects/mscfe-masters-project/src/models/scaler/standardscaler_EQQQ_ETF_BNBUSDT.pkl]\n",
      "\n",
      "(7) Pairs: BNBUSDT ADAUSDT\n",
      "[pypickle] Pickle file loaded: [/home/alfred/projects/mscfe-masters-project/src/models/scaler/standardscaler_BNBUSDT_ADAUSDT.pkl]\n",
      "\n",
      "(8) Pairs: BNBUSDT BTCUSDT\n",
      "[pypickle] Pickle file loaded: [/home/alfred/projects/mscfe-masters-project/src/models/scaler/standardscaler_BNBUSDT_BTCUSDT.pkl]\n",
      "\n",
      "(9) Pairs: BNBUSDT TRXUSDT\n",
      "[pypickle] Pickle file loaded: [/home/alfred/projects/mscfe-masters-project/src/models/scaler/standardscaler_BNBUSDT_TRXUSDT.pkl]\n",
      "\n",
      "(10) Pairs: BNBUSDT XRPUSDT\n",
      "[pypickle] Pickle file loaded: [/home/alfred/projects/mscfe-masters-project/src/models/scaler/standardscaler_BNBUSDT_XRPUSDT.pkl]\n",
      "\n"
     ]
    }
   ],
   "source": [
    "scaler_type = \"StandardScaler\"\n",
    "dict_data['df_feat'] = {}\n",
    "dict_data['df_norm'] = {}\n",
    "dict_data['scaler'] = {}\n",
    "i = 1\n",
    "\n",
    "for p in pairs:\n",
    "\n",
    "    print(f\"({i}) Pairs: {p}\")\n",
    "    tickerX, tickerY = p.split(' ')\n",
    "    \n",
    "    # 1. Create features from pairs data\n",
    "    df_feat = feat.create_features(\n",
    "        tickerX, \n",
    "        tickerY,\n",
    "        df_full[df_full['Symbol']==tickerX],\n",
    "        df_full[df_full['Symbol']==tickerY],\n",
    "        config=None, # using default config in the FeaturesEngineering\n",
    "        dropna=True\n",
    "    )\n",
    "\n",
    "    # 2. Load saved scaler\n",
    "    scaler_name = f\"{scaler_type.lower()}_{p.replace(' ', '_')}.pkl\"\n",
    "    dir_scaler = os.path.join(dir_models_scaler, scaler_name)\n",
    "    scaler = pypickle.load(dir_scaler)\n",
    "\n",
    "    # 3. Perform normalization / standardization\n",
    "    data_scaled = scaler.transform(df_feat)\n",
    "    df_norm = pd.DataFrame(\n",
    "        data_scaled, index=df_feat.index, columns=df_feat.columns\n",
    "    )\n",
    "    df_norm = df_norm.rename(columns={'Spread':'NormalizedSpread'})\n",
    "    \n",
    "    dict_data['df_feat'][p] = df_feat\n",
    "    dict_data['df_norm'][p] = df_norm\n",
    "    dict_data['scaler'][p] = scaler\n",
    "\n",
    "    i+=1\n",
    "    print('')"
   ]
  },
  {
   "cell_type": "markdown",
   "id": "4933b4dd-5bf4-4267-b612-31bb6f87ea3e",
   "metadata": {},
   "source": [
    "## Read LassoCV selected features"
   ]
  },
  {
   "cell_type": "code",
   "execution_count": 9,
   "id": "ce80957b-1fc7-41e0-a28e-33024188a410",
   "metadata": {},
   "outputs": [
    {
     "name": "stdout",
     "output_type": "stream",
     "text": [
      "[pypickle] Pickle file loaded: [/home/alfred/projects/mscfe-masters-project/src/models/lasso_cv_features.pkl]\n",
      "META DAXEX_ETF: ['META_EMA8', 'META_EMA55', 'META_RSI14', 'META_ATR14', 'META_StochD3', 'META_CCI20', 'META_WILLR14', 'DAXEX_ETF_EMA8', 'DAXEX_ETF_EMA21', 'DAXEX_ETF_MACD', 'DAXEX_ETF_BBupper', 'DAXEX_ETF_BBmiddle', 'DAXEX_ETF_BBlower', 'DAXEX_ETF_StochD3']\n",
      "AMZN BNBUSDT: ['AMZN_EMA8', 'AMZN_EMA21', 'AMZN_EMA55', 'AMZN_RSI14', 'AMZN_ATR14', 'AMZN_StochD3', 'AMZN_WILLR14', 'BNBUSDT_EMA8', 'BNBUSDT_EMA55', 'BNBUSDT_MACD', 'BNBUSDT_RSI14', 'BNBUSDT_ATR14', 'BNBUSDT_StochD3', 'BNBUSDT_CCI20', 'BNBUSDT_WILLR14']\n",
      "AMZN TRXUSDT: ['AMZN_EMA8', 'AMZN_EMA55', 'AMZN_RSI14', 'AMZN_ATR14', 'AMZN_StochD3', 'AMZN_CCI20', 'AMZN_WILLR14', 'TRXUSDT_MACD']\n",
      "SPY_ETF AVAXUSDT: ['SPY_ETF_EMA8', 'SPY_ETF_EMA55', 'SPY_ETF_MACD', 'SPY_ETF_RSI14', 'SPY_ETF_BBupper', 'SPY_ETF_BBmiddle', 'SPY_ETF_BBlower', 'SPY_ETF_ATR14', 'SPY_ETF_StochK14', 'SPY_ETF_StochD3', 'SPY_ETF_CCI20', 'SPY_ETF_WILLR14', 'AVAXUSDT_EMA8', 'AVAXUSDT_EMA55', 'AVAXUSDT_MACD', 'AVAXUSDT_ATR14', 'AVAXUSDT_StochK14', 'AVAXUSDT_StochD3', 'AVAXUSDT_CCI20', 'AVAXUSDT_WILLR14']\n",
      "SPY_ETF ETHUSDT: ['SPY_ETF_EMA8', 'SPY_ETF_EMA21', 'SPY_ETF_MACD', 'SPY_ETF_BBupper', 'SPY_ETF_BBmiddle', 'SPY_ETF_BBlower', 'SPY_ETF_ATR14', 'SPY_ETF_CCI20', 'ETHUSDT_EMA8', 'ETHUSDT_EMA55', 'ETHUSDT_MACD', 'ETHUSDT_RSI14', 'ETHUSDT_ATR14', 'ETHUSDT_StochD3', 'ETHUSDT_CCI20']\n",
      "EQQQ_ETF BNBUSDT: ['EQQQ_ETF_EMA8', 'EQQQ_ETF_EMA55', 'EQQQ_ETF_RSI14', 'EQQQ_ETF_ATR14', 'EQQQ_ETF_StochD3', 'EQQQ_ETF_CCI20', 'EQQQ_ETF_WILLR14', 'BNBUSDT_EMA8', 'BNBUSDT_MACD', 'BNBUSDT_BBupper', 'BNBUSDT_BBmiddle', 'BNBUSDT_BBlower']\n",
      "BNBUSDT ADAUSDT: ['BNBUSDT_EMA8', 'BNBUSDT_MACD', 'BNBUSDT_RSI14', 'BNBUSDT_StochD3', 'BNBUSDT_CCI20', 'BNBUSDT_WILLR14', 'ADAUSDT_ATR14', 'ADAUSDT_WILLR14']\n",
      "BNBUSDT BTCUSDT: ['BNBUSDT_WILLR14', 'BTCUSDT_EMA8', 'BTCUSDT_EMA21', 'BTCUSDT_EMA55', 'BTCUSDT_RSI14', 'BTCUSDT_BBlower', 'BTCUSDT_CCI20', 'BTCUSDT_WILLR14']\n",
      "BNBUSDT TRXUSDT: ['BNBUSDT_EMA8', 'BNBUSDT_EMA55', 'BNBUSDT_MACD', 'BNBUSDT_RSI14', 'BNBUSDT_StochD3', 'BNBUSDT_CCI20', 'BNBUSDT_WILLR14', 'TRXUSDT_EMA8', 'TRXUSDT_MACD', 'TRXUSDT_CCI20', 'TRXUSDT_WILLR14']\n",
      "BNBUSDT XRPUSDT: ['BNBUSDT_EMA8', 'BNBUSDT_MACD', 'BNBUSDT_RSI14', 'BNBUSDT_ATR14', 'BNBUSDT_StochD3', 'BNBUSDT_CCI20', 'BNBUSDT_WILLR14', 'XRPUSDT_EMA21', 'XRPUSDT_BBupper', 'XRPUSDT_ATR14', 'XRPUSDT_WILLR14']\n"
     ]
    }
   ],
   "source": [
    "lasso_cv_name = f\"lasso_cv_features.pkl\"\n",
    "dir_lasso = os.path.join(dir_models, lasso_cv_name)\n",
    "dict_cv_features = pypickle.load(dir_lasso)\n",
    "\n",
    "for key in dict_cv_features:\n",
    "    print(f\"{key}: {dict_cv_features[key]}\")"
   ]
  },
  {
   "cell_type": "markdown",
   "id": "b22af26c-0d52-46b0-b8a5-bc1e47cb54f1",
   "metadata": {},
   "source": [
    "# Hyperparameters Tunning\n",
    "\n",
    "## Transformer Regression"
   ]
  },
  {
   "cell_type": "code",
   "execution_count": 10,
   "id": "512eaa8e-75b5-4dc4-aa44-2919702e485f",
   "metadata": {},
   "outputs": [
    {
     "name": "stdout",
     "output_type": "stream",
     "text": [
      "(1) Pairs: META DAXEX_ETF\n",
      "Testing params: {'num_heads': 2, 'lookback': 5, 'dropout_rate': 0.25, 'batch_size': 32, 'ff_dim': 64}\n"
     ]
    },
    {
     "name": "stderr",
     "output_type": "stream",
     "text": [
      "I0000 00:00:1740485574.367456    4511 gpu_device.cc:2022] Created device /job:localhost/replica:0/task:0/device:GPU:0 with 21829 MB memory:  -> device: 0, name: NVIDIA GeForce RTX 4090, pci bus id: 0000:01:00.0, compute capability: 8.9\n",
      "WARNING: All log messages before absl::InitializeLog() is called are written to STDERR\n",
      "I0000 00:00:1740485576.774508    4682 service.cc:148] XLA service 0x70a8c8026280 initialized for platform CUDA (this does not guarantee that XLA will be used). Devices:\n",
      "I0000 00:00:1740485576.774625    4682 service.cc:156]   StreamExecutor device (0): NVIDIA GeForce RTX 4090, Compute Capability 8.9\n",
      "2025-02-25 20:12:56.821484: I tensorflow/compiler/mlir/tensorflow/utils/dump_mlir_util.cc:268] disabling MLIR crash reproducer, set env var `MLIR_CRASH_REPRODUCER_DIRECTORY` to enable.\n",
      "I0000 00:00:1740485577.040057    4682 cuda_dnn.cc:529] Loaded cuDNN version 90300\n",
      "I0000 00:00:1740485579.794747    4682 device_compiler.h:188] Compiled cluster using XLA!  This line is logged at most once for the lifetime of the process.\n"
     ]
    },
    {
     "name": "stdout",
     "output_type": "stream",
     "text": [
      "\u001b[1m8/8\u001b[0m \u001b[32m━━━━━━━━━━━━━━━━━━━━\u001b[0m\u001b[37m\u001b[0m \u001b[1m1s\u001b[0m 127ms/step\n",
      "Transformer MSE: 0.0381280395328133\n",
      "Testing params: {'num_heads': 2, 'lookback': 5, 'dropout_rate': 0.25, 'batch_size': 32, 'ff_dim': 128}\n",
      "\u001b[1m8/8\u001b[0m \u001b[32m━━━━━━━━━━━━━━━━━━━━\u001b[0m\u001b[37m\u001b[0m \u001b[1m1s\u001b[0m 145ms/step\n",
      "Transformer MSE: 0.03304423892994814\n",
      "Testing params: {'num_heads': 2, 'lookback': 5, 'dropout_rate': 0.25, 'batch_size': 64, 'ff_dim': 64}\n",
      "\u001b[1m8/8\u001b[0m \u001b[32m━━━━━━━━━━━━━━━━━━━━\u001b[0m\u001b[37m\u001b[0m \u001b[1m1s\u001b[0m 62ms/step \n",
      "Transformer MSE: 0.04883287445130337\n",
      "Testing params: {'num_heads': 2, 'lookback': 5, 'dropout_rate': 0.25, 'batch_size': 64, 'ff_dim': 128}\n",
      "\u001b[1m8/8\u001b[0m \u001b[32m━━━━━━━━━━━━━━━━━━━━\u001b[0m\u001b[37m\u001b[0m \u001b[1m1s\u001b[0m 54ms/step \n",
      "Transformer MSE: 0.030140838231595187\n",
      "Testing params: {'num_heads': 2, 'lookback': 10, 'dropout_rate': 0.25, 'batch_size': 32, 'ff_dim': 64}\n",
      "\u001b[1m8/8\u001b[0m \u001b[32m━━━━━━━━━━━━━━━━━━━━\u001b[0m\u001b[37m\u001b[0m \u001b[1m1s\u001b[0m 111ms/step\n",
      "Transformer MSE: 0.03881038214306244\n",
      "Testing params: {'num_heads': 2, 'lookback': 10, 'dropout_rate': 0.25, 'batch_size': 32, 'ff_dim': 128}\n",
      "\u001b[1m8/8\u001b[0m \u001b[32m━━━━━━━━━━━━━━━━━━━━\u001b[0m\u001b[37m\u001b[0m \u001b[1m1s\u001b[0m 126ms/step\n",
      "Transformer MSE: 0.03484816042113051\n",
      "Testing params: {'num_heads': 2, 'lookback': 10, 'dropout_rate': 0.25, 'batch_size': 64, 'ff_dim': 64}\n"
     ]
    },
    {
     "name": "stderr",
     "output_type": "stream",
     "text": [
      "2025-02-25 20:14:10.188447: I external/local_xla/xla/stream_executor/cuda/cuda_asm_compiler.cc:397] ptxas warning : Registers are spilled to local memory in function 'input_multiply_reduce_select_fusion', 8 bytes spill stores, 4 bytes spill loads\n",
      "ptxas warning : Registers are spilled to local memory in function 'input_add_multiply_reduce_select_fusion', 8 bytes spill stores, 4 bytes spill loads\n",
      "\n"
     ]
    },
    {
     "name": "stdout",
     "output_type": "stream",
     "text": [
      "\u001b[1m8/8\u001b[0m \u001b[32m━━━━━━━━━━━━━━━━━━━━\u001b[0m\u001b[37m\u001b[0m \u001b[1m1s\u001b[0m 48ms/step \n",
      "Transformer MSE: 0.03813447079203745\n",
      "Testing params: {'num_heads': 2, 'lookback': 10, 'dropout_rate': 0.25, 'batch_size': 64, 'ff_dim': 128}\n"
     ]
    },
    {
     "name": "stderr",
     "output_type": "stream",
     "text": [
      "2025-02-25 20:14:19.761384: I external/local_xla/xla/stream_executor/cuda/cuda_asm_compiler.cc:397] ptxas warning : Registers are spilled to local memory in function 'input_multiply_reduce_select_fusion', 8 bytes spill stores, 4 bytes spill loads\n",
      "ptxas warning : Registers are spilled to local memory in function 'input_add_multiply_reduce_select_fusion', 8 bytes spill stores, 4 bytes spill loads\n",
      "\n"
     ]
    },
    {
     "name": "stdout",
     "output_type": "stream",
     "text": [
      "\u001b[1m8/8\u001b[0m \u001b[32m━━━━━━━━━━━━━━━━━━━━\u001b[0m\u001b[37m\u001b[0m \u001b[1m1s\u001b[0m 49ms/step \n",
      "Transformer MSE: 0.050627583634141465\n",
      "Testing params: {'num_heads': 2, 'lookback': 15, 'dropout_rate': 0.25, 'batch_size': 32, 'ff_dim': 64}\n",
      "\u001b[1m8/8\u001b[0m \u001b[32m━━━━━━━━━━━━━━━━━━━━\u001b[0m\u001b[37m\u001b[0m \u001b[1m1s\u001b[0m 98ms/step \n",
      "Transformer MSE: 0.05633881737331821\n",
      "Testing params: {'num_heads': 2, 'lookback': 15, 'dropout_rate': 0.25, 'batch_size': 32, 'ff_dim': 128}\n",
      "\u001b[1m8/8\u001b[0m \u001b[32m━━━━━━━━━━━━━━━━━━━━\u001b[0m\u001b[37m\u001b[0m \u001b[1m1s\u001b[0m 97ms/step \n",
      "Transformer MSE: 0.03973881266821794\n",
      "Testing params: {'num_heads': 2, 'lookback': 15, 'dropout_rate': 0.25, 'batch_size': 64, 'ff_dim': 64}\n"
     ]
    },
    {
     "name": "stderr",
     "output_type": "stream",
     "text": [
      "2025-02-25 20:14:54.412568: I external/local_xla/xla/stream_executor/cuda/cuda_asm_compiler.cc:397] ptxas warning : Registers are spilled to local memory in function 'input_multiply_reduce_select_fusion', 8 bytes spill stores, 4 bytes spill loads\n",
      "ptxas warning : Registers are spilled to local memory in function 'input_add_multiply_reduce_select_fusion', 8 bytes spill stores, 4 bytes spill loads\n",
      "\n"
     ]
    },
    {
     "name": "stdout",
     "output_type": "stream",
     "text": [
      "\u001b[1m8/8\u001b[0m \u001b[32m━━━━━━━━━━━━━━━━━━━━\u001b[0m\u001b[37m\u001b[0m \u001b[1m1s\u001b[0m 50ms/step \n",
      "Transformer MSE: 0.04727426504447151\n",
      "Testing params: {'num_heads': 2, 'lookback': 15, 'dropout_rate': 0.25, 'batch_size': 64, 'ff_dim': 128}\n"
     ]
    },
    {
     "name": "stderr",
     "output_type": "stream",
     "text": [
      "2025-02-25 20:15:04.016440: I external/local_xla/xla/stream_executor/cuda/cuda_asm_compiler.cc:397] ptxas warning : Registers are spilled to local memory in function 'input_multiply_reduce_select_fusion', 8 bytes spill stores, 4 bytes spill loads\n",
      "ptxas warning : Registers are spilled to local memory in function 'input_add_multiply_reduce_select_fusion', 8 bytes spill stores, 4 bytes spill loads\n",
      "\n"
     ]
    },
    {
     "name": "stdout",
     "output_type": "stream",
     "text": [
      "\u001b[1m8/8\u001b[0m \u001b[32m━━━━━━━━━━━━━━━━━━━━\u001b[0m\u001b[37m\u001b[0m \u001b[1m1s\u001b[0m 50ms/step \n",
      "Transformer MSE: 0.049807334439796874\n",
      "Testing params: {'num_heads': 4, 'lookback': 5, 'dropout_rate': 0.25, 'batch_size': 32, 'ff_dim': 64}\n",
      "\u001b[1m8/8\u001b[0m \u001b[32m━━━━━━━━━━━━━━━━━━━━\u001b[0m\u001b[37m\u001b[0m \u001b[1m1s\u001b[0m 77ms/step \n",
      "Transformer MSE: 0.04014047651826178\n",
      "Testing params: {'num_heads': 4, 'lookback': 5, 'dropout_rate': 0.25, 'batch_size': 32, 'ff_dim': 128}\n",
      "\u001b[1m8/8\u001b[0m \u001b[32m━━━━━━━━━━━━━━━━━━━━\u001b[0m\u001b[37m\u001b[0m \u001b[1m1s\u001b[0m 107ms/step\n",
      "Transformer MSE: 0.03642872394387936\n",
      "Testing params: {'num_heads': 4, 'lookback': 5, 'dropout_rate': 0.25, 'batch_size': 64, 'ff_dim': 64}\n",
      "\u001b[1m8/8\u001b[0m \u001b[32m━━━━━━━━━━━━━━━━━━━━\u001b[0m\u001b[37m\u001b[0m \u001b[1m1s\u001b[0m 47ms/step \n",
      "Transformer MSE: 0.044258775751025936\n",
      "Testing params: {'num_heads': 4, 'lookback': 5, 'dropout_rate': 0.25, 'batch_size': 64, 'ff_dim': 128}\n",
      "\u001b[1m8/8\u001b[0m \u001b[32m━━━━━━━━━━━━━━━━━━━━\u001b[0m\u001b[37m\u001b[0m \u001b[1m1s\u001b[0m 51ms/step \n",
      "Transformer MSE: 0.058467696858711074\n",
      "Testing params: {'num_heads': 4, 'lookback': 10, 'dropout_rate': 0.25, 'batch_size': 32, 'ff_dim': 64}\n",
      "\u001b[1m8/8\u001b[0m \u001b[32m━━━━━━━━━━━━━━━━━━━━\u001b[0m\u001b[37m\u001b[0m \u001b[1m1s\u001b[0m 71ms/step \n",
      "Transformer MSE: 0.03602667130406059\n",
      "Testing params: {'num_heads': 4, 'lookback': 10, 'dropout_rate': 0.25, 'batch_size': 32, 'ff_dim': 128}\n",
      "\u001b[1m8/8\u001b[0m \u001b[32m━━━━━━━━━━━━━━━━━━━━\u001b[0m\u001b[37m\u001b[0m \u001b[1m1s\u001b[0m 106ms/step\n",
      "Transformer MSE: 0.048794610042620416\n",
      "Testing params: {'num_heads': 4, 'lookback': 10, 'dropout_rate': 0.25, 'batch_size': 64, 'ff_dim': 64}\n"
     ]
    },
    {
     "name": "stderr",
     "output_type": "stream",
     "text": [
      "2025-02-25 20:16:19.527755: I external/local_xla/xla/stream_executor/cuda/cuda_asm_compiler.cc:397] ptxas warning : Registers are spilled to local memory in function 'input_multiply_reduce_select_fusion', 8 bytes spill stores, 4 bytes spill loads\n",
      "ptxas warning : Registers are spilled to local memory in function 'input_add_multiply_reduce_select_fusion', 8 bytes spill stores, 4 bytes spill loads\n",
      "\n"
     ]
    },
    {
     "name": "stdout",
     "output_type": "stream",
     "text": [
      "\u001b[1m8/8\u001b[0m \u001b[32m━━━━━━━━━━━━━━━━━━━━\u001b[0m\u001b[37m\u001b[0m \u001b[1m1s\u001b[0m 47ms/step \n",
      "Transformer MSE: 0.06133404866006778\n",
      "Testing params: {'num_heads': 4, 'lookback': 10, 'dropout_rate': 0.25, 'batch_size': 64, 'ff_dim': 128}\n"
     ]
    },
    {
     "name": "stderr",
     "output_type": "stream",
     "text": [
      "2025-02-25 20:16:29.182869: I external/local_xla/xla/stream_executor/cuda/cuda_asm_compiler.cc:397] ptxas warning : Registers are spilled to local memory in function 'input_multiply_reduce_select_fusion', 8 bytes spill stores, 4 bytes spill loads\n",
      "ptxas warning : Registers are spilled to local memory in function 'input_add_multiply_reduce_select_fusion', 8 bytes spill stores, 4 bytes spill loads\n",
      "\n"
     ]
    },
    {
     "name": "stdout",
     "output_type": "stream",
     "text": [
      "\u001b[1m8/8\u001b[0m \u001b[32m━━━━━━━━━━━━━━━━━━━━\u001b[0m\u001b[37m\u001b[0m \u001b[1m1s\u001b[0m 51ms/step \n",
      "Transformer MSE: 0.059075790803405706\n",
      "Testing params: {'num_heads': 4, 'lookback': 15, 'dropout_rate': 0.25, 'batch_size': 32, 'ff_dim': 64}\n",
      "\u001b[1m8/8\u001b[0m \u001b[32m━━━━━━━━━━━━━━━━━━━━\u001b[0m\u001b[37m\u001b[0m \u001b[1m1s\u001b[0m 75ms/step \n",
      "Transformer MSE: 0.037646351120606526\n",
      "Testing params: {'num_heads': 4, 'lookback': 15, 'dropout_rate': 0.25, 'batch_size': 32, 'ff_dim': 128}\n",
      "\u001b[1m8/8\u001b[0m \u001b[32m━━━━━━━━━━━━━━━━━━━━\u001b[0m\u001b[37m\u001b[0m \u001b[1m1s\u001b[0m 97ms/step \n",
      "Transformer MSE: 0.035841004707526714\n",
      "Testing params: {'num_heads': 4, 'lookback': 15, 'dropout_rate': 0.25, 'batch_size': 64, 'ff_dim': 64}\n"
     ]
    },
    {
     "name": "stderr",
     "output_type": "stream",
     "text": [
      "2025-02-25 20:17:02.225229: I external/local_xla/xla/stream_executor/cuda/cuda_asm_compiler.cc:397] ptxas warning : Registers are spilled to local memory in function 'input_multiply_reduce_select_fusion', 8 bytes spill stores, 4 bytes spill loads\n",
      "ptxas warning : Registers are spilled to local memory in function 'input_add_multiply_reduce_select_fusion', 8 bytes spill stores, 4 bytes spill loads\n",
      "\n"
     ]
    },
    {
     "name": "stdout",
     "output_type": "stream",
     "text": [
      "\u001b[1m8/8\u001b[0m \u001b[32m━━━━━━━━━━━━━━━━━━━━\u001b[0m\u001b[37m\u001b[0m \u001b[1m1s\u001b[0m 49ms/step \n",
      "Transformer MSE: 0.04087306098063486\n",
      "Testing params: {'num_heads': 4, 'lookback': 15, 'dropout_rate': 0.25, 'batch_size': 64, 'ff_dim': 128}\n"
     ]
    },
    {
     "name": "stderr",
     "output_type": "stream",
     "text": [
      "2025-02-25 20:17:11.635478: I external/local_xla/xla/stream_executor/cuda/cuda_asm_compiler.cc:397] ptxas warning : Registers are spilled to local memory in function 'input_multiply_reduce_select_fusion', 8 bytes spill stores, 4 bytes spill loads\n",
      "ptxas warning : Registers are spilled to local memory in function 'input_add_multiply_reduce_select_fusion', 8 bytes spill stores, 4 bytes spill loads\n",
      "\n"
     ]
    },
    {
     "name": "stdout",
     "output_type": "stream",
     "text": [
      "\u001b[1m8/8\u001b[0m \u001b[32m━━━━━━━━━━━━━━━━━━━━\u001b[0m\u001b[37m\u001b[0m \u001b[1m1s\u001b[0m 52ms/step \n",
      "Transformer MSE: 0.04901481422235367\n",
      "Testing params: {'num_heads': 6, 'lookback': 5, 'dropout_rate': 0.25, 'batch_size': 32, 'ff_dim': 64}\n"
     ]
    },
    {
     "name": "stderr",
     "output_type": "stream",
     "text": [
      "2025-02-25 20:17:19.514996: I external/local_xla/xla/stream_executor/cuda/cuda_asm_compiler.cc:397] ptxas warning : Registers are spilled to local memory in function 'gemm_fusion_dot_10', 16 bytes spill stores, 16 bytes spill loads\n",
      "\n",
      "2025-02-25 20:17:19.586077: I external/local_xla/xla/stream_executor/cuda/cuda_asm_compiler.cc:397] ptxas warning : Registers are spilled to local memory in function 'gemm_fusion_dot_10', 12 bytes spill stores, 12 bytes spill loads\n",
      "\n",
      "2025-02-25 20:17:19.608852: I external/local_xla/xla/stream_executor/cuda/cuda_asm_compiler.cc:397] ptxas warning : Registers are spilled to local memory in function 'gemm_fusion_dot_10', 16 bytes spill stores, 16 bytes spill loads\n",
      "\n",
      "2025-02-25 20:17:19.681086: I external/local_xla/xla/stream_executor/cuda/cuda_asm_compiler.cc:397] ptxas warning : Registers are spilled to local memory in function 'gemm_fusion_dot_10', 12 bytes spill stores, 12 bytes spill loads\n",
      "\n",
      "2025-02-25 20:17:22.360967: I external/local_xla/xla/stream_executor/cuda/cuda_asm_compiler.cc:397] ptxas warning : Registers are spilled to local memory in function 'gemm_fusion_dot_10', 16 bytes spill stores, 16 bytes spill loads\n",
      "\n",
      "2025-02-25 20:17:22.668845: I external/local_xla/xla/stream_executor/cuda/cuda_asm_compiler.cc:397] ptxas warning : Registers are spilled to local memory in function 'gemm_fusion_dot_10', 12 bytes spill stores, 12 bytes spill loads\n",
      "\n"
     ]
    },
    {
     "name": "stdout",
     "output_type": "stream",
     "text": [
      "\u001b[1m8/8\u001b[0m \u001b[32m━━━━━━━━━━━━━━━━━━━━\u001b[0m\u001b[37m\u001b[0m \u001b[1m1s\u001b[0m 97ms/step \n",
      "Transformer MSE: 0.0314887751706434\n",
      "Testing params: {'num_heads': 6, 'lookback': 5, 'dropout_rate': 0.25, 'batch_size': 32, 'ff_dim': 128}\n"
     ]
    },
    {
     "name": "stderr",
     "output_type": "stream",
     "text": [
      "2025-02-25 20:17:31.438917: I external/local_xla/xla/stream_executor/cuda/cuda_asm_compiler.cc:397] ptxas warning : Registers are spilled to local memory in function 'gemm_fusion_dot_10', 16 bytes spill stores, 16 bytes spill loads\n",
      "\n",
      "2025-02-25 20:17:31.820223: I external/local_xla/xla/stream_executor/cuda/cuda_asm_compiler.cc:397] ptxas warning : Registers are spilled to local memory in function 'gemm_fusion_dot_10', 12 bytes spill stores, 12 bytes spill loads\n",
      "\n",
      "2025-02-25 20:17:31.870098: I external/local_xla/xla/stream_executor/cuda/cuda_asm_compiler.cc:397] ptxas warning : Registers are spilled to local memory in function 'gemm_fusion_dot_10', 12 bytes spill stores, 12 bytes spill loads\n",
      "\n",
      "2025-02-25 20:17:31.906281: I external/local_xla/xla/stream_executor/cuda/cuda_asm_compiler.cc:397] ptxas warning : Registers are spilled to local memory in function 'gemm_fusion_dot_10', 16 bytes spill stores, 16 bytes spill loads\n",
      "\n",
      "2025-02-25 20:17:34.549602: I external/local_xla/xla/stream_executor/cuda/cuda_asm_compiler.cc:397] ptxas warning : Registers are spilled to local memory in function 'gemm_fusion_dot_10', 16 bytes spill stores, 16 bytes spill loads\n",
      "\n",
      "2025-02-25 20:17:34.651956: I external/local_xla/xla/stream_executor/cuda/cuda_asm_compiler.cc:397] ptxas warning : Registers are spilled to local memory in function 'gemm_fusion_dot_10', 12 bytes spill stores, 12 bytes spill loads\n",
      "\n"
     ]
    },
    {
     "name": "stdout",
     "output_type": "stream",
     "text": [
      "\u001b[1m8/8\u001b[0m \u001b[32m━━━━━━━━━━━━━━━━━━━━\u001b[0m\u001b[37m\u001b[0m \u001b[1m1s\u001b[0m 110ms/step\n",
      "Transformer MSE: 0.030082453580896937\n",
      "Testing params: {'num_heads': 6, 'lookback': 5, 'dropout_rate': 0.25, 'batch_size': 64, 'ff_dim': 64}\n"
     ]
    },
    {
     "name": "stderr",
     "output_type": "stream",
     "text": [
      "2025-02-25 20:17:43.651854: I external/local_xla/xla/stream_executor/cuda/cuda_asm_compiler.cc:397] ptxas warning : Registers are spilled to local memory in function 'gemm_fusion_dot_10', 16 bytes spill stores, 16 bytes spill loads\n",
      "\n",
      "2025-02-25 20:17:43.775400: I external/local_xla/xla/stream_executor/cuda/cuda_asm_compiler.cc:397] ptxas warning : Registers are spilled to local memory in function 'gemm_fusion_dot_10', 12 bytes spill stores, 12 bytes spill loads\n",
      "\n",
      "2025-02-25 20:17:43.896095: I external/local_xla/xla/stream_executor/cuda/cuda_asm_compiler.cc:397] ptxas warning : Registers are spilled to local memory in function 'gemm_fusion_dot_10', 12 bytes spill stores, 12 bytes spill loads\n",
      "\n"
     ]
    },
    {
     "name": "stdout",
     "output_type": "stream",
     "text": [
      "\u001b[1m8/8\u001b[0m \u001b[32m━━━━━━━━━━━━━━━━━━━━\u001b[0m\u001b[37m\u001b[0m \u001b[1m1s\u001b[0m 46ms/step \n",
      "Transformer MSE: 0.038521849921275345\n",
      "Testing params: {'num_heads': 6, 'lookback': 5, 'dropout_rate': 0.25, 'batch_size': 64, 'ff_dim': 128}\n"
     ]
    },
    {
     "name": "stderr",
     "output_type": "stream",
     "text": [
      "2025-02-25 20:17:53.471363: I external/local_xla/xla/stream_executor/cuda/cuda_asm_compiler.cc:397] ptxas warning : Registers are spilled to local memory in function 'gemm_fusion_dot_10', 12 bytes spill stores, 12 bytes spill loads\n",
      "\n",
      "2025-02-25 20:17:53.520962: I external/local_xla/xla/stream_executor/cuda/cuda_asm_compiler.cc:397] ptxas warning : Registers are spilled to local memory in function 'gemm_fusion_dot_10', 16 bytes spill stores, 16 bytes spill loads\n",
      "\n",
      "2025-02-25 20:17:53.533863: I external/local_xla/xla/stream_executor/cuda/cuda_asm_compiler.cc:397] ptxas warning : Registers are spilled to local memory in function 'gemm_fusion_dot_10', 12 bytes spill stores, 12 bytes spill loads\n",
      "\n"
     ]
    },
    {
     "name": "stdout",
     "output_type": "stream",
     "text": [
      "\u001b[1m8/8\u001b[0m \u001b[32m━━━━━━━━━━━━━━━━━━━━\u001b[0m\u001b[37m\u001b[0m \u001b[1m1s\u001b[0m 55ms/step \n",
      "Transformer MSE: 0.03993287408252875\n",
      "Testing params: {'num_heads': 6, 'lookback': 10, 'dropout_rate': 0.25, 'batch_size': 32, 'ff_dim': 64}\n"
     ]
    },
    {
     "name": "stderr",
     "output_type": "stream",
     "text": [
      "2025-02-25 20:18:04.787420: I external/local_xla/xla/stream_executor/cuda/cuda_asm_compiler.cc:397] ptxas warning : Registers are spilled to local memory in function 'gemm_fusion_dot_10', 16 bytes spill stores, 16 bytes spill loads\n",
      "\n",
      "2025-02-25 20:18:04.792055: I external/local_xla/xla/stream_executor/cuda/cuda_asm_compiler.cc:397] ptxas warning : Registers are spilled to local memory in function 'gemm_fusion_dot_10', 12 bytes spill stores, 12 bytes spill loads\n",
      "\n"
     ]
    },
    {
     "name": "stdout",
     "output_type": "stream",
     "text": [
      "\u001b[1m8/8\u001b[0m \u001b[32m━━━━━━━━━━━━━━━━━━━━\u001b[0m\u001b[37m\u001b[0m \u001b[1m1s\u001b[0m 92ms/step \n",
      "Transformer MSE: 0.04335743152848462\n",
      "Testing params: {'num_heads': 6, 'lookback': 10, 'dropout_rate': 0.25, 'batch_size': 32, 'ff_dim': 128}\n"
     ]
    },
    {
     "name": "stderr",
     "output_type": "stream",
     "text": [
      "2025-02-25 20:18:15.953532: I external/local_xla/xla/stream_executor/cuda/cuda_asm_compiler.cc:397] ptxas warning : Registers are spilled to local memory in function 'gemm_fusion_dot_10', 16 bytes spill stores, 16 bytes spill loads\n",
      "\n",
      "2025-02-25 20:18:16.158796: I external/local_xla/xla/stream_executor/cuda/cuda_asm_compiler.cc:397] ptxas warning : Registers are spilled to local memory in function 'gemm_fusion_dot_10', 12 bytes spill stores, 12 bytes spill loads\n",
      "\n"
     ]
    },
    {
     "name": "stdout",
     "output_type": "stream",
     "text": [
      "\u001b[1m8/8\u001b[0m \u001b[32m━━━━━━━━━━━━━━━━━━━━\u001b[0m\u001b[37m\u001b[0m \u001b[1m1s\u001b[0m 105ms/step\n",
      "Transformer MSE: 0.06896117003354954\n",
      "Testing params: {'num_heads': 6, 'lookback': 10, 'dropout_rate': 0.25, 'batch_size': 64, 'ff_dim': 64}\n"
     ]
    },
    {
     "name": "stderr",
     "output_type": "stream",
     "text": [
      "2025-02-25 20:18:24.298096: I external/local_xla/xla/stream_executor/cuda/cuda_asm_compiler.cc:397] ptxas warning : Registers are spilled to local memory in function 'gemm_fusion_dot_10', 16 bytes spill stores, 16 bytes spill loads\n",
      "\n",
      "2025-02-25 20:18:24.320789: I external/local_xla/xla/stream_executor/cuda/cuda_asm_compiler.cc:397] ptxas warning : Registers are spilled to local memory in function 'gemm_fusion_dot_10', 12 bytes spill stores, 12 bytes spill loads\n",
      "\n",
      "2025-02-25 20:18:26.135900: I external/local_xla/xla/stream_executor/cuda/cuda_asm_compiler.cc:397] ptxas warning : Registers are spilled to local memory in function 'input_multiply_reduce_select_fusion', 8 bytes spill stores, 4 bytes spill loads\n",
      "ptxas warning : Registers are spilled to local memory in function 'input_add_multiply_reduce_select_fusion', 8 bytes spill stores, 4 bytes spill loads\n",
      "\n"
     ]
    },
    {
     "name": "stdout",
     "output_type": "stream",
     "text": [
      "\u001b[1m8/8\u001b[0m \u001b[32m━━━━━━━━━━━━━━━━━━━━\u001b[0m\u001b[37m\u001b[0m \u001b[1m1s\u001b[0m 47ms/step \n",
      "Transformer MSE: 0.03277821483122381\n",
      "Testing params: {'num_heads': 6, 'lookback': 10, 'dropout_rate': 0.25, 'batch_size': 64, 'ff_dim': 128}\n"
     ]
    },
    {
     "name": "stderr",
     "output_type": "stream",
     "text": [
      "2025-02-25 20:18:33.332217: I external/local_xla/xla/stream_executor/cuda/cuda_asm_compiler.cc:397] ptxas warning : Registers are spilled to local memory in function 'gemm_fusion_dot_10', 12 bytes spill stores, 12 bytes spill loads\n",
      "\n",
      "2025-02-25 20:18:33.382623: I external/local_xla/xla/stream_executor/cuda/cuda_asm_compiler.cc:397] ptxas warning : Registers are spilled to local memory in function 'gemm_fusion_dot_10', 16 bytes spill stores, 16 bytes spill loads\n",
      "\n",
      "2025-02-25 20:18:35.226381: I external/local_xla/xla/stream_executor/cuda/cuda_asm_compiler.cc:397] ptxas warning : Registers are spilled to local memory in function 'input_multiply_reduce_select_fusion', 8 bytes spill stores, 4 bytes spill loads\n",
      "ptxas warning : Registers are spilled to local memory in function 'input_add_multiply_reduce_select_fusion', 8 bytes spill stores, 4 bytes spill loads\n",
      "\n"
     ]
    },
    {
     "name": "stdout",
     "output_type": "stream",
     "text": [
      "\u001b[1m8/8\u001b[0m \u001b[32m━━━━━━━━━━━━━━━━━━━━\u001b[0m\u001b[37m\u001b[0m \u001b[1m1s\u001b[0m 50ms/step \n",
      "Transformer MSE: 0.0523094334922919\n",
      "Testing params: {'num_heads': 6, 'lookback': 15, 'dropout_rate': 0.25, 'batch_size': 32, 'ff_dim': 64}\n"
     ]
    },
    {
     "name": "stderr",
     "output_type": "stream",
     "text": [
      "2025-02-25 20:18:42.495292: I external/local_xla/xla/stream_executor/cuda/cuda_asm_compiler.cc:397] ptxas warning : Registers are spilled to local memory in function 'gemm_fusion_dot_10', 12 bytes spill stores, 12 bytes spill loads\n",
      "\n",
      "2025-02-25 20:18:42.589305: I external/local_xla/xla/stream_executor/cuda/cuda_asm_compiler.cc:397] ptxas warning : Registers are spilled to local memory in function 'gemm_fusion_dot_10', 16 bytes spill stores, 16 bytes spill loads\n",
      "\n",
      "2025-02-25 20:18:42.623649: I external/local_xla/xla/stream_executor/cuda/cuda_asm_compiler.cc:397] ptxas warning : Registers are spilled to local memory in function 'gemm_fusion_dot_10', 12 bytes spill stores, 12 bytes spill loads\n",
      "\n",
      "2025-02-25 20:18:42.772382: I external/local_xla/xla/stream_executor/cuda/cuda_asm_compiler.cc:397] ptxas warning : Registers are spilled to local memory in function 'gemm_fusion_dot_10', 16 bytes spill stores, 16 bytes spill loads\n",
      "\n"
     ]
    },
    {
     "name": "stdout",
     "output_type": "stream",
     "text": [
      "\u001b[1m8/8\u001b[0m \u001b[32m━━━━━━━━━━━━━━━━━━━━\u001b[0m\u001b[37m\u001b[0m \u001b[1m1s\u001b[0m 87ms/step \n",
      "Transformer MSE: 0.04777820108412994\n",
      "Testing params: {'num_heads': 6, 'lookback': 15, 'dropout_rate': 0.25, 'batch_size': 32, 'ff_dim': 128}\n"
     ]
    },
    {
     "name": "stderr",
     "output_type": "stream",
     "text": [
      "2025-02-25 20:18:53.432112: I external/local_xla/xla/stream_executor/cuda/cuda_asm_compiler.cc:397] ptxas warning : Registers are spilled to local memory in function 'gemm_fusion_dot_10', 12 bytes spill stores, 12 bytes spill loads\n",
      "\n",
      "2025-02-25 20:18:53.511958: I external/local_xla/xla/stream_executor/cuda/cuda_asm_compiler.cc:397] ptxas warning : Registers are spilled to local memory in function 'gemm_fusion_dot_10', 16 bytes spill stores, 16 bytes spill loads\n",
      "\n",
      "2025-02-25 20:18:53.513034: I external/local_xla/xla/stream_executor/cuda/cuda_asm_compiler.cc:397] ptxas warning : Registers are spilled to local memory in function 'gemm_fusion_dot_10', 16 bytes spill stores, 16 bytes spill loads\n",
      "\n",
      "2025-02-25 20:18:53.579980: I external/local_xla/xla/stream_executor/cuda/cuda_asm_compiler.cc:397] ptxas warning : Registers are spilled to local memory in function 'gemm_fusion_dot_10', 12 bytes spill stores, 12 bytes spill loads\n",
      "\n"
     ]
    },
    {
     "name": "stdout",
     "output_type": "stream",
     "text": [
      "\u001b[1m8/8\u001b[0m \u001b[32m━━━━━━━━━━━━━━━━━━━━\u001b[0m\u001b[37m\u001b[0m \u001b[1m1s\u001b[0m 101ms/step\n",
      "Transformer MSE: 0.04371589602903833\n",
      "Testing params: {'num_heads': 6, 'lookback': 15, 'dropout_rate': 0.25, 'batch_size': 64, 'ff_dim': 64}\n"
     ]
    },
    {
     "name": "stderr",
     "output_type": "stream",
     "text": [
      "2025-02-25 20:19:04.708981: I external/local_xla/xla/stream_executor/cuda/cuda_asm_compiler.cc:397] ptxas warning : Registers are spilled to local memory in function 'gemm_fusion_dot_10', 12 bytes spill stores, 12 bytes spill loads\n",
      "\n",
      "2025-02-25 20:19:04.791664: I external/local_xla/xla/stream_executor/cuda/cuda_asm_compiler.cc:397] ptxas warning : Registers are spilled to local memory in function 'gemm_fusion_dot_10', 16 bytes spill stores, 16 bytes spill loads\n",
      "\n",
      "2025-02-25 20:19:04.867319: I external/local_xla/xla/stream_executor/cuda/cuda_asm_compiler.cc:397] ptxas warning : Registers are spilled to local memory in function 'gemm_fusion_dot_10', 12 bytes spill stores, 12 bytes spill loads\n",
      "\n",
      "2025-02-25 20:19:06.650381: I external/local_xla/xla/stream_executor/cuda/cuda_asm_compiler.cc:397] ptxas warning : Registers are spilled to local memory in function 'input_multiply_reduce_select_fusion', 8 bytes spill stores, 4 bytes spill loads\n",
      "ptxas warning : Registers are spilled to local memory in function 'input_add_multiply_reduce_select_fusion', 8 bytes spill stores, 4 bytes spill loads\n",
      "\n"
     ]
    },
    {
     "name": "stdout",
     "output_type": "stream",
     "text": [
      "\u001b[1m8/8\u001b[0m \u001b[32m━━━━━━━━━━━━━━━━━━━━\u001b[0m\u001b[37m\u001b[0m \u001b[1m1s\u001b[0m 47ms/step \n",
      "Transformer MSE: 0.05665852072155591\n",
      "Testing params: {'num_heads': 6, 'lookback': 15, 'dropout_rate': 0.25, 'batch_size': 64, 'ff_dim': 128}\n"
     ]
    },
    {
     "name": "stderr",
     "output_type": "stream",
     "text": [
      "2025-02-25 20:19:14.369908: I external/local_xla/xla/stream_executor/cuda/cuda_asm_compiler.cc:397] ptxas warning : Registers are spilled to local memory in function 'gemm_fusion_dot_10', 12 bytes spill stores, 12 bytes spill loads\n",
      "\n",
      "2025-02-25 20:19:14.513945: I external/local_xla/xla/stream_executor/cuda/cuda_asm_compiler.cc:397] ptxas warning : Registers are spilled to local memory in function 'gemm_fusion_dot_10', 12 bytes spill stores, 12 bytes spill loads\n",
      "\n",
      "2025-02-25 20:19:14.587347: I external/local_xla/xla/stream_executor/cuda/cuda_asm_compiler.cc:397] ptxas warning : Registers are spilled to local memory in function 'gemm_fusion_dot_10', 16 bytes spill stores, 16 bytes spill loads\n",
      "\n",
      "2025-02-25 20:19:16.545762: I external/local_xla/xla/stream_executor/cuda/cuda_asm_compiler.cc:397] ptxas warning : Registers are spilled to local memory in function 'input_multiply_reduce_select_fusion', 8 bytes spill stores, 4 bytes spill loads\n",
      "ptxas warning : Registers are spilled to local memory in function 'input_add_multiply_reduce_select_fusion', 8 bytes spill stores, 4 bytes spill loads\n",
      "\n"
     ]
    },
    {
     "name": "stdout",
     "output_type": "stream",
     "text": [
      "\u001b[1m8/8\u001b[0m \u001b[32m━━━━━━━━━━━━━━━━━━━━\u001b[0m\u001b[37m\u001b[0m \u001b[1m1s\u001b[0m 55ms/step \n",
      "Transformer MSE: 0.05955286688579717\n",
      "Best parameters: {'num_heads': 6, 'lookback': 5, 'dropout_rate': 0.25, 'batch_size': 32, 'ff_dim': 128}, Best MSE: 0.030082453580896937\n",
      "Best MSE: 0.030082\n",
      "num_heads: 6, lookback: 5, ff_dim: 128, batch_size: 32\n",
      "Time taken: 387.415745 seconds\n",
      "[pypickle] Pickle file saved: [/home/alfred/projects/mscfe-masters-project/src/models/best/transformer/best_lstm_META_DAXEX_ETF.pkl]\n",
      "\n",
      "(2) Pairs: AMZN BNBUSDT\n",
      "Testing params: {'num_heads': 2, 'lookback': 5, 'dropout_rate': 0.25, 'batch_size': 32, 'ff_dim': 64}\n",
      "\u001b[1m32/32\u001b[0m \u001b[32m━━━━━━━━━━━━━━━━━━━━\u001b[0m\u001b[37m\u001b[0m \u001b[1m1s\u001b[0m 27ms/step  \n",
      "Transformer MSE: 0.05559367117334896\n",
      "Testing params: {'num_heads': 2, 'lookback': 5, 'dropout_rate': 0.25, 'batch_size': 32, 'ff_dim': 128}\n",
      "\u001b[1m32/32\u001b[0m \u001b[32m━━━━━━━━━━━━━━━━━━━━\u001b[0m\u001b[37m\u001b[0m \u001b[1m1s\u001b[0m 32ms/step  \n",
      "Transformer MSE: 0.024641256313557423\n",
      "Testing params: {'num_heads': 2, 'lookback': 5, 'dropout_rate': 0.25, 'batch_size': 64, 'ff_dim': 64}\n",
      "\u001b[1m32/32\u001b[0m \u001b[32m━━━━━━━━━━━━━━━━━━━━\u001b[0m\u001b[37m\u001b[0m \u001b[1m1s\u001b[0m 12ms/step \n",
      "Transformer MSE: 0.01411037699306125\n",
      "Testing params: {'num_heads': 2, 'lookback': 5, 'dropout_rate': 0.25, 'batch_size': 64, 'ff_dim': 128}\n",
      "\u001b[1m32/32\u001b[0m \u001b[32m━━━━━━━━━━━━━━━━━━━━\u001b[0m\u001b[37m\u001b[0m \u001b[1m1s\u001b[0m 13ms/step  \n",
      "Transformer MSE: 0.036528350527556055\n",
      "Testing params: {'num_heads': 2, 'lookback': 10, 'dropout_rate': 0.25, 'batch_size': 32, 'ff_dim': 64}\n",
      "\u001b[1m32/32\u001b[0m \u001b[32m━━━━━━━━━━━━━━━━━━━━\u001b[0m\u001b[37m\u001b[0m \u001b[1m1s\u001b[0m 25ms/step  \n",
      "Transformer MSE: 0.051064215375353335\n",
      "Testing params: {'num_heads': 2, 'lookback': 10, 'dropout_rate': 0.25, 'batch_size': 32, 'ff_dim': 128}\n",
      "\u001b[1m32/32\u001b[0m \u001b[32m━━━━━━━━━━━━━━━━━━━━\u001b[0m\u001b[37m\u001b[0m \u001b[1m1s\u001b[0m 30ms/step  \n",
      "Transformer MSE: 0.06403671469621237\n",
      "Testing params: {'num_heads': 2, 'lookback': 10, 'dropout_rate': 0.25, 'batch_size': 64, 'ff_dim': 64}\n",
      "\u001b[1m32/32\u001b[0m \u001b[32m━━━━━━━━━━━━━━━━━━━━\u001b[0m\u001b[37m\u001b[0m \u001b[1m1s\u001b[0m 11ms/step  \n",
      "Transformer MSE: 0.014241375043342486\n",
      "Testing params: {'num_heads': 2, 'lookback': 10, 'dropout_rate': 0.25, 'batch_size': 64, 'ff_dim': 128}\n",
      "\u001b[1m32/32\u001b[0m \u001b[32m━━━━━━━━━━━━━━━━━━━━\u001b[0m\u001b[37m\u001b[0m \u001b[1m1s\u001b[0m 12ms/step  \n",
      "Transformer MSE: 0.019545483031832154\n",
      "Testing params: {'num_heads': 2, 'lookback': 15, 'dropout_rate': 0.25, 'batch_size': 32, 'ff_dim': 64}\n"
     ]
    },
    {
     "name": "stderr",
     "output_type": "stream",
     "text": [
      "2025-02-25 20:21:25.531174: I external/local_xla/xla/stream_executor/cuda/cuda_asm_compiler.cc:397] ptxas warning : Registers are spilled to local memory in function 'gemm_fusion_dot_8', 4 bytes spill stores, 4 bytes spill loads\n",
      "\n",
      "2025-02-25 20:21:30.444769: I external/local_xla/xla/stream_executor/cuda/cuda_asm_compiler.cc:397] ptxas warning : Registers are spilled to local memory in function 'input_reduce_select_fusion', 72 bytes spill stores, 104 bytes spill loads\n",
      "\n"
     ]
    },
    {
     "name": "stdout",
     "output_type": "stream",
     "text": [
      "\u001b[1m32/32\u001b[0m \u001b[32m━━━━━━━━━━━━━━━━━━━━\u001b[0m\u001b[37m\u001b[0m \u001b[1m1s\u001b[0m 27ms/step  \n",
      "Transformer MSE: 0.023842884007613606\n",
      "Testing params: {'num_heads': 2, 'lookback': 15, 'dropout_rate': 0.25, 'batch_size': 32, 'ff_dim': 128}\n"
     ]
    },
    {
     "name": "stderr",
     "output_type": "stream",
     "text": [
      "2025-02-25 20:21:49.307347: I external/local_xla/xla/stream_executor/cuda/cuda_asm_compiler.cc:397] ptxas warning : Registers are spilled to local memory in function 'input_reduce_select_fusion', 72 bytes spill stores, 104 bytes spill loads\n",
      "\n"
     ]
    },
    {
     "name": "stdout",
     "output_type": "stream",
     "text": [
      "\u001b[1m32/32\u001b[0m \u001b[32m━━━━━━━━━━━━━━━━━━━━\u001b[0m\u001b[37m\u001b[0m \u001b[1m1s\u001b[0m 29ms/step  \n",
      "Transformer MSE: 0.031035925483080703\n",
      "Testing params: {'num_heads': 2, 'lookback': 15, 'dropout_rate': 0.25, 'batch_size': 64, 'ff_dim': 64}\n"
     ]
    },
    {
     "name": "stderr",
     "output_type": "stream",
     "text": [
      "2025-02-25 20:22:06.708765: I external/local_xla/xla/stream_executor/cuda/cuda_asm_compiler.cc:397] ptxas warning : Registers are spilled to local memory in function 'input_reduce_select_fusion', 72 bytes spill stores, 104 bytes spill loads\n",
      "\n"
     ]
    },
    {
     "name": "stdout",
     "output_type": "stream",
     "text": [
      "\u001b[1m32/32\u001b[0m \u001b[32m━━━━━━━━━━━━━━━━━━━━\u001b[0m\u001b[37m\u001b[0m \u001b[1m1s\u001b[0m 11ms/step  \n",
      "Transformer MSE: 0.06758724420957733\n",
      "Testing params: {'num_heads': 2, 'lookback': 15, 'dropout_rate': 0.25, 'batch_size': 64, 'ff_dim': 128}\n"
     ]
    },
    {
     "name": "stderr",
     "output_type": "stream",
     "text": [
      "2025-02-25 20:22:20.539145: I external/local_xla/xla/stream_executor/cuda/cuda_asm_compiler.cc:397] ptxas warning : Registers are spilled to local memory in function 'input_reduce_select_fusion', 72 bytes spill stores, 104 bytes spill loads\n",
      "\n"
     ]
    },
    {
     "name": "stdout",
     "output_type": "stream",
     "text": [
      "\u001b[1m32/32\u001b[0m \u001b[32m━━━━━━━━━━━━━━━━━━━━\u001b[0m\u001b[37m\u001b[0m \u001b[1m1s\u001b[0m 13ms/step  \n",
      "Transformer MSE: 0.01168585535340634\n",
      "Testing params: {'num_heads': 4, 'lookback': 5, 'dropout_rate': 0.25, 'batch_size': 32, 'ff_dim': 64}\n",
      "\u001b[1m32/32\u001b[0m \u001b[32m━━━━━━━━━━━━━━━━━━━━\u001b[0m\u001b[37m\u001b[0m \u001b[1m1s\u001b[0m 17ms/step  \n",
      "Transformer MSE: 0.012127881103708207\n",
      "Testing params: {'num_heads': 4, 'lookback': 5, 'dropout_rate': 0.25, 'batch_size': 32, 'ff_dim': 128}\n",
      "\u001b[1m32/32\u001b[0m \u001b[32m━━━━━━━━━━━━━━━━━━━━\u001b[0m\u001b[37m\u001b[0m \u001b[1m1s\u001b[0m 24ms/step  \n",
      "Transformer MSE: 0.018467924343703767\n",
      "Testing params: {'num_heads': 4, 'lookback': 5, 'dropout_rate': 0.25, 'batch_size': 64, 'ff_dim': 64}\n",
      "\u001b[1m32/32\u001b[0m \u001b[32m━━━━━━━━━━━━━━━━━━━━\u001b[0m\u001b[37m\u001b[0m \u001b[1m1s\u001b[0m 11ms/step  \n",
      "Transformer MSE: 0.04844994974827438\n",
      "Testing params: {'num_heads': 4, 'lookback': 5, 'dropout_rate': 0.25, 'batch_size': 64, 'ff_dim': 128}\n",
      "\u001b[1m32/32\u001b[0m \u001b[32m━━━━━━━━━━━━━━━━━━━━\u001b[0m\u001b[37m\u001b[0m \u001b[1m1s\u001b[0m 12ms/step  \n",
      "Transformer MSE: 0.03705795854996645\n",
      "Testing params: {'num_heads': 4, 'lookback': 10, 'dropout_rate': 0.25, 'batch_size': 32, 'ff_dim': 64}\n",
      "\u001b[1m32/32\u001b[0m \u001b[32m━━━━━━━━━━━━━━━━━━━━\u001b[0m\u001b[37m\u001b[0m \u001b[1m1s\u001b[0m 17ms/step  \n",
      "Transformer MSE: 0.012493291115227846\n",
      "Testing params: {'num_heads': 4, 'lookback': 10, 'dropout_rate': 0.25, 'batch_size': 32, 'ff_dim': 128}\n",
      "\u001b[1m32/32\u001b[0m \u001b[32m━━━━━━━━━━━━━━━━━━━━\u001b[0m\u001b[37m\u001b[0m \u001b[1m1s\u001b[0m 26ms/step  \n",
      "Transformer MSE: 0.05584613538206861\n",
      "Testing params: {'num_heads': 4, 'lookback': 10, 'dropout_rate': 0.25, 'batch_size': 64, 'ff_dim': 64}\n",
      "\u001b[1m32/32\u001b[0m \u001b[32m━━━━━━━━━━━━━━━━━━━━\u001b[0m\u001b[37m\u001b[0m \u001b[1m1s\u001b[0m 11ms/step  \n",
      "Transformer MSE: 0.018428981548589383\n",
      "Testing params: {'num_heads': 4, 'lookback': 10, 'dropout_rate': 0.25, 'batch_size': 64, 'ff_dim': 128}\n",
      "\u001b[1m32/32\u001b[0m \u001b[32m━━━━━━━━━━━━━━━━━━━━\u001b[0m\u001b[37m\u001b[0m \u001b[1m1s\u001b[0m 12ms/step  \n",
      "Transformer MSE: 0.049837812220654254\n",
      "Testing params: {'num_heads': 4, 'lookback': 15, 'dropout_rate': 0.25, 'batch_size': 32, 'ff_dim': 64}\n"
     ]
    },
    {
     "name": "stderr",
     "output_type": "stream",
     "text": [
      "2025-02-25 20:24:55.399690: I external/local_xla/xla/stream_executor/cuda/cuda_asm_compiler.cc:397] ptxas warning : Registers are spilled to local memory in function 'input_reduce_select_fusion', 72 bytes spill stores, 104 bytes spill loads\n",
      "\n"
     ]
    },
    {
     "name": "stdout",
     "output_type": "stream",
     "text": [
      "\u001b[1m32/32\u001b[0m \u001b[32m━━━━━━━━━━━━━━━━━━━━\u001b[0m\u001b[37m\u001b[0m \u001b[1m1s\u001b[0m 17ms/step  \n",
      "Transformer MSE: 0.025557466043274517\n",
      "Testing params: {'num_heads': 4, 'lookback': 15, 'dropout_rate': 0.25, 'batch_size': 32, 'ff_dim': 128}\n"
     ]
    },
    {
     "name": "stderr",
     "output_type": "stream",
     "text": [
      "2025-02-25 20:25:18.800444: I external/local_xla/xla/stream_executor/cuda/cuda_asm_compiler.cc:397] ptxas warning : Registers are spilled to local memory in function 'input_reduce_select_fusion', 72 bytes spill stores, 104 bytes spill loads\n",
      "\n"
     ]
    },
    {
     "name": "stdout",
     "output_type": "stream",
     "text": [
      "\u001b[1m32/32\u001b[0m \u001b[32m━━━━━━━━━━━━━━━━━━━━\u001b[0m\u001b[37m\u001b[0m \u001b[1m1s\u001b[0m 26ms/step  \n",
      "Transformer MSE: 0.031990221453391206\n",
      "Testing params: {'num_heads': 4, 'lookback': 15, 'dropout_rate': 0.25, 'batch_size': 64, 'ff_dim': 64}\n"
     ]
    },
    {
     "name": "stderr",
     "output_type": "stream",
     "text": [
      "2025-02-25 20:25:38.835801: I external/local_xla/xla/stream_executor/cuda/cuda_asm_compiler.cc:397] ptxas warning : Registers are spilled to local memory in function 'input_reduce_select_fusion', 72 bytes spill stores, 104 bytes spill loads\n",
      "\n"
     ]
    },
    {
     "name": "stdout",
     "output_type": "stream",
     "text": [
      "\u001b[1m32/32\u001b[0m \u001b[32m━━━━━━━━━━━━━━━━━━━━\u001b[0m\u001b[37m\u001b[0m \u001b[1m1s\u001b[0m 11ms/step  \n",
      "Transformer MSE: 0.02834144586688079\n",
      "Testing params: {'num_heads': 4, 'lookback': 15, 'dropout_rate': 0.25, 'batch_size': 64, 'ff_dim': 128}\n"
     ]
    },
    {
     "name": "stderr",
     "output_type": "stream",
     "text": [
      "2025-02-25 20:25:51.336710: I external/local_xla/xla/stream_executor/cuda/cuda_asm_compiler.cc:397] ptxas warning : Registers are spilled to local memory in function 'input_reduce_select_fusion', 72 bytes spill stores, 104 bytes spill loads\n",
      "\n"
     ]
    },
    {
     "name": "stdout",
     "output_type": "stream",
     "text": [
      "\u001b[1m32/32\u001b[0m \u001b[32m━━━━━━━━━━━━━━━━━━━━\u001b[0m\u001b[37m\u001b[0m \u001b[1m1s\u001b[0m 13ms/step  \n",
      "Transformer MSE: 0.013643503479873012\n",
      "Testing params: {'num_heads': 6, 'lookback': 5, 'dropout_rate': 0.25, 'batch_size': 32, 'ff_dim': 64}\n",
      "\u001b[1m32/32\u001b[0m \u001b[32m━━━━━━━━━━━━━━━━━━━━\u001b[0m\u001b[37m\u001b[0m \u001b[1m1s\u001b[0m 20ms/step  \n",
      "Transformer MSE: 0.04295489307884722\n",
      "Testing params: {'num_heads': 6, 'lookback': 5, 'dropout_rate': 0.25, 'batch_size': 32, 'ff_dim': 128}\n"
     ]
    },
    {
     "name": "stderr",
     "output_type": "stream",
     "text": [
      "2025-02-25 20:26:16.444873: I external/local_xla/xla/stream_executor/cuda/cuda_asm_compiler.cc:397] ptxas warning : Registers are spilled to local memory in function 'gemm_fusion_dot_10', 12 bytes spill stores, 12 bytes spill loads\n",
      "\n",
      "2025-02-25 20:26:19.429974: I external/local_xla/xla/stream_executor/cuda/cuda_asm_compiler.cc:397] ptxas warning : Registers are spilled to local memory in function 'gemm_fusion_dot_10', 12 bytes spill stores, 12 bytes spill loads\n",
      "\n"
     ]
    },
    {
     "name": "stdout",
     "output_type": "stream",
     "text": [
      "\u001b[1m32/32\u001b[0m \u001b[32m━━━━━━━━━━━━━━━━━━━━\u001b[0m\u001b[37m\u001b[0m \u001b[1m1s\u001b[0m 23ms/step  \n",
      "Transformer MSE: 0.0313770800472479\n",
      "Testing params: {'num_heads': 6, 'lookback': 5, 'dropout_rate': 0.25, 'batch_size': 64, 'ff_dim': 64}\n",
      "\u001b[1m32/32\u001b[0m \u001b[32m━━━━━━━━━━━━━━━━━━━━\u001b[0m\u001b[37m\u001b[0m \u001b[1m1s\u001b[0m 11ms/step \n",
      "Transformer MSE: 0.019802230838862265\n",
      "Testing params: {'num_heads': 6, 'lookback': 5, 'dropout_rate': 0.25, 'batch_size': 64, 'ff_dim': 128}\n",
      "\u001b[1m32/32\u001b[0m \u001b[32m━━━━━━━━━━━━━━━━━━━━\u001b[0m\u001b[37m\u001b[0m \u001b[1m1s\u001b[0m 12ms/step  \n",
      "Transformer MSE: 0.026456522815039765\n",
      "Testing params: {'num_heads': 6, 'lookback': 10, 'dropout_rate': 0.25, 'batch_size': 32, 'ff_dim': 64}\n",
      "\u001b[1m32/32\u001b[0m \u001b[32m━━━━━━━━━━━━━━━━━━━━\u001b[0m\u001b[37m\u001b[0m \u001b[1m1s\u001b[0m 22ms/step  \n",
      "Transformer MSE: 0.028979471245625554\n",
      "Testing params: {'num_heads': 6, 'lookback': 10, 'dropout_rate': 0.25, 'batch_size': 32, 'ff_dim': 128}\n"
     ]
    },
    {
     "name": "stderr",
     "output_type": "stream",
     "text": [
      "2025-02-25 20:27:17.669512: I external/local_xla/xla/stream_executor/cuda/cuda_asm_compiler.cc:397] ptxas warning : Registers are spilled to local memory in function 'gemm_fusion_dot_10', 12 bytes spill stores, 12 bytes spill loads\n",
      "\n"
     ]
    },
    {
     "name": "stdout",
     "output_type": "stream",
     "text": [
      "\u001b[1m32/32\u001b[0m \u001b[32m━━━━━━━━━━━━━━━━━━━━\u001b[0m\u001b[37m\u001b[0m \u001b[1m1s\u001b[0m 26ms/step  \n",
      "Transformer MSE: 0.01982781217887811\n",
      "Testing params: {'num_heads': 6, 'lookback': 10, 'dropout_rate': 0.25, 'batch_size': 64, 'ff_dim': 64}\n",
      "\u001b[1m32/32\u001b[0m \u001b[32m━━━━━━━━━━━━━━━━━━━━\u001b[0m\u001b[37m\u001b[0m \u001b[1m1s\u001b[0m 11ms/step  \n",
      "Transformer MSE: 0.019329456717124768\n",
      "Testing params: {'num_heads': 6, 'lookback': 10, 'dropout_rate': 0.25, 'batch_size': 64, 'ff_dim': 128}\n",
      "\u001b[1m32/32\u001b[0m \u001b[32m━━━━━━━━━━━━━━━━━━━━\u001b[0m\u001b[37m\u001b[0m \u001b[1m1s\u001b[0m 12ms/step  \n",
      "Transformer MSE: 0.03810714569524124\n",
      "Testing params: {'num_heads': 6, 'lookback': 15, 'dropout_rate': 0.25, 'batch_size': 32, 'ff_dim': 64}\n"
     ]
    },
    {
     "name": "stderr",
     "output_type": "stream",
     "text": [
      "2025-02-25 20:28:00.605254: I external/local_xla/xla/stream_executor/cuda/cuda_asm_compiler.cc:397] ptxas warning : Registers are spilled to local memory in function 'input_reduce_select_fusion', 72 bytes spill stores, 104 bytes spill loads\n",
      "\n"
     ]
    },
    {
     "name": "stdout",
     "output_type": "stream",
     "text": [
      "\u001b[1m32/32\u001b[0m \u001b[32m━━━━━━━━━━━━━━━━━━━━\u001b[0m\u001b[37m\u001b[0m \u001b[1m1s\u001b[0m 23ms/step  \n",
      "Transformer MSE: 0.06116982681255054\n",
      "Testing params: {'num_heads': 6, 'lookback': 15, 'dropout_rate': 0.25, 'batch_size': 32, 'ff_dim': 128}\n"
     ]
    },
    {
     "name": "stderr",
     "output_type": "stream",
     "text": [
      "2025-02-25 20:28:13.034234: I external/local_xla/xla/stream_executor/cuda/cuda_asm_compiler.cc:397] ptxas warning : Registers are spilled to local memory in function 'gemm_fusion_dot_10', 12 bytes spill stores, 12 bytes spill loads\n",
      "\n",
      "2025-02-25 20:28:15.582625: I external/local_xla/xla/stream_executor/cuda/cuda_asm_compiler.cc:397] ptxas warning : Registers are spilled to local memory in function 'gemm_fusion_dot_10', 12 bytes spill stores, 12 bytes spill loads\n",
      "\n",
      "2025-02-25 20:28:17.713296: I external/local_xla/xla/stream_executor/cuda/cuda_asm_compiler.cc:397] ptxas warning : Registers are spilled to local memory in function 'input_reduce_select_fusion', 72 bytes spill stores, 104 bytes spill loads\n",
      "\n"
     ]
    },
    {
     "name": "stdout",
     "output_type": "stream",
     "text": [
      "\u001b[1m32/32\u001b[0m \u001b[32m━━━━━━━━━━━━━━━━━━━━\u001b[0m\u001b[37m\u001b[0m \u001b[1m1s\u001b[0m 25ms/step  \n",
      "Transformer MSE: 0.09526216677776475\n",
      "Testing params: {'num_heads': 6, 'lookback': 15, 'dropout_rate': 0.25, 'batch_size': 64, 'ff_dim': 64}\n"
     ]
    },
    {
     "name": "stderr",
     "output_type": "stream",
     "text": [
      "2025-02-25 20:28:34.613800: I external/local_xla/xla/stream_executor/cuda/cuda_asm_compiler.cc:397] ptxas warning : Registers are spilled to local memory in function 'input_reduce_select_fusion', 72 bytes spill stores, 104 bytes spill loads\n",
      "\n"
     ]
    },
    {
     "name": "stdout",
     "output_type": "stream",
     "text": [
      "\u001b[1m32/32\u001b[0m \u001b[32m━━━━━━━━━━━━━━━━━━━━\u001b[0m\u001b[37m\u001b[0m \u001b[1m1s\u001b[0m 11ms/step  \n",
      "Transformer MSE: 0.0485405084664678\n",
      "Testing params: {'num_heads': 6, 'lookback': 15, 'dropout_rate': 0.25, 'batch_size': 64, 'ff_dim': 128}\n"
     ]
    },
    {
     "name": "stderr",
     "output_type": "stream",
     "text": [
      "2025-02-25 20:28:48.849795: I external/local_xla/xla/stream_executor/cuda/cuda_asm_compiler.cc:397] ptxas warning : Registers are spilled to local memory in function 'input_reduce_select_fusion', 72 bytes spill stores, 104 bytes spill loads\n",
      "\n"
     ]
    },
    {
     "name": "stdout",
     "output_type": "stream",
     "text": [
      "\u001b[1m32/32\u001b[0m \u001b[32m━━━━━━━━━━━━━━━━━━━━\u001b[0m\u001b[37m\u001b[0m \u001b[1m1s\u001b[0m 12ms/step  \n",
      "Transformer MSE: 0.02853093053462161\n",
      "Best parameters: {'num_heads': 2, 'lookback': 15, 'dropout_rate': 0.25, 'batch_size': 64, 'ff_dim': 128}, Best MSE: 0.01168585535340634\n",
      "Best MSE: 0.011686\n",
      "num_heads: 2, lookback: 15, ff_dim: 128, batch_size: 64\n",
      "Time taken: 573.730838 seconds\n",
      "[pypickle] Pickle file saved: [/home/alfred/projects/mscfe-masters-project/src/models/best/transformer/best_lstm_AMZN_BNBUSDT.pkl]\n",
      "\n",
      "(3) Pairs: AMZN TRXUSDT\n",
      "Testing params: {'num_heads': 2, 'lookback': 5, 'dropout_rate': 0.25, 'batch_size': 32, 'ff_dim': 64}\n",
      "\u001b[1m32/32\u001b[0m \u001b[32m━━━━━━━━━━━━━━━━━━━━\u001b[0m\u001b[37m\u001b[0m \u001b[1m1s\u001b[0m 27ms/step  \n",
      "Transformer MSE: 0.006157396146501156\n",
      "Testing params: {'num_heads': 2, 'lookback': 5, 'dropout_rate': 0.25, 'batch_size': 32, 'ff_dim': 128}\n",
      "\u001b[1m32/32\u001b[0m \u001b[32m━━━━━━━━━━━━━━━━━━━━\u001b[0m\u001b[37m\u001b[0m \u001b[1m1s\u001b[0m 28ms/step  \n",
      "Transformer MSE: 0.003271793651553805\n",
      "Testing params: {'num_heads': 2, 'lookback': 5, 'dropout_rate': 0.25, 'batch_size': 64, 'ff_dim': 64}\n",
      "\u001b[1m32/32\u001b[0m \u001b[32m━━━━━━━━━━━━━━━━━━━━\u001b[0m\u001b[37m\u001b[0m \u001b[1m1s\u001b[0m 13ms/step \n",
      "Transformer MSE: 0.022352852932967366\n",
      "Testing params: {'num_heads': 2, 'lookback': 5, 'dropout_rate': 0.25, 'batch_size': 64, 'ff_dim': 128}\n",
      "\u001b[1m32/32\u001b[0m \u001b[32m━━━━━━━━━━━━━━━━━━━━\u001b[0m\u001b[37m\u001b[0m \u001b[1m1s\u001b[0m 16ms/step  \n",
      "Transformer MSE: 0.017117078331001456\n",
      "Testing params: {'num_heads': 2, 'lookback': 10, 'dropout_rate': 0.25, 'batch_size': 32, 'ff_dim': 64}\n",
      "\u001b[1m32/32\u001b[0m \u001b[32m━━━━━━━━━━━━━━━━━━━━\u001b[0m\u001b[37m\u001b[0m \u001b[1m1s\u001b[0m 22ms/step  \n",
      "Transformer MSE: 0.00903754638146765\n",
      "Testing params: {'num_heads': 2, 'lookback': 10, 'dropout_rate': 0.25, 'batch_size': 32, 'ff_dim': 128}\n",
      "\u001b[1m32/32\u001b[0m \u001b[32m━━━━━━━━━━━━━━━━━━━━\u001b[0m\u001b[37m\u001b[0m \u001b[1m1s\u001b[0m 26ms/step  \n",
      "Transformer MSE: 0.0028087910783370193\n",
      "Testing params: {'num_heads': 2, 'lookback': 10, 'dropout_rate': 0.25, 'batch_size': 64, 'ff_dim': 64}\n",
      "\u001b[1m32/32\u001b[0m \u001b[32m━━━━━━━━━━━━━━━━━━━━\u001b[0m\u001b[37m\u001b[0m \u001b[1m1s\u001b[0m 11ms/step  \n",
      "Transformer MSE: 0.009312681827913085\n",
      "Testing params: {'num_heads': 2, 'lookback': 10, 'dropout_rate': 0.25, 'batch_size': 64, 'ff_dim': 128}\n",
      "\u001b[1m32/32\u001b[0m \u001b[32m━━━━━━━━━━━━━━━━━━━━\u001b[0m\u001b[37m\u001b[0m \u001b[1m1s\u001b[0m 12ms/step  \n",
      "Transformer MSE: 0.0035851725291180443\n",
      "Testing params: {'num_heads': 2, 'lookback': 15, 'dropout_rate': 0.25, 'batch_size': 32, 'ff_dim': 64}\n",
      "\u001b[1m32/32\u001b[0m \u001b[32m━━━━━━━━━━━━━━━━━━━━\u001b[0m\u001b[37m\u001b[0m \u001b[1m1s\u001b[0m 23ms/step  \n",
      "Transformer MSE: 0.00952146844760806\n",
      "Testing params: {'num_heads': 2, 'lookback': 15, 'dropout_rate': 0.25, 'batch_size': 32, 'ff_dim': 128}\n",
      "\u001b[1m32/32\u001b[0m \u001b[32m━━━━━━━━━━━━━━━━━━━━\u001b[0m\u001b[37m\u001b[0m \u001b[1m1s\u001b[0m 25ms/step  \n",
      "Transformer MSE: 0.003537719639340231\n",
      "Testing params: {'num_heads': 2, 'lookback': 15, 'dropout_rate': 0.25, 'batch_size': 64, 'ff_dim': 64}\n",
      "\u001b[1m32/32\u001b[0m \u001b[32m━━━━━━━━━━━━━━━━━━━━\u001b[0m\u001b[37m\u001b[0m \u001b[1m1s\u001b[0m 11ms/step \n",
      "Transformer MSE: 0.010922122877568888\n",
      "Testing params: {'num_heads': 2, 'lookback': 15, 'dropout_rate': 0.25, 'batch_size': 64, 'ff_dim': 128}\n",
      "\u001b[1m32/32\u001b[0m \u001b[32m━━━━━━━━━━━━━━━━━━━━\u001b[0m\u001b[37m\u001b[0m \u001b[1m1s\u001b[0m 12ms/step  \n",
      "Transformer MSE: 0.021658219731928077\n",
      "Testing params: {'num_heads': 4, 'lookback': 5, 'dropout_rate': 0.25, 'batch_size': 32, 'ff_dim': 64}\n",
      "\u001b[1m32/32\u001b[0m \u001b[32m━━━━━━━━━━━━━━━━━━━━\u001b[0m\u001b[37m\u001b[0m \u001b[1m1s\u001b[0m 16ms/step  \n",
      "Transformer MSE: 0.0052217725179909075\n",
      "Testing params: {'num_heads': 4, 'lookback': 5, 'dropout_rate': 0.25, 'batch_size': 32, 'ff_dim': 128}\n",
      "\u001b[1m32/32\u001b[0m \u001b[32m━━━━━━━━━━━━━━━━━━━━\u001b[0m\u001b[37m\u001b[0m \u001b[1m1s\u001b[0m 23ms/step  \n",
      "Transformer MSE: 0.01022344183000693\n",
      "Testing params: {'num_heads': 4, 'lookback': 5, 'dropout_rate': 0.25, 'batch_size': 64, 'ff_dim': 64}\n",
      "\u001b[1m32/32\u001b[0m \u001b[32m━━━━━━━━━━━━━━━━━━━━\u001b[0m\u001b[37m\u001b[0m \u001b[1m1s\u001b[0m 12ms/step \n",
      "Transformer MSE: 0.004637103293744925\n",
      "Testing params: {'num_heads': 4, 'lookback': 5, 'dropout_rate': 0.25, 'batch_size': 64, 'ff_dim': 128}\n",
      "\u001b[1m32/32\u001b[0m \u001b[32m━━━━━━━━━━━━━━━━━━━━\u001b[0m\u001b[37m\u001b[0m \u001b[1m1s\u001b[0m 13ms/step  \n",
      "Transformer MSE: 0.01644077571579847\n",
      "Testing params: {'num_heads': 4, 'lookback': 10, 'dropout_rate': 0.25, 'batch_size': 32, 'ff_dim': 64}\n",
      "\u001b[1m32/32\u001b[0m \u001b[32m━━━━━━━━━━━━━━━━━━━━\u001b[0m\u001b[37m\u001b[0m \u001b[1m1s\u001b[0m 14ms/step  \n",
      "Transformer MSE: 0.014671733942046869\n",
      "Testing params: {'num_heads': 4, 'lookback': 10, 'dropout_rate': 0.25, 'batch_size': 32, 'ff_dim': 128}\n",
      "\u001b[1m32/32\u001b[0m \u001b[32m━━━━━━━━━━━━━━━━━━━━\u001b[0m\u001b[37m\u001b[0m \u001b[1m1s\u001b[0m 21ms/step  \n",
      "Transformer MSE: 0.0033873684922573763\n",
      "Testing params: {'num_heads': 4, 'lookback': 10, 'dropout_rate': 0.25, 'batch_size': 64, 'ff_dim': 64}\n",
      "\u001b[1m32/32\u001b[0m \u001b[32m━━━━━━━━━━━━━━━━━━━━\u001b[0m\u001b[37m\u001b[0m \u001b[1m1s\u001b[0m 11ms/step  \n",
      "Transformer MSE: 0.012657352746489985\n",
      "Testing params: {'num_heads': 4, 'lookback': 10, 'dropout_rate': 0.25, 'batch_size': 64, 'ff_dim': 128}\n",
      "\u001b[1m32/32\u001b[0m \u001b[32m━━━━━━━━━━━━━━━━━━━━\u001b[0m\u001b[37m\u001b[0m \u001b[1m1s\u001b[0m 11ms/step  \n",
      "Transformer MSE: 0.016429875787164358\n",
      "Testing params: {'num_heads': 4, 'lookback': 15, 'dropout_rate': 0.25, 'batch_size': 32, 'ff_dim': 64}\n",
      "\u001b[1m32/32\u001b[0m \u001b[32m━━━━━━━━━━━━━━━━━━━━\u001b[0m\u001b[37m\u001b[0m \u001b[1m1s\u001b[0m 13ms/step  \n",
      "Transformer MSE: 0.004570697493253099\n",
      "Testing params: {'num_heads': 4, 'lookback': 15, 'dropout_rate': 0.25, 'batch_size': 32, 'ff_dim': 128}\n",
      "\u001b[1m32/32\u001b[0m \u001b[32m━━━━━━━━━━━━━━━━━━━━\u001b[0m\u001b[37m\u001b[0m \u001b[1m1s\u001b[0m 23ms/step  \n",
      "Transformer MSE: 0.011295166419590429\n",
      "Testing params: {'num_heads': 4, 'lookback': 15, 'dropout_rate': 0.25, 'batch_size': 64, 'ff_dim': 64}\n",
      "\u001b[1m32/32\u001b[0m \u001b[32m━━━━━━━━━━━━━━━━━━━━\u001b[0m\u001b[37m\u001b[0m \u001b[1m1s\u001b[0m 11ms/step  \n",
      "Transformer MSE: 0.009006884778387566\n",
      "Testing params: {'num_heads': 4, 'lookback': 15, 'dropout_rate': 0.25, 'batch_size': 64, 'ff_dim': 128}\n",
      "\u001b[1m32/32\u001b[0m \u001b[32m━━━━━━━━━━━━━━━━━━━━\u001b[0m\u001b[37m\u001b[0m \u001b[1m1s\u001b[0m 13ms/step  \n",
      "Transformer MSE: 0.02020190538945426\n",
      "Testing params: {'num_heads': 6, 'lookback': 5, 'dropout_rate': 0.25, 'batch_size': 32, 'ff_dim': 64}\n",
      "\u001b[1m32/32\u001b[0m \u001b[32m━━━━━━━━━━━━━━━━━━━━\u001b[0m\u001b[37m\u001b[0m \u001b[1m1s\u001b[0m 22ms/step  \n",
      "Transformer MSE: 0.005960070880434783\n",
      "Testing params: {'num_heads': 6, 'lookback': 5, 'dropout_rate': 0.25, 'batch_size': 32, 'ff_dim': 128}\n"
     ]
    },
    {
     "name": "stderr",
     "output_type": "stream",
     "text": [
      "2025-02-25 20:35:14.788628: I external/local_xla/xla/stream_executor/cuda/cuda_asm_compiler.cc:397] ptxas warning : Registers are spilled to local memory in function 'gemm_fusion_dot_10', 12 bytes spill stores, 12 bytes spill loads\n",
      "\n",
      "2025-02-25 20:35:17.369143: I external/local_xla/xla/stream_executor/cuda/cuda_asm_compiler.cc:397] ptxas warning : Registers are spilled to local memory in function 'gemm_fusion_dot_10', 12 bytes spill stores, 12 bytes spill loads\n",
      "\n"
     ]
    },
    {
     "name": "stdout",
     "output_type": "stream",
     "text": [
      "\u001b[1m32/32\u001b[0m \u001b[32m━━━━━━━━━━━━━━━━━━━━\u001b[0m\u001b[37m\u001b[0m \u001b[1m1s\u001b[0m 23ms/step  \n",
      "Transformer MSE: 0.007518753254448173\n",
      "Testing params: {'num_heads': 6, 'lookback': 5, 'dropout_rate': 0.25, 'batch_size': 64, 'ff_dim': 64}\n",
      "\u001b[1m32/32\u001b[0m \u001b[32m━━━━━━━━━━━━━━━━━━━━\u001b[0m\u001b[37m\u001b[0m \u001b[1m1s\u001b[0m 12ms/step \n",
      "Transformer MSE: 0.019855721528554304\n",
      "Testing params: {'num_heads': 6, 'lookback': 5, 'dropout_rate': 0.25, 'batch_size': 64, 'ff_dim': 128}\n",
      "\u001b[1m32/32\u001b[0m \u001b[32m━━━━━━━━━━━━━━━━━━━━\u001b[0m\u001b[37m\u001b[0m \u001b[1m1s\u001b[0m 13ms/step  \n",
      "Transformer MSE: 0.004569198603969316\n",
      "Testing params: {'num_heads': 6, 'lookback': 10, 'dropout_rate': 0.25, 'batch_size': 32, 'ff_dim': 64}\n",
      "\u001b[1m32/32\u001b[0m \u001b[32m━━━━━━━━━━━━━━━━━━━━\u001b[0m\u001b[37m\u001b[0m \u001b[1m1s\u001b[0m 20ms/step  \n",
      "Transformer MSE: 0.00778648457050551\n",
      "Testing params: {'num_heads': 6, 'lookback': 10, 'dropout_rate': 0.25, 'batch_size': 32, 'ff_dim': 128}\n"
     ]
    },
    {
     "name": "stderr",
     "output_type": "stream",
     "text": [
      "2025-02-25 20:36:17.728281: I external/local_xla/xla/stream_executor/cuda/cuda_asm_compiler.cc:397] ptxas warning : Registers are spilled to local memory in function 'gemm_fusion_dot_10', 12 bytes spill stores, 12 bytes spill loads\n",
      "\n"
     ]
    },
    {
     "name": "stdout",
     "output_type": "stream",
     "text": [
      "\u001b[1m32/32\u001b[0m \u001b[32m━━━━━━━━━━━━━━━━━━━━\u001b[0m\u001b[37m\u001b[0m \u001b[1m1s\u001b[0m 24ms/step  \n",
      "Transformer MSE: 0.0048619721878538965\n",
      "Testing params: {'num_heads': 6, 'lookback': 10, 'dropout_rate': 0.25, 'batch_size': 64, 'ff_dim': 64}\n",
      "\u001b[1m32/32\u001b[0m \u001b[32m━━━━━━━━━━━━━━━━━━━━\u001b[0m\u001b[37m\u001b[0m \u001b[1m1s\u001b[0m 11ms/step \n",
      "Transformer MSE: 0.004317622234089422\n",
      "Testing params: {'num_heads': 6, 'lookback': 10, 'dropout_rate': 0.25, 'batch_size': 64, 'ff_dim': 128}\n",
      "\u001b[1m32/32\u001b[0m \u001b[32m━━━━━━━━━━━━━━━━━━━━\u001b[0m\u001b[37m\u001b[0m \u001b[1m1s\u001b[0m 13ms/step  \n",
      "Transformer MSE: 0.007819789503174971\n",
      "Testing params: {'num_heads': 6, 'lookback': 15, 'dropout_rate': 0.25, 'batch_size': 32, 'ff_dim': 64}\n",
      "\u001b[1m32/32\u001b[0m \u001b[32m━━━━━━━━━━━━━━━━━━━━\u001b[0m\u001b[37m\u001b[0m \u001b[1m1s\u001b[0m 23ms/step  \n",
      "Transformer MSE: 0.0040939891127741886\n",
      "Testing params: {'num_heads': 6, 'lookback': 15, 'dropout_rate': 0.25, 'batch_size': 32, 'ff_dim': 128}\n"
     ]
    },
    {
     "name": "stderr",
     "output_type": "stream",
     "text": [
      "2025-02-25 20:37:18.563645: I external/local_xla/xla/stream_executor/cuda/cuda_asm_compiler.cc:397] ptxas warning : Registers are spilled to local memory in function 'gemm_fusion_dot_10', 12 bytes spill stores, 12 bytes spill loads\n",
      "\n",
      "2025-02-25 20:37:21.401665: I external/local_xla/xla/stream_executor/cuda/cuda_asm_compiler.cc:397] ptxas warning : Registers are spilled to local memory in function 'gemm_fusion_dot_10', 12 bytes spill stores, 12 bytes spill loads\n",
      "\n"
     ]
    },
    {
     "name": "stdout",
     "output_type": "stream",
     "text": [
      "\u001b[1m32/32\u001b[0m \u001b[32m━━━━━━━━━━━━━━━━━━━━\u001b[0m\u001b[37m\u001b[0m \u001b[1m1s\u001b[0m 23ms/step  \n",
      "Transformer MSE: 0.006751577472482456\n",
      "Testing params: {'num_heads': 6, 'lookback': 15, 'dropout_rate': 0.25, 'batch_size': 64, 'ff_dim': 64}\n",
      "\u001b[1m32/32\u001b[0m \u001b[32m━━━━━━━━━━━━━━━━━━━━\u001b[0m\u001b[37m\u001b[0m \u001b[1m1s\u001b[0m 11ms/step \n",
      "Transformer MSE: 0.006458525547499383\n",
      "Testing params: {'num_heads': 6, 'lookback': 15, 'dropout_rate': 0.25, 'batch_size': 64, 'ff_dim': 128}\n",
      "\u001b[1m32/32\u001b[0m \u001b[32m━━━━━━━━━━━━━━━━━━━━\u001b[0m\u001b[37m\u001b[0m \u001b[1m1s\u001b[0m 13ms/step  \n",
      "Transformer MSE: 0.013851965795868382\n",
      "Best parameters: {'num_heads': 2, 'lookback': 10, 'dropout_rate': 0.25, 'batch_size': 32, 'ff_dim': 128}, Best MSE: 0.0028087910783370193\n",
      "Best MSE: 0.002809\n",
      "num_heads: 2, lookback: 10, ff_dim: 128, batch_size: 32\n",
      "Time taken: 548.684834 seconds\n",
      "[pypickle] Pickle file saved: [/home/alfred/projects/mscfe-masters-project/src/models/best/transformer/best_lstm_AMZN_TRXUSDT.pkl]\n",
      "\n",
      "(4) Pairs: SPY_ETF AVAXUSDT\n",
      "Testing params: {'num_heads': 2, 'lookback': 5, 'dropout_rate': 0.25, 'batch_size': 32, 'ff_dim': 64}\n"
     ]
    },
    {
     "name": "stderr",
     "output_type": "stream",
     "text": [
      "2025-02-25 20:38:08.354437: I external/local_xla/xla/stream_executor/cuda/cuda_asm_compiler.cc:397] ptxas warning : Registers are spilled to local memory in function 'gemm_fusion_dot_28', 4 bytes spill stores, 4 bytes spill loads\n",
      "\n",
      "2025-02-25 20:38:08.366402: I external/local_xla/xla/stream_executor/cuda/cuda_asm_compiler.cc:397] ptxas warning : Registers are spilled to local memory in function 'gemm_fusion_dot_28', 4 bytes spill stores, 4 bytes spill loads\n",
      "\n",
      "2025-02-25 20:38:08.418181: I external/local_xla/xla/stream_executor/cuda/cuda_asm_compiler.cc:397] ptxas warning : Registers are spilled to local memory in function 'gemm_fusion_dot_28', 8 bytes spill stores, 8 bytes spill loads\n",
      "\n",
      "2025-02-25 20:38:08.477988: I external/local_xla/xla/stream_executor/cuda/cuda_asm_compiler.cc:397] ptxas warning : Registers are spilled to local memory in function 'gemm_fusion_dot_8', 8 bytes spill stores, 8 bytes spill loads\n",
      "\n",
      "2025-02-25 20:38:08.505575: I external/local_xla/xla/stream_executor/cuda/cuda_asm_compiler.cc:397] ptxas warning : Registers are spilled to local memory in function 'gemm_fusion_dot_10', 8 bytes spill stores, 8 bytes spill loads\n",
      "\n",
      "2025-02-25 20:38:08.523931: I external/local_xla/xla/stream_executor/cuda/cuda_asm_compiler.cc:397] ptxas warning : Registers are spilled to local memory in function 'gemm_fusion_dot_10', 8 bytes spill stores, 8 bytes spill loads\n",
      "\n",
      "2025-02-25 20:38:11.382714: I external/local_xla/xla/stream_executor/cuda/cuda_asm_compiler.cc:397] ptxas warning : Registers are spilled to local memory in function 'gemm_fusion_dot_28', 8 bytes spill stores, 8 bytes spill loads\n",
      "\n",
      "2025-02-25 20:38:11.422012: I external/local_xla/xla/stream_executor/cuda/cuda_asm_compiler.cc:397] ptxas warning : Registers are spilled to local memory in function 'gemm_fusion_dot_28', 4 bytes spill stores, 4 bytes spill loads\n",
      "\n",
      "2025-02-25 20:38:11.479201: I external/local_xla/xla/stream_executor/cuda/cuda_asm_compiler.cc:397] ptxas warning : Registers are spilled to local memory in function 'gemm_fusion_dot_28', 4 bytes spill stores, 4 bytes spill loads\n",
      "\n",
      "2025-02-25 20:38:11.717645: I external/local_xla/xla/stream_executor/cuda/cuda_asm_compiler.cc:397] ptxas warning : Registers are spilled to local memory in function 'gemm_fusion_dot_10', 8 bytes spill stores, 8 bytes spill loads\n",
      "\n",
      "2025-02-25 20:38:11.810689: I external/local_xla/xla/stream_executor/cuda/cuda_asm_compiler.cc:397] ptxas warning : Registers are spilled to local memory in function 'gemm_fusion_dot_8', 8 bytes spill stores, 8 bytes spill loads\n",
      "\n",
      "2025-02-25 20:38:12.004759: I external/local_xla/xla/stream_executor/cuda/cuda_asm_compiler.cc:397] ptxas warning : Registers are spilled to local memory in function 'gemm_fusion_dot_10', 8 bytes spill stores, 8 bytes spill loads\n",
      "\n"
     ]
    },
    {
     "name": "stdout",
     "output_type": "stream",
     "text": [
      "\u001b[1m32/32\u001b[0m \u001b[32m━━━━━━━━━━━━━━━━━━━━\u001b[0m\u001b[37m\u001b[0m \u001b[1m1s\u001b[0m 26ms/step  \n",
      "Transformer MSE: 0.03862386774330579\n",
      "Testing params: {'num_heads': 2, 'lookback': 5, 'dropout_rate': 0.25, 'batch_size': 32, 'ff_dim': 128}\n"
     ]
    },
    {
     "name": "stderr",
     "output_type": "stream",
     "text": [
      "2025-02-25 20:38:28.388563: I external/local_xla/xla/stream_executor/cuda/cuda_asm_compiler.cc:397] ptxas warning : Registers are spilled to local memory in function 'gemm_fusion_dot_28', 4 bytes spill stores, 4 bytes spill loads\n",
      "\n",
      "2025-02-25 20:38:28.437603: I external/local_xla/xla/stream_executor/cuda/cuda_asm_compiler.cc:397] ptxas warning : Registers are spilled to local memory in function 'gemm_fusion_dot_28', 4 bytes spill stores, 4 bytes spill loads\n",
      "\n",
      "2025-02-25 20:38:28.448861: I external/local_xla/xla/stream_executor/cuda/cuda_asm_compiler.cc:397] ptxas warning : Registers are spilled to local memory in function 'gemm_fusion_dot_28', 4 bytes spill stores, 4 bytes spill loads\n",
      "\n",
      "2025-02-25 20:38:28.458891: I external/local_xla/xla/stream_executor/cuda/cuda_asm_compiler.cc:397] ptxas warning : Registers are spilled to local memory in function 'gemm_fusion_dot_28', 16 bytes spill stores, 16 bytes spill loads\n",
      "\n",
      "2025-02-25 20:38:28.464013: I external/local_xla/xla/stream_executor/cuda/cuda_asm_compiler.cc:397] ptxas warning : Registers are spilled to local memory in function 'gemm_fusion_dot_28', 8 bytes spill stores, 8 bytes spill loads\n",
      "\n",
      "2025-02-25 20:38:28.501060: I external/local_xla/xla/stream_executor/cuda/cuda_asm_compiler.cc:397] ptxas warning : Registers are spilled to local memory in function 'gemm_fusion_dot_10', 8 bytes spill stores, 8 bytes spill loads\n",
      "\n",
      "2025-02-25 20:38:28.550107: I external/local_xla/xla/stream_executor/cuda/cuda_asm_compiler.cc:397] ptxas warning : Registers are spilled to local memory in function 'gemm_fusion_dot_8', 8 bytes spill stores, 8 bytes spill loads\n",
      "\n",
      "2025-02-25 20:38:28.797593: I external/local_xla/xla/stream_executor/cuda/cuda_asm_compiler.cc:397] ptxas warning : Registers are spilled to local memory in function 'gemm_fusion_dot_10', 8 bytes spill stores, 8 bytes spill loads\n",
      "\n",
      "2025-02-25 20:38:28.965817: I external/local_xla/xla/stream_executor/cuda/cuda_asm_compiler.cc:397] ptxas warning : Registers are spilled to local memory in function 'gemm_fusion_dot_8', 8 bytes spill stores, 8 bytes spill loads\n",
      "\n",
      "2025-02-25 20:38:28.966355: I external/local_xla/xla/stream_executor/cuda/cuda_asm_compiler.cc:397] ptxas warning : Registers are spilled to local memory in function 'gemm_fusion_dot_10', 8 bytes spill stores, 8 bytes spill loads\n",
      "\n",
      "2025-02-25 20:38:31.542131: I external/local_xla/xla/stream_executor/cuda/cuda_asm_compiler.cc:397] ptxas warning : Registers are spilled to local memory in function 'gemm_fusion_dot_28', 8 bytes spill stores, 8 bytes spill loads\n",
      "\n",
      "2025-02-25 20:38:31.610415: I external/local_xla/xla/stream_executor/cuda/cuda_asm_compiler.cc:397] ptxas warning : Registers are spilled to local memory in function 'gemm_fusion_dot_28', 16 bytes spill stores, 16 bytes spill loads\n",
      "\n",
      "2025-02-25 20:38:31.626382: I external/local_xla/xla/stream_executor/cuda/cuda_asm_compiler.cc:397] ptxas warning : Registers are spilled to local memory in function 'gemm_fusion_dot_28', 4 bytes spill stores, 4 bytes spill loads\n",
      "\n",
      "2025-02-25 20:38:31.634345: I external/local_xla/xla/stream_executor/cuda/cuda_asm_compiler.cc:397] ptxas warning : Registers are spilled to local memory in function 'gemm_fusion_dot_28', 4 bytes spill stores, 4 bytes spill loads\n",
      "\n",
      "2025-02-25 20:38:31.638112: I external/local_xla/xla/stream_executor/cuda/cuda_asm_compiler.cc:397] ptxas warning : Registers are spilled to local memory in function 'gemm_fusion_dot_8', 8 bytes spill stores, 8 bytes spill loads\n",
      "\n",
      "2025-02-25 20:38:31.688438: I external/local_xla/xla/stream_executor/cuda/cuda_asm_compiler.cc:397] ptxas warning : Registers are spilled to local memory in function 'gemm_fusion_dot_28', 4 bytes spill stores, 4 bytes spill loads\n",
      "\n",
      "2025-02-25 20:38:31.937942: I external/local_xla/xla/stream_executor/cuda/cuda_asm_compiler.cc:397] ptxas warning : Registers are spilled to local memory in function 'gemm_fusion_dot_8', 8 bytes spill stores, 8 bytes spill loads\n",
      "\n",
      "2025-02-25 20:38:32.074870: I external/local_xla/xla/stream_executor/cuda/cuda_asm_compiler.cc:397] ptxas warning : Registers are spilled to local memory in function 'gemm_fusion_dot_10', 8 bytes spill stores, 8 bytes spill loads\n",
      "\n",
      "2025-02-25 20:38:32.315988: I external/local_xla/xla/stream_executor/cuda/cuda_asm_compiler.cc:397] ptxas warning : Registers are spilled to local memory in function 'gemm_fusion_dot_10', 8 bytes spill stores, 8 bytes spill loads\n",
      "\n",
      "2025-02-25 20:38:32.391102: I external/local_xla/xla/stream_executor/cuda/cuda_asm_compiler.cc:397] ptxas warning : Registers are spilled to local memory in function 'gemm_fusion_dot_10', 8 bytes spill stores, 8 bytes spill loads\n",
      "\n"
     ]
    },
    {
     "name": "stdout",
     "output_type": "stream",
     "text": [
      "\u001b[1m32/32\u001b[0m \u001b[32m━━━━━━━━━━━━━━━━━━━━\u001b[0m\u001b[37m\u001b[0m \u001b[1m1s\u001b[0m 28ms/step  \n",
      "Transformer MSE: 0.0388330456716608\n",
      "Testing params: {'num_heads': 2, 'lookback': 5, 'dropout_rate': 0.25, 'batch_size': 64, 'ff_dim': 64}\n"
     ]
    },
    {
     "name": "stderr",
     "output_type": "stream",
     "text": [
      "2025-02-25 20:38:47.556085: I external/local_xla/xla/stream_executor/cuda/cuda_asm_compiler.cc:397] ptxas warning : Registers are spilled to local memory in function 'gemm_fusion_dot_28', 4 bytes spill stores, 4 bytes spill loads\n",
      "\n",
      "2025-02-25 20:38:47.636526: I external/local_xla/xla/stream_executor/cuda/cuda_asm_compiler.cc:397] ptxas warning : Registers are spilled to local memory in function 'gemm_fusion_dot_28', 4 bytes spill stores, 4 bytes spill loads\n",
      "\n",
      "2025-02-25 20:38:47.638263: I external/local_xla/xla/stream_executor/cuda/cuda_asm_compiler.cc:397] ptxas warning : Registers are spilled to local memory in function 'gemm_fusion_dot_28', 8 bytes spill stores, 8 bytes spill loads\n",
      "\n",
      "2025-02-25 20:38:47.928560: I external/local_xla/xla/stream_executor/cuda/cuda_asm_compiler.cc:397] ptxas warning : Registers are spilled to local memory in function 'gemm_fusion_dot_10', 8 bytes spill stores, 8 bytes spill loads\n",
      "\n",
      "2025-02-25 20:38:47.960031: I external/local_xla/xla/stream_executor/cuda/cuda_asm_compiler.cc:397] ptxas warning : Registers are spilled to local memory in function 'gemm_fusion_dot_10', 8 bytes spill stores, 8 bytes spill loads\n",
      "\n",
      "2025-02-25 20:38:47.974084: I external/local_xla/xla/stream_executor/cuda/cuda_asm_compiler.cc:397] ptxas warning : Registers are spilled to local memory in function 'gemm_fusion_dot_8', 8 bytes spill stores, 8 bytes spill loads\n",
      "\n"
     ]
    },
    {
     "name": "stdout",
     "output_type": "stream",
     "text": [
      "\u001b[1m32/32\u001b[0m \u001b[32m━━━━━━━━━━━━━━━━━━━━\u001b[0m\u001b[37m\u001b[0m \u001b[1m1s\u001b[0m 11ms/step  \n",
      "Transformer MSE: 0.04447635155439925\n",
      "Testing params: {'num_heads': 2, 'lookback': 5, 'dropout_rate': 0.25, 'batch_size': 64, 'ff_dim': 128}\n"
     ]
    },
    {
     "name": "stderr",
     "output_type": "stream",
     "text": [
      "2025-02-25 20:39:00.356409: I external/local_xla/xla/stream_executor/cuda/cuda_asm_compiler.cc:397] ptxas warning : Registers are spilled to local memory in function 'gemm_fusion_dot_28', 8 bytes spill stores, 8 bytes spill loads\n",
      "\n",
      "2025-02-25 20:39:00.383267: I external/local_xla/xla/stream_executor/cuda/cuda_asm_compiler.cc:397] ptxas warning : Registers are spilled to local memory in function 'gemm_fusion_dot_8', 8 bytes spill stores, 8 bytes spill loads\n",
      "\n",
      "2025-02-25 20:39:00.385837: I external/local_xla/xla/stream_executor/cuda/cuda_asm_compiler.cc:397] ptxas warning : Registers are spilled to local memory in function 'gemm_fusion_dot_28', 4 bytes spill stores, 4 bytes spill loads\n",
      "\n",
      "2025-02-25 20:39:00.430737: I external/local_xla/xla/stream_executor/cuda/cuda_asm_compiler.cc:397] ptxas warning : Registers are spilled to local memory in function 'gemm_fusion_dot_28', 4 bytes spill stores, 4 bytes spill loads\n",
      "\n",
      "2025-02-25 20:39:00.466452: I external/local_xla/xla/stream_executor/cuda/cuda_asm_compiler.cc:397] ptxas warning : Registers are spilled to local memory in function 'gemm_fusion_dot_28', 4 bytes spill stores, 4 bytes spill loads\n",
      "\n",
      "2025-02-25 20:39:00.822279: I external/local_xla/xla/stream_executor/cuda/cuda_asm_compiler.cc:397] ptxas warning : Registers are spilled to local memory in function 'gemm_fusion_dot_8', 8 bytes spill stores, 8 bytes spill loads\n",
      "\n",
      "2025-02-25 20:39:00.847822: I external/local_xla/xla/stream_executor/cuda/cuda_asm_compiler.cc:397] ptxas warning : Registers are spilled to local memory in function 'gemm_fusion_dot_10', 8 bytes spill stores, 8 bytes spill loads\n",
      "\n",
      "2025-02-25 20:39:00.883194: I external/local_xla/xla/stream_executor/cuda/cuda_asm_compiler.cc:397] ptxas warning : Registers are spilled to local memory in function 'gemm_fusion_dot_10', 8 bytes spill stores, 8 bytes spill loads\n",
      "\n"
     ]
    },
    {
     "name": "stdout",
     "output_type": "stream",
     "text": [
      "\u001b[1m32/32\u001b[0m \u001b[32m━━━━━━━━━━━━━━━━━━━━\u001b[0m\u001b[37m\u001b[0m \u001b[1m1s\u001b[0m 13ms/step  \n",
      "Transformer MSE: 0.07082383508594016\n",
      "Testing params: {'num_heads': 2, 'lookback': 10, 'dropout_rate': 0.25, 'batch_size': 32, 'ff_dim': 64}\n"
     ]
    },
    {
     "name": "stderr",
     "output_type": "stream",
     "text": [
      "2025-02-25 20:39:17.876955: I external/local_xla/xla/stream_executor/cuda/cuda_asm_compiler.cc:397] ptxas warning : Registers are spilled to local memory in function 'gemm_fusion_dot_28', 8 bytes spill stores, 8 bytes spill loads\n",
      "\n",
      "2025-02-25 20:39:17.931780: I external/local_xla/xla/stream_executor/cuda/cuda_asm_compiler.cc:397] ptxas warning : Registers are spilled to local memory in function 'gemm_fusion_dot_28', 4 bytes spill stores, 4 bytes spill loads\n",
      "\n",
      "2025-02-25 20:39:17.977997: I external/local_xla/xla/stream_executor/cuda/cuda_asm_compiler.cc:397] ptxas warning : Registers are spilled to local memory in function 'gemm_fusion_dot_28', 4 bytes spill stores, 4 bytes spill loads\n",
      "\n",
      "2025-02-25 20:39:18.158632: I external/local_xla/xla/stream_executor/cuda/cuda_asm_compiler.cc:397] ptxas warning : Registers are spilled to local memory in function 'gemm_fusion_dot_8', 8 bytes spill stores, 8 bytes spill loads\n",
      "\n",
      "2025-02-25 20:39:18.369073: I external/local_xla/xla/stream_executor/cuda/cuda_asm_compiler.cc:397] ptxas warning : Registers are spilled to local memory in function 'gemm_fusion_dot_10', 8 bytes spill stores, 8 bytes spill loads\n",
      "\n",
      "2025-02-25 20:39:18.526152: I external/local_xla/xla/stream_executor/cuda/cuda_asm_compiler.cc:397] ptxas warning : Registers are spilled to local memory in function 'gemm_fusion_dot_10', 8 bytes spill stores, 8 bytes spill loads\n",
      "\n",
      "2025-02-25 20:39:20.107285: I external/local_xla/xla/stream_executor/cuda/cuda_asm_compiler.cc:397] ptxas warning : Registers are spilled to local memory in function 'input_add_reduce_select_fusion', 136 bytes spill stores, 100 bytes spill loads\n",
      "\n"
     ]
    },
    {
     "name": "stdout",
     "output_type": "stream",
     "text": [
      "\u001b[1m32/32\u001b[0m \u001b[32m━━━━━━━━━━━━━━━━━━━━\u001b[0m\u001b[37m\u001b[0m \u001b[1m1s\u001b[0m 27ms/step  \n",
      "Transformer MSE: 0.05039042510240451\n",
      "Testing params: {'num_heads': 2, 'lookback': 10, 'dropout_rate': 0.25, 'batch_size': 32, 'ff_dim': 128}\n"
     ]
    },
    {
     "name": "stderr",
     "output_type": "stream",
     "text": [
      "2025-02-25 20:39:39.372460: I external/local_xla/xla/stream_executor/cuda/cuda_asm_compiler.cc:397] ptxas warning : Registers are spilled to local memory in function 'gemm_fusion_dot_28', 4 bytes spill stores, 4 bytes spill loads\n",
      "\n",
      "2025-02-25 20:39:39.434253: I external/local_xla/xla/stream_executor/cuda/cuda_asm_compiler.cc:397] ptxas warning : Registers are spilled to local memory in function 'gemm_fusion_dot_28', 8 bytes spill stores, 8 bytes spill loads\n",
      "\n",
      "2025-02-25 20:39:39.434681: I external/local_xla/xla/stream_executor/cuda/cuda_asm_compiler.cc:397] ptxas warning : Registers are spilled to local memory in function 'gemm_fusion_dot_28', 16 bytes spill stores, 16 bytes spill loads\n",
      "\n",
      "2025-02-25 20:39:39.489043: I external/local_xla/xla/stream_executor/cuda/cuda_asm_compiler.cc:397] ptxas warning : Registers are spilled to local memory in function 'gemm_fusion_dot_28', 4 bytes spill stores, 4 bytes spill loads\n",
      "\n",
      "2025-02-25 20:39:39.526209: I external/local_xla/xla/stream_executor/cuda/cuda_asm_compiler.cc:397] ptxas warning : Registers are spilled to local memory in function 'gemm_fusion_dot_28', 4 bytes spill stores, 4 bytes spill loads\n",
      "\n",
      "2025-02-25 20:39:39.888090: I external/local_xla/xla/stream_executor/cuda/cuda_asm_compiler.cc:397] ptxas warning : Registers are spilled to local memory in function 'gemm_fusion_dot_8', 8 bytes spill stores, 8 bytes spill loads\n",
      "\n",
      "2025-02-25 20:39:40.000308: I external/local_xla/xla/stream_executor/cuda/cuda_asm_compiler.cc:397] ptxas warning : Registers are spilled to local memory in function 'gemm_fusion_dot_10', 8 bytes spill stores, 8 bytes spill loads\n",
      "\n",
      "2025-02-25 20:39:40.034129: I external/local_xla/xla/stream_executor/cuda/cuda_asm_compiler.cc:397] ptxas warning : Registers are spilled to local memory in function 'gemm_fusion_dot_10', 8 bytes spill stores, 8 bytes spill loads\n",
      "\n",
      "2025-02-25 20:39:40.058839: I external/local_xla/xla/stream_executor/cuda/cuda_asm_compiler.cc:397] ptxas warning : Registers are spilled to local memory in function 'gemm_fusion_dot_8', 8 bytes spill stores, 8 bytes spill loads\n",
      "\n",
      "2025-02-25 20:39:40.203171: I external/local_xla/xla/stream_executor/cuda/cuda_asm_compiler.cc:397] ptxas warning : Registers are spilled to local memory in function 'gemm_fusion_dot_10', 8 bytes spill stores, 8 bytes spill loads\n",
      "\n",
      "2025-02-25 20:39:41.847608: I external/local_xla/xla/stream_executor/cuda/cuda_asm_compiler.cc:397] ptxas warning : Registers are spilled to local memory in function 'input_add_reduce_select_fusion', 136 bytes spill stores, 100 bytes spill loads\n",
      "\n"
     ]
    },
    {
     "name": "stdout",
     "output_type": "stream",
     "text": [
      "\u001b[1m 1/32\u001b[0m \u001b[37m━━━━━━━━━━━━━━━━━━━━\u001b[0m \u001b[1m14s\u001b[0m 477ms/step"
     ]
    },
    {
     "name": "stderr",
     "output_type": "stream",
     "text": [
      "2025-02-25 20:39:54.611326: I external/local_xla/xla/stream_executor/cuda/cuda_asm_compiler.cc:397] ptxas warning : Registers are spilled to local memory in function 'gemm_fusion_dot_10', 16 bytes spill stores, 16 bytes spill loads\n",
      "\n"
     ]
    },
    {
     "name": "stdout",
     "output_type": "stream",
     "text": [
      "\u001b[1m32/32\u001b[0m \u001b[32m━━━━━━━━━━━━━━━━━━━━\u001b[0m\u001b[37m\u001b[0m \u001b[1m1s\u001b[0m 32ms/step  \n",
      "Transformer MSE: 0.06570877459390505\n",
      "Testing params: {'num_heads': 2, 'lookback': 10, 'dropout_rate': 0.25, 'batch_size': 64, 'ff_dim': 64}\n"
     ]
    },
    {
     "name": "stderr",
     "output_type": "stream",
     "text": [
      "2025-02-25 20:39:57.592456: I external/local_xla/xla/stream_executor/cuda/cuda_asm_compiler.cc:397] ptxas warning : Registers are spilled to local memory in function 'gemm_fusion_dot_28', 8 bytes spill stores, 8 bytes spill loads\n",
      "\n",
      "2025-02-25 20:39:57.637312: I external/local_xla/xla/stream_executor/cuda/cuda_asm_compiler.cc:397] ptxas warning : Registers are spilled to local memory in function 'gemm_fusion_dot_10', 8 bytes spill stores, 8 bytes spill loads\n",
      "\n",
      "2025-02-25 20:39:57.719904: I external/local_xla/xla/stream_executor/cuda/cuda_asm_compiler.cc:397] ptxas warning : Registers are spilled to local memory in function 'gemm_fusion_dot_28', 4 bytes spill stores, 4 bytes spill loads\n",
      "\n",
      "2025-02-25 20:39:57.731233: I external/local_xla/xla/stream_executor/cuda/cuda_asm_compiler.cc:397] ptxas warning : Registers are spilled to local memory in function 'gemm_fusion_dot_10', 32 bytes spill stores, 32 bytes spill loads\n",
      "\n",
      "2025-02-25 20:39:57.957401: I external/local_xla/xla/stream_executor/cuda/cuda_asm_compiler.cc:397] ptxas warning : Registers are spilled to local memory in function 'gemm_fusion_dot_8', 8 bytes spill stores, 8 bytes spill loads\n",
      "\n"
     ]
    },
    {
     "name": "stdout",
     "output_type": "stream",
     "text": [
      "\u001b[1m32/32\u001b[0m \u001b[32m━━━━━━━━━━━━━━━━━━━━\u001b[0m\u001b[37m\u001b[0m \u001b[1m1s\u001b[0m 12ms/step  \n",
      "Transformer MSE: 0.04979000189110859\n",
      "Testing params: {'num_heads': 2, 'lookback': 10, 'dropout_rate': 0.25, 'batch_size': 64, 'ff_dim': 128}\n"
     ]
    },
    {
     "name": "stderr",
     "output_type": "stream",
     "text": [
      "2025-02-25 20:40:11.946369: I external/local_xla/xla/stream_executor/cuda/cuda_asm_compiler.cc:397] ptxas warning : Registers are spilled to local memory in function 'gemm_fusion_dot_28', 4 bytes spill stores, 4 bytes spill loads\n",
      "\n",
      "2025-02-25 20:40:11.968956: I external/local_xla/xla/stream_executor/cuda/cuda_asm_compiler.cc:397] ptxas warning : Registers are spilled to local memory in function 'gemm_fusion_dot_28', 8 bytes spill stores, 8 bytes spill loads\n",
      "\n",
      "2025-02-25 20:40:12.080207: I external/local_xla/xla/stream_executor/cuda/cuda_asm_compiler.cc:397] ptxas warning : Registers are spilled to local memory in function 'gemm_fusion_dot_10', 32 bytes spill stores, 32 bytes spill loads\n",
      "\n",
      "2025-02-25 20:40:12.156247: I external/local_xla/xla/stream_executor/cuda/cuda_asm_compiler.cc:397] ptxas warning : Registers are spilled to local memory in function 'gemm_fusion_dot_8', 8 bytes spill stores, 8 bytes spill loads\n",
      "\n",
      "2025-02-25 20:40:12.335032: I external/local_xla/xla/stream_executor/cuda/cuda_asm_compiler.cc:397] ptxas warning : Registers are spilled to local memory in function 'gemm_fusion_dot_8', 32 bytes spill stores, 32 bytes spill loads\n",
      "\n",
      "2025-02-25 20:40:12.393487: I external/local_xla/xla/stream_executor/cuda/cuda_asm_compiler.cc:397] ptxas warning : Registers are spilled to local memory in function 'gemm_fusion_dot_10', 8 bytes spill stores, 8 bytes spill loads\n",
      "\n",
      "2025-02-25 20:40:12.439146: I external/local_xla/xla/stream_executor/cuda/cuda_asm_compiler.cc:397] ptxas warning : Registers are spilled to local memory in function 'gemm_fusion_dot_10', 32 bytes spill stores, 32 bytes spill loads\n",
      "\n",
      "2025-02-25 20:40:16.238467: I external/local_xla/xla/stream_executor/cuda/cuda_asm_compiler.cc:397] ptxas warning : Registers are spilled to local memory in function 'input_add_reduce_select_fusion', 136 bytes spill stores, 100 bytes spill loads\n",
      "\n"
     ]
    },
    {
     "name": "stdout",
     "output_type": "stream",
     "text": [
      "\u001b[1m32/32\u001b[0m \u001b[32m━━━━━━━━━━━━━━━━━━━━\u001b[0m\u001b[37m\u001b[0m \u001b[1m1s\u001b[0m 12ms/step  \n",
      "Transformer MSE: 0.046031485127935284\n",
      "Testing params: {'num_heads': 2, 'lookback': 15, 'dropout_rate': 0.25, 'batch_size': 32, 'ff_dim': 64}\n"
     ]
    },
    {
     "name": "stderr",
     "output_type": "stream",
     "text": [
      "2025-02-25 20:40:26.066582: I external/local_xla/xla/stream_executor/cuda/cuda_asm_compiler.cc:397] ptxas warning : Registers are spilled to local memory in function 'gemm_fusion_dot_28', 8 bytes spill stores, 8 bytes spill loads\n",
      "\n",
      "2025-02-25 20:40:26.119651: I external/local_xla/xla/stream_executor/cuda/cuda_asm_compiler.cc:397] ptxas warning : Registers are spilled to local memory in function 'gemm_fusion_dot_28', 4 bytes spill stores, 4 bytes spill loads\n",
      "\n",
      "2025-02-25 20:40:26.135643: I external/local_xla/xla/stream_executor/cuda/cuda_asm_compiler.cc:397] ptxas warning : Registers are spilled to local memory in function 'gemm_fusion_dot_8', 8 bytes spill stores, 8 bytes spill loads\n",
      "\n",
      "2025-02-25 20:40:26.166136: I external/local_xla/xla/stream_executor/cuda/cuda_asm_compiler.cc:397] ptxas warning : Registers are spilled to local memory in function 'gemm_fusion_dot_28', 4 bytes spill stores, 4 bytes spill loads\n",
      "\n",
      "2025-02-25 20:40:26.535668: I external/local_xla/xla/stream_executor/cuda/cuda_asm_compiler.cc:397] ptxas warning : Registers are spilled to local memory in function 'gemm_fusion_dot_10', 8 bytes spill stores, 8 bytes spill loads\n",
      "\n",
      "2025-02-25 20:40:26.537679: I external/local_xla/xla/stream_executor/cuda/cuda_asm_compiler.cc:397] ptxas warning : Registers are spilled to local memory in function 'gemm_fusion_dot_10', 8 bytes spill stores, 8 bytes spill loads\n",
      "\n",
      "2025-02-25 20:40:29.293131: I external/local_xla/xla/stream_executor/cuda/cuda_asm_compiler.cc:397] ptxas warning : Registers are spilled to local memory in function 'gemm_fusion_dot_28', 8 bytes spill stores, 8 bytes spill loads\n",
      "\n",
      "2025-02-25 20:40:29.298011: I external/local_xla/xla/stream_executor/cuda/cuda_asm_compiler.cc:397] ptxas warning : Registers are spilled to local memory in function 'gemm_fusion_dot_28', 4 bytes spill stores, 4 bytes spill loads\n",
      "\n",
      "2025-02-25 20:40:29.339968: I external/local_xla/xla/stream_executor/cuda/cuda_asm_compiler.cc:397] ptxas warning : Registers are spilled to local memory in function 'gemm_fusion_dot_28', 4 bytes spill stores, 4 bytes spill loads\n",
      "\n",
      "2025-02-25 20:40:29.608177: I external/local_xla/xla/stream_executor/cuda/cuda_asm_compiler.cc:397] ptxas warning : Registers are spilled to local memory in function 'gemm_fusion_dot_8', 8 bytes spill stores, 8 bytes spill loads\n",
      "\n",
      "2025-02-25 20:40:29.804903: I external/local_xla/xla/stream_executor/cuda/cuda_asm_compiler.cc:397] ptxas warning : Registers are spilled to local memory in function 'gemm_fusion_dot_10', 8 bytes spill stores, 8 bytes spill loads\n",
      "\n",
      "2025-02-25 20:40:29.921662: I external/local_xla/xla/stream_executor/cuda/cuda_asm_compiler.cc:397] ptxas warning : Registers are spilled to local memory in function 'gemm_fusion_dot_10', 8 bytes spill stores, 8 bytes spill loads\n",
      "\n",
      "2025-02-25 20:40:31.538833: I external/local_xla/xla/stream_executor/cuda/cuda_asm_compiler.cc:397] ptxas warning : Registers are spilled to local memory in function 'input_reduce_select_fusion', 12 bytes spill stores, 8 bytes spill loads\n",
      "ptxas warning : Registers are spilled to local memory in function 'input_add_reduce_select_fusion', 136 bytes spill stores, 92 bytes spill loads\n",
      "\n"
     ]
    },
    {
     "name": "stdout",
     "output_type": "stream",
     "text": [
      "\u001b[1m32/32\u001b[0m \u001b[32m━━━━━━━━━━━━━━━━━━━━\u001b[0m\u001b[37m\u001b[0m \u001b[1m1s\u001b[0m 26ms/step  \n",
      "Transformer MSE: 0.06354453824745396\n",
      "Testing params: {'num_heads': 2, 'lookback': 15, 'dropout_rate': 0.25, 'batch_size': 32, 'ff_dim': 128}\n"
     ]
    },
    {
     "name": "stderr",
     "output_type": "stream",
     "text": [
      "2025-02-25 20:40:47.153862: I external/local_xla/xla/stream_executor/cuda/cuda_asm_compiler.cc:397] ptxas warning : Registers are spilled to local memory in function 'gemm_fusion_dot_28', 4 bytes spill stores, 4 bytes spill loads\n",
      "\n",
      "2025-02-25 20:40:47.172722: I external/local_xla/xla/stream_executor/cuda/cuda_asm_compiler.cc:397] ptxas warning : Registers are spilled to local memory in function 'gemm_fusion_dot_28', 4 bytes spill stores, 4 bytes spill loads\n",
      "\n",
      "2025-02-25 20:40:47.203585: I external/local_xla/xla/stream_executor/cuda/cuda_asm_compiler.cc:397] ptxas warning : Registers are spilled to local memory in function 'gemm_fusion_dot_28', 16 bytes spill stores, 16 bytes spill loads\n",
      "\n",
      "2025-02-25 20:40:47.231113: I external/local_xla/xla/stream_executor/cuda/cuda_asm_compiler.cc:397] ptxas warning : Registers are spilled to local memory in function 'gemm_fusion_dot_28', 4 bytes spill stores, 4 bytes spill loads\n",
      "\n",
      "2025-02-25 20:40:47.253936: I external/local_xla/xla/stream_executor/cuda/cuda_asm_compiler.cc:397] ptxas warning : Registers are spilled to local memory in function 'gemm_fusion_dot_28', 8 bytes spill stores, 8 bytes spill loads\n",
      "\n",
      "2025-02-25 20:40:47.374830: I external/local_xla/xla/stream_executor/cuda/cuda_asm_compiler.cc:397] ptxas warning : Registers are spilled to local memory in function 'gemm_fusion_dot_8', 8 bytes spill stores, 8 bytes spill loads\n",
      "\n",
      "2025-02-25 20:40:47.400732: I external/local_xla/xla/stream_executor/cuda/cuda_asm_compiler.cc:397] ptxas warning : Registers are spilled to local memory in function 'gemm_fusion_dot_8', 8 bytes spill stores, 8 bytes spill loads\n",
      "\n",
      "2025-02-25 20:40:47.595267: I external/local_xla/xla/stream_executor/cuda/cuda_asm_compiler.cc:397] ptxas warning : Registers are spilled to local memory in function 'gemm_fusion_dot_10', 8 bytes spill stores, 8 bytes spill loads\n",
      "\n",
      "2025-02-25 20:40:47.603977: I external/local_xla/xla/stream_executor/cuda/cuda_asm_compiler.cc:397] ptxas warning : Registers are spilled to local memory in function 'gemm_fusion_dot_10', 8 bytes spill stores, 8 bytes spill loads\n",
      "\n",
      "2025-02-25 20:40:47.749706: I external/local_xla/xla/stream_executor/cuda/cuda_asm_compiler.cc:397] ptxas warning : Registers are spilled to local memory in function 'gemm_fusion_dot_10', 8 bytes spill stores, 8 bytes spill loads\n",
      "\n",
      "2025-02-25 20:40:50.410817: I external/local_xla/xla/stream_executor/cuda/cuda_asm_compiler.cc:397] ptxas warning : Registers are spilled to local memory in function 'gemm_fusion_dot_28', 4 bytes spill stores, 4 bytes spill loads\n",
      "\n",
      "2025-02-25 20:40:50.416482: I external/local_xla/xla/stream_executor/cuda/cuda_asm_compiler.cc:397] ptxas warning : Registers are spilled to local memory in function 'gemm_fusion_dot_28', 4 bytes spill stores, 4 bytes spill loads\n",
      "\n",
      "2025-02-25 20:40:50.455551: I external/local_xla/xla/stream_executor/cuda/cuda_asm_compiler.cc:397] ptxas warning : Registers are spilled to local memory in function 'gemm_fusion_dot_28', 16 bytes spill stores, 16 bytes spill loads\n",
      "\n",
      "2025-02-25 20:40:50.511359: I external/local_xla/xla/stream_executor/cuda/cuda_asm_compiler.cc:397] ptxas warning : Registers are spilled to local memory in function 'gemm_fusion_dot_28', 8 bytes spill stores, 8 bytes spill loads\n",
      "\n",
      "2025-02-25 20:40:50.531355: I external/local_xla/xla/stream_executor/cuda/cuda_asm_compiler.cc:397] ptxas warning : Registers are spilled to local memory in function 'gemm_fusion_dot_28', 4 bytes spill stores, 4 bytes spill loads\n",
      "\n",
      "2025-02-25 20:40:50.614326: I external/local_xla/xla/stream_executor/cuda/cuda_asm_compiler.cc:397] ptxas warning : Registers are spilled to local memory in function 'gemm_fusion_dot_10', 8 bytes spill stores, 8 bytes spill loads\n",
      "\n",
      "2025-02-25 20:40:50.746051: I external/local_xla/xla/stream_executor/cuda/cuda_asm_compiler.cc:397] ptxas warning : Registers are spilled to local memory in function 'gemm_fusion_dot_10', 8 bytes spill stores, 8 bytes spill loads\n",
      "\n",
      "2025-02-25 20:40:50.777954: I external/local_xla/xla/stream_executor/cuda/cuda_asm_compiler.cc:397] ptxas warning : Registers are spilled to local memory in function 'gemm_fusion_dot_8', 8 bytes spill stores, 8 bytes spill loads\n",
      "\n",
      "2025-02-25 20:40:51.094786: I external/local_xla/xla/stream_executor/cuda/cuda_asm_compiler.cc:397] ptxas warning : Registers are spilled to local memory in function 'gemm_fusion_dot_8', 8 bytes spill stores, 8 bytes spill loads\n",
      "\n",
      "2025-02-25 20:40:51.199209: I external/local_xla/xla/stream_executor/cuda/cuda_asm_compiler.cc:397] ptxas warning : Registers are spilled to local memory in function 'gemm_fusion_dot_10', 8 bytes spill stores, 8 bytes spill loads\n",
      "\n",
      "2025-02-25 20:40:52.885680: I external/local_xla/xla/stream_executor/cuda/cuda_asm_compiler.cc:397] ptxas warning : Registers are spilled to local memory in function 'input_reduce_select_fusion', 12 bytes spill stores, 8 bytes spill loads\n",
      "ptxas warning : Registers are spilled to local memory in function 'input_add_reduce_select_fusion', 136 bytes spill stores, 92 bytes spill loads\n",
      "\n"
     ]
    },
    {
     "name": "stdout",
     "output_type": "stream",
     "text": [
      "\u001b[1m 1/32\u001b[0m \u001b[37m━━━━━━━━━━━━━━━━━━━━\u001b[0m \u001b[1m14s\u001b[0m 461ms/step"
     ]
    },
    {
     "name": "stderr",
     "output_type": "stream",
     "text": [
      "2025-02-25 20:41:06.040355: I external/local_xla/xla/stream_executor/cuda/cuda_asm_compiler.cc:397] ptxas warning : Registers are spilled to local memory in function 'gemm_fusion_dot_10', 16 bytes spill stores, 16 bytes spill loads\n",
      "\n"
     ]
    },
    {
     "name": "stdout",
     "output_type": "stream",
     "text": [
      "\u001b[1m32/32\u001b[0m \u001b[32m━━━━━━━━━━━━━━━━━━━━\u001b[0m\u001b[37m\u001b[0m \u001b[1m1s\u001b[0m 29ms/step  \n",
      "Transformer MSE: 0.06139422979911398\n",
      "Testing params: {'num_heads': 2, 'lookback': 15, 'dropout_rate': 0.25, 'batch_size': 64, 'ff_dim': 64}\n"
     ]
    },
    {
     "name": "stderr",
     "output_type": "stream",
     "text": [
      "2025-02-25 20:41:09.026983: I external/local_xla/xla/stream_executor/cuda/cuda_asm_compiler.cc:397] ptxas warning : Registers are spilled to local memory in function 'gemm_fusion_dot_28', 4 bytes spill stores, 4 bytes spill loads\n",
      "\n",
      "2025-02-25 20:41:09.045712: I external/local_xla/xla/stream_executor/cuda/cuda_asm_compiler.cc:397] ptxas warning : Registers are spilled to local memory in function 'gemm_fusion_dot_28', 4 bytes spill stores, 4 bytes spill loads\n",
      "\n",
      "2025-02-25 20:41:09.050825: I external/local_xla/xla/stream_executor/cuda/cuda_asm_compiler.cc:397] ptxas warning : Registers are spilled to local memory in function 'gemm_fusion_dot_28', 8 bytes spill stores, 8 bytes spill loads\n",
      "\n",
      "2025-02-25 20:41:09.129741: I external/local_xla/xla/stream_executor/cuda/cuda_asm_compiler.cc:397] ptxas warning : Registers are spilled to local memory in function 'gemm_fusion_dot_8', 8 bytes spill stores, 8 bytes spill loads\n",
      "\n",
      "2025-02-25 20:41:09.269712: I external/local_xla/xla/stream_executor/cuda/cuda_asm_compiler.cc:397] ptxas warning : Registers are spilled to local memory in function 'gemm_fusion_dot_10', 8 bytes spill stores, 8 bytes spill loads\n",
      "\n",
      "2025-02-25 20:41:09.356194: I external/local_xla/xla/stream_executor/cuda/cuda_asm_compiler.cc:397] ptxas warning : Registers are spilled to local memory in function 'gemm_fusion_dot_10', 8 bytes spill stores, 8 bytes spill loads\n",
      "\n",
      "2025-02-25 20:41:13.181825: I external/local_xla/xla/stream_executor/cuda/cuda_asm_compiler.cc:397] ptxas warning : Registers are spilled to local memory in function 'input_reduce_select_fusion', 12 bytes spill stores, 8 bytes spill loads\n",
      "ptxas warning : Registers are spilled to local memory in function 'input_add_reduce_select_fusion', 136 bytes spill stores, 92 bytes spill loads\n",
      "\n"
     ]
    },
    {
     "name": "stdout",
     "output_type": "stream",
     "text": [
      "\u001b[1m32/32\u001b[0m \u001b[32m━━━━━━━━━━━━━━━━━━━━\u001b[0m\u001b[37m\u001b[0m \u001b[1m1s\u001b[0m 12ms/step  \n",
      "Transformer MSE: 0.07282625520673922\n",
      "Testing params: {'num_heads': 2, 'lookback': 15, 'dropout_rate': 0.25, 'batch_size': 64, 'ff_dim': 128}\n"
     ]
    },
    {
     "name": "stderr",
     "output_type": "stream",
     "text": [
      "2025-02-25 20:41:24.063823: I external/local_xla/xla/stream_executor/cuda/cuda_asm_compiler.cc:397] ptxas warning : Registers are spilled to local memory in function 'gemm_fusion_dot_28', 4 bytes spill stores, 4 bytes spill loads\n",
      "\n",
      "2025-02-25 20:41:24.136392: I external/local_xla/xla/stream_executor/cuda/cuda_asm_compiler.cc:397] ptxas warning : Registers are spilled to local memory in function 'gemm_fusion_dot_28', 4 bytes spill stores, 4 bytes spill loads\n",
      "\n",
      "2025-02-25 20:41:24.168253: I external/local_xla/xla/stream_executor/cuda/cuda_asm_compiler.cc:397] ptxas warning : Registers are spilled to local memory in function 'gemm_fusion_dot_8', 8 bytes spill stores, 8 bytes spill loads\n",
      "\n",
      "2025-02-25 20:41:24.197899: I external/local_xla/xla/stream_executor/cuda/cuda_asm_compiler.cc:397] ptxas warning : Registers are spilled to local memory in function 'gemm_fusion_dot_28', 8 bytes spill stores, 8 bytes spill loads\n",
      "\n",
      "2025-02-25 20:41:24.211737: I external/local_xla/xla/stream_executor/cuda/cuda_asm_compiler.cc:397] ptxas warning : Registers are spilled to local memory in function 'gemm_fusion_dot_28', 4 bytes spill stores, 4 bytes spill loads\n",
      "\n",
      "2025-02-25 20:41:24.352600: I external/local_xla/xla/stream_executor/cuda/cuda_asm_compiler.cc:397] ptxas warning : Registers are spilled to local memory in function 'gemm_fusion_dot_8', 8 bytes spill stores, 8 bytes spill loads\n",
      "\n",
      "2025-02-25 20:41:24.516843: I external/local_xla/xla/stream_executor/cuda/cuda_asm_compiler.cc:397] ptxas warning : Registers are spilled to local memory in function 'gemm_fusion_dot_10', 8 bytes spill stores, 8 bytes spill loads\n",
      "\n",
      "2025-02-25 20:41:24.652129: I external/local_xla/xla/stream_executor/cuda/cuda_asm_compiler.cc:397] ptxas warning : Registers are spilled to local memory in function 'gemm_fusion_dot_10', 8 bytes spill stores, 8 bytes spill loads\n",
      "\n",
      "2025-02-25 20:41:28.622808: I external/local_xla/xla/stream_executor/cuda/cuda_asm_compiler.cc:397] ptxas warning : Registers are spilled to local memory in function 'input_reduce_select_fusion', 12 bytes spill stores, 8 bytes spill loads\n",
      "ptxas warning : Registers are spilled to local memory in function 'input_add_reduce_select_fusion', 136 bytes spill stores, 92 bytes spill loads\n",
      "\n"
     ]
    },
    {
     "name": "stdout",
     "output_type": "stream",
     "text": [
      "\u001b[1m32/32\u001b[0m \u001b[32m━━━━━━━━━━━━━━━━━━━━\u001b[0m\u001b[37m\u001b[0m \u001b[1m1s\u001b[0m 13ms/step  \n",
      "Transformer MSE: 0.07361154839274382\n",
      "Testing params: {'num_heads': 4, 'lookback': 5, 'dropout_rate': 0.25, 'batch_size': 32, 'ff_dim': 64}\n",
      "\u001b[1m32/32\u001b[0m \u001b[32m━━━━━━━━━━━━━━━━━━━━\u001b[0m\u001b[37m\u001b[0m \u001b[1m1s\u001b[0m 17ms/step  \n",
      "Transformer MSE: 0.05534748355513686\n",
      "Testing params: {'num_heads': 4, 'lookback': 5, 'dropout_rate': 0.25, 'batch_size': 32, 'ff_dim': 128}\n"
     ]
    },
    {
     "name": "stderr",
     "output_type": "stream",
     "text": [
      "2025-02-25 20:41:57.844528: I external/local_xla/xla/stream_executor/cuda/cuda_asm_compiler.cc:397] ptxas warning : Registers are spilled to local memory in function 'gemm_fusion_dot_28', 4 bytes spill stores, 4 bytes spill loads\n",
      "\n",
      "2025-02-25 20:41:57.854432: I external/local_xla/xla/stream_executor/cuda/cuda_asm_compiler.cc:397] ptxas warning : Registers are spilled to local memory in function 'gemm_fusion_dot_28', 4 bytes spill stores, 4 bytes spill loads\n",
      "\n",
      "2025-02-25 20:41:57.885587: I external/local_xla/xla/stream_executor/cuda/cuda_asm_compiler.cc:397] ptxas warning : Registers are spilled to local memory in function 'gemm_fusion_dot_28', 4 bytes spill stores, 4 bytes spill loads\n",
      "\n",
      "2025-02-25 20:41:57.895688: I external/local_xla/xla/stream_executor/cuda/cuda_asm_compiler.cc:397] ptxas warning : Registers are spilled to local memory in function 'gemm_fusion_dot_28', 16 bytes spill stores, 16 bytes spill loads\n",
      "\n",
      "2025-02-25 20:41:57.926395: I external/local_xla/xla/stream_executor/cuda/cuda_asm_compiler.cc:397] ptxas warning : Registers are spilled to local memory in function 'gemm_fusion_dot_28', 8 bytes spill stores, 8 bytes spill loads\n",
      "\n",
      "2025-02-25 20:41:58.062017: I external/local_xla/xla/stream_executor/cuda/cuda_asm_compiler.cc:397] ptxas warning : Registers are spilled to local memory in function 'gemm_fusion_dot_10', 8 bytes spill stores, 8 bytes spill loads\n",
      "\n",
      "2025-02-25 20:41:58.083015: I external/local_xla/xla/stream_executor/cuda/cuda_asm_compiler.cc:397] ptxas warning : Registers are spilled to local memory in function 'gemm_fusion_dot_10', 8 bytes spill stores, 8 bytes spill loads\n",
      "\n",
      "2025-02-25 20:41:58.090512: I external/local_xla/xla/stream_executor/cuda/cuda_asm_compiler.cc:397] ptxas warning : Registers are spilled to local memory in function 'gemm_fusion_dot_10', 8 bytes spill stores, 8 bytes spill loads\n",
      "\n",
      "2025-02-25 20:42:00.849855: I external/local_xla/xla/stream_executor/cuda/cuda_asm_compiler.cc:397] ptxas warning : Registers are spilled to local memory in function 'gemm_fusion_dot_28', 16 bytes spill stores, 16 bytes spill loads\n",
      "\n",
      "2025-02-25 20:42:00.861710: I external/local_xla/xla/stream_executor/cuda/cuda_asm_compiler.cc:397] ptxas warning : Registers are spilled to local memory in function 'gemm_fusion_dot_28', 4 bytes spill stores, 4 bytes spill loads\n",
      "\n",
      "2025-02-25 20:42:00.883549: I external/local_xla/xla/stream_executor/cuda/cuda_asm_compiler.cc:397] ptxas warning : Registers are spilled to local memory in function 'gemm_fusion_dot_28', 8 bytes spill stores, 8 bytes spill loads\n",
      "\n",
      "2025-02-25 20:42:00.884115: I external/local_xla/xla/stream_executor/cuda/cuda_asm_compiler.cc:397] ptxas warning : Registers are spilled to local memory in function 'gemm_fusion_dot_28', 4 bytes spill stores, 4 bytes spill loads\n",
      "\n",
      "2025-02-25 20:42:00.890949: I external/local_xla/xla/stream_executor/cuda/cuda_asm_compiler.cc:397] ptxas warning : Registers are spilled to local memory in function 'gemm_fusion_dot_28', 4 bytes spill stores, 4 bytes spill loads\n",
      "\n",
      "2025-02-25 20:42:00.989363: I external/local_xla/xla/stream_executor/cuda/cuda_asm_compiler.cc:397] ptxas warning : Registers are spilled to local memory in function 'gemm_fusion_dot_10', 8 bytes spill stores, 8 bytes spill loads\n",
      "\n",
      "2025-02-25 20:42:01.033691: I external/local_xla/xla/stream_executor/cuda/cuda_asm_compiler.cc:397] ptxas warning : Registers are spilled to local memory in function 'gemm_fusion_dot_10', 8 bytes spill stores, 8 bytes spill loads\n",
      "\n",
      "2025-02-25 20:42:01.136738: I external/local_xla/xla/stream_executor/cuda/cuda_asm_compiler.cc:397] ptxas warning : Registers are spilled to local memory in function 'gemm_fusion_dot_10', 8 bytes spill stores, 8 bytes spill loads\n",
      "\n"
     ]
    },
    {
     "name": "stdout",
     "output_type": "stream",
     "text": [
      "\u001b[1m32/32\u001b[0m \u001b[32m━━━━━━━━━━━━━━━━━━━━\u001b[0m\u001b[37m\u001b[0m \u001b[1m1s\u001b[0m 25ms/step  \n",
      "Transformer MSE: 0.038112220583029155\n",
      "Testing params: {'num_heads': 4, 'lookback': 5, 'dropout_rate': 0.25, 'batch_size': 64, 'ff_dim': 64}\n",
      "\u001b[1m32/32\u001b[0m \u001b[32m━━━━━━━━━━━━━━━━━━━━\u001b[0m\u001b[37m\u001b[0m \u001b[1m1s\u001b[0m 12ms/step  \n",
      "Transformer MSE: 0.036902758083136006\n",
      "Testing params: {'num_heads': 4, 'lookback': 5, 'dropout_rate': 0.25, 'batch_size': 64, 'ff_dim': 128}\n"
     ]
    },
    {
     "name": "stderr",
     "output_type": "stream",
     "text": [
      "2025-02-25 20:42:31.673623: I external/local_xla/xla/stream_executor/cuda/cuda_asm_compiler.cc:397] ptxas warning : Registers are spilled to local memory in function 'gemm_fusion_dot_28', 8 bytes spill stores, 8 bytes spill loads\n",
      "\n",
      "2025-02-25 20:42:31.684035: I external/local_xla/xla/stream_executor/cuda/cuda_asm_compiler.cc:397] ptxas warning : Registers are spilled to local memory in function 'gemm_fusion_dot_28', 4 bytes spill stores, 4 bytes spill loads\n",
      "\n",
      "2025-02-25 20:42:31.708585: I external/local_xla/xla/stream_executor/cuda/cuda_asm_compiler.cc:397] ptxas warning : Registers are spilled to local memory in function 'gemm_fusion_dot_10', 8 bytes spill stores, 8 bytes spill loads\n",
      "\n",
      "2025-02-25 20:42:31.745278: I external/local_xla/xla/stream_executor/cuda/cuda_asm_compiler.cc:397] ptxas warning : Registers are spilled to local memory in function 'gemm_fusion_dot_10', 8 bytes spill stores, 8 bytes spill loads\n",
      "\n",
      "2025-02-25 20:42:31.750865: I external/local_xla/xla/stream_executor/cuda/cuda_asm_compiler.cc:397] ptxas warning : Registers are spilled to local memory in function 'gemm_fusion_dot_28', 4 bytes spill stores, 4 bytes spill loads\n",
      "\n",
      "2025-02-25 20:42:31.764618: I external/local_xla/xla/stream_executor/cuda/cuda_asm_compiler.cc:397] ptxas warning : Registers are spilled to local memory in function 'gemm_fusion_dot_28', 4 bytes spill stores, 4 bytes spill loads\n",
      "\n"
     ]
    },
    {
     "name": "stdout",
     "output_type": "stream",
     "text": [
      "\u001b[1m32/32\u001b[0m \u001b[32m━━━━━━━━━━━━━━━━━━━━\u001b[0m\u001b[37m\u001b[0m \u001b[1m1s\u001b[0m 12ms/step  \n",
      "Transformer MSE: 0.04439687438942863\n",
      "Testing params: {'num_heads': 4, 'lookback': 10, 'dropout_rate': 0.25, 'batch_size': 32, 'ff_dim': 64}\n"
     ]
    },
    {
     "name": "stderr",
     "output_type": "stream",
     "text": [
      "2025-02-25 20:42:48.170575: I external/local_xla/xla/stream_executor/cuda/cuda_asm_compiler.cc:397] ptxas warning : Registers are spilled to local memory in function 'input_add_reduce_select_fusion', 136 bytes spill stores, 100 bytes spill loads\n",
      "\n"
     ]
    },
    {
     "name": "stdout",
     "output_type": "stream",
     "text": [
      "\u001b[1m32/32\u001b[0m \u001b[32m━━━━━━━━━━━━━━━━━━━━\u001b[0m\u001b[37m\u001b[0m \u001b[1m1s\u001b[0m 17ms/step  \n",
      "Transformer MSE: 0.08072970655993356\n",
      "Testing params: {'num_heads': 4, 'lookback': 10, 'dropout_rate': 0.25, 'batch_size': 32, 'ff_dim': 128}\n"
     ]
    },
    {
     "name": "stderr",
     "output_type": "stream",
     "text": [
      "2025-02-25 20:43:06.328259: I external/local_xla/xla/stream_executor/cuda/cuda_asm_compiler.cc:397] ptxas warning : Registers are spilled to local memory in function 'gemm_fusion_dot_28', 4 bytes spill stores, 4 bytes spill loads\n",
      "\n",
      "2025-02-25 20:43:06.340520: I external/local_xla/xla/stream_executor/cuda/cuda_asm_compiler.cc:397] ptxas warning : Registers are spilled to local memory in function 'gemm_fusion_dot_28', 4 bytes spill stores, 4 bytes spill loads\n",
      "\n",
      "2025-02-25 20:43:06.372110: I external/local_xla/xla/stream_executor/cuda/cuda_asm_compiler.cc:397] ptxas warning : Registers are spilled to local memory in function 'gemm_fusion_dot_28', 8 bytes spill stores, 8 bytes spill loads\n",
      "\n",
      "2025-02-25 20:43:06.380483: I external/local_xla/xla/stream_executor/cuda/cuda_asm_compiler.cc:397] ptxas warning : Registers are spilled to local memory in function 'gemm_fusion_dot_28', 4 bytes spill stores, 4 bytes spill loads\n",
      "\n",
      "2025-02-25 20:43:06.395243: I external/local_xla/xla/stream_executor/cuda/cuda_asm_compiler.cc:397] ptxas warning : Registers are spilled to local memory in function 'gemm_fusion_dot_28', 16 bytes spill stores, 16 bytes spill loads\n",
      "\n",
      "2025-02-25 20:43:06.744901: I external/local_xla/xla/stream_executor/cuda/cuda_asm_compiler.cc:397] ptxas warning : Registers are spilled to local memory in function 'gemm_fusion_dot_10', 8 bytes spill stores, 8 bytes spill loads\n",
      "\n",
      "2025-02-25 20:43:06.748490: I external/local_xla/xla/stream_executor/cuda/cuda_asm_compiler.cc:397] ptxas warning : Registers are spilled to local memory in function 'gemm_fusion_dot_10', 8 bytes spill stores, 8 bytes spill loads\n",
      "\n",
      "2025-02-25 20:43:06.792417: I external/local_xla/xla/stream_executor/cuda/cuda_asm_compiler.cc:397] ptxas warning : Registers are spilled to local memory in function 'gemm_fusion_dot_10', 8 bytes spill stores, 8 bytes spill loads\n",
      "\n",
      "2025-02-25 20:43:08.389325: I external/local_xla/xla/stream_executor/cuda/cuda_asm_compiler.cc:397] ptxas warning : Registers are spilled to local memory in function 'input_add_reduce_select_fusion', 136 bytes spill stores, 100 bytes spill loads\n",
      "\n"
     ]
    },
    {
     "name": "stdout",
     "output_type": "stream",
     "text": [
      "\u001b[1m 1/32\u001b[0m \u001b[37m━━━━━━━━━━━━━━━━━━━━\u001b[0m \u001b[1m14s\u001b[0m 460ms/step"
     ]
    },
    {
     "name": "stderr",
     "output_type": "stream",
     "text": [
      "2025-02-25 20:43:21.209976: I external/local_xla/xla/stream_executor/cuda/cuda_asm_compiler.cc:397] ptxas warning : Registers are spilled to local memory in function 'gemm_fusion_dot_10', 16 bytes spill stores, 16 bytes spill loads\n",
      "\n"
     ]
    },
    {
     "name": "stdout",
     "output_type": "stream",
     "text": [
      "\u001b[1m32/32\u001b[0m \u001b[32m━━━━━━━━━━━━━━━━━━━━\u001b[0m\u001b[37m\u001b[0m \u001b[1m1s\u001b[0m 27ms/step  \n",
      "Transformer MSE: 0.05082087933021303\n",
      "Testing params: {'num_heads': 4, 'lookback': 10, 'dropout_rate': 0.25, 'batch_size': 64, 'ff_dim': 64}\n"
     ]
    },
    {
     "name": "stderr",
     "output_type": "stream",
     "text": [
      "2025-02-25 20:43:27.524573: I external/local_xla/xla/stream_executor/cuda/cuda_asm_compiler.cc:397] ptxas warning : Registers are spilled to local memory in function 'input_add_reduce_select_fusion', 136 bytes spill stores, 100 bytes spill loads\n",
      "\n"
     ]
    },
    {
     "name": "stdout",
     "output_type": "stream",
     "text": [
      "\u001b[1m32/32\u001b[0m \u001b[32m━━━━━━━━━━━━━━━━━━━━\u001b[0m\u001b[37m\u001b[0m \u001b[1m1s\u001b[0m 12ms/step  \n",
      "Transformer MSE: 0.059947835561921195\n",
      "Testing params: {'num_heads': 4, 'lookback': 10, 'dropout_rate': 0.25, 'batch_size': 64, 'ff_dim': 128}\n"
     ]
    },
    {
     "name": "stderr",
     "output_type": "stream",
     "text": [
      "2025-02-25 20:43:38.151023: I external/local_xla/xla/stream_executor/cuda/cuda_asm_compiler.cc:397] ptxas warning : Registers are spilled to local memory in function 'gemm_fusion_dot_10', 8 bytes spill stores, 8 bytes spill loads\n",
      "\n",
      "2025-02-25 20:43:38.296465: I external/local_xla/xla/stream_executor/cuda/cuda_asm_compiler.cc:397] ptxas warning : Registers are spilled to local memory in function 'gemm_fusion_dot_28', 4 bytes spill stores, 4 bytes spill loads\n",
      "\n",
      "2025-02-25 20:43:38.302973: I external/local_xla/xla/stream_executor/cuda/cuda_asm_compiler.cc:397] ptxas warning : Registers are spilled to local memory in function 'gemm_fusion_dot_28', 8 bytes spill stores, 8 bytes spill loads\n",
      "\n",
      "2025-02-25 20:43:38.334795: I external/local_xla/xla/stream_executor/cuda/cuda_asm_compiler.cc:397] ptxas warning : Registers are spilled to local memory in function 'gemm_fusion_dot_10', 32 bytes spill stores, 32 bytes spill loads\n",
      "\n",
      "2025-02-25 20:43:38.424666: I external/local_xla/xla/stream_executor/cuda/cuda_asm_compiler.cc:397] ptxas warning : Registers are spilled to local memory in function 'gemm_fusion_dot_10', 32 bytes spill stores, 32 bytes spill loads\n",
      "\n"
     ]
    },
    {
     "name": "stdout",
     "output_type": "stream",
     "text": [
      "\u001b[1m32/32\u001b[0m \u001b[32m━━━━━━━━━━━━━━━━━━━━\u001b[0m\u001b[37m\u001b[0m \u001b[1m1s\u001b[0m 12ms/step  \n",
      "Transformer MSE: 0.07782438535950671\n",
      "Testing params: {'num_heads': 4, 'lookback': 15, 'dropout_rate': 0.25, 'batch_size': 32, 'ff_dim': 64}\n"
     ]
    },
    {
     "name": "stderr",
     "output_type": "stream",
     "text": [
      "2025-02-25 20:43:56.058232: I external/local_xla/xla/stream_executor/cuda/cuda_asm_compiler.cc:397] ptxas warning : Registers are spilled to local memory in function 'input_reduce_select_fusion', 12 bytes spill stores, 8 bytes spill loads\n",
      "ptxas warning : Registers are spilled to local memory in function 'input_add_reduce_select_fusion', 136 bytes spill stores, 92 bytes spill loads\n",
      "\n"
     ]
    },
    {
     "name": "stdout",
     "output_type": "stream",
     "text": [
      "\u001b[1m32/32\u001b[0m \u001b[32m━━━━━━━━━━━━━━━━━━━━\u001b[0m\u001b[37m\u001b[0m \u001b[1m1s\u001b[0m 17ms/step  \n",
      "Transformer MSE: 0.07438751593205353\n",
      "Testing params: {'num_heads': 4, 'lookback': 15, 'dropout_rate': 0.25, 'batch_size': 32, 'ff_dim': 128}\n"
     ]
    },
    {
     "name": "stderr",
     "output_type": "stream",
     "text": [
      "2025-02-25 20:44:09.388051: I external/local_xla/xla/stream_executor/cuda/cuda_asm_compiler.cc:397] ptxas warning : Registers are spilled to local memory in function 'gemm_fusion_dot_28', 8 bytes spill stores, 8 bytes spill loads\n",
      "\n",
      "2025-02-25 20:44:09.441431: I external/local_xla/xla/stream_executor/cuda/cuda_asm_compiler.cc:397] ptxas warning : Registers are spilled to local memory in function 'gemm_fusion_dot_10', 8 bytes spill stores, 8 bytes spill loads\n",
      "\n",
      "2025-02-25 20:44:09.485471: I external/local_xla/xla/stream_executor/cuda/cuda_asm_compiler.cc:397] ptxas warning : Registers are spilled to local memory in function 'gemm_fusion_dot_28', 4 bytes spill stores, 4 bytes spill loads\n",
      "\n",
      "2025-02-25 20:44:09.502444: I external/local_xla/xla/stream_executor/cuda/cuda_asm_compiler.cc:397] ptxas warning : Registers are spilled to local memory in function 'gemm_fusion_dot_28', 16 bytes spill stores, 16 bytes spill loads\n",
      "\n",
      "2025-02-25 20:44:09.525586: I external/local_xla/xla/stream_executor/cuda/cuda_asm_compiler.cc:397] ptxas warning : Registers are spilled to local memory in function 'gemm_fusion_dot_28', 4 bytes spill stores, 4 bytes spill loads\n",
      "\n",
      "2025-02-25 20:44:09.551398: I external/local_xla/xla/stream_executor/cuda/cuda_asm_compiler.cc:397] ptxas warning : Registers are spilled to local memory in function 'gemm_fusion_dot_28', 4 bytes spill stores, 4 bytes spill loads\n",
      "\n",
      "2025-02-25 20:44:09.630816: I external/local_xla/xla/stream_executor/cuda/cuda_asm_compiler.cc:397] ptxas warning : Registers are spilled to local memory in function 'gemm_fusion_dot_10', 8 bytes spill stores, 8 bytes spill loads\n",
      "\n",
      "2025-02-25 20:44:09.664046: I external/local_xla/xla/stream_executor/cuda/cuda_asm_compiler.cc:397] ptxas warning : Registers are spilled to local memory in function 'gemm_fusion_dot_10', 8 bytes spill stores, 8 bytes spill loads\n",
      "\n",
      "2025-02-25 20:44:12.259595: I external/local_xla/xla/stream_executor/cuda/cuda_asm_compiler.cc:397] ptxas warning : Registers are spilled to local memory in function 'gemm_fusion_dot_10', 8 bytes spill stores, 8 bytes spill loads\n",
      "\n",
      "2025-02-25 20:44:12.275384: I external/local_xla/xla/stream_executor/cuda/cuda_asm_compiler.cc:397] ptxas warning : Registers are spilled to local memory in function 'gemm_fusion_dot_10', 8 bytes spill stores, 8 bytes spill loads\n",
      "\n",
      "2025-02-25 20:44:12.300618: I external/local_xla/xla/stream_executor/cuda/cuda_asm_compiler.cc:397] ptxas warning : Registers are spilled to local memory in function 'gemm_fusion_dot_28', 16 bytes spill stores, 16 bytes spill loads\n",
      "\n",
      "2025-02-25 20:44:12.316652: I external/local_xla/xla/stream_executor/cuda/cuda_asm_compiler.cc:397] ptxas warning : Registers are spilled to local memory in function 'gemm_fusion_dot_10', 8 bytes spill stores, 8 bytes spill loads\n",
      "\n",
      "2025-02-25 20:44:12.317653: I external/local_xla/xla/stream_executor/cuda/cuda_asm_compiler.cc:397] ptxas warning : Registers are spilled to local memory in function 'gemm_fusion_dot_28', 4 bytes spill stores, 4 bytes spill loads\n",
      "\n",
      "2025-02-25 20:44:12.350860: I external/local_xla/xla/stream_executor/cuda/cuda_asm_compiler.cc:397] ptxas warning : Registers are spilled to local memory in function 'gemm_fusion_dot_28', 4 bytes spill stores, 4 bytes spill loads\n",
      "\n",
      "2025-02-25 20:44:12.386837: I external/local_xla/xla/stream_executor/cuda/cuda_asm_compiler.cc:397] ptxas warning : Registers are spilled to local memory in function 'gemm_fusion_dot_28', 8 bytes spill stores, 8 bytes spill loads\n",
      "\n",
      "2025-02-25 20:44:12.397602: I external/local_xla/xla/stream_executor/cuda/cuda_asm_compiler.cc:397] ptxas warning : Registers are spilled to local memory in function 'gemm_fusion_dot_28', 4 bytes spill stores, 4 bytes spill loads\n",
      "\n",
      "2025-02-25 20:44:14.394519: I external/local_xla/xla/stream_executor/cuda/cuda_asm_compiler.cc:397] ptxas warning : Registers are spilled to local memory in function 'input_reduce_select_fusion', 12 bytes spill stores, 8 bytes spill loads\n",
      "ptxas warning : Registers are spilled to local memory in function 'input_add_reduce_select_fusion', 136 bytes spill stores, 92 bytes spill loads\n",
      "\n"
     ]
    },
    {
     "name": "stdout",
     "output_type": "stream",
     "text": [
      "\u001b[1m 1/32\u001b[0m \u001b[37m━━━━━━━━━━━━━━━━━━━━\u001b[0m \u001b[1m16s\u001b[0m 538ms/step"
     ]
    },
    {
     "name": "stderr",
     "output_type": "stream",
     "text": [
      "2025-02-25 20:44:25.153975: I external/local_xla/xla/stream_executor/cuda/cuda_asm_compiler.cc:397] ptxas warning : Registers are spilled to local memory in function 'gemm_fusion_dot_10', 16 bytes spill stores, 16 bytes spill loads\n",
      "\n"
     ]
    },
    {
     "name": "stdout",
     "output_type": "stream",
     "text": [
      "\u001b[1m32/32\u001b[0m \u001b[32m━━━━━━━━━━━━━━━━━━━━\u001b[0m\u001b[37m\u001b[0m \u001b[1m1s\u001b[0m 28ms/step  \n",
      "Transformer MSE: 0.07579782948308697\n",
      "Testing params: {'num_heads': 4, 'lookback': 15, 'dropout_rate': 0.25, 'batch_size': 64, 'ff_dim': 64}\n"
     ]
    },
    {
     "name": "stderr",
     "output_type": "stream",
     "text": [
      "2025-02-25 20:44:31.680208: I external/local_xla/xla/stream_executor/cuda/cuda_asm_compiler.cc:397] ptxas warning : Registers are spilled to local memory in function 'input_reduce_select_fusion', 12 bytes spill stores, 8 bytes spill loads\n",
      "ptxas warning : Registers are spilled to local memory in function 'input_add_reduce_select_fusion', 136 bytes spill stores, 92 bytes spill loads\n",
      "\n"
     ]
    },
    {
     "name": "stdout",
     "output_type": "stream",
     "text": [
      "\u001b[1m32/32\u001b[0m \u001b[32m━━━━━━━━━━━━━━━━━━━━\u001b[0m\u001b[37m\u001b[0m \u001b[1m1s\u001b[0m 12ms/step  \n",
      "Transformer MSE: 0.04884311609709521\n",
      "Testing params: {'num_heads': 4, 'lookback': 15, 'dropout_rate': 0.25, 'batch_size': 64, 'ff_dim': 128}\n"
     ]
    },
    {
     "name": "stderr",
     "output_type": "stream",
     "text": [
      "2025-02-25 20:44:41.223265: I external/local_xla/xla/stream_executor/cuda/cuda_asm_compiler.cc:397] ptxas warning : Registers are spilled to local memory in function 'gemm_fusion_dot_28', 4 bytes spill stores, 4 bytes spill loads\n",
      "\n",
      "2025-02-25 20:44:41.276291: I external/local_xla/xla/stream_executor/cuda/cuda_asm_compiler.cc:397] ptxas warning : Registers are spilled to local memory in function 'gemm_fusion_dot_28', 4 bytes spill stores, 4 bytes spill loads\n",
      "\n",
      "2025-02-25 20:44:41.304692: I external/local_xla/xla/stream_executor/cuda/cuda_asm_compiler.cc:397] ptxas warning : Registers are spilled to local memory in function 'gemm_fusion_dot_28', 4 bytes spill stores, 4 bytes spill loads\n",
      "\n",
      "2025-02-25 20:44:41.334427: I external/local_xla/xla/stream_executor/cuda/cuda_asm_compiler.cc:397] ptxas warning : Registers are spilled to local memory in function 'gemm_fusion_dot_28', 8 bytes spill stores, 8 bytes spill loads\n",
      "\n",
      "2025-02-25 20:44:41.391551: I external/local_xla/xla/stream_executor/cuda/cuda_asm_compiler.cc:397] ptxas warning : Registers are spilled to local memory in function 'gemm_fusion_dot_10', 8 bytes spill stores, 8 bytes spill loads\n",
      "\n",
      "2025-02-25 20:44:41.475607: I external/local_xla/xla/stream_executor/cuda/cuda_asm_compiler.cc:397] ptxas warning : Registers are spilled to local memory in function 'gemm_fusion_dot_10', 8 bytes spill stores, 8 bytes spill loads\n",
      "\n",
      "2025-02-25 20:44:45.300456: I external/local_xla/xla/stream_executor/cuda/cuda_asm_compiler.cc:397] ptxas warning : Registers are spilled to local memory in function 'input_reduce_select_fusion', 12 bytes spill stores, 8 bytes spill loads\n",
      "ptxas warning : Registers are spilled to local memory in function 'input_add_reduce_select_fusion', 136 bytes spill stores, 92 bytes spill loads\n",
      "\n"
     ]
    },
    {
     "name": "stdout",
     "output_type": "stream",
     "text": [
      "\u001b[1m32/32\u001b[0m \u001b[32m━━━━━━━━━━━━━━━━━━━━\u001b[0m\u001b[37m\u001b[0m \u001b[1m1s\u001b[0m 12ms/step  \n",
      "Transformer MSE: 0.06914712611796293\n",
      "Testing params: {'num_heads': 6, 'lookback': 5, 'dropout_rate': 0.25, 'batch_size': 32, 'ff_dim': 64}\n"
     ]
    },
    {
     "name": "stderr",
     "output_type": "stream",
     "text": [
      "2025-02-25 20:44:54.848119: I external/local_xla/xla/stream_executor/cuda/cuda_asm_compiler.cc:397] ptxas warning : Registers are spilled to local memory in function 'gemm_fusion_dot_28', 4 bytes spill stores, 4 bytes spill loads\n",
      "\n",
      "2025-02-25 20:44:54.850160: I external/local_xla/xla/stream_executor/cuda/cuda_asm_compiler.cc:397] ptxas warning : Registers are spilled to local memory in function 'gemm_fusion_dot_28', 8 bytes spill stores, 8 bytes spill loads\n",
      "\n",
      "2025-02-25 20:44:54.865701: I external/local_xla/xla/stream_executor/cuda/cuda_asm_compiler.cc:397] ptxas warning : Registers are spilled to local memory in function 'gemm_fusion_dot_10', 12 bytes spill stores, 12 bytes spill loads\n",
      "\n",
      "2025-02-25 20:44:54.869178: I external/local_xla/xla/stream_executor/cuda/cuda_asm_compiler.cc:397] ptxas warning : Registers are spilled to local memory in function 'gemm_fusion_dot_10', 24 bytes spill stores, 24 bytes spill loads\n",
      "\n",
      "2025-02-25 20:44:54.869817: I external/local_xla/xla/stream_executor/cuda/cuda_asm_compiler.cc:397] ptxas warning : Registers are spilled to local memory in function 'gemm_fusion_dot_28', 4 bytes spill stores, 4 bytes spill loads\n",
      "\n",
      "2025-02-25 20:44:54.957918: I external/local_xla/xla/stream_executor/cuda/cuda_asm_compiler.cc:397] ptxas warning : Registers are spilled to local memory in function 'gemm_fusion_dot_10', 24 bytes spill stores, 24 bytes spill loads\n",
      "\n",
      "2025-02-25 20:44:54.962484: I external/local_xla/xla/stream_executor/cuda/cuda_asm_compiler.cc:397] ptxas warning : Registers are spilled to local memory in function 'gemm_fusion_dot_10', 28 bytes spill stores, 28 bytes spill loads\n",
      "\n",
      "2025-02-25 20:44:57.486475: I external/local_xla/xla/stream_executor/cuda/cuda_asm_compiler.cc:397] ptxas warning : Registers are spilled to local memory in function 'gemm_fusion_dot_10', 28 bytes spill stores, 28 bytes spill loads\n",
      "\n",
      "2025-02-25 20:44:57.548560: I external/local_xla/xla/stream_executor/cuda/cuda_asm_compiler.cc:397] ptxas warning : Registers are spilled to local memory in function 'gemm_fusion_dot_28', 8 bytes spill stores, 8 bytes spill loads\n",
      "\n",
      "2025-02-25 20:44:57.589706: I external/local_xla/xla/stream_executor/cuda/cuda_asm_compiler.cc:397] ptxas warning : Registers are spilled to local memory in function 'gemm_fusion_dot_28', 4 bytes spill stores, 4 bytes spill loads\n",
      "\n",
      "2025-02-25 20:44:57.629084: I external/local_xla/xla/stream_executor/cuda/cuda_asm_compiler.cc:397] ptxas warning : Registers are spilled to local memory in function 'gemm_fusion_dot_28', 4 bytes spill stores, 4 bytes spill loads\n",
      "\n",
      "2025-02-25 20:44:57.791903: I external/local_xla/xla/stream_executor/cuda/cuda_asm_compiler.cc:397] ptxas warning : Registers are spilled to local memory in function 'gemm_fusion_dot_10', 24 bytes spill stores, 24 bytes spill loads\n",
      "\n",
      "2025-02-25 20:44:57.824695: I external/local_xla/xla/stream_executor/cuda/cuda_asm_compiler.cc:397] ptxas warning : Registers are spilled to local memory in function 'gemm_fusion_dot_10', 24 bytes spill stores, 24 bytes spill loads\n",
      "\n"
     ]
    },
    {
     "name": "stdout",
     "output_type": "stream",
     "text": [
      "\u001b[1m32/32\u001b[0m \u001b[32m━━━━━━━━━━━━━━━━━━━━\u001b[0m\u001b[37m\u001b[0m \u001b[1m1s\u001b[0m 21ms/step  \n",
      "Transformer MSE: 0.041869151669818944\n",
      "Testing params: {'num_heads': 6, 'lookback': 5, 'dropout_rate': 0.25, 'batch_size': 32, 'ff_dim': 128}\n"
     ]
    },
    {
     "name": "stderr",
     "output_type": "stream",
     "text": [
      "2025-02-25 20:45:15.387431: I external/local_xla/xla/stream_executor/cuda/cuda_asm_compiler.cc:397] ptxas warning : Registers are spilled to local memory in function 'gemm_fusion_dot_10', 24 bytes spill stores, 24 bytes spill loads\n",
      "\n",
      "2025-02-25 20:45:15.468461: I external/local_xla/xla/stream_executor/cuda/cuda_asm_compiler.cc:397] ptxas warning : Registers are spilled to local memory in function 'gemm_fusion_dot_28', 4 bytes spill stores, 4 bytes spill loads\n",
      "\n",
      "2025-02-25 20:45:15.520912: I external/local_xla/xla/stream_executor/cuda/cuda_asm_compiler.cc:397] ptxas warning : Registers are spilled to local memory in function 'gemm_fusion_dot_28', 4 bytes spill stores, 4 bytes spill loads\n",
      "\n",
      "2025-02-25 20:45:15.523364: I external/local_xla/xla/stream_executor/cuda/cuda_asm_compiler.cc:397] ptxas warning : Registers are spilled to local memory in function 'gemm_fusion_dot_28', 16 bytes spill stores, 16 bytes spill loads\n",
      "\n",
      "2025-02-25 20:45:15.527719: I external/local_xla/xla/stream_executor/cuda/cuda_asm_compiler.cc:397] ptxas warning : Registers are spilled to local memory in function 'gemm_fusion_dot_28', 4 bytes spill stores, 4 bytes spill loads\n",
      "\n",
      "2025-02-25 20:45:15.557844: I external/local_xla/xla/stream_executor/cuda/cuda_asm_compiler.cc:397] ptxas warning : Registers are spilled to local memory in function 'gemm_fusion_dot_28', 8 bytes spill stores, 8 bytes spill loads\n",
      "\n",
      "2025-02-25 20:45:15.577690: I external/local_xla/xla/stream_executor/cuda/cuda_asm_compiler.cc:397] ptxas warning : Registers are spilled to local memory in function 'gemm_fusion_dot_10', 12 bytes spill stores, 12 bytes spill loads\n",
      "\n",
      "2025-02-25 20:45:15.601415: I external/local_xla/xla/stream_executor/cuda/cuda_asm_compiler.cc:397] ptxas warning : Registers are spilled to local memory in function 'gemm_fusion_dot_10', 24 bytes spill stores, 24 bytes spill loads\n",
      "\n",
      "2025-02-25 20:45:15.644806: I external/local_xla/xla/stream_executor/cuda/cuda_asm_compiler.cc:397] ptxas warning : Registers are spilled to local memory in function 'gemm_fusion_dot_10', 24 bytes spill stores, 24 bytes spill loads\n",
      "\n",
      "2025-02-25 20:45:15.711609: I external/local_xla/xla/stream_executor/cuda/cuda_asm_compiler.cc:397] ptxas warning : Registers are spilled to local memory in function 'gemm_fusion_dot_10', 28 bytes spill stores, 28 bytes spill loads\n",
      "\n",
      "2025-02-25 20:45:15.719941: I external/local_xla/xla/stream_executor/cuda/cuda_asm_compiler.cc:397] ptxas warning : Registers are spilled to local memory in function 'gemm_fusion_dot_10', 32 bytes spill stores, 32 bytes spill loads\n",
      "\n",
      "2025-02-25 20:45:18.244608: I external/local_xla/xla/stream_executor/cuda/cuda_asm_compiler.cc:397] ptxas warning : Registers are spilled to local memory in function 'gemm_fusion_dot_10', 32 bytes spill stores, 32 bytes spill loads\n",
      "\n",
      "2025-02-25 20:45:18.263328: I external/local_xla/xla/stream_executor/cuda/cuda_asm_compiler.cc:397] ptxas warning : Registers are spilled to local memory in function 'gemm_fusion_dot_28', 4 bytes spill stores, 4 bytes spill loads\n",
      "\n",
      "2025-02-25 20:45:18.288135: I external/local_xla/xla/stream_executor/cuda/cuda_asm_compiler.cc:397] ptxas warning : Registers are spilled to local memory in function 'gemm_fusion_dot_28', 4 bytes spill stores, 4 bytes spill loads\n",
      "\n",
      "2025-02-25 20:45:18.309191: I external/local_xla/xla/stream_executor/cuda/cuda_asm_compiler.cc:397] ptxas warning : Registers are spilled to local memory in function 'gemm_fusion_dot_28', 4 bytes spill stores, 4 bytes spill loads\n",
      "\n",
      "2025-02-25 20:45:18.348546: I external/local_xla/xla/stream_executor/cuda/cuda_asm_compiler.cc:397] ptxas warning : Registers are spilled to local memory in function 'gemm_fusion_dot_28', 16 bytes spill stores, 16 bytes spill loads\n",
      "\n",
      "2025-02-25 20:45:18.357224: I external/local_xla/xla/stream_executor/cuda/cuda_asm_compiler.cc:397] ptxas warning : Registers are spilled to local memory in function 'gemm_fusion_dot_28', 8 bytes spill stores, 8 bytes spill loads\n",
      "\n",
      "2025-02-25 20:45:18.487249: I external/local_xla/xla/stream_executor/cuda/cuda_asm_compiler.cc:397] ptxas warning : Registers are spilled to local memory in function 'gemm_fusion_dot_10', 24 bytes spill stores, 24 bytes spill loads\n",
      "\n",
      "2025-02-25 20:45:18.565767: I external/local_xla/xla/stream_executor/cuda/cuda_asm_compiler.cc:397] ptxas warning : Registers are spilled to local memory in function 'gemm_fusion_dot_10', 24 bytes spill stores, 24 bytes spill loads\n",
      "\n",
      "2025-02-25 20:45:18.704694: I external/local_xla/xla/stream_executor/cuda/cuda_asm_compiler.cc:397] ptxas warning : Registers are spilled to local memory in function 'gemm_fusion_dot_10', 28 bytes spill stores, 28 bytes spill loads\n",
      "\n",
      "2025-02-25 20:45:18.731503: I external/local_xla/xla/stream_executor/cuda/cuda_asm_compiler.cc:397] ptxas warning : Registers are spilled to local memory in function 'gemm_fusion_dot_10', 24 bytes spill stores, 24 bytes spill loads\n",
      "\n"
     ]
    },
    {
     "name": "stdout",
     "output_type": "stream",
     "text": [
      "\u001b[1m32/32\u001b[0m \u001b[32m━━━━━━━━━━━━━━━━━━━━\u001b[0m\u001b[37m\u001b[0m \u001b[1m1s\u001b[0m 27ms/step  \n",
      "Transformer MSE: 0.06098851301850593\n",
      "Testing params: {'num_heads': 6, 'lookback': 5, 'dropout_rate': 0.25, 'batch_size': 64, 'ff_dim': 64}\n"
     ]
    },
    {
     "name": "stderr",
     "output_type": "stream",
     "text": [
      "2025-02-25 20:45:37.577404: I external/local_xla/xla/stream_executor/cuda/cuda_asm_compiler.cc:397] ptxas warning : Registers are spilled to local memory in function 'gemm_fusion_dot_10', 12 bytes spill stores, 12 bytes spill loads\n",
      "\n",
      "2025-02-25 20:45:37.676646: I external/local_xla/xla/stream_executor/cuda/cuda_asm_compiler.cc:397] ptxas warning : Registers are spilled to local memory in function 'gemm_fusion_dot_10', 24 bytes spill stores, 24 bytes spill loads\n",
      "\n",
      "2025-02-25 20:45:37.779902: I external/local_xla/xla/stream_executor/cuda/cuda_asm_compiler.cc:397] ptxas warning : Registers are spilled to local memory in function 'gemm_fusion_dot_28', 4 bytes spill stores, 4 bytes spill loads\n",
      "\n",
      "2025-02-25 20:45:37.781669: I external/local_xla/xla/stream_executor/cuda/cuda_asm_compiler.cc:397] ptxas warning : Registers are spilled to local memory in function 'gemm_fusion_dot_28', 8 bytes spill stores, 8 bytes spill loads\n",
      "\n",
      "2025-02-25 20:45:37.785612: I external/local_xla/xla/stream_executor/cuda/cuda_asm_compiler.cc:397] ptxas warning : Registers are spilled to local memory in function 'gemm_fusion_dot_10', 28 bytes spill stores, 28 bytes spill loads\n",
      "\n",
      "2025-02-25 20:45:37.786853: I external/local_xla/xla/stream_executor/cuda/cuda_asm_compiler.cc:397] ptxas warning : Registers are spilled to local memory in function 'gemm_fusion_dot_28', 4 bytes spill stores, 4 bytes spill loads\n",
      "\n",
      "2025-02-25 20:45:37.886338: I external/local_xla/xla/stream_executor/cuda/cuda_asm_compiler.cc:397] ptxas warning : Registers are spilled to local memory in function 'gemm_fusion_dot_10', 24 bytes spill stores, 24 bytes spill loads\n",
      "\n"
     ]
    },
    {
     "name": "stdout",
     "output_type": "stream",
     "text": [
      "\u001b[1m32/32\u001b[0m \u001b[32m━━━━━━━━━━━━━━━━━━━━\u001b[0m\u001b[37m\u001b[0m \u001b[1m1s\u001b[0m 12ms/step  \n",
      "Transformer MSE: 0.04266984370795188\n",
      "Testing params: {'num_heads': 6, 'lookback': 5, 'dropout_rate': 0.25, 'batch_size': 64, 'ff_dim': 128}\n"
     ]
    },
    {
     "name": "stderr",
     "output_type": "stream",
     "text": [
      "2025-02-25 20:45:51.913702: I external/local_xla/xla/stream_executor/cuda/cuda_asm_compiler.cc:397] ptxas warning : Registers are spilled to local memory in function 'gemm_fusion_dot_10', 24 bytes spill stores, 24 bytes spill loads\n",
      "\n",
      "2025-02-25 20:45:51.994374: I external/local_xla/xla/stream_executor/cuda/cuda_asm_compiler.cc:397] ptxas warning : Registers are spilled to local memory in function 'gemm_fusion_dot_28', 4 bytes spill stores, 4 bytes spill loads\n",
      "\n",
      "2025-02-25 20:45:51.994989: I external/local_xla/xla/stream_executor/cuda/cuda_asm_compiler.cc:397] ptxas warning : Registers are spilled to local memory in function 'gemm_fusion_dot_28', 8 bytes spill stores, 8 bytes spill loads\n",
      "\n",
      "2025-02-25 20:45:52.015159: I external/local_xla/xla/stream_executor/cuda/cuda_asm_compiler.cc:397] ptxas warning : Registers are spilled to local memory in function 'gemm_fusion_dot_28', 4 bytes spill stores, 4 bytes spill loads\n",
      "\n",
      "2025-02-25 20:45:52.024080: I external/local_xla/xla/stream_executor/cuda/cuda_asm_compiler.cc:397] ptxas warning : Registers are spilled to local memory in function 'gemm_fusion_dot_10', 12 bytes spill stores, 12 bytes spill loads\n",
      "\n",
      "2025-02-25 20:45:52.041740: I external/local_xla/xla/stream_executor/cuda/cuda_asm_compiler.cc:397] ptxas warning : Registers are spilled to local memory in function 'gemm_fusion_dot_10', 28 bytes spill stores, 28 bytes spill loads\n",
      "\n",
      "2025-02-25 20:45:52.046052: I external/local_xla/xla/stream_executor/cuda/cuda_asm_compiler.cc:397] ptxas warning : Registers are spilled to local memory in function 'gemm_fusion_dot_28', 4 bytes spill stores, 4 bytes spill loads\n",
      "\n",
      "2025-02-25 20:45:52.123950: I external/local_xla/xla/stream_executor/cuda/cuda_asm_compiler.cc:397] ptxas warning : Registers are spilled to local memory in function 'gemm_fusion_dot_10', 24 bytes spill stores, 24 bytes spill loads\n",
      "\n",
      "2025-02-25 20:45:52.218219: I external/local_xla/xla/stream_executor/cuda/cuda_asm_compiler.cc:397] ptxas warning : Registers are spilled to local memory in function 'gemm_fusion_dot_10', 24 bytes spill stores, 24 bytes spill loads\n",
      "\n"
     ]
    },
    {
     "name": "stdout",
     "output_type": "stream",
     "text": [
      "\u001b[1m32/32\u001b[0m \u001b[32m━━━━━━━━━━━━━━━━━━━━\u001b[0m\u001b[37m\u001b[0m \u001b[1m1s\u001b[0m 12ms/step  \n",
      "Transformer MSE: 0.05248749338813296\n",
      "Testing params: {'num_heads': 6, 'lookback': 10, 'dropout_rate': 0.25, 'batch_size': 32, 'ff_dim': 64}\n"
     ]
    },
    {
     "name": "stderr",
     "output_type": "stream",
     "text": [
      "2025-02-25 20:46:07.645746: I external/local_xla/xla/stream_executor/cuda/cuda_asm_compiler.cc:397] ptxas warning : Registers are spilled to local memory in function 'gemm_fusion_dot_28', 4 bytes spill stores, 4 bytes spill loads\n",
      "\n",
      "2025-02-25 20:46:07.696502: I external/local_xla/xla/stream_executor/cuda/cuda_asm_compiler.cc:397] ptxas warning : Registers are spilled to local memory in function 'gemm_fusion_dot_10', 24 bytes spill stores, 24 bytes spill loads\n",
      "\n",
      "2025-02-25 20:46:07.712636: I external/local_xla/xla/stream_executor/cuda/cuda_asm_compiler.cc:397] ptxas warning : Registers are spilled to local memory in function 'gemm_fusion_dot_10', 24 bytes spill stores, 24 bytes spill loads\n",
      "\n",
      "2025-02-25 20:46:07.742915: I external/local_xla/xla/stream_executor/cuda/cuda_asm_compiler.cc:397] ptxas warning : Registers are spilled to local memory in function 'gemm_fusion_dot_28', 8 bytes spill stores, 8 bytes spill loads\n",
      "\n",
      "2025-02-25 20:46:07.752081: I external/local_xla/xla/stream_executor/cuda/cuda_asm_compiler.cc:397] ptxas warning : Registers are spilled to local memory in function 'gemm_fusion_dot_10', 28 bytes spill stores, 28 bytes spill loads\n",
      "\n",
      "2025-02-25 20:46:07.755351: I external/local_xla/xla/stream_executor/cuda/cuda_asm_compiler.cc:397] ptxas warning : Registers are spilled to local memory in function 'gemm_fusion_dot_28', 4 bytes spill stores, 4 bytes spill loads\n",
      "\n",
      "2025-02-25 20:46:09.557526: I external/local_xla/xla/stream_executor/cuda/cuda_asm_compiler.cc:397] ptxas warning : Registers are spilled to local memory in function 'input_add_reduce_select_fusion', 136 bytes spill stores, 100 bytes spill loads\n",
      "\n"
     ]
    },
    {
     "name": "stdout",
     "output_type": "stream",
     "text": [
      "\u001b[1m32/32\u001b[0m \u001b[32m━━━━━━━━━━━━━━━━━━━━\u001b[0m\u001b[37m\u001b[0m \u001b[1m1s\u001b[0m 24ms/step  \n",
      "Transformer MSE: 0.08208396102818467\n",
      "Testing params: {'num_heads': 6, 'lookback': 10, 'dropout_rate': 0.25, 'batch_size': 32, 'ff_dim': 128}\n"
     ]
    },
    {
     "name": "stderr",
     "output_type": "stream",
     "text": [
      "2025-02-25 20:46:25.777656: I external/local_xla/xla/stream_executor/cuda/cuda_asm_compiler.cc:397] ptxas warning : Registers are spilled to local memory in function 'gemm_fusion_dot_10', 24 bytes spill stores, 24 bytes spill loads\n",
      "\n",
      "2025-02-25 20:46:25.847666: I external/local_xla/xla/stream_executor/cuda/cuda_asm_compiler.cc:397] ptxas warning : Registers are spilled to local memory in function 'gemm_fusion_dot_28', 16 bytes spill stores, 16 bytes spill loads\n",
      "\n",
      "2025-02-25 20:46:25.880740: I external/local_xla/xla/stream_executor/cuda/cuda_asm_compiler.cc:397] ptxas warning : Registers are spilled to local memory in function 'gemm_fusion_dot_28', 4 bytes spill stores, 4 bytes spill loads\n",
      "\n",
      "2025-02-25 20:46:25.884855: I external/local_xla/xla/stream_executor/cuda/cuda_asm_compiler.cc:397] ptxas warning : Registers are spilled to local memory in function 'gemm_fusion_dot_28', 8 bytes spill stores, 8 bytes spill loads\n",
      "\n",
      "2025-02-25 20:46:25.887626: I external/local_xla/xla/stream_executor/cuda/cuda_asm_compiler.cc:397] ptxas warning : Registers are spilled to local memory in function 'gemm_fusion_dot_28', 4 bytes spill stores, 4 bytes spill loads\n",
      "\n",
      "2025-02-25 20:46:25.913503: I external/local_xla/xla/stream_executor/cuda/cuda_asm_compiler.cc:397] ptxas warning : Registers are spilled to local memory in function 'gemm_fusion_dot_10', 32 bytes spill stores, 32 bytes spill loads\n",
      "\n",
      "2025-02-25 20:46:25.921842: I external/local_xla/xla/stream_executor/cuda/cuda_asm_compiler.cc:397] ptxas warning : Registers are spilled to local memory in function 'gemm_fusion_dot_28', 4 bytes spill stores, 4 bytes spill loads\n",
      "\n",
      "2025-02-25 20:46:25.990927: I external/local_xla/xla/stream_executor/cuda/cuda_asm_compiler.cc:397] ptxas warning : Registers are spilled to local memory in function 'gemm_fusion_dot_10', 28 bytes spill stores, 28 bytes spill loads\n",
      "\n",
      "2025-02-25 20:46:26.079577: I external/local_xla/xla/stream_executor/cuda/cuda_asm_compiler.cc:397] ptxas warning : Registers are spilled to local memory in function 'gemm_fusion_dot_10', 24 bytes spill stores, 24 bytes spill loads\n",
      "\n",
      "2025-02-25 20:46:26.170029: I external/local_xla/xla/stream_executor/cuda/cuda_asm_compiler.cc:397] ptxas warning : Registers are spilled to local memory in function 'gemm_fusion_dot_10', 24 bytes spill stores, 24 bytes spill loads\n",
      "\n",
      "2025-02-25 20:46:27.788392: I external/local_xla/xla/stream_executor/cuda/cuda_asm_compiler.cc:397] ptxas warning : Registers are spilled to local memory in function 'input_add_reduce_select_fusion', 136 bytes spill stores, 100 bytes spill loads\n",
      "\n"
     ]
    },
    {
     "name": "stdout",
     "output_type": "stream",
     "text": [
      "\u001b[1m 1/32\u001b[0m \u001b[37m━━━━━━━━━━━━━━━━━━━━\u001b[0m \u001b[1m15s\u001b[0m 505ms/step"
     ]
    },
    {
     "name": "stderr",
     "output_type": "stream",
     "text": [
      "2025-02-25 20:46:38.121293: I external/local_xla/xla/stream_executor/cuda/cuda_asm_compiler.cc:397] ptxas warning : Registers are spilled to local memory in function 'gemm_fusion_dot_10', 16 bytes spill stores, 16 bytes spill loads\n",
      "\n"
     ]
    },
    {
     "name": "stdout",
     "output_type": "stream",
     "text": [
      "\u001b[1m32/32\u001b[0m \u001b[32m━━━━━━━━━━━━━━━━━━━━\u001b[0m\u001b[37m\u001b[0m \u001b[1m1s\u001b[0m 29ms/step  \n",
      "Transformer MSE: 0.09563696062690326\n",
      "Testing params: {'num_heads': 6, 'lookback': 10, 'dropout_rate': 0.25, 'batch_size': 64, 'ff_dim': 64}\n"
     ]
    },
    {
     "name": "stderr",
     "output_type": "stream",
     "text": [
      "2025-02-25 20:46:40.941091: I external/local_xla/xla/stream_executor/cuda/cuda_asm_compiler.cc:397] ptxas warning : Registers are spilled to local memory in function 'gemm_fusion_dot_10', 12 bytes spill stores, 12 bytes spill loads\n",
      "\n",
      "2025-02-25 20:46:41.164759: I external/local_xla/xla/stream_executor/cuda/cuda_asm_compiler.cc:397] ptxas warning : Registers are spilled to local memory in function 'gemm_fusion_dot_10', 24 bytes spill stores, 24 bytes spill loads\n",
      "\n",
      "2025-02-25 20:46:41.173758: I external/local_xla/xla/stream_executor/cuda/cuda_asm_compiler.cc:397] ptxas warning : Registers are spilled to local memory in function 'gemm_fusion_dot_28', 4 bytes spill stores, 4 bytes spill loads\n",
      "\n",
      "2025-02-25 20:46:41.186542: I external/local_xla/xla/stream_executor/cuda/cuda_asm_compiler.cc:397] ptxas warning : Registers are spilled to local memory in function 'gemm_fusion_dot_28', 8 bytes spill stores, 8 bytes spill loads\n",
      "\n",
      "2025-02-25 20:46:41.303071: I external/local_xla/xla/stream_executor/cuda/cuda_asm_compiler.cc:397] ptxas warning : Registers are spilled to local memory in function 'gemm_fusion_dot_10', 24 bytes spill stores, 24 bytes spill loads\n",
      "\n"
     ]
    },
    {
     "name": "stdout",
     "output_type": "stream",
     "text": [
      "\u001b[1m32/32\u001b[0m \u001b[32m━━━━━━━━━━━━━━━━━━━━\u001b[0m\u001b[37m\u001b[0m \u001b[1m1s\u001b[0m 12ms/step  \n",
      "Transformer MSE: 0.05048829592424464\n",
      "Testing params: {'num_heads': 6, 'lookback': 10, 'dropout_rate': 0.25, 'batch_size': 64, 'ff_dim': 128}\n"
     ]
    },
    {
     "name": "stderr",
     "output_type": "stream",
     "text": [
      "2025-02-25 20:46:54.007867: I external/local_xla/xla/stream_executor/cuda/cuda_asm_compiler.cc:397] ptxas warning : Registers are spilled to local memory in function 'gemm_fusion_dot_28', 4 bytes spill stores, 4 bytes spill loads\n",
      "\n",
      "2025-02-25 20:46:54.024287: I external/local_xla/xla/stream_executor/cuda/cuda_asm_compiler.cc:397] ptxas warning : Registers are spilled to local memory in function 'gemm_fusion_dot_10', 12 bytes spill stores, 12 bytes spill loads\n",
      "\n",
      "2025-02-25 20:46:54.047535: I external/local_xla/xla/stream_executor/cuda/cuda_asm_compiler.cc:397] ptxas warning : Registers are spilled to local memory in function 'gemm_fusion_dot_28', 8 bytes spill stores, 8 bytes spill loads\n",
      "\n",
      "2025-02-25 20:46:54.073138: I external/local_xla/xla/stream_executor/cuda/cuda_asm_compiler.cc:397] ptxas warning : Registers are spilled to local memory in function 'gemm_fusion_dot_10', 24 bytes spill stores, 24 bytes spill loads\n",
      "\n",
      "2025-02-25 20:46:54.106013: I external/local_xla/xla/stream_executor/cuda/cuda_asm_compiler.cc:397] ptxas warning : Registers are spilled to local memory in function 'gemm_fusion_dot_10', 24 bytes spill stores, 24 bytes spill loads\n",
      "\n",
      "2025-02-25 20:46:57.767543: I external/local_xla/xla/stream_executor/cuda/cuda_asm_compiler.cc:397] ptxas warning : Registers are spilled to local memory in function 'input_add_reduce_select_fusion', 136 bytes spill stores, 100 bytes spill loads\n",
      "\n"
     ]
    },
    {
     "name": "stdout",
     "output_type": "stream",
     "text": [
      "\u001b[1m32/32\u001b[0m \u001b[32m━━━━━━━━━━━━━━━━━━━━\u001b[0m\u001b[37m\u001b[0m \u001b[1m1s\u001b[0m 12ms/step  \n",
      "Transformer MSE: 0.05777453900890568\n",
      "Testing params: {'num_heads': 6, 'lookback': 15, 'dropout_rate': 0.25, 'batch_size': 32, 'ff_dim': 64}\n"
     ]
    },
    {
     "name": "stderr",
     "output_type": "stream",
     "text": [
      "2025-02-25 20:47:07.399638: I external/local_xla/xla/stream_executor/cuda/cuda_asm_compiler.cc:397] ptxas warning : Registers are spilled to local memory in function 'gemm_fusion_dot_28', 4 bytes spill stores, 4 bytes spill loads\n",
      "\n",
      "2025-02-25 20:47:07.483798: I external/local_xla/xla/stream_executor/cuda/cuda_asm_compiler.cc:397] ptxas warning : Registers are spilled to local memory in function 'gemm_fusion_dot_28', 4 bytes spill stores, 4 bytes spill loads\n",
      "\n",
      "2025-02-25 20:47:07.492270: I external/local_xla/xla/stream_executor/cuda/cuda_asm_compiler.cc:397] ptxas warning : Registers are spilled to local memory in function 'gemm_fusion_dot_28', 8 bytes spill stores, 8 bytes spill loads\n",
      "\n",
      "2025-02-25 20:47:07.513475: I external/local_xla/xla/stream_executor/cuda/cuda_asm_compiler.cc:397] ptxas warning : Registers are spilled to local memory in function 'gemm_fusion_dot_10', 12 bytes spill stores, 12 bytes spill loads\n",
      "\n",
      "2025-02-25 20:47:07.553360: I external/local_xla/xla/stream_executor/cuda/cuda_asm_compiler.cc:397] ptxas warning : Registers are spilled to local memory in function 'gemm_fusion_dot_10', 24 bytes spill stores, 24 bytes spill loads\n",
      "\n",
      "2025-02-25 20:47:07.599642: I external/local_xla/xla/stream_executor/cuda/cuda_asm_compiler.cc:397] ptxas warning : Registers are spilled to local memory in function 'gemm_fusion_dot_10', 28 bytes spill stores, 28 bytes spill loads\n",
      "\n",
      "2025-02-25 20:47:07.650317: I external/local_xla/xla/stream_executor/cuda/cuda_asm_compiler.cc:397] ptxas warning : Registers are spilled to local memory in function 'gemm_fusion_dot_10', 24 bytes spill stores, 24 bytes spill loads\n",
      "\n",
      "2025-02-25 20:47:10.204085: I external/local_xla/xla/stream_executor/cuda/cuda_asm_compiler.cc:397] ptxas warning : Registers are spilled to local memory in function 'gemm_fusion_dot_10', 24 bytes spill stores, 24 bytes spill loads\n",
      "\n",
      "2025-02-25 20:47:10.252318: I external/local_xla/xla/stream_executor/cuda/cuda_asm_compiler.cc:397] ptxas warning : Registers are spilled to local memory in function 'gemm_fusion_dot_28', 4 bytes spill stores, 4 bytes spill loads\n",
      "\n",
      "2025-02-25 20:47:10.266446: I external/local_xla/xla/stream_executor/cuda/cuda_asm_compiler.cc:397] ptxas warning : Registers are spilled to local memory in function 'gemm_fusion_dot_28', 8 bytes spill stores, 8 bytes spill loads\n",
      "\n",
      "2025-02-25 20:47:10.273973: I external/local_xla/xla/stream_executor/cuda/cuda_asm_compiler.cc:397] ptxas warning : Registers are spilled to local memory in function 'gemm_fusion_dot_28', 4 bytes spill stores, 4 bytes spill loads\n",
      "\n",
      "2025-02-25 20:47:10.440632: I external/local_xla/xla/stream_executor/cuda/cuda_asm_compiler.cc:397] ptxas warning : Registers are spilled to local memory in function 'gemm_fusion_dot_10', 24 bytes spill stores, 24 bytes spill loads\n",
      "\n",
      "2025-02-25 20:47:10.512896: I external/local_xla/xla/stream_executor/cuda/cuda_asm_compiler.cc:397] ptxas warning : Registers are spilled to local memory in function 'gemm_fusion_dot_10', 28 bytes spill stores, 28 bytes spill loads\n",
      "\n",
      "2025-02-25 20:47:12.106672: I external/local_xla/xla/stream_executor/cuda/cuda_asm_compiler.cc:397] ptxas warning : Registers are spilled to local memory in function 'input_reduce_select_fusion', 12 bytes spill stores, 8 bytes spill loads\n",
      "ptxas warning : Registers are spilled to local memory in function 'input_add_reduce_select_fusion', 136 bytes spill stores, 92 bytes spill loads\n",
      "\n"
     ]
    },
    {
     "name": "stdout",
     "output_type": "stream",
     "text": [
      "\u001b[1m32/32\u001b[0m \u001b[32m━━━━━━━━━━━━━━━━━━━━\u001b[0m\u001b[37m\u001b[0m \u001b[1m1s\u001b[0m 24ms/step  \n",
      "Transformer MSE: 0.10112816823577607\n",
      "Testing params: {'num_heads': 6, 'lookback': 15, 'dropout_rate': 0.25, 'batch_size': 32, 'ff_dim': 128}\n"
     ]
    },
    {
     "name": "stderr",
     "output_type": "stream",
     "text": [
      "2025-02-25 20:47:24.854910: I external/local_xla/xla/stream_executor/cuda/cuda_asm_compiler.cc:397] ptxas warning : Registers are spilled to local memory in function 'gemm_fusion_dot_10', 28 bytes spill stores, 28 bytes spill loads\n",
      "\n",
      "2025-02-25 20:47:24.885445: I external/local_xla/xla/stream_executor/cuda/cuda_asm_compiler.cc:397] ptxas warning : Registers are spilled to local memory in function 'gemm_fusion_dot_10', 24 bytes spill stores, 24 bytes spill loads\n",
      "\n",
      "2025-02-25 20:47:24.960013: I external/local_xla/xla/stream_executor/cuda/cuda_asm_compiler.cc:397] ptxas warning : Registers are spilled to local memory in function 'gemm_fusion_dot_28', 4 bytes spill stores, 4 bytes spill loads\n",
      "\n",
      "2025-02-25 20:47:24.962714: I external/local_xla/xla/stream_executor/cuda/cuda_asm_compiler.cc:397] ptxas warning : Registers are spilled to local memory in function 'gemm_fusion_dot_28', 4 bytes spill stores, 4 bytes spill loads\n",
      "\n",
      "2025-02-25 20:47:24.993985: I external/local_xla/xla/stream_executor/cuda/cuda_asm_compiler.cc:397] ptxas warning : Registers are spilled to local memory in function 'gemm_fusion_dot_28', 8 bytes spill stores, 8 bytes spill loads\n",
      "\n",
      "2025-02-25 20:47:25.003619: I external/local_xla/xla/stream_executor/cuda/cuda_asm_compiler.cc:397] ptxas warning : Registers are spilled to local memory in function 'gemm_fusion_dot_28', 4 bytes spill stores, 4 bytes spill loads\n",
      "\n",
      "2025-02-25 20:47:25.020328: I external/local_xla/xla/stream_executor/cuda/cuda_asm_compiler.cc:397] ptxas warning : Registers are spilled to local memory in function 'gemm_fusion_dot_10', 32 bytes spill stores, 32 bytes spill loads\n",
      "\n",
      "2025-02-25 20:47:25.022044: I external/local_xla/xla/stream_executor/cuda/cuda_asm_compiler.cc:397] ptxas warning : Registers are spilled to local memory in function 'gemm_fusion_dot_28', 16 bytes spill stores, 16 bytes spill loads\n",
      "\n",
      "2025-02-25 20:47:25.058843: I external/local_xla/xla/stream_executor/cuda/cuda_asm_compiler.cc:397] ptxas warning : Registers are spilled to local memory in function 'gemm_fusion_dot_10', 24 bytes spill stores, 24 bytes spill loads\n",
      "\n",
      "2025-02-25 20:47:25.091749: I external/local_xla/xla/stream_executor/cuda/cuda_asm_compiler.cc:397] ptxas warning : Registers are spilled to local memory in function 'gemm_fusion_dot_10', 12 bytes spill stores, 12 bytes spill loads\n",
      "\n",
      "2025-02-25 20:47:25.156073: I external/local_xla/xla/stream_executor/cuda/cuda_asm_compiler.cc:397] ptxas warning : Registers are spilled to local memory in function 'gemm_fusion_dot_10', 24 bytes spill stores, 24 bytes spill loads\n",
      "\n",
      "2025-02-25 20:47:27.698647: I external/local_xla/xla/stream_executor/cuda/cuda_asm_compiler.cc:397] ptxas warning : Registers are spilled to local memory in function 'gemm_fusion_dot_28', 4 bytes spill stores, 4 bytes spill loads\n",
      "\n",
      "2025-02-25 20:47:27.706080: I external/local_xla/xla/stream_executor/cuda/cuda_asm_compiler.cc:397] ptxas warning : Registers are spilled to local memory in function 'gemm_fusion_dot_28', 4 bytes spill stores, 4 bytes spill loads\n",
      "\n",
      "2025-02-25 20:47:27.761802: I external/local_xla/xla/stream_executor/cuda/cuda_asm_compiler.cc:397] ptxas warning : Registers are spilled to local memory in function 'gemm_fusion_dot_28', 8 bytes spill stores, 8 bytes spill loads\n",
      "\n",
      "2025-02-25 20:47:27.767403: I external/local_xla/xla/stream_executor/cuda/cuda_asm_compiler.cc:397] ptxas warning : Registers are spilled to local memory in function 'gemm_fusion_dot_28', 4 bytes spill stores, 4 bytes spill loads\n",
      "\n",
      "2025-02-25 20:47:27.787715: I external/local_xla/xla/stream_executor/cuda/cuda_asm_compiler.cc:397] ptxas warning : Registers are spilled to local memory in function 'gemm_fusion_dot_28', 16 bytes spill stores, 16 bytes spill loads\n",
      "\n",
      "2025-02-25 20:47:27.878375: I external/local_xla/xla/stream_executor/cuda/cuda_asm_compiler.cc:397] ptxas warning : Registers are spilled to local memory in function 'gemm_fusion_dot_10', 24 bytes spill stores, 24 bytes spill loads\n",
      "\n",
      "2025-02-25 20:47:27.932646: I external/local_xla/xla/stream_executor/cuda/cuda_asm_compiler.cc:397] ptxas warning : Registers are spilled to local memory in function 'gemm_fusion_dot_10', 32 bytes spill stores, 32 bytes spill loads\n",
      "\n",
      "2025-02-25 20:47:28.098964: I external/local_xla/xla/stream_executor/cuda/cuda_asm_compiler.cc:397] ptxas warning : Registers are spilled to local memory in function 'gemm_fusion_dot_10', 24 bytes spill stores, 24 bytes spill loads\n",
      "\n",
      "2025-02-25 20:47:28.158887: I external/local_xla/xla/stream_executor/cuda/cuda_asm_compiler.cc:397] ptxas warning : Registers are spilled to local memory in function 'gemm_fusion_dot_10', 24 bytes spill stores, 24 bytes spill loads\n",
      "\n",
      "2025-02-25 20:47:28.196895: I external/local_xla/xla/stream_executor/cuda/cuda_asm_compiler.cc:397] ptxas warning : Registers are spilled to local memory in function 'gemm_fusion_dot_10', 28 bytes spill stores, 28 bytes spill loads\n",
      "\n",
      "2025-02-25 20:47:29.937753: I external/local_xla/xla/stream_executor/cuda/cuda_asm_compiler.cc:397] ptxas warning : Registers are spilled to local memory in function 'input_reduce_select_fusion', 12 bytes spill stores, 8 bytes spill loads\n",
      "ptxas warning : Registers are spilled to local memory in function 'input_add_reduce_select_fusion', 136 bytes spill stores, 92 bytes spill loads\n",
      "\n"
     ]
    },
    {
     "name": "stdout",
     "output_type": "stream",
     "text": [
      "\u001b[1m 1/32\u001b[0m \u001b[37m━━━━━━━━━━━━━━━━━━━━\u001b[0m \u001b[1m15s\u001b[0m 486ms/step"
     ]
    },
    {
     "name": "stderr",
     "output_type": "stream",
     "text": [
      "2025-02-25 20:47:41.645745: I external/local_xla/xla/stream_executor/cuda/cuda_asm_compiler.cc:397] ptxas warning : Registers are spilled to local memory in function 'gemm_fusion_dot_10', 16 bytes spill stores, 16 bytes spill loads\n",
      "\n"
     ]
    },
    {
     "name": "stdout",
     "output_type": "stream",
     "text": [
      "\u001b[1m32/32\u001b[0m \u001b[32m━━━━━━━━━━━━━━━━━━━━\u001b[0m\u001b[37m\u001b[0m \u001b[1m1s\u001b[0m 30ms/step  \n",
      "Transformer MSE: 0.08802730580069332\n",
      "Testing params: {'num_heads': 6, 'lookback': 15, 'dropout_rate': 0.25, 'batch_size': 64, 'ff_dim': 64}\n"
     ]
    },
    {
     "name": "stderr",
     "output_type": "stream",
     "text": [
      "2025-02-25 20:47:44.519461: I external/local_xla/xla/stream_executor/cuda/cuda_asm_compiler.cc:397] ptxas warning : Registers are spilled to local memory in function 'gemm_fusion_dot_10', 12 bytes spill stores, 12 bytes spill loads\n",
      "\n",
      "2025-02-25 20:47:44.570830: I external/local_xla/xla/stream_executor/cuda/cuda_asm_compiler.cc:397] ptxas warning : Registers are spilled to local memory in function 'gemm_fusion_dot_10', 28 bytes spill stores, 28 bytes spill loads\n",
      "\n",
      "2025-02-25 20:47:44.578555: I external/local_xla/xla/stream_executor/cuda/cuda_asm_compiler.cc:397] ptxas warning : Registers are spilled to local memory in function 'gemm_fusion_dot_10', 24 bytes spill stores, 24 bytes spill loads\n",
      "\n",
      "2025-02-25 20:47:44.671555: I external/local_xla/xla/stream_executor/cuda/cuda_asm_compiler.cc:397] ptxas warning : Registers are spilled to local memory in function 'gemm_fusion_dot_28', 8 bytes spill stores, 8 bytes spill loads\n",
      "\n",
      "2025-02-25 20:47:44.687768: I external/local_xla/xla/stream_executor/cuda/cuda_asm_compiler.cc:397] ptxas warning : Registers are spilled to local memory in function 'gemm_fusion_dot_28', 4 bytes spill stores, 4 bytes spill loads\n",
      "\n",
      "2025-02-25 20:47:44.727709: I external/local_xla/xla/stream_executor/cuda/cuda_asm_compiler.cc:397] ptxas warning : Registers are spilled to local memory in function 'gemm_fusion_dot_28', 4 bytes spill stores, 4 bytes spill loads\n",
      "\n",
      "2025-02-25 20:47:44.857319: I external/local_xla/xla/stream_executor/cuda/cuda_asm_compiler.cc:397] ptxas warning : Registers are spilled to local memory in function 'gemm_fusion_dot_10', 24 bytes spill stores, 24 bytes spill loads\n",
      "\n"
     ]
    },
    {
     "name": "stdout",
     "output_type": "stream",
     "text": [
      "\u001b[1m32/32\u001b[0m \u001b[32m━━━━━━━━━━━━━━━━━━━━\u001b[0m\u001b[37m\u001b[0m \u001b[1m1s\u001b[0m 12ms/step  \n",
      "Transformer MSE: 0.07891135242667212\n",
      "Testing params: {'num_heads': 6, 'lookback': 15, 'dropout_rate': 0.25, 'batch_size': 64, 'ff_dim': 128}\n"
     ]
    },
    {
     "name": "stderr",
     "output_type": "stream",
     "text": [
      "2025-02-25 20:47:57.343556: I external/local_xla/xla/stream_executor/cuda/cuda_asm_compiler.cc:397] ptxas warning : Registers are spilled to local memory in function 'gemm_fusion_dot_10', 24 bytes spill stores, 24 bytes spill loads\n",
      "\n",
      "2025-02-25 20:47:57.420809: I external/local_xla/xla/stream_executor/cuda/cuda_asm_compiler.cc:397] ptxas warning : Registers are spilled to local memory in function 'gemm_fusion_dot_28', 4 bytes spill stores, 4 bytes spill loads\n",
      "\n",
      "2025-02-25 20:47:57.436442: I external/local_xla/xla/stream_executor/cuda/cuda_asm_compiler.cc:397] ptxas warning : Registers are spilled to local memory in function 'gemm_fusion_dot_10', 12 bytes spill stores, 12 bytes spill loads\n",
      "\n",
      "2025-02-25 20:47:57.441147: I external/local_xla/xla/stream_executor/cuda/cuda_asm_compiler.cc:397] ptxas warning : Registers are spilled to local memory in function 'gemm_fusion_dot_28', 4 bytes spill stores, 4 bytes spill loads\n",
      "\n",
      "2025-02-25 20:47:57.480144: I external/local_xla/xla/stream_executor/cuda/cuda_asm_compiler.cc:397] ptxas warning : Registers are spilled to local memory in function 'gemm_fusion_dot_10', 24 bytes spill stores, 24 bytes spill loads\n",
      "\n",
      "2025-02-25 20:47:57.488917: I external/local_xla/xla/stream_executor/cuda/cuda_asm_compiler.cc:397] ptxas warning : Registers are spilled to local memory in function 'gemm_fusion_dot_28', 4 bytes spill stores, 4 bytes spill loads\n",
      "\n",
      "2025-02-25 20:47:57.493096: I external/local_xla/xla/stream_executor/cuda/cuda_asm_compiler.cc:397] ptxas warning : Registers are spilled to local memory in function 'gemm_fusion_dot_28', 8 bytes spill stores, 8 bytes spill loads\n",
      "\n",
      "2025-02-25 20:47:57.564549: I external/local_xla/xla/stream_executor/cuda/cuda_asm_compiler.cc:397] ptxas warning : Registers are spilled to local memory in function 'gemm_fusion_dot_10', 28 bytes spill stores, 28 bytes spill loads\n",
      "\n",
      "2025-02-25 20:47:57.663782: I external/local_xla/xla/stream_executor/cuda/cuda_asm_compiler.cc:397] ptxas warning : Registers are spilled to local memory in function 'gemm_fusion_dot_10', 24 bytes spill stores, 24 bytes spill loads\n",
      "\n",
      "2025-02-25 20:48:01.636522: I external/local_xla/xla/stream_executor/cuda/cuda_asm_compiler.cc:397] ptxas warning : Registers are spilled to local memory in function 'input_reduce_select_fusion', 12 bytes spill stores, 8 bytes spill loads\n",
      "ptxas warning : Registers are spilled to local memory in function 'input_add_reduce_select_fusion', 136 bytes spill stores, 92 bytes spill loads\n",
      "\n"
     ]
    },
    {
     "name": "stdout",
     "output_type": "stream",
     "text": [
      "\u001b[1m32/32\u001b[0m \u001b[32m━━━━━━━━━━━━━━━━━━━━\u001b[0m\u001b[37m\u001b[0m \u001b[1m1s\u001b[0m 13ms/step  \n",
      "Transformer MSE: 0.07478260060034372\n",
      "Best parameters: {'num_heads': 4, 'lookback': 5, 'dropout_rate': 0.25, 'batch_size': 64, 'ff_dim': 64}, Best MSE: 0.036902758083136006\n",
      "Best MSE: 0.036903\n",
      "num_heads: 4, lookback: 5, ff_dim: 64, batch_size: 64\n",
      "Time taken: 604.134302 seconds\n",
      "[pypickle] Pickle file saved: [/home/alfred/projects/mscfe-masters-project/src/models/best/transformer/best_lstm_SPY_ETF_AVAXUSDT.pkl]\n",
      "\n",
      "(5) Pairs: SPY_ETF ETHUSDT\n",
      "Testing params: {'num_heads': 2, 'lookback': 5, 'dropout_rate': 0.25, 'batch_size': 32, 'ff_dim': 64}\n",
      "\u001b[1m32/32\u001b[0m \u001b[32m━━━━━━━━━━━━━━━━━━━━\u001b[0m\u001b[37m\u001b[0m \u001b[1m1s\u001b[0m 22ms/step \n",
      "Transformer MSE: 0.007902399504150063\n",
      "Testing params: {'num_heads': 2, 'lookback': 5, 'dropout_rate': 0.25, 'batch_size': 32, 'ff_dim': 128}\n",
      "\u001b[1m32/32\u001b[0m \u001b[32m━━━━━━━━━━━━━━━━━━━━\u001b[0m\u001b[37m\u001b[0m \u001b[1m1s\u001b[0m 24ms/step  \n",
      "Transformer MSE: 0.01304957486941518\n",
      "Testing params: {'num_heads': 2, 'lookback': 5, 'dropout_rate': 0.25, 'batch_size': 64, 'ff_dim': 64}\n",
      "\u001b[1m32/32\u001b[0m \u001b[32m━━━━━━━━━━━━━━━━━━━━\u001b[0m\u001b[37m\u001b[0m \u001b[1m1s\u001b[0m 11ms/step \n",
      "Transformer MSE: 0.010127536318452444\n",
      "Testing params: {'num_heads': 2, 'lookback': 5, 'dropout_rate': 0.25, 'batch_size': 64, 'ff_dim': 128}\n",
      "\u001b[1m32/32\u001b[0m \u001b[32m━━━━━━━━━━━━━━━━━━━━\u001b[0m\u001b[37m\u001b[0m \u001b[1m1s\u001b[0m 12ms/step  \n",
      "Transformer MSE: 0.006406241461433706\n",
      "Testing params: {'num_heads': 2, 'lookback': 10, 'dropout_rate': 0.25, 'batch_size': 32, 'ff_dim': 64}\n",
      "\u001b[1m32/32\u001b[0m \u001b[32m━━━━━━━━━━━━━━━━━━━━\u001b[0m\u001b[37m\u001b[0m \u001b[1m1s\u001b[0m 22ms/step  \n",
      "Transformer MSE: 0.010005755305102396\n",
      "Testing params: {'num_heads': 2, 'lookback': 10, 'dropout_rate': 0.25, 'batch_size': 32, 'ff_dim': 128}\n",
      "\u001b[1m32/32\u001b[0m \u001b[32m━━━━━━━━━━━━━━━━━━━━\u001b[0m\u001b[37m\u001b[0m \u001b[1m1s\u001b[0m 26ms/step  \n",
      "Transformer MSE: 0.011784420372330856\n",
      "Testing params: {'num_heads': 2, 'lookback': 10, 'dropout_rate': 0.25, 'batch_size': 64, 'ff_dim': 64}\n",
      "\u001b[1m32/32\u001b[0m \u001b[32m━━━━━━━━━━━━━━━━━━━━\u001b[0m\u001b[37m\u001b[0m \u001b[1m1s\u001b[0m 12ms/step  \n",
      "Transformer MSE: 0.009685648071487751\n",
      "Testing params: {'num_heads': 2, 'lookback': 10, 'dropout_rate': 0.25, 'batch_size': 64, 'ff_dim': 128}\n",
      "\u001b[1m32/32\u001b[0m \u001b[32m━━━━━━━━━━━━━━━━━━━━\u001b[0m\u001b[37m\u001b[0m \u001b[1m1s\u001b[0m 13ms/step  \n",
      "Transformer MSE: 0.011130685152422564\n",
      "Testing params: {'num_heads': 2, 'lookback': 15, 'dropout_rate': 0.25, 'batch_size': 32, 'ff_dim': 64}\n"
     ]
    },
    {
     "name": "stderr",
     "output_type": "stream",
     "text": [
      "2025-02-25 20:50:09.459192: I external/local_xla/xla/stream_executor/cuda/cuda_asm_compiler.cc:397] ptxas warning : Registers are spilled to local memory in function 'gemm_fusion_dot_8', 4 bytes spill stores, 4 bytes spill loads\n",
      "\n"
     ]
    },
    {
     "name": "stdout",
     "output_type": "stream",
     "text": [
      "\u001b[1m32/32\u001b[0m \u001b[32m━━━━━━━━━━━━━━━━━━━━\u001b[0m\u001b[37m\u001b[0m \u001b[1m1s\u001b[0m 25ms/step  \n",
      "Transformer MSE: 0.011747562244401488\n",
      "Testing params: {'num_heads': 2, 'lookback': 15, 'dropout_rate': 0.25, 'batch_size': 32, 'ff_dim': 128}\n",
      "\u001b[1m32/32\u001b[0m \u001b[32m━━━━━━━━━━━━━━━━━━━━\u001b[0m\u001b[37m\u001b[0m \u001b[1m1s\u001b[0m 28ms/step  \n",
      "Transformer MSE: 0.021523695811524978\n",
      "Testing params: {'num_heads': 2, 'lookback': 15, 'dropout_rate': 0.25, 'batch_size': 64, 'ff_dim': 64}\n",
      "\u001b[1m32/32\u001b[0m \u001b[32m━━━━━━━━━━━━━━━━━━━━\u001b[0m\u001b[37m\u001b[0m \u001b[1m1s\u001b[0m 12ms/step  \n",
      "Transformer MSE: 0.011101319885399709\n",
      "Testing params: {'num_heads': 2, 'lookback': 15, 'dropout_rate': 0.25, 'batch_size': 64, 'ff_dim': 128}\n",
      "\u001b[1m32/32\u001b[0m \u001b[32m━━━━━━━━━━━━━━━━━━━━\u001b[0m\u001b[37m\u001b[0m \u001b[1m1s\u001b[0m 12ms/step  \n",
      "Transformer MSE: 0.01472832270385503\n",
      "Testing params: {'num_heads': 4, 'lookback': 5, 'dropout_rate': 0.25, 'batch_size': 32, 'ff_dim': 64}\n",
      "\u001b[1m32/32\u001b[0m \u001b[32m━━━━━━━━━━━━━━━━━━━━\u001b[0m\u001b[37m\u001b[0m \u001b[1m1s\u001b[0m 14ms/step  \n",
      "Transformer MSE: 0.01809055144038934\n",
      "Testing params: {'num_heads': 4, 'lookback': 5, 'dropout_rate': 0.25, 'batch_size': 32, 'ff_dim': 128}\n",
      "\u001b[1m32/32\u001b[0m \u001b[32m━━━━━━━━━━━━━━━━━━━━\u001b[0m\u001b[37m\u001b[0m \u001b[1m1s\u001b[0m 21ms/step  \n",
      "Transformer MSE: 0.024917987125580788\n",
      "Testing params: {'num_heads': 4, 'lookback': 5, 'dropout_rate': 0.25, 'batch_size': 64, 'ff_dim': 64}\n",
      "\u001b[1m32/32\u001b[0m \u001b[32m━━━━━━━━━━━━━━━━━━━━\u001b[0m\u001b[37m\u001b[0m \u001b[1m1s\u001b[0m 11ms/step  \n",
      "Transformer MSE: 0.013873772737587603\n",
      "Testing params: {'num_heads': 4, 'lookback': 5, 'dropout_rate': 0.25, 'batch_size': 64, 'ff_dim': 128}\n",
      "\u001b[1m32/32\u001b[0m \u001b[32m━━━━━━━━━━━━━━━━━━━━\u001b[0m\u001b[37m\u001b[0m \u001b[1m1s\u001b[0m 12ms/step  \n",
      "Transformer MSE: 0.007361070265527232\n",
      "Testing params: {'num_heads': 4, 'lookback': 10, 'dropout_rate': 0.25, 'batch_size': 32, 'ff_dim': 64}\n",
      "\u001b[1m32/32\u001b[0m \u001b[32m━━━━━━━━━━━━━━━━━━━━\u001b[0m\u001b[37m\u001b[0m \u001b[1m1s\u001b[0m 14ms/step  \n",
      "Transformer MSE: 0.0067804415876071816\n",
      "Testing params: {'num_heads': 4, 'lookback': 10, 'dropout_rate': 0.25, 'batch_size': 32, 'ff_dim': 128}\n",
      "\u001b[1m32/32\u001b[0m \u001b[32m━━━━━━━━━━━━━━━━━━━━\u001b[0m\u001b[37m\u001b[0m \u001b[1m1s\u001b[0m 24ms/step  \n",
      "Transformer MSE: 0.008802145462338219\n",
      "Testing params: {'num_heads': 4, 'lookback': 10, 'dropout_rate': 0.25, 'batch_size': 64, 'ff_dim': 64}\n",
      "\u001b[1m32/32\u001b[0m \u001b[32m━━━━━━━━━━━━━━━━━━━━\u001b[0m\u001b[37m\u001b[0m \u001b[1m1s\u001b[0m 11ms/step  \n",
      "Transformer MSE: 0.01155223042584403\n",
      "Testing params: {'num_heads': 4, 'lookback': 10, 'dropout_rate': 0.25, 'batch_size': 64, 'ff_dim': 128}\n",
      "\u001b[1m32/32\u001b[0m \u001b[32m━━━━━━━━━━━━━━━━━━━━\u001b[0m\u001b[37m\u001b[0m \u001b[1m1s\u001b[0m 12ms/step  \n",
      "Transformer MSE: 0.01284620661047445\n",
      "Testing params: {'num_heads': 4, 'lookback': 15, 'dropout_rate': 0.25, 'batch_size': 32, 'ff_dim': 64}\n",
      "\u001b[1m32/32\u001b[0m \u001b[32m━━━━━━━━━━━━━━━━━━━━\u001b[0m\u001b[37m\u001b[0m \u001b[1m1s\u001b[0m 14ms/step  \n",
      "Transformer MSE: 0.011342300690822765\n",
      "Testing params: {'num_heads': 4, 'lookback': 15, 'dropout_rate': 0.25, 'batch_size': 32, 'ff_dim': 128}\n",
      "\u001b[1m32/32\u001b[0m \u001b[32m━━━━━━━━━━━━━━━━━━━━\u001b[0m\u001b[37m\u001b[0m \u001b[1m1s\u001b[0m 25ms/step  \n",
      "Transformer MSE: 0.010196089294645846\n",
      "Testing params: {'num_heads': 4, 'lookback': 15, 'dropout_rate': 0.25, 'batch_size': 64, 'ff_dim': 64}\n",
      "\u001b[1m32/32\u001b[0m \u001b[32m━━━━━━━━━━━━━━━━━━━━\u001b[0m\u001b[37m\u001b[0m \u001b[1m1s\u001b[0m 13ms/step  \n",
      "Transformer MSE: 0.014407000466551698\n",
      "Testing params: {'num_heads': 4, 'lookback': 15, 'dropout_rate': 0.25, 'batch_size': 64, 'ff_dim': 128}\n",
      "\u001b[1m32/32\u001b[0m \u001b[32m━━━━━━━━━━━━━━━━━━━━\u001b[0m\u001b[37m\u001b[0m \u001b[1m1s\u001b[0m 12ms/step  \n",
      "Transformer MSE: 0.012881823155964558\n",
      "Testing params: {'num_heads': 6, 'lookback': 5, 'dropout_rate': 0.25, 'batch_size': 32, 'ff_dim': 64}\n",
      "\u001b[1m32/32\u001b[0m \u001b[32m━━━━━━━━━━━━━━━━━━━━\u001b[0m\u001b[37m\u001b[0m \u001b[1m1s\u001b[0m 19ms/step  \n",
      "Transformer MSE: 0.01764196111984024\n",
      "Testing params: {'num_heads': 6, 'lookback': 5, 'dropout_rate': 0.25, 'batch_size': 32, 'ff_dim': 128}\n"
     ]
    },
    {
     "name": "stderr",
     "output_type": "stream",
     "text": [
      "2025-02-25 20:55:01.889589: I external/local_xla/xla/stream_executor/cuda/cuda_asm_compiler.cc:397] ptxas warning : Registers are spilled to local memory in function 'gemm_fusion_dot_10', 12 bytes spill stores, 12 bytes spill loads\n",
      "\n"
     ]
    },
    {
     "name": "stdout",
     "output_type": "stream",
     "text": [
      "\u001b[1m32/32\u001b[0m \u001b[32m━━━━━━━━━━━━━━━━━━━━\u001b[0m\u001b[37m\u001b[0m \u001b[1m1s\u001b[0m 22ms/step  \n",
      "Transformer MSE: 0.01355903088700752\n",
      "Testing params: {'num_heads': 6, 'lookback': 5, 'dropout_rate': 0.25, 'batch_size': 64, 'ff_dim': 64}\n",
      "\u001b[1m32/32\u001b[0m \u001b[32m━━━━━━━━━━━━━━━━━━━━\u001b[0m\u001b[37m\u001b[0m \u001b[1m1s\u001b[0m 11ms/step  \n",
      "Transformer MSE: 0.011476128101414693\n",
      "Testing params: {'num_heads': 6, 'lookback': 5, 'dropout_rate': 0.25, 'batch_size': 64, 'ff_dim': 128}\n",
      "\u001b[1m32/32\u001b[0m \u001b[32m━━━━━━━━━━━━━━━━━━━━\u001b[0m\u001b[37m\u001b[0m \u001b[1m1s\u001b[0m 12ms/step  \n",
      "Transformer MSE: 0.01122517907142533\n",
      "Testing params: {'num_heads': 6, 'lookback': 10, 'dropout_rate': 0.25, 'batch_size': 32, 'ff_dim': 64}\n",
      "\u001b[1m32/32\u001b[0m \u001b[32m━━━━━━━━━━━━━━━━━━━━\u001b[0m\u001b[37m\u001b[0m \u001b[1m1s\u001b[0m 20ms/step  \n",
      "Transformer MSE: 0.01101363123576807\n",
      "Testing params: {'num_heads': 6, 'lookback': 10, 'dropout_rate': 0.25, 'batch_size': 32, 'ff_dim': 128}\n"
     ]
    },
    {
     "name": "stderr",
     "output_type": "stream",
     "text": [
      "2025-02-25 20:56:06.420655: I external/local_xla/xla/stream_executor/cuda/cuda_asm_compiler.cc:397] ptxas warning : Registers are spilled to local memory in function 'gemm_fusion_dot_10', 12 bytes spill stores, 12 bytes spill loads\n",
      "\n"
     ]
    },
    {
     "name": "stdout",
     "output_type": "stream",
     "text": [
      "\u001b[1m32/32\u001b[0m \u001b[32m━━━━━━━━━━━━━━━━━━━━\u001b[0m\u001b[37m\u001b[0m \u001b[1m1s\u001b[0m 24ms/step  \n",
      "Transformer MSE: 0.01948326347379378\n",
      "Testing params: {'num_heads': 6, 'lookback': 10, 'dropout_rate': 0.25, 'batch_size': 64, 'ff_dim': 64}\n",
      "\u001b[1m32/32\u001b[0m \u001b[32m━━━━━━━━━━━━━━━━━━━━\u001b[0m\u001b[37m\u001b[0m \u001b[1m1s\u001b[0m 12ms/step  \n",
      "Transformer MSE: 0.016473482660588457\n",
      "Testing params: {'num_heads': 6, 'lookback': 10, 'dropout_rate': 0.25, 'batch_size': 64, 'ff_dim': 128}\n",
      "\u001b[1m32/32\u001b[0m \u001b[32m━━━━━━━━━━━━━━━━━━━━\u001b[0m\u001b[37m\u001b[0m \u001b[1m1s\u001b[0m 12ms/step  \n",
      "Transformer MSE: 0.014669075859379354\n",
      "Testing params: {'num_heads': 6, 'lookback': 15, 'dropout_rate': 0.25, 'batch_size': 32, 'ff_dim': 64}\n",
      "\u001b[1m32/32\u001b[0m \u001b[32m━━━━━━━━━━━━━━━━━━━━\u001b[0m\u001b[37m\u001b[0m \u001b[1m1s\u001b[0m 20ms/step  \n",
      "Transformer MSE: 0.012101760410046255\n",
      "Testing params: {'num_heads': 6, 'lookback': 15, 'dropout_rate': 0.25, 'batch_size': 32, 'ff_dim': 128}\n"
     ]
    },
    {
     "name": "stderr",
     "output_type": "stream",
     "text": [
      "2025-02-25 20:57:05.209027: I external/local_xla/xla/stream_executor/cuda/cuda_asm_compiler.cc:397] ptxas warning : Registers are spilled to local memory in function 'gemm_fusion_dot_10', 12 bytes spill stores, 12 bytes spill loads\n",
      "\n"
     ]
    },
    {
     "name": "stdout",
     "output_type": "stream",
     "text": [
      "\u001b[1m32/32\u001b[0m \u001b[32m━━━━━━━━━━━━━━━━━━━━\u001b[0m\u001b[37m\u001b[0m \u001b[1m1s\u001b[0m 23ms/step  \n",
      "Transformer MSE: 0.012125927553298806\n",
      "Testing params: {'num_heads': 6, 'lookback': 15, 'dropout_rate': 0.25, 'batch_size': 64, 'ff_dim': 64}\n",
      "\u001b[1m32/32\u001b[0m \u001b[32m━━━━━━━━━━━━━━━━━━━━\u001b[0m\u001b[37m\u001b[0m \u001b[1m1s\u001b[0m 12ms/step  \n",
      "Transformer MSE: 0.0113493379248198\n",
      "Testing params: {'num_heads': 6, 'lookback': 15, 'dropout_rate': 0.25, 'batch_size': 64, 'ff_dim': 128}\n",
      "\u001b[1m32/32\u001b[0m \u001b[32m━━━━━━━━━━━━━━━━━━━━\u001b[0m\u001b[37m\u001b[0m \u001b[1m1s\u001b[0m 14ms/step  \n",
      "Transformer MSE: 0.017934098184183164\n",
      "Best parameters: {'num_heads': 2, 'lookback': 5, 'dropout_rate': 0.25, 'batch_size': 64, 'ff_dim': 128}, Best MSE: 0.006406241461433706\n",
      "Best MSE: 0.006406\n",
      "num_heads: 2, lookback: 5, ff_dim: 128, batch_size: 64\n",
      "Time taken: 575.899838 seconds\n",
      "[pypickle] Pickle file saved: [/home/alfred/projects/mscfe-masters-project/src/models/best/transformer/best_lstm_SPY_ETF_ETHUSDT.pkl]\n",
      "\n",
      "(6) Pairs: EQQQ_ETF BNBUSDT\n",
      "Testing params: {'num_heads': 2, 'lookback': 5, 'dropout_rate': 0.25, 'batch_size': 32, 'ff_dim': 64}\n",
      "\u001b[1m21/21\u001b[0m \u001b[32m━━━━━━━━━━━━━━━━━━━━\u001b[0m\u001b[37m\u001b[0m \u001b[1m1s\u001b[0m 44ms/step \n",
      "Transformer MSE: 0.0334572153775737\n",
      "Testing params: {'num_heads': 2, 'lookback': 5, 'dropout_rate': 0.25, 'batch_size': 32, 'ff_dim': 128}\n"
     ]
    },
    {
     "name": "stderr",
     "output_type": "stream",
     "text": [
      "2025-02-25 20:58:02.024137: I external/local_xla/xla/stream_executor/cuda/cuda_asm_compiler.cc:397] ptxas warning : Registers are spilled to local memory in function 'gemm_fusion_dot_7', 4 bytes spill stores, 8 bytes spill loads\n",
      "\n"
     ]
    },
    {
     "name": "stdout",
     "output_type": "stream",
     "text": [
      "\u001b[1m21/21\u001b[0m \u001b[32m━━━━━━━━━━━━━━━━━━━━\u001b[0m\u001b[37m\u001b[0m \u001b[1m2s\u001b[0m 53ms/step \n",
      "Transformer MSE: 0.03111468169099624\n",
      "Testing params: {'num_heads': 2, 'lookback': 5, 'dropout_rate': 0.25, 'batch_size': 64, 'ff_dim': 64}\n"
     ]
    },
    {
     "name": "stderr",
     "output_type": "stream",
     "text": [
      "2025-02-25 20:58:20.981047: I external/local_xla/xla/stream_executor/cuda/cuda_asm_compiler.cc:397] ptxas warning : Registers are spilled to local memory in function 'input_reduce_select_fusion', 16 bytes spill stores, 12 bytes spill loads\n",
      "ptxas warning : Registers are spilled to local memory in function 'input_add_reduce_select_fusion', 12 bytes spill stores, 8 bytes spill loads\n",
      "\n"
     ]
    },
    {
     "name": "stdout",
     "output_type": "stream",
     "text": [
      "\u001b[1m21/21\u001b[0m \u001b[32m━━━━━━━━━━━━━━━━━━━━\u001b[0m\u001b[37m\u001b[0m \u001b[1m1s\u001b[0m 20ms/step \n",
      "Transformer MSE: 0.032442195569874356\n",
      "Testing params: {'num_heads': 2, 'lookback': 5, 'dropout_rate': 0.25, 'batch_size': 64, 'ff_dim': 128}\n"
     ]
    },
    {
     "name": "stderr",
     "output_type": "stream",
     "text": [
      "2025-02-25 20:58:32.611713: I external/local_xla/xla/stream_executor/cuda/cuda_asm_compiler.cc:397] ptxas warning : Registers are spilled to local memory in function 'input_reduce_select_fusion', 16 bytes spill stores, 12 bytes spill loads\n",
      "ptxas warning : Registers are spilled to local memory in function 'input_add_reduce_select_fusion', 12 bytes spill stores, 8 bytes spill loads\n",
      "\n"
     ]
    },
    {
     "name": "stdout",
     "output_type": "stream",
     "text": [
      "\u001b[1m21/21\u001b[0m \u001b[32m━━━━━━━━━━━━━━━━━━━━\u001b[0m\u001b[37m\u001b[0m \u001b[1m1s\u001b[0m 22ms/step \n",
      "Transformer MSE: 0.025515579699962983\n",
      "Testing params: {'num_heads': 2, 'lookback': 10, 'dropout_rate': 0.25, 'batch_size': 32, 'ff_dim': 64}\n"
     ]
    },
    {
     "name": "stderr",
     "output_type": "stream",
     "text": [
      "2025-02-25 20:58:44.332722: I external/local_xla/xla/stream_executor/cuda/cuda_asm_compiler.cc:397] ptxas warning : Registers are spilled to local memory in function 'input_reduce_select_fusion', 16 bytes spill stores, 12 bytes spill loads\n",
      "ptxas warning : Registers are spilled to local memory in function 'input_add_reduce_select_fusion', 12 bytes spill stores, 8 bytes spill loads\n",
      "\n"
     ]
    },
    {
     "name": "stdout",
     "output_type": "stream",
     "text": [
      "\u001b[1m21/21\u001b[0m \u001b[32m━━━━━━━━━━━━━━━━━━━━\u001b[0m\u001b[37m\u001b[0m \u001b[1m1s\u001b[0m 41ms/step \n",
      "Transformer MSE: 0.04112387227919716\n",
      "Testing params: {'num_heads': 2, 'lookback': 10, 'dropout_rate': 0.25, 'batch_size': 32, 'ff_dim': 128}\n"
     ]
    },
    {
     "name": "stderr",
     "output_type": "stream",
     "text": [
      "2025-02-25 20:59:00.479945: I external/local_xla/xla/stream_executor/cuda/cuda_asm_compiler.cc:397] ptxas warning : Registers are spilled to local memory in function 'input_reduce_select_fusion', 16 bytes spill stores, 12 bytes spill loads\n",
      "ptxas warning : Registers are spilled to local memory in function 'input_add_reduce_select_fusion', 12 bytes spill stores, 8 bytes spill loads\n",
      "\n"
     ]
    },
    {
     "name": "stdout",
     "output_type": "stream",
     "text": [
      "\u001b[1m21/21\u001b[0m \u001b[32m━━━━━━━━━━━━━━━━━━━━\u001b[0m\u001b[37m\u001b[0m \u001b[1m1s\u001b[0m 49ms/step \n",
      "Transformer MSE: 0.027283945477305418\n",
      "Testing params: {'num_heads': 2, 'lookback': 10, 'dropout_rate': 0.25, 'batch_size': 64, 'ff_dim': 64}\n"
     ]
    },
    {
     "name": "stderr",
     "output_type": "stream",
     "text": [
      "2025-02-25 20:59:17.729093: I external/local_xla/xla/stream_executor/cuda/cuda_asm_compiler.cc:397] ptxas warning : Registers are spilled to local memory in function 'input_multiply_reduce_select_fusion', 16 bytes spill stores, 12 bytes spill loads\n",
      "\n"
     ]
    },
    {
     "name": "stdout",
     "output_type": "stream",
     "text": [
      "\u001b[1m21/21\u001b[0m \u001b[32m━━━━━━━━━━━━━━━━━━━━\u001b[0m\u001b[37m\u001b[0m \u001b[1m1s\u001b[0m 21ms/step \n",
      "Transformer MSE: 0.029478318342486116\n",
      "Testing params: {'num_heads': 2, 'lookback': 10, 'dropout_rate': 0.25, 'batch_size': 64, 'ff_dim': 128}\n"
     ]
    },
    {
     "name": "stderr",
     "output_type": "stream",
     "text": [
      "2025-02-25 20:59:29.283096: I external/local_xla/xla/stream_executor/cuda/cuda_asm_compiler.cc:397] ptxas warning : Registers are spilled to local memory in function 'input_multiply_reduce_select_fusion', 16 bytes spill stores, 12 bytes spill loads\n",
      "\n"
     ]
    },
    {
     "name": "stdout",
     "output_type": "stream",
     "text": [
      "\u001b[1m21/21\u001b[0m \u001b[32m━━━━━━━━━━━━━━━━━━━━\u001b[0m\u001b[37m\u001b[0m \u001b[1m1s\u001b[0m 21ms/step \n",
      "Transformer MSE: 0.033074112876509465\n",
      "Testing params: {'num_heads': 2, 'lookback': 15, 'dropout_rate': 0.25, 'batch_size': 32, 'ff_dim': 64}\n",
      "\u001b[1m20/20\u001b[0m \u001b[32m━━━━━━━━━━━━━━━━━━━━\u001b[0m\u001b[37m\u001b[0m \u001b[1m0s\u001b[0m 1ms/step  \n",
      "Transformer MSE: 0.03806623979048773\n",
      "Testing params: {'num_heads': 2, 'lookback': 15, 'dropout_rate': 0.25, 'batch_size': 32, 'ff_dim': 128}\n"
     ]
    },
    {
     "name": "stderr",
     "output_type": "stream",
     "text": [
      "2025-02-25 20:59:55.611218: I external/local_xla/xla/stream_executor/cuda/cuda_asm_compiler.cc:397] ptxas warning : Registers are spilled to local memory in function 'gemm_fusion_dot_7', 4 bytes spill stores, 8 bytes spill loads\n",
      "\n"
     ]
    },
    {
     "name": "stdout",
     "output_type": "stream",
     "text": [
      "\u001b[1m20/20\u001b[0m \u001b[32m━━━━━━━━━━━━━━━━━━━━\u001b[0m\u001b[37m\u001b[0m \u001b[1m1s\u001b[0m 1ms/step  \n",
      "Transformer MSE: 0.03334410774018396\n",
      "Testing params: {'num_heads': 2, 'lookback': 15, 'dropout_rate': 0.25, 'batch_size': 64, 'ff_dim': 64}\n",
      "\u001b[1m20/20\u001b[0m \u001b[32m━━━━━━━━━━━━━━━━━━━━\u001b[0m\u001b[37m\u001b[0m \u001b[1m0s\u001b[0m 1ms/step  \n",
      "Transformer MSE: 0.03685266291116042\n",
      "Testing params: {'num_heads': 2, 'lookback': 15, 'dropout_rate': 0.25, 'batch_size': 64, 'ff_dim': 128}\n",
      "\u001b[1m20/20\u001b[0m \u001b[32m━━━━━━━━━━━━━━━━━━━━\u001b[0m\u001b[37m\u001b[0m \u001b[1m0s\u001b[0m 1ms/step  \n",
      "Transformer MSE: 0.02901099352537882\n",
      "Testing params: {'num_heads': 4, 'lookback': 5, 'dropout_rate': 0.25, 'batch_size': 32, 'ff_dim': 64}\n",
      "\u001b[1m21/21\u001b[0m \u001b[32m━━━━━━━━━━━━━━━━━━━━\u001b[0m\u001b[37m\u001b[0m \u001b[1m1s\u001b[0m 32ms/step \n",
      "Transformer MSE: 0.03488726768985366\n",
      "Testing params: {'num_heads': 4, 'lookback': 5, 'dropout_rate': 0.25, 'batch_size': 32, 'ff_dim': 128}\n",
      "\u001b[1m21/21\u001b[0m \u001b[32m━━━━━━━━━━━━━━━━━━━━\u001b[0m\u001b[37m\u001b[0m \u001b[1m1s\u001b[0m 45ms/step \n",
      "Transformer MSE: 0.02379524019348223\n",
      "Testing params: {'num_heads': 4, 'lookback': 5, 'dropout_rate': 0.25, 'batch_size': 64, 'ff_dim': 64}\n"
     ]
    },
    {
     "name": "stderr",
     "output_type": "stream",
     "text": [
      "2025-02-25 21:01:09.507374: I external/local_xla/xla/stream_executor/cuda/cuda_asm_compiler.cc:397] ptxas warning : Registers are spilled to local memory in function 'input_reduce_select_fusion', 16 bytes spill stores, 12 bytes spill loads\n",
      "ptxas warning : Registers are spilled to local memory in function 'input_add_reduce_select_fusion', 12 bytes spill stores, 8 bytes spill loads\n",
      "\n"
     ]
    },
    {
     "name": "stdout",
     "output_type": "stream",
     "text": [
      "\u001b[1m21/21\u001b[0m \u001b[32m━━━━━━━━━━━━━━━━━━━━\u001b[0m\u001b[37m\u001b[0m \u001b[1m1s\u001b[0m 20ms/step \n",
      "Transformer MSE: 0.02578979657125966\n",
      "Testing params: {'num_heads': 4, 'lookback': 5, 'dropout_rate': 0.25, 'batch_size': 64, 'ff_dim': 128}\n"
     ]
    },
    {
     "name": "stderr",
     "output_type": "stream",
     "text": [
      "2025-02-25 21:01:21.178573: I external/local_xla/xla/stream_executor/cuda/cuda_asm_compiler.cc:397] ptxas warning : Registers are spilled to local memory in function 'input_reduce_select_fusion', 16 bytes spill stores, 12 bytes spill loads\n",
      "ptxas warning : Registers are spilled to local memory in function 'input_add_reduce_select_fusion', 12 bytes spill stores, 8 bytes spill loads\n",
      "\n"
     ]
    },
    {
     "name": "stdout",
     "output_type": "stream",
     "text": [
      "\u001b[1m21/21\u001b[0m \u001b[32m━━━━━━━━━━━━━━━━━━━━\u001b[0m\u001b[37m\u001b[0m \u001b[1m1s\u001b[0m 22ms/step \n",
      "Transformer MSE: 0.029452525438693325\n",
      "Testing params: {'num_heads': 4, 'lookback': 10, 'dropout_rate': 0.25, 'batch_size': 32, 'ff_dim': 64}\n"
     ]
    },
    {
     "name": "stderr",
     "output_type": "stream",
     "text": [
      "2025-02-25 21:01:35.306085: I external/local_xla/xla/stream_executor/cuda/cuda_asm_compiler.cc:397] ptxas warning : Registers are spilled to local memory in function 'input_reduce_select_fusion', 16 bytes spill stores, 12 bytes spill loads\n",
      "ptxas warning : Registers are spilled to local memory in function 'input_add_reduce_select_fusion', 12 bytes spill stores, 8 bytes spill loads\n",
      "\n"
     ]
    },
    {
     "name": "stdout",
     "output_type": "stream",
     "text": [
      "\u001b[1m21/21\u001b[0m \u001b[32m━━━━━━━━━━━━━━━━━━━━\u001b[0m\u001b[37m\u001b[0m \u001b[1m1s\u001b[0m 36ms/step \n",
      "Transformer MSE: 0.03399288355139762\n",
      "Testing params: {'num_heads': 4, 'lookback': 10, 'dropout_rate': 0.25, 'batch_size': 32, 'ff_dim': 128}\n"
     ]
    },
    {
     "name": "stderr",
     "output_type": "stream",
     "text": [
      "2025-02-25 21:01:52.703403: I external/local_xla/xla/stream_executor/cuda/cuda_asm_compiler.cc:397] ptxas warning : Registers are spilled to local memory in function 'input_reduce_select_fusion', 16 bytes spill stores, 12 bytes spill loads\n",
      "ptxas warning : Registers are spilled to local memory in function 'input_add_reduce_select_fusion', 12 bytes spill stores, 8 bytes spill loads\n",
      "\n"
     ]
    },
    {
     "name": "stdout",
     "output_type": "stream",
     "text": [
      "\u001b[1m21/21\u001b[0m \u001b[32m━━━━━━━━━━━━━━━━━━━━\u001b[0m\u001b[37m\u001b[0m \u001b[1m1s\u001b[0m 48ms/step \n",
      "Transformer MSE: 0.030229703540268216\n",
      "Testing params: {'num_heads': 4, 'lookback': 10, 'dropout_rate': 0.25, 'batch_size': 64, 'ff_dim': 64}\n"
     ]
    },
    {
     "name": "stderr",
     "output_type": "stream",
     "text": [
      "2025-02-25 21:02:10.170840: I external/local_xla/xla/stream_executor/cuda/cuda_asm_compiler.cc:397] ptxas warning : Registers are spilled to local memory in function 'input_multiply_reduce_select_fusion', 16 bytes spill stores, 12 bytes spill loads\n",
      "\n"
     ]
    },
    {
     "name": "stdout",
     "output_type": "stream",
     "text": [
      "\u001b[1m21/21\u001b[0m \u001b[32m━━━━━━━━━━━━━━━━━━━━\u001b[0m\u001b[37m\u001b[0m \u001b[1m1s\u001b[0m 20ms/step \n",
      "Transformer MSE: 0.028758879101147\n",
      "Testing params: {'num_heads': 4, 'lookback': 10, 'dropout_rate': 0.25, 'batch_size': 64, 'ff_dim': 128}\n"
     ]
    },
    {
     "name": "stderr",
     "output_type": "stream",
     "text": [
      "2025-02-25 21:02:21.418518: I external/local_xla/xla/stream_executor/cuda/cuda_asm_compiler.cc:397] ptxas warning : Registers are spilled to local memory in function 'input_multiply_reduce_select_fusion', 16 bytes spill stores, 12 bytes spill loads\n",
      "\n"
     ]
    },
    {
     "name": "stdout",
     "output_type": "stream",
     "text": [
      "\u001b[1m21/21\u001b[0m \u001b[32m━━━━━━━━━━━━━━━━━━━━\u001b[0m\u001b[37m\u001b[0m \u001b[1m1s\u001b[0m 21ms/step \n",
      "Transformer MSE: 0.03512851137063628\n",
      "Testing params: {'num_heads': 4, 'lookback': 15, 'dropout_rate': 0.25, 'batch_size': 32, 'ff_dim': 64}\n",
      "\u001b[1m20/20\u001b[0m \u001b[32m━━━━━━━━━━━━━━━━━━━━\u001b[0m\u001b[37m\u001b[0m \u001b[1m0s\u001b[0m 1ms/step  \n",
      "Transformer MSE: 0.04077589155687603\n",
      "Testing params: {'num_heads': 4, 'lookback': 15, 'dropout_rate': 0.25, 'batch_size': 32, 'ff_dim': 128}\n",
      "\u001b[1m20/20\u001b[0m \u001b[32m━━━━━━━━━━━━━━━━━━━━\u001b[0m\u001b[37m\u001b[0m \u001b[1m1s\u001b[0m 1ms/step   \n",
      "Transformer MSE: 0.029957513303894946\n",
      "Testing params: {'num_heads': 4, 'lookback': 15, 'dropout_rate': 0.25, 'batch_size': 64, 'ff_dim': 64}\n",
      "\u001b[1m20/20\u001b[0m \u001b[32m━━━━━━━━━━━━━━━━━━━━\u001b[0m\u001b[37m\u001b[0m \u001b[1m0s\u001b[0m 1ms/step  \n",
      "Transformer MSE: 0.040222860807765985\n",
      "Testing params: {'num_heads': 4, 'lookback': 15, 'dropout_rate': 0.25, 'batch_size': 64, 'ff_dim': 128}\n",
      "\u001b[1m20/20\u001b[0m \u001b[32m━━━━━━━━━━━━━━━━━━━━\u001b[0m\u001b[37m\u001b[0m \u001b[1m0s\u001b[0m 1ms/step  \n",
      "Transformer MSE: 0.04176333100075748\n",
      "Testing params: {'num_heads': 6, 'lookback': 5, 'dropout_rate': 0.25, 'batch_size': 32, 'ff_dim': 64}\n",
      "\u001b[1m21/21\u001b[0m \u001b[32m━━━━━━━━━━━━━━━━━━━━\u001b[0m\u001b[37m\u001b[0m \u001b[1m1s\u001b[0m 35ms/step \n",
      "Transformer MSE: 0.02771154267734593\n",
      "Testing params: {'num_heads': 6, 'lookback': 5, 'dropout_rate': 0.25, 'batch_size': 32, 'ff_dim': 128}\n"
     ]
    },
    {
     "name": "stderr",
     "output_type": "stream",
     "text": [
      "2025-02-25 21:03:41.180665: I external/local_xla/xla/stream_executor/cuda/cuda_asm_compiler.cc:397] ptxas warning : Registers are spilled to local memory in function 'gemm_fusion_dot_10', 16 bytes spill stores, 16 bytes spill loads\n",
      "\n",
      "2025-02-25 21:03:43.785525: I external/local_xla/xla/stream_executor/cuda/cuda_asm_compiler.cc:397] ptxas warning : Registers are spilled to local memory in function 'gemm_fusion_dot_10', 16 bytes spill stores, 16 bytes spill loads\n",
      "\n"
     ]
    },
    {
     "name": "stdout",
     "output_type": "stream",
     "text": [
      "\u001b[1m21/21\u001b[0m \u001b[32m━━━━━━━━━━━━━━━━━━━━\u001b[0m\u001b[37m\u001b[0m \u001b[1m1s\u001b[0m 37ms/step \n",
      "Transformer MSE: 0.02475196335638344\n",
      "Testing params: {'num_heads': 6, 'lookback': 5, 'dropout_rate': 0.25, 'batch_size': 64, 'ff_dim': 64}\n"
     ]
    },
    {
     "name": "stderr",
     "output_type": "stream",
     "text": [
      "2025-02-25 21:03:58.219332: I external/local_xla/xla/stream_executor/cuda/cuda_asm_compiler.cc:397] ptxas warning : Registers are spilled to local memory in function 'input_reduce_select_fusion', 16 bytes spill stores, 12 bytes spill loads\n",
      "ptxas warning : Registers are spilled to local memory in function 'input_add_reduce_select_fusion', 12 bytes spill stores, 8 bytes spill loads\n",
      "\n"
     ]
    },
    {
     "name": "stdout",
     "output_type": "stream",
     "text": [
      "\u001b[1m21/21\u001b[0m \u001b[32m━━━━━━━━━━━━━━━━━━━━\u001b[0m\u001b[37m\u001b[0m \u001b[1m1s\u001b[0m 19ms/step \n",
      "Transformer MSE: 0.02564826455816227\n",
      "Testing params: {'num_heads': 6, 'lookback': 5, 'dropout_rate': 0.25, 'batch_size': 64, 'ff_dim': 128}\n"
     ]
    },
    {
     "name": "stderr",
     "output_type": "stream",
     "text": [
      "2025-02-25 21:04:09.741091: I external/local_xla/xla/stream_executor/cuda/cuda_asm_compiler.cc:397] ptxas warning : Registers are spilled to local memory in function 'input_reduce_select_fusion', 16 bytes spill stores, 12 bytes spill loads\n",
      "ptxas warning : Registers are spilled to local memory in function 'input_add_reduce_select_fusion', 12 bytes spill stores, 8 bytes spill loads\n",
      "\n"
     ]
    },
    {
     "name": "stdout",
     "output_type": "stream",
     "text": [
      "\u001b[1m21/21\u001b[0m \u001b[32m━━━━━━━━━━━━━━━━━━━━\u001b[0m\u001b[37m\u001b[0m \u001b[1m1s\u001b[0m 20ms/step \n",
      "Transformer MSE: 0.03331323258585021\n",
      "Testing params: {'num_heads': 6, 'lookback': 10, 'dropout_rate': 0.25, 'batch_size': 32, 'ff_dim': 64}\n"
     ]
    },
    {
     "name": "stderr",
     "output_type": "stream",
     "text": [
      "2025-02-25 21:04:21.648054: I external/local_xla/xla/stream_executor/cuda/cuda_asm_compiler.cc:397] ptxas warning : Registers are spilled to local memory in function 'input_reduce_select_fusion', 16 bytes spill stores, 12 bytes spill loads\n",
      "ptxas warning : Registers are spilled to local memory in function 'input_add_reduce_select_fusion', 12 bytes spill stores, 8 bytes spill loads\n",
      "\n"
     ]
    },
    {
     "name": "stdout",
     "output_type": "stream",
     "text": [
      "\u001b[1m21/21\u001b[0m \u001b[32m━━━━━━━━━━━━━━━━━━━━\u001b[0m\u001b[37m\u001b[0m \u001b[1m1s\u001b[0m 41ms/step \n",
      "Transformer MSE: 0.028418821059096697\n",
      "Testing params: {'num_heads': 6, 'lookback': 10, 'dropout_rate': 0.25, 'batch_size': 32, 'ff_dim': 128}\n"
     ]
    },
    {
     "name": "stderr",
     "output_type": "stream",
     "text": [
      "2025-02-25 21:04:38.702164: I external/local_xla/xla/stream_executor/cuda/cuda_asm_compiler.cc:397] ptxas warning : Registers are spilled to local memory in function 'input_reduce_select_fusion', 16 bytes spill stores, 12 bytes spill loads\n",
      "ptxas warning : Registers are spilled to local memory in function 'input_add_reduce_select_fusion', 12 bytes spill stores, 8 bytes spill loads\n",
      "\n",
      "2025-02-25 21:04:39.946393: I external/local_xla/xla/stream_executor/cuda/cuda_asm_compiler.cc:397] ptxas warning : Registers are spilled to local memory in function 'gemm_fusion_dot_10', 16 bytes spill stores, 16 bytes spill loads\n",
      "\n"
     ]
    },
    {
     "name": "stdout",
     "output_type": "stream",
     "text": [
      "\u001b[1m21/21\u001b[0m \u001b[32m━━━━━━━━━━━━━━━━━━━━\u001b[0m\u001b[37m\u001b[0m \u001b[1m1s\u001b[0m 46ms/step \n",
      "Transformer MSE: 0.025771285522215883\n",
      "Testing params: {'num_heads': 6, 'lookback': 10, 'dropout_rate': 0.25, 'batch_size': 64, 'ff_dim': 64}\n"
     ]
    },
    {
     "name": "stderr",
     "output_type": "stream",
     "text": [
      "2025-02-25 21:04:55.019816: I external/local_xla/xla/stream_executor/cuda/cuda_asm_compiler.cc:397] ptxas warning : Registers are spilled to local memory in function 'input_multiply_reduce_select_fusion', 16 bytes spill stores, 12 bytes spill loads\n",
      "\n"
     ]
    },
    {
     "name": "stdout",
     "output_type": "stream",
     "text": [
      "\u001b[1m21/21\u001b[0m \u001b[32m━━━━━━━━━━━━━━━━━━━━\u001b[0m\u001b[37m\u001b[0m \u001b[1m1s\u001b[0m 19ms/step \n",
      "Transformer MSE: 0.036925422574517794\n",
      "Testing params: {'num_heads': 6, 'lookback': 10, 'dropout_rate': 0.25, 'batch_size': 64, 'ff_dim': 128}\n"
     ]
    },
    {
     "name": "stderr",
     "output_type": "stream",
     "text": [
      "2025-02-25 21:05:06.778070: I external/local_xla/xla/stream_executor/cuda/cuda_asm_compiler.cc:397] ptxas warning : Registers are spilled to local memory in function 'input_multiply_reduce_select_fusion', 16 bytes spill stores, 12 bytes spill loads\n",
      "\n"
     ]
    },
    {
     "name": "stdout",
     "output_type": "stream",
     "text": [
      "\u001b[1m21/21\u001b[0m \u001b[32m━━━━━━━━━━━━━━━━━━━━\u001b[0m\u001b[37m\u001b[0m \u001b[1m1s\u001b[0m 22ms/step \n",
      "Transformer MSE: 0.03389511027330434\n",
      "Testing params: {'num_heads': 6, 'lookback': 15, 'dropout_rate': 0.25, 'batch_size': 32, 'ff_dim': 64}\n",
      "\u001b[1m20/20\u001b[0m \u001b[32m━━━━━━━━━━━━━━━━━━━━\u001b[0m\u001b[37m\u001b[0m \u001b[1m0s\u001b[0m 1ms/step  \n",
      "Transformer MSE: 0.026591431101564256\n",
      "Testing params: {'num_heads': 6, 'lookback': 15, 'dropout_rate': 0.25, 'batch_size': 32, 'ff_dim': 128}\n"
     ]
    },
    {
     "name": "stderr",
     "output_type": "stream",
     "text": [
      "2025-02-25 21:05:32.703937: I external/local_xla/xla/stream_executor/cuda/cuda_asm_compiler.cc:397] ptxas warning : Registers are spilled to local memory in function 'gemm_fusion_dot_10', 16 bytes spill stores, 16 bytes spill loads\n",
      "\n"
     ]
    },
    {
     "name": "stdout",
     "output_type": "stream",
     "text": [
      "\u001b[1m20/20\u001b[0m \u001b[32m━━━━━━━━━━━━━━━━━━━━\u001b[0m\u001b[37m\u001b[0m \u001b[1m1s\u001b[0m 1ms/step  \n",
      "Transformer MSE: 0.031013946422317272\n",
      "Testing params: {'num_heads': 6, 'lookback': 15, 'dropout_rate': 0.25, 'batch_size': 64, 'ff_dim': 64}\n",
      "\u001b[1m20/20\u001b[0m \u001b[32m━━━━━━━━━━━━━━━━━━━━\u001b[0m\u001b[37m\u001b[0m \u001b[1m0s\u001b[0m 1ms/step  \n",
      "Transformer MSE: 0.037053334949086136\n",
      "Testing params: {'num_heads': 6, 'lookback': 15, 'dropout_rate': 0.25, 'batch_size': 64, 'ff_dim': 128}\n",
      "\u001b[1m20/20\u001b[0m \u001b[32m━━━━━━━━━━━━━━━━━━━━\u001b[0m\u001b[37m\u001b[0m \u001b[1m0s\u001b[0m 3ms/step  \n",
      "Transformer MSE: 0.03489407135057932\n",
      "Best parameters: {'num_heads': 4, 'lookback': 5, 'dropout_rate': 0.25, 'batch_size': 32, 'ff_dim': 128}, Best MSE: 0.02379524019348223\n",
      "Best MSE: 0.023795\n",
      "num_heads: 4, lookback: 5, ff_dim: 128, batch_size: 32\n",
      "Time taken: 503.497441 seconds\n",
      "[pypickle] Pickle file saved: [/home/alfred/projects/mscfe-masters-project/src/models/best/transformer/best_lstm_EQQQ_ETF_BNBUSDT.pkl]\n",
      "\n",
      "(7) Pairs: BNBUSDT ADAUSDT\n",
      "Testing params: {'num_heads': 2, 'lookback': 5, 'dropout_rate': 0.25, 'batch_size': 32, 'ff_dim': 64}\n",
      "\u001b[1m195/195\u001b[0m \u001b[32m━━━━━━━━━━━━━━━━━━━━\u001b[0m\u001b[37m\u001b[0m \u001b[1m1s\u001b[0m 4ms/step    \n",
      "Transformer MSE: 0.007843805271163004\n",
      "Testing params: {'num_heads': 2, 'lookback': 5, 'dropout_rate': 0.25, 'batch_size': 32, 'ff_dim': 128}\n",
      "\u001b[1m195/195\u001b[0m \u001b[32m━━━━━━━━━━━━━━━━━━━━\u001b[0m\u001b[37m\u001b[0m \u001b[1m1s\u001b[0m 5ms/step    \n",
      "Transformer MSE: 0.0028365542175543706\n",
      "Testing params: {'num_heads': 2, 'lookback': 5, 'dropout_rate': 0.25, 'batch_size': 64, 'ff_dim': 64}\n",
      "\u001b[1m195/195\u001b[0m \u001b[32m━━━━━━━━━━━━━━━━━━━━\u001b[0m\u001b[37m\u001b[0m \u001b[1m1s\u001b[0m 2ms/step    \n",
      "Transformer MSE: 0.002521821961802131\n",
      "Testing params: {'num_heads': 2, 'lookback': 5, 'dropout_rate': 0.25, 'batch_size': 64, 'ff_dim': 128}\n",
      "\u001b[1m195/195\u001b[0m \u001b[32m━━━━━━━━━━━━━━━━━━━━\u001b[0m\u001b[37m\u001b[0m \u001b[1m1s\u001b[0m 3ms/step    \n",
      "Transformer MSE: 0.0026334181372524262\n",
      "Testing params: {'num_heads': 2, 'lookback': 10, 'dropout_rate': 0.25, 'batch_size': 32, 'ff_dim': 64}\n",
      "\u001b[1m194/194\u001b[0m \u001b[32m━━━━━━━━━━━━━━━━━━━━\u001b[0m\u001b[37m\u001b[0m \u001b[1m0s\u001b[0m 562us/step  \n",
      "Transformer MSE: 0.0017882372097608973\n",
      "Testing params: {'num_heads': 2, 'lookback': 10, 'dropout_rate': 0.25, 'batch_size': 32, 'ff_dim': 128}\n",
      "\u001b[1m194/194\u001b[0m \u001b[32m━━━━━━━━━━━━━━━━━━━━\u001b[0m\u001b[37m\u001b[0m \u001b[1m0s\u001b[0m 709us/step  \n",
      "Transformer MSE: 0.0036640076527290582\n",
      "Testing params: {'num_heads': 2, 'lookback': 10, 'dropout_rate': 0.25, 'batch_size': 64, 'ff_dim': 64}\n",
      "\u001b[1m194/194\u001b[0m \u001b[32m━━━━━━━━━━━━━━━━━━━━\u001b[0m\u001b[37m\u001b[0m \u001b[1m1s\u001b[0m 939us/step  \n",
      "Transformer MSE: 0.003240643842206856\n",
      "Testing params: {'num_heads': 2, 'lookback': 10, 'dropout_rate': 0.25, 'batch_size': 64, 'ff_dim': 128}\n",
      "\u001b[1m194/194\u001b[0m \u001b[32m━━━━━━━━━━━━━━━━━━━━\u001b[0m\u001b[37m\u001b[0m \u001b[1m0s\u001b[0m 664us/step  \n",
      "Transformer MSE: 0.00272241212547399\n",
      "Testing params: {'num_heads': 2, 'lookback': 15, 'dropout_rate': 0.25, 'batch_size': 32, 'ff_dim': 64}\n",
      "\u001b[1m194/194\u001b[0m \u001b[32m━━━━━━━━━━━━━━━━━━━━\u001b[0m\u001b[37m\u001b[0m \u001b[1m1s\u001b[0m 5ms/step    \n",
      "Transformer MSE: 0.002884521976243635\n",
      "Testing params: {'num_heads': 2, 'lookback': 15, 'dropout_rate': 0.25, 'batch_size': 32, 'ff_dim': 128}\n",
      "\u001b[1m194/194\u001b[0m \u001b[32m━━━━━━━━━━━━━━━━━━━━\u001b[0m\u001b[37m\u001b[0m \u001b[1m2s\u001b[0m 6ms/step    \n",
      "Transformer MSE: 0.002754059146780718\n",
      "Testing params: {'num_heads': 2, 'lookback': 15, 'dropout_rate': 0.25, 'batch_size': 64, 'ff_dim': 64}\n",
      "\u001b[1m194/194\u001b[0m \u001b[32m━━━━━━━━━━━━━━━━━━━━\u001b[0m\u001b[37m\u001b[0m \u001b[1m1s\u001b[0m 2ms/step    \n",
      "Transformer MSE: 0.006588252275661164\n",
      "Testing params: {'num_heads': 2, 'lookback': 15, 'dropout_rate': 0.25, 'batch_size': 64, 'ff_dim': 128}\n",
      "\u001b[1m194/194\u001b[0m \u001b[32m━━━━━━━━━━━━━━━━━━━━\u001b[0m\u001b[37m\u001b[0m \u001b[1m1s\u001b[0m 2ms/step    \n",
      "Transformer MSE: 0.005289571478879987\n",
      "Testing params: {'num_heads': 4, 'lookback': 5, 'dropout_rate': 0.25, 'batch_size': 32, 'ff_dim': 64}\n",
      "\u001b[1m195/195\u001b[0m \u001b[32m━━━━━━━━━━━━━━━━━━━━\u001b[0m\u001b[37m\u001b[0m \u001b[1m1s\u001b[0m 4ms/step    \n",
      "Transformer MSE: 0.0039007413150029977\n",
      "Testing params: {'num_heads': 4, 'lookback': 5, 'dropout_rate': 0.25, 'batch_size': 32, 'ff_dim': 128}\n",
      "\u001b[1m195/195\u001b[0m \u001b[32m━━━━━━━━━━━━━━━━━━━━\u001b[0m\u001b[37m\u001b[0m \u001b[1m1s\u001b[0m 5ms/step    \n",
      "Transformer MSE: 0.0031992077849570025\n",
      "Testing params: {'num_heads': 4, 'lookback': 5, 'dropout_rate': 0.25, 'batch_size': 64, 'ff_dim': 64}\n",
      "\u001b[1m195/195\u001b[0m \u001b[32m━━━━━━━━━━━━━━━━━━━━\u001b[0m\u001b[37m\u001b[0m \u001b[1m1s\u001b[0m 3ms/step    \n",
      "Transformer MSE: 0.005446653279206853\n",
      "Testing params: {'num_heads': 4, 'lookback': 5, 'dropout_rate': 0.25, 'batch_size': 64, 'ff_dim': 128}\n",
      "\u001b[1m195/195\u001b[0m \u001b[32m━━━━━━━━━━━━━━━━━━━━\u001b[0m\u001b[37m\u001b[0m \u001b[1m1s\u001b[0m 3ms/step    \n",
      "Transformer MSE: 0.004088410496985689\n",
      "Testing params: {'num_heads': 4, 'lookback': 10, 'dropout_rate': 0.25, 'batch_size': 32, 'ff_dim': 64}\n",
      "\u001b[1m194/194\u001b[0m \u001b[32m━━━━━━━━━━━━━━━━━━━━\u001b[0m\u001b[37m\u001b[0m \u001b[1m0s\u001b[0m 595us/step  \n",
      "Transformer MSE: 0.004118705061165137\n",
      "Testing params: {'num_heads': 4, 'lookback': 10, 'dropout_rate': 0.25, 'batch_size': 32, 'ff_dim': 128}\n",
      "\u001b[1m194/194\u001b[0m \u001b[32m━━━━━━━━━━━━━━━━━━━━\u001b[0m\u001b[37m\u001b[0m \u001b[1m0s\u001b[0m 638us/step  \n",
      "Transformer MSE: 0.009509059592197978\n",
      "Testing params: {'num_heads': 4, 'lookback': 10, 'dropout_rate': 0.25, 'batch_size': 64, 'ff_dim': 64}\n",
      "\u001b[1m194/194\u001b[0m \u001b[32m━━━━━━━━━━━━━━━━━━━━\u001b[0m\u001b[37m\u001b[0m \u001b[1m0s\u001b[0m 695us/step  \n",
      "Transformer MSE: 0.004598329152156358\n",
      "Testing params: {'num_heads': 4, 'lookback': 10, 'dropout_rate': 0.25, 'batch_size': 64, 'ff_dim': 128}\n",
      "\u001b[1m194/194\u001b[0m \u001b[32m━━━━━━━━━━━━━━━━━━━━\u001b[0m\u001b[37m\u001b[0m \u001b[1m0s\u001b[0m 659us/step  \n",
      "Transformer MSE: 0.005822476170255951\n",
      "Testing params: {'num_heads': 4, 'lookback': 15, 'dropout_rate': 0.25, 'batch_size': 32, 'ff_dim': 64}\n",
      "\u001b[1m194/194\u001b[0m \u001b[32m━━━━━━━━━━━━━━━━━━━━\u001b[0m\u001b[37m\u001b[0m \u001b[1m1s\u001b[0m 4ms/step    \n",
      "Transformer MSE: 0.0011358674797524086\n",
      "Testing params: {'num_heads': 4, 'lookback': 15, 'dropout_rate': 0.25, 'batch_size': 32, 'ff_dim': 128}\n",
      "\u001b[1m194/194\u001b[0m \u001b[32m━━━━━━━━━━━━━━━━━━━━\u001b[0m\u001b[37m\u001b[0m \u001b[1m1s\u001b[0m 5ms/step    \n",
      "Transformer MSE: 0.0020465753843983457\n",
      "Testing params: {'num_heads': 4, 'lookback': 15, 'dropout_rate': 0.25, 'batch_size': 64, 'ff_dim': 64}\n",
      "\u001b[1m194/194\u001b[0m \u001b[32m━━━━━━━━━━━━━━━━━━━━\u001b[0m\u001b[37m\u001b[0m \u001b[1m1s\u001b[0m 2ms/step    \n",
      "Transformer MSE: 0.00320769553829657\n",
      "Testing params: {'num_heads': 4, 'lookback': 15, 'dropout_rate': 0.25, 'batch_size': 64, 'ff_dim': 128}\n",
      "\u001b[1m194/194\u001b[0m \u001b[32m━━━━━━━━━━━━━━━━━━━━\u001b[0m\u001b[37m\u001b[0m \u001b[1m1s\u001b[0m 3ms/step    \n",
      "Transformer MSE: 0.010120115949526297\n",
      "Testing params: {'num_heads': 6, 'lookback': 5, 'dropout_rate': 0.25, 'batch_size': 32, 'ff_dim': 64}\n",
      "\u001b[1m195/195\u001b[0m \u001b[32m━━━━━━━━━━━━━━━━━━━━\u001b[0m\u001b[37m\u001b[0m \u001b[1m1s\u001b[0m 5ms/step    \n",
      "Transformer MSE: 0.005732147680605092\n",
      "Testing params: {'num_heads': 6, 'lookback': 5, 'dropout_rate': 0.25, 'batch_size': 32, 'ff_dim': 128}\n",
      "\u001b[1m195/195\u001b[0m \u001b[32m━━━━━━━━━━━━━━━━━━━━\u001b[0m\u001b[37m\u001b[0m \u001b[1m1s\u001b[0m 5ms/step    \n",
      "Transformer MSE: 0.0060582338179581835\n",
      "Testing params: {'num_heads': 6, 'lookback': 5, 'dropout_rate': 0.25, 'batch_size': 64, 'ff_dim': 64}\n",
      "\u001b[1m195/195\u001b[0m \u001b[32m━━━━━━━━━━━━━━━━━━━━\u001b[0m\u001b[37m\u001b[0m \u001b[1m1s\u001b[0m 2ms/step    \n",
      "Transformer MSE: 0.00322588045626177\n",
      "Testing params: {'num_heads': 6, 'lookback': 5, 'dropout_rate': 0.25, 'batch_size': 64, 'ff_dim': 128}\n",
      "\u001b[1m195/195\u001b[0m \u001b[32m━━━━━━━━━━━━━━━━━━━━\u001b[0m\u001b[37m\u001b[0m \u001b[1m1s\u001b[0m 2ms/step    \n",
      "Transformer MSE: 0.0059373206379386605\n",
      "Testing params: {'num_heads': 6, 'lookback': 10, 'dropout_rate': 0.25, 'batch_size': 32, 'ff_dim': 64}\n",
      "\u001b[1m194/194\u001b[0m \u001b[32m━━━━━━━━━━━━━━━━━━━━\u001b[0m\u001b[37m\u001b[0m \u001b[1m0s\u001b[0m 671us/step  \n",
      "Transformer MSE: 0.0029122641975304216\n",
      "Testing params: {'num_heads': 6, 'lookback': 10, 'dropout_rate': 0.25, 'batch_size': 32, 'ff_dim': 128}\n",
      "\u001b[1m194/194\u001b[0m \u001b[32m━━━━━━━━━━━━━━━━━━━━\u001b[0m\u001b[37m\u001b[0m \u001b[1m0s\u001b[0m 692us/step  \n",
      "Transformer MSE: 0.0067257164286180235\n",
      "Testing params: {'num_heads': 6, 'lookback': 10, 'dropout_rate': 0.25, 'batch_size': 64, 'ff_dim': 64}\n",
      "\u001b[1m194/194\u001b[0m \u001b[32m━━━━━━━━━━━━━━━━━━━━\u001b[0m\u001b[37m\u001b[0m \u001b[1m0s\u001b[0m 716us/step  \n",
      "Transformer MSE: 0.0017616354249184673\n",
      "Testing params: {'num_heads': 6, 'lookback': 10, 'dropout_rate': 0.25, 'batch_size': 64, 'ff_dim': 128}\n",
      "\u001b[1m194/194\u001b[0m \u001b[32m━━━━━━━━━━━━━━━━━━━━\u001b[0m\u001b[37m\u001b[0m \u001b[1m0s\u001b[0m 629us/step  \n",
      "Transformer MSE: 0.005006844346795647\n",
      "Testing params: {'num_heads': 6, 'lookback': 15, 'dropout_rate': 0.25, 'batch_size': 32, 'ff_dim': 64}\n",
      "\u001b[1m194/194\u001b[0m \u001b[32m━━━━━━━━━━━━━━━━━━━━\u001b[0m\u001b[37m\u001b[0m \u001b[1m1s\u001b[0m 5ms/step    \n",
      "Transformer MSE: 0.009083470611298201\n",
      "Testing params: {'num_heads': 6, 'lookback': 15, 'dropout_rate': 0.25, 'batch_size': 32, 'ff_dim': 128}\n"
     ]
    },
    {
     "name": "stderr",
     "output_type": "stream",
     "text": [
      "2025-02-25 21:36:26.191130: I external/local_xla/xla/stream_executor/cuda/cuda_asm_compiler.cc:397] ptxas warning : Registers are spilled to local memory in function 'gemm_fusion_dot_10', 12 bytes spill stores, 12 bytes spill loads\n",
      "\n"
     ]
    },
    {
     "name": "stdout",
     "output_type": "stream",
     "text": [
      "\u001b[1m194/194\u001b[0m \u001b[32m━━━━━━━━━━━━━━━━━━━━\u001b[0m\u001b[37m\u001b[0m \u001b[1m1s\u001b[0m 5ms/step    \n",
      "Transformer MSE: 0.0016305541581708828\n",
      "Testing params: {'num_heads': 6, 'lookback': 15, 'dropout_rate': 0.25, 'batch_size': 64, 'ff_dim': 64}\n",
      "\u001b[1m194/194\u001b[0m \u001b[32m━━━━━━━━━━━━━━━━━━━━\u001b[0m\u001b[37m\u001b[0m \u001b[1m1s\u001b[0m 2ms/step    \n",
      "Transformer MSE: 0.012646601450064958\n",
      "Testing params: {'num_heads': 6, 'lookback': 15, 'dropout_rate': 0.25, 'batch_size': 64, 'ff_dim': 128}\n"
     ]
    },
    {
     "name": "stderr",
     "output_type": "stream",
     "text": [
      "2025-02-25 21:38:19.825065: I external/local_xla/xla/stream_executor/cuda/cuda_asm_compiler.cc:397] ptxas warning : Registers are spilled to local memory in function 'gemm_fusion_dot_10', 12 bytes spill stores, 12 bytes spill loads\n",
      "\n"
     ]
    },
    {
     "name": "stdout",
     "output_type": "stream",
     "text": [
      "\u001b[1m194/194\u001b[0m \u001b[32m━━━━━━━━━━━━━━━━━━━━\u001b[0m\u001b[37m\u001b[0m \u001b[1m1s\u001b[0m 2ms/step    \n",
      "Transformer MSE: 0.0033976894080062457\n",
      "Best parameters: {'num_heads': 4, 'lookback': 15, 'dropout_rate': 0.25, 'batch_size': 32, 'ff_dim': 64}, Best MSE: 0.0011358674797524086\n",
      "Best MSE: 0.001136\n",
      "num_heads: 4, lookback: 15, ff_dim: 64, batch_size: 32\n",
      "Time taken: 1967.668354 seconds\n",
      "[pypickle] Pickle file saved: [/home/alfred/projects/mscfe-masters-project/src/models/best/transformer/best_lstm_BNBUSDT_ADAUSDT.pkl]\n",
      "\n",
      "(8) Pairs: BNBUSDT BTCUSDT\n",
      "Testing params: {'num_heads': 2, 'lookback': 5, 'dropout_rate': 0.25, 'batch_size': 32, 'ff_dim': 64}\n",
      "\u001b[1m195/195\u001b[0m \u001b[32m━━━━━━━━━━━━━━━━━━━━\u001b[0m\u001b[37m\u001b[0m \u001b[1m1s\u001b[0m 2ms/step    \n",
      "Transformer MSE: 0.002062959439521658\n",
      "Testing params: {'num_heads': 2, 'lookback': 5, 'dropout_rate': 0.25, 'batch_size': 32, 'ff_dim': 128}\n",
      "\u001b[1m195/195\u001b[0m \u001b[32m━━━━━━━━━━━━━━━━━━━━\u001b[0m\u001b[37m\u001b[0m \u001b[1m1s\u001b[0m 3ms/step    \n",
      "Transformer MSE: 0.00792145934974192\n",
      "Testing params: {'num_heads': 2, 'lookback': 5, 'dropout_rate': 0.25, 'batch_size': 64, 'ff_dim': 64}\n",
      "\u001b[1m195/195\u001b[0m \u001b[32m━━━━━━━━━━━━━━━━━━━━\u001b[0m\u001b[37m\u001b[0m \u001b[1m1s\u001b[0m 3ms/step    \n",
      "Transformer MSE: 0.0056838578615391305\n",
      "Testing params: {'num_heads': 2, 'lookback': 5, 'dropout_rate': 0.25, 'batch_size': 64, 'ff_dim': 128}\n",
      "\u001b[1m195/195\u001b[0m \u001b[32m━━━━━━━━━━━━━━━━━━━━\u001b[0m\u001b[37m\u001b[0m \u001b[1m1s\u001b[0m 3ms/step    \n",
      "Transformer MSE: 0.005354542874723934\n",
      "Testing params: {'num_heads': 2, 'lookback': 10, 'dropout_rate': 0.25, 'batch_size': 32, 'ff_dim': 64}\n",
      "\u001b[1m194/194\u001b[0m \u001b[32m━━━━━━━━━━━━━━━━━━━━\u001b[0m\u001b[37m\u001b[0m \u001b[1m1s\u001b[0m 2ms/step    \n",
      "Transformer MSE: 0.01169978440526919\n",
      "Testing params: {'num_heads': 2, 'lookback': 10, 'dropout_rate': 0.25, 'batch_size': 32, 'ff_dim': 128}\n",
      "\u001b[1m194/194\u001b[0m \u001b[32m━━━━━━━━━━━━━━━━━━━━\u001b[0m\u001b[37m\u001b[0m \u001b[1m0s\u001b[0m 819us/step  \n",
      "Transformer MSE: 0.007662382523112071\n",
      "Testing params: {'num_heads': 2, 'lookback': 10, 'dropout_rate': 0.25, 'batch_size': 64, 'ff_dim': 64}\n",
      "\u001b[1m194/194\u001b[0m \u001b[32m━━━━━━━━━━━━━━━━━━━━\u001b[0m\u001b[37m\u001b[0m \u001b[1m1s\u001b[0m 868us/step  \n",
      "Transformer MSE: 0.0035108243057828887\n",
      "Testing params: {'num_heads': 2, 'lookback': 10, 'dropout_rate': 0.25, 'batch_size': 64, 'ff_dim': 128}\n",
      "\u001b[1m194/194\u001b[0m \u001b[32m━━━━━━━━━━━━━━━━━━━━\u001b[0m\u001b[37m\u001b[0m \u001b[1m0s\u001b[0m 626us/step  \n",
      "Transformer MSE: 0.005420135648555015\n",
      "Testing params: {'num_heads': 2, 'lookback': 15, 'dropout_rate': 0.25, 'batch_size': 32, 'ff_dim': 64}\n",
      "\u001b[1m194/194\u001b[0m \u001b[32m━━━━━━━━━━━━━━━━━━━━\u001b[0m\u001b[37m\u001b[0m \u001b[1m1s\u001b[0m 2ms/step    \n",
      "Transformer MSE: 0.01240489633318928\n",
      "Testing params: {'num_heads': 2, 'lookback': 15, 'dropout_rate': 0.25, 'batch_size': 32, 'ff_dim': 128}\n",
      "\u001b[1m194/194\u001b[0m \u001b[32m━━━━━━━━━━━━━━━━━━━━\u001b[0m\u001b[37m\u001b[0m \u001b[1m1s\u001b[0m 3ms/step    \n",
      "Transformer MSE: 0.006416209241864156\n",
      "Testing params: {'num_heads': 2, 'lookback': 15, 'dropout_rate': 0.25, 'batch_size': 64, 'ff_dim': 64}\n",
      "\u001b[1m194/194\u001b[0m \u001b[32m━━━━━━━━━━━━━━━━━━━━\u001b[0m\u001b[37m\u001b[0m \u001b[1m1s\u001b[0m 2ms/step    \n",
      "Transformer MSE: 0.0029524936769059393\n",
      "Testing params: {'num_heads': 2, 'lookback': 15, 'dropout_rate': 0.25, 'batch_size': 64, 'ff_dim': 128}\n",
      "\u001b[1m194/194\u001b[0m \u001b[32m━━━━━━━━━━━━━━━━━━━━\u001b[0m\u001b[37m\u001b[0m \u001b[1m1s\u001b[0m 3ms/step    \n",
      "Transformer MSE: 0.010942685114107885\n",
      "Testing params: {'num_heads': 4, 'lookback': 5, 'dropout_rate': 0.25, 'batch_size': 32, 'ff_dim': 64}\n",
      "\u001b[1m195/195\u001b[0m \u001b[32m━━━━━━━━━━━━━━━━━━━━\u001b[0m\u001b[37m\u001b[0m \u001b[1m1s\u001b[0m 2ms/step    \n",
      "Transformer MSE: 0.002785198616175464\n",
      "Testing params: {'num_heads': 4, 'lookback': 5, 'dropout_rate': 0.25, 'batch_size': 32, 'ff_dim': 128}\n",
      "\u001b[1m195/195\u001b[0m \u001b[32m━━━━━━━━━━━━━━━━━━━━\u001b[0m\u001b[37m\u001b[0m \u001b[1m1s\u001b[0m 3ms/step    \n",
      "Transformer MSE: 0.002918244401842534\n",
      "Testing params: {'num_heads': 4, 'lookback': 5, 'dropout_rate': 0.25, 'batch_size': 64, 'ff_dim': 64}\n",
      "\u001b[1m195/195\u001b[0m \u001b[32m━━━━━━━━━━━━━━━━━━━━\u001b[0m\u001b[37m\u001b[0m \u001b[1m1s\u001b[0m 2ms/step    \n",
      "Transformer MSE: 0.004750939976322616\n",
      "Testing params: {'num_heads': 4, 'lookback': 5, 'dropout_rate': 0.25, 'batch_size': 64, 'ff_dim': 128}\n",
      "\u001b[1m195/195\u001b[0m \u001b[32m━━━━━━━━━━━━━━━━━━━━\u001b[0m\u001b[37m\u001b[0m \u001b[1m1s\u001b[0m 3ms/step    \n",
      "Transformer MSE: 0.003489528193131645\n",
      "Testing params: {'num_heads': 4, 'lookback': 10, 'dropout_rate': 0.25, 'batch_size': 32, 'ff_dim': 64}\n",
      "\u001b[1m194/194\u001b[0m \u001b[32m━━━━━━━━━━━━━━━━━━━━\u001b[0m\u001b[37m\u001b[0m \u001b[1m0s\u001b[0m 672us/step  \n",
      "Transformer MSE: 0.00642402827142683\n",
      "Testing params: {'num_heads': 4, 'lookback': 10, 'dropout_rate': 0.25, 'batch_size': 32, 'ff_dim': 128}\n",
      "\u001b[1m194/194\u001b[0m \u001b[32m━━━━━━━━━━━━━━━━━━━━\u001b[0m\u001b[37m\u001b[0m \u001b[1m0s\u001b[0m 582us/step  \n",
      "Transformer MSE: 0.004660898403731828\n",
      "Testing params: {'num_heads': 4, 'lookback': 10, 'dropout_rate': 0.25, 'batch_size': 64, 'ff_dim': 64}\n",
      "\u001b[1m194/194\u001b[0m \u001b[32m━━━━━━━━━━━━━━━━━━━━\u001b[0m\u001b[37m\u001b[0m \u001b[1m0s\u001b[0m 565us/step  \n",
      "Transformer MSE: 0.004958286473853284\n",
      "Testing params: {'num_heads': 4, 'lookback': 10, 'dropout_rate': 0.25, 'batch_size': 64, 'ff_dim': 128}\n",
      "\u001b[1m194/194\u001b[0m \u001b[32m━━━━━━━━━━━━━━━━━━━━\u001b[0m\u001b[37m\u001b[0m \u001b[1m0s\u001b[0m 674us/step  \n",
      "Transformer MSE: 0.005847622019447382\n",
      "Testing params: {'num_heads': 4, 'lookback': 15, 'dropout_rate': 0.25, 'batch_size': 32, 'ff_dim': 64}\n",
      "\u001b[1m194/194\u001b[0m \u001b[32m━━━━━━━━━━━━━━━━━━━━\u001b[0m\u001b[37m\u001b[0m \u001b[1m1s\u001b[0m 2ms/step    \n",
      "Transformer MSE: 0.005747134847126729\n",
      "Testing params: {'num_heads': 4, 'lookback': 15, 'dropout_rate': 0.25, 'batch_size': 32, 'ff_dim': 128}\n",
      "\u001b[1m194/194\u001b[0m \u001b[32m━━━━━━━━━━━━━━━━━━━━\u001b[0m\u001b[37m\u001b[0m \u001b[1m1s\u001b[0m 3ms/step    \n",
      "Transformer MSE: 0.007390948801560413\n",
      "Testing params: {'num_heads': 4, 'lookback': 15, 'dropout_rate': 0.25, 'batch_size': 64, 'ff_dim': 64}\n",
      "\u001b[1m194/194\u001b[0m \u001b[32m━━━━━━━━━━━━━━━━━━━━\u001b[0m\u001b[37m\u001b[0m \u001b[1m1s\u001b[0m 2ms/step    \n",
      "Transformer MSE: 0.009601449834915253\n",
      "Testing params: {'num_heads': 4, 'lookback': 15, 'dropout_rate': 0.25, 'batch_size': 64, 'ff_dim': 128}\n",
      "\u001b[1m194/194\u001b[0m \u001b[32m━━━━━━━━━━━━━━━━━━━━\u001b[0m\u001b[37m\u001b[0m \u001b[1m1s\u001b[0m 2ms/step    \n",
      "Transformer MSE: 0.00802607888351551\n",
      "Testing params: {'num_heads': 6, 'lookback': 5, 'dropout_rate': 0.25, 'batch_size': 32, 'ff_dim': 64}\n",
      "\u001b[1m195/195\u001b[0m \u001b[32m━━━━━━━━━━━━━━━━━━━━\u001b[0m\u001b[37m\u001b[0m \u001b[1m1s\u001b[0m 2ms/step   \n",
      "Transformer MSE: 0.0024669571964832087\n",
      "Testing params: {'num_heads': 6, 'lookback': 5, 'dropout_rate': 0.25, 'batch_size': 32, 'ff_dim': 128}\n",
      "\u001b[1m195/195\u001b[0m \u001b[32m━━━━━━━━━━━━━━━━━━━━\u001b[0m\u001b[37m\u001b[0m \u001b[1m1s\u001b[0m 3ms/step    \n",
      "Transformer MSE: 0.008745528857296462\n",
      "Testing params: {'num_heads': 6, 'lookback': 5, 'dropout_rate': 0.25, 'batch_size': 64, 'ff_dim': 64}\n",
      "\u001b[1m195/195\u001b[0m \u001b[32m━━━━━━━━━━━━━━━━━━━━\u001b[0m\u001b[37m\u001b[0m \u001b[1m1s\u001b[0m 2ms/step   \n",
      "Transformer MSE: 0.0042532446022758505\n",
      "Testing params: {'num_heads': 6, 'lookback': 5, 'dropout_rate': 0.25, 'batch_size': 64, 'ff_dim': 128}\n",
      "\u001b[1m195/195\u001b[0m \u001b[32m━━━━━━━━━━━━━━━━━━━━\u001b[0m\u001b[37m\u001b[0m \u001b[1m1s\u001b[0m 2ms/step    \n",
      "Transformer MSE: 0.003745793330853672\n",
      "Testing params: {'num_heads': 6, 'lookback': 10, 'dropout_rate': 0.25, 'batch_size': 32, 'ff_dim': 64}\n",
      "\u001b[1m194/194\u001b[0m \u001b[32m━━━━━━━━━━━━━━━━━━━━\u001b[0m\u001b[37m\u001b[0m \u001b[1m0s\u001b[0m 651us/step  \n",
      "Transformer MSE: 0.006126752364725402\n",
      "Testing params: {'num_heads': 6, 'lookback': 10, 'dropout_rate': 0.25, 'batch_size': 32, 'ff_dim': 128}\n",
      "\u001b[1m194/194\u001b[0m \u001b[32m━━━━━━━━━━━━━━━━━━━━\u001b[0m\u001b[37m\u001b[0m \u001b[1m0s\u001b[0m 669us/step  \n",
      "Transformer MSE: 0.01668281280584136\n",
      "Testing params: {'num_heads': 6, 'lookback': 10, 'dropout_rate': 0.25, 'batch_size': 64, 'ff_dim': 64}\n",
      "\u001b[1m194/194\u001b[0m \u001b[32m━━━━━━━━━━━━━━━━━━━━\u001b[0m\u001b[37m\u001b[0m \u001b[1m0s\u001b[0m 703us/step  \n",
      "Transformer MSE: 0.00904275423116312\n",
      "Testing params: {'num_heads': 6, 'lookback': 10, 'dropout_rate': 0.25, 'batch_size': 64, 'ff_dim': 128}\n",
      "\u001b[1m194/194\u001b[0m \u001b[32m━━━━━━━━━━━━━━━━━━━━\u001b[0m\u001b[37m\u001b[0m \u001b[1m1s\u001b[0m 670us/step  \n",
      "Transformer MSE: 0.01436279821882857\n",
      "Testing params: {'num_heads': 6, 'lookback': 15, 'dropout_rate': 0.25, 'batch_size': 32, 'ff_dim': 64}\n",
      "\u001b[1m194/194\u001b[0m \u001b[32m━━━━━━━━━━━━━━━━━━━━\u001b[0m\u001b[37m\u001b[0m \u001b[1m1s\u001b[0m 2ms/step    \n",
      "Transformer MSE: 0.003564159451018543\n",
      "Testing params: {'num_heads': 6, 'lookback': 15, 'dropout_rate': 0.25, 'batch_size': 32, 'ff_dim': 128}\n",
      "\u001b[1m194/194\u001b[0m \u001b[32m━━━━━━━━━━━━━━━━━━━━\u001b[0m\u001b[37m\u001b[0m \u001b[1m1s\u001b[0m 3ms/step    \n",
      "Transformer MSE: 0.014670926008137757\n",
      "Testing params: {'num_heads': 6, 'lookback': 15, 'dropout_rate': 0.25, 'batch_size': 64, 'ff_dim': 64}\n",
      "\u001b[1m194/194\u001b[0m \u001b[32m━━━━━━━━━━━━━━━━━━━━\u001b[0m\u001b[37m\u001b[0m \u001b[1m1s\u001b[0m 2ms/step    \n",
      "Transformer MSE: 0.002781088147123374\n",
      "Testing params: {'num_heads': 6, 'lookback': 15, 'dropout_rate': 0.25, 'batch_size': 64, 'ff_dim': 128}\n",
      "\u001b[1m194/194\u001b[0m \u001b[32m━━━━━━━━━━━━━━━━━━━━\u001b[0m\u001b[37m\u001b[0m \u001b[1m1s\u001b[0m 2ms/step    \n",
      "Transformer MSE: 0.002226115126703569\n",
      "Best parameters: {'num_heads': 2, 'lookback': 5, 'dropout_rate': 0.25, 'batch_size': 32, 'ff_dim': 64}, Best MSE: 0.002062959439521658\n",
      "Best MSE: 0.002063\n",
      "num_heads: 2, lookback: 5, ff_dim: 64, batch_size: 32\n",
      "Time taken: 1701.249577 seconds\n",
      "[pypickle] Pickle file saved: [/home/alfred/projects/mscfe-masters-project/src/models/best/transformer/best_lstm_BNBUSDT_BTCUSDT.pkl]\n",
      "\n",
      "(9) Pairs: BNBUSDT TRXUSDT\n",
      "Testing params: {'num_heads': 2, 'lookback': 5, 'dropout_rate': 0.25, 'batch_size': 32, 'ff_dim': 64}\n",
      "\u001b[1m195/195\u001b[0m \u001b[32m━━━━━━━━━━━━━━━━━━━━\u001b[0m\u001b[37m\u001b[0m \u001b[1m1s\u001b[0m 4ms/step    \n",
      "Transformer MSE: 0.007280505989396255\n",
      "Testing params: {'num_heads': 2, 'lookback': 5, 'dropout_rate': 0.25, 'batch_size': 32, 'ff_dim': 128}\n",
      "\u001b[1m195/195\u001b[0m \u001b[32m━━━━━━━━━━━━━━━━━━━━\u001b[0m\u001b[37m\u001b[0m \u001b[1m1s\u001b[0m 5ms/step    \n",
      "Transformer MSE: 0.0038350571062186214\n",
      "Testing params: {'num_heads': 2, 'lookback': 5, 'dropout_rate': 0.25, 'batch_size': 64, 'ff_dim': 64}\n",
      "\u001b[1m195/195\u001b[0m \u001b[32m━━━━━━━━━━━━━━━━━━━━\u001b[0m\u001b[37m\u001b[0m \u001b[1m1s\u001b[0m 3ms/step    \n",
      "Transformer MSE: 0.0015583575789183026\n",
      "Testing params: {'num_heads': 2, 'lookback': 5, 'dropout_rate': 0.25, 'batch_size': 64, 'ff_dim': 128}\n",
      "\u001b[1m195/195\u001b[0m \u001b[32m━━━━━━━━━━━━━━━━━━━━\u001b[0m\u001b[37m\u001b[0m \u001b[1m1s\u001b[0m 3ms/step    \n",
      "Transformer MSE: 0.004627266496182698\n",
      "Testing params: {'num_heads': 2, 'lookback': 10, 'dropout_rate': 0.25, 'batch_size': 32, 'ff_dim': 64}\n",
      "\u001b[1m194/194\u001b[0m \u001b[32m━━━━━━━━━━━━━━━━━━━━\u001b[0m\u001b[37m\u001b[0m \u001b[1m1s\u001b[0m 695us/step  \n",
      "Transformer MSE: 0.0020820689742127208\n",
      "Testing params: {'num_heads': 2, 'lookback': 10, 'dropout_rate': 0.25, 'batch_size': 32, 'ff_dim': 128}\n",
      "\u001b[1m194/194\u001b[0m \u001b[32m━━━━━━━━━━━━━━━━━━━━\u001b[0m\u001b[37m\u001b[0m \u001b[1m1s\u001b[0m 787us/step  \n",
      "Transformer MSE: 0.004492526259158679\n",
      "Testing params: {'num_heads': 2, 'lookback': 10, 'dropout_rate': 0.25, 'batch_size': 64, 'ff_dim': 64}\n"
     ]
    },
    {
     "name": "stderr",
     "output_type": "stream",
     "text": [
      "2025-02-25 22:12:14.904861: I external/local_xla/xla/stream_executor/cuda/cuda_asm_compiler.cc:397] ptxas warning : Registers are spilled to local memory in function 'input_add_multiply_reduce_select_fusion', 56 bytes spill stores, 44 bytes spill loads\n",
      "\n"
     ]
    },
    {
     "name": "stdout",
     "output_type": "stream",
     "text": [
      "\u001b[1m194/194\u001b[0m \u001b[32m━━━━━━━━━━━━━━━━━━━━\u001b[0m\u001b[37m\u001b[0m \u001b[1m1s\u001b[0m 894us/step  \n",
      "Transformer MSE: 0.008020364636082803\n",
      "Testing params: {'num_heads': 2, 'lookback': 10, 'dropout_rate': 0.25, 'batch_size': 64, 'ff_dim': 128}\n"
     ]
    },
    {
     "name": "stderr",
     "output_type": "stream",
     "text": [
      "2025-02-25 22:12:46.845653: I external/local_xla/xla/stream_executor/cuda/cuda_asm_compiler.cc:397] ptxas warning : Registers are spilled to local memory in function 'input_add_multiply_reduce_select_fusion', 56 bytes spill stores, 44 bytes spill loads\n",
      "\n"
     ]
    },
    {
     "name": "stdout",
     "output_type": "stream",
     "text": [
      "\u001b[1m194/194\u001b[0m \u001b[32m━━━━━━━━━━━━━━━━━━━━\u001b[0m\u001b[37m\u001b[0m \u001b[1m1s\u001b[0m 1ms/step    \n",
      "Transformer MSE: 0.018507098037016067\n",
      "Testing params: {'num_heads': 2, 'lookback': 15, 'dropout_rate': 0.25, 'batch_size': 32, 'ff_dim': 64}\n"
     ]
    },
    {
     "name": "stderr",
     "output_type": "stream",
     "text": [
      "2025-02-25 22:13:18.131065: I external/local_xla/xla/stream_executor/cuda/cuda_asm_compiler.cc:397] ptxas warning : Registers are spilled to local memory in function 'gemm_fusion_dot_8', 4 bytes spill stores, 4 bytes spill loads\n",
      "\n",
      "2025-02-25 22:13:20.030357: I external/local_xla/xla/stream_executor/cuda/cuda_asm_compiler.cc:397] ptxas warning : Registers are spilled to local memory in function 'input_add_multiply_reduce_select_fusion', 56 bytes spill stores, 44 bytes spill loads\n",
      "\n",
      "2025-02-25 22:13:22.382236: I external/local_xla/xla/stream_executor/cuda/cuda_asm_compiler.cc:397] ptxas warning : Registers are spilled to local memory in function 'gemm_fusion_dot_8', 4 bytes spill stores, 4 bytes spill loads\n",
      "\n",
      "2025-02-25 22:13:23.984452: I external/local_xla/xla/stream_executor/cuda/cuda_asm_compiler.cc:397] ptxas warning : Registers are spilled to local memory in function 'input_add_multiply_reduce_select_fusion', 56 bytes spill stores, 52 bytes spill loads\n",
      "\n"
     ]
    },
    {
     "name": "stdout",
     "output_type": "stream",
     "text": [
      "\u001b[1m194/194\u001b[0m \u001b[32m━━━━━━━━━━━━━━━━━━━━\u001b[0m\u001b[37m\u001b[0m \u001b[1m1s\u001b[0m 5ms/step    \n",
      "Transformer MSE: 0.019758310105017364\n",
      "Testing params: {'num_heads': 2, 'lookback': 15, 'dropout_rate': 0.25, 'batch_size': 32, 'ff_dim': 128}\n"
     ]
    },
    {
     "name": "stderr",
     "output_type": "stream",
     "text": [
      "2025-02-25 22:14:27.412832: I external/local_xla/xla/stream_executor/cuda/cuda_asm_compiler.cc:397] ptxas warning : Registers are spilled to local memory in function 'input_add_multiply_reduce_select_fusion', 56 bytes spill stores, 44 bytes spill loads\n",
      "\n",
      "2025-02-25 22:14:31.247802: I external/local_xla/xla/stream_executor/cuda/cuda_asm_compiler.cc:397] ptxas warning : Registers are spilled to local memory in function 'input_add_multiply_reduce_select_fusion', 56 bytes spill stores, 52 bytes spill loads\n",
      "\n"
     ]
    },
    {
     "name": "stdout",
     "output_type": "stream",
     "text": [
      "\u001b[1m194/194\u001b[0m \u001b[32m━━━━━━━━━━━━━━━━━━━━\u001b[0m\u001b[37m\u001b[0m \u001b[1m1s\u001b[0m 5ms/step    \n",
      "Transformer MSE: 0.0036894132472254323\n",
      "Testing params: {'num_heads': 2, 'lookback': 15, 'dropout_rate': 0.25, 'batch_size': 64, 'ff_dim': 64}\n"
     ]
    },
    {
     "name": "stderr",
     "output_type": "stream",
     "text": [
      "2025-02-25 22:15:24.096466: I external/local_xla/xla/stream_executor/cuda/cuda_asm_compiler.cc:397] ptxas warning : Registers are spilled to local memory in function 'input_add_multiply_reduce_select_fusion', 56 bytes spill stores, 44 bytes spill loads\n",
      "\n",
      "2025-02-25 22:15:25.667406: I external/local_xla/xla/stream_executor/cuda/cuda_asm_compiler.cc:397] ptxas warning : Registers are spilled to local memory in function 'gemm_fusion_dot_8', 4 bytes spill stores, 4 bytes spill loads\n",
      "\n",
      "2025-02-25 22:15:27.415214: I external/local_xla/xla/stream_executor/cuda/cuda_asm_compiler.cc:397] ptxas warning : Registers are spilled to local memory in function 'input_add_multiply_reduce_select_fusion', 56 bytes spill stores, 52 bytes spill loads\n",
      "\n"
     ]
    },
    {
     "name": "stdout",
     "output_type": "stream",
     "text": [
      "\u001b[1m194/194\u001b[0m \u001b[32m━━━━━━━━━━━━━━━━━━━━\u001b[0m\u001b[37m\u001b[0m \u001b[1m1s\u001b[0m 2ms/step    \n",
      "Transformer MSE: 0.0013358301457424588\n",
      "Testing params: {'num_heads': 2, 'lookback': 15, 'dropout_rate': 0.25, 'batch_size': 64, 'ff_dim': 128}\n"
     ]
    },
    {
     "name": "stderr",
     "output_type": "stream",
     "text": [
      "2025-02-25 22:15:58.639639: I external/local_xla/xla/stream_executor/cuda/cuda_asm_compiler.cc:397] ptxas warning : Registers are spilled to local memory in function 'input_add_multiply_reduce_select_fusion', 56 bytes spill stores, 44 bytes spill loads\n",
      "\n",
      "2025-02-25 22:16:02.214633: I external/local_xla/xla/stream_executor/cuda/cuda_asm_compiler.cc:397] ptxas warning : Registers are spilled to local memory in function 'input_add_multiply_reduce_select_fusion', 56 bytes spill stores, 52 bytes spill loads\n",
      "\n"
     ]
    },
    {
     "name": "stdout",
     "output_type": "stream",
     "text": [
      "\u001b[1m194/194\u001b[0m \u001b[32m━━━━━━━━━━━━━━━━━━━━\u001b[0m\u001b[37m\u001b[0m \u001b[1m1s\u001b[0m 3ms/step    \n",
      "Transformer MSE: 0.003972048578721509\n",
      "Testing params: {'num_heads': 4, 'lookback': 5, 'dropout_rate': 0.25, 'batch_size': 32, 'ff_dim': 64}\n",
      "\u001b[1m195/195\u001b[0m \u001b[32m━━━━━━━━━━━━━━━━━━━━\u001b[0m\u001b[37m\u001b[0m \u001b[1m1s\u001b[0m 3ms/step    \n",
      "Transformer MSE: 0.002639797215388058\n",
      "Testing params: {'num_heads': 4, 'lookback': 5, 'dropout_rate': 0.25, 'batch_size': 32, 'ff_dim': 128}\n",
      "\u001b[1m195/195\u001b[0m \u001b[32m━━━━━━━━━━━━━━━━━━━━\u001b[0m\u001b[37m\u001b[0m \u001b[1m1s\u001b[0m 4ms/step    \n",
      "Transformer MSE: 0.003369847834927697\n",
      "Testing params: {'num_heads': 4, 'lookback': 5, 'dropout_rate': 0.25, 'batch_size': 64, 'ff_dim': 64}\n",
      "\u001b[1m195/195\u001b[0m \u001b[32m━━━━━━━━━━━━━━━━━━━━\u001b[0m\u001b[37m\u001b[0m \u001b[1m1s\u001b[0m 2ms/step    \n",
      "Transformer MSE: 0.015244633218348978\n",
      "Testing params: {'num_heads': 4, 'lookback': 5, 'dropout_rate': 0.25, 'batch_size': 64, 'ff_dim': 128}\n",
      "\u001b[1m195/195\u001b[0m \u001b[32m━━━━━━━━━━━━━━━━━━━━\u001b[0m\u001b[37m\u001b[0m \u001b[1m1s\u001b[0m 3ms/step    \n",
      "Transformer MSE: 0.009433476842196826\n",
      "Testing params: {'num_heads': 4, 'lookback': 10, 'dropout_rate': 0.25, 'batch_size': 32, 'ff_dim': 64}\n",
      "\u001b[1m194/194\u001b[0m \u001b[32m━━━━━━━━━━━━━━━━━━━━\u001b[0m\u001b[37m\u001b[0m \u001b[1m1s\u001b[0m 524us/step  \n",
      "Transformer MSE: 0.0015968256429653653\n",
      "Testing params: {'num_heads': 4, 'lookback': 10, 'dropout_rate': 0.25, 'batch_size': 32, 'ff_dim': 128}\n",
      "\u001b[1m194/194\u001b[0m \u001b[32m━━━━━━━━━━━━━━━━━━━━\u001b[0m\u001b[37m\u001b[0m \u001b[1m1s\u001b[0m 538us/step  \n",
      "Transformer MSE: 0.012991734733946724\n",
      "Testing params: {'num_heads': 4, 'lookback': 10, 'dropout_rate': 0.25, 'batch_size': 64, 'ff_dim': 64}\n"
     ]
    },
    {
     "name": "stderr",
     "output_type": "stream",
     "text": [
      "2025-02-25 22:21:15.358567: I external/local_xla/xla/stream_executor/cuda/cuda_asm_compiler.cc:397] ptxas warning : Registers are spilled to local memory in function 'input_add_multiply_reduce_select_fusion', 56 bytes spill stores, 44 bytes spill loads\n",
      "\n"
     ]
    },
    {
     "name": "stdout",
     "output_type": "stream",
     "text": [
      "\u001b[1m194/194\u001b[0m \u001b[32m━━━━━━━━━━━━━━━━━━━━\u001b[0m\u001b[37m\u001b[0m \u001b[1m0s\u001b[0m 645us/step  \n",
      "Transformer MSE: 0.006704044023017623\n",
      "Testing params: {'num_heads': 4, 'lookback': 10, 'dropout_rate': 0.25, 'batch_size': 64, 'ff_dim': 128}\n"
     ]
    },
    {
     "name": "stderr",
     "output_type": "stream",
     "text": [
      "2025-02-25 22:21:46.289465: I external/local_xla/xla/stream_executor/cuda/cuda_asm_compiler.cc:397] ptxas warning : Registers are spilled to local memory in function 'input_add_multiply_reduce_select_fusion', 56 bytes spill stores, 44 bytes spill loads\n",
      "\n"
     ]
    },
    {
     "name": "stdout",
     "output_type": "stream",
     "text": [
      "\u001b[1m194/194\u001b[0m \u001b[32m━━━━━━━━━━━━━━━━━━━━\u001b[0m\u001b[37m\u001b[0m \u001b[1m0s\u001b[0m 602us/step  \n",
      "Transformer MSE: 0.0031761454282972865\n",
      "Testing params: {'num_heads': 4, 'lookback': 15, 'dropout_rate': 0.25, 'batch_size': 32, 'ff_dim': 64}\n"
     ]
    },
    {
     "name": "stderr",
     "output_type": "stream",
     "text": [
      "2025-02-25 22:22:18.007692: I external/local_xla/xla/stream_executor/cuda/cuda_asm_compiler.cc:397] ptxas warning : Registers are spilled to local memory in function 'input_add_multiply_reduce_select_fusion', 56 bytes spill stores, 44 bytes spill loads\n",
      "\n",
      "2025-02-25 22:22:21.180333: I external/local_xla/xla/stream_executor/cuda/cuda_asm_compiler.cc:397] ptxas warning : Registers are spilled to local memory in function 'input_add_multiply_reduce_select_fusion', 56 bytes spill stores, 52 bytes spill loads\n",
      "\n"
     ]
    },
    {
     "name": "stdout",
     "output_type": "stream",
     "text": [
      "\u001b[1m194/194\u001b[0m \u001b[32m━━━━━━━━━━━━━━━━━━━━\u001b[0m\u001b[37m\u001b[0m \u001b[1m1s\u001b[0m 3ms/step    \n",
      "Transformer MSE: 0.0018308080986289999\n",
      "Testing params: {'num_heads': 4, 'lookback': 15, 'dropout_rate': 0.25, 'batch_size': 32, 'ff_dim': 128}\n"
     ]
    },
    {
     "name": "stderr",
     "output_type": "stream",
     "text": [
      "2025-02-25 22:23:14.400854: I external/local_xla/xla/stream_executor/cuda/cuda_asm_compiler.cc:397] ptxas warning : Registers are spilled to local memory in function 'input_add_multiply_reduce_select_fusion', 56 bytes spill stores, 44 bytes spill loads\n",
      "\n",
      "2025-02-25 22:23:18.229636: I external/local_xla/xla/stream_executor/cuda/cuda_asm_compiler.cc:397] ptxas warning : Registers are spilled to local memory in function 'input_add_multiply_reduce_select_fusion', 56 bytes spill stores, 52 bytes spill loads\n",
      "\n"
     ]
    },
    {
     "name": "stdout",
     "output_type": "stream",
     "text": [
      "\u001b[1m194/194\u001b[0m \u001b[32m━━━━━━━━━━━━━━━━━━━━\u001b[0m\u001b[37m\u001b[0m \u001b[1m1s\u001b[0m 5ms/step    \n",
      "Transformer MSE: 0.002067327104760645\n",
      "Testing params: {'num_heads': 4, 'lookback': 15, 'dropout_rate': 0.25, 'batch_size': 64, 'ff_dim': 64}\n"
     ]
    },
    {
     "name": "stderr",
     "output_type": "stream",
     "text": [
      "2025-02-25 22:24:09.191170: I external/local_xla/xla/stream_executor/cuda/cuda_asm_compiler.cc:397] ptxas warning : Registers are spilled to local memory in function 'input_add_multiply_reduce_select_fusion', 56 bytes spill stores, 44 bytes spill loads\n",
      "\n",
      "2025-02-25 22:24:12.114980: I external/local_xla/xla/stream_executor/cuda/cuda_asm_compiler.cc:397] ptxas warning : Registers are spilled to local memory in function 'input_add_multiply_reduce_select_fusion', 56 bytes spill stores, 52 bytes spill loads\n",
      "\n"
     ]
    },
    {
     "name": "stdout",
     "output_type": "stream",
     "text": [
      "\u001b[1m194/194\u001b[0m \u001b[32m━━━━━━━━━━━━━━━━━━━━\u001b[0m\u001b[37m\u001b[0m \u001b[1m1s\u001b[0m 2ms/step    \n",
      "Transformer MSE: 0.0015606210511287\n",
      "Testing params: {'num_heads': 4, 'lookback': 15, 'dropout_rate': 0.25, 'batch_size': 64, 'ff_dim': 128}\n"
     ]
    },
    {
     "name": "stderr",
     "output_type": "stream",
     "text": [
      "2025-02-25 22:24:42.733974: I external/local_xla/xla/stream_executor/cuda/cuda_asm_compiler.cc:397] ptxas warning : Registers are spilled to local memory in function 'input_add_multiply_reduce_select_fusion', 56 bytes spill stores, 44 bytes spill loads\n",
      "\n",
      "2025-02-25 22:24:45.926218: I external/local_xla/xla/stream_executor/cuda/cuda_asm_compiler.cc:397] ptxas warning : Registers are spilled to local memory in function 'input_add_multiply_reduce_select_fusion', 56 bytes spill stores, 52 bytes spill loads\n",
      "\n"
     ]
    },
    {
     "name": "stdout",
     "output_type": "stream",
     "text": [
      "\u001b[1m194/194\u001b[0m \u001b[32m━━━━━━━━━━━━━━━━━━━━\u001b[0m\u001b[37m\u001b[0m \u001b[1m1s\u001b[0m 3ms/step    \n",
      "Transformer MSE: 0.00161908793755568\n",
      "Testing params: {'num_heads': 6, 'lookback': 5, 'dropout_rate': 0.25, 'batch_size': 32, 'ff_dim': 64}\n",
      "\u001b[1m195/195\u001b[0m \u001b[32m━━━━━━━━━━━━━━━━━━━━\u001b[0m\u001b[37m\u001b[0m \u001b[1m1s\u001b[0m 4ms/step    \n",
      "Transformer MSE: 0.0026855180273149194\n",
      "Testing params: {'num_heads': 6, 'lookback': 5, 'dropout_rate': 0.25, 'batch_size': 32, 'ff_dim': 128}\n"
     ]
    },
    {
     "name": "stderr",
     "output_type": "stream",
     "text": [
      "2025-02-25 22:26:10.645113: I external/local_xla/xla/stream_executor/cuda/cuda_asm_compiler.cc:397] ptxas warning : Registers are spilled to local memory in function 'gemm_fusion_dot_10', 12 bytes spill stores, 12 bytes spill loads\n",
      "\n"
     ]
    },
    {
     "name": "stdout",
     "output_type": "stream",
     "text": [
      "\u001b[1m195/195\u001b[0m \u001b[32m━━━━━━━━━━━━━━━━━━━━\u001b[0m\u001b[37m\u001b[0m \u001b[1m1s\u001b[0m 4ms/step    \n",
      "Transformer MSE: 0.0032917606931952208\n",
      "Testing params: {'num_heads': 6, 'lookback': 5, 'dropout_rate': 0.25, 'batch_size': 64, 'ff_dim': 64}\n",
      "\u001b[1m195/195\u001b[0m \u001b[32m━━━━━━━━━━━━━━━━━━━━\u001b[0m\u001b[37m\u001b[0m \u001b[1m1s\u001b[0m 2ms/step    \n",
      "Transformer MSE: 0.002945941001689513\n",
      "Testing params: {'num_heads': 6, 'lookback': 5, 'dropout_rate': 0.25, 'batch_size': 64, 'ff_dim': 128}\n",
      "\u001b[1m195/195\u001b[0m \u001b[32m━━━━━━━━━━━━━━━━━━━━\u001b[0m\u001b[37m\u001b[0m \u001b[1m1s\u001b[0m 3ms/step    \n",
      "Transformer MSE: 0.0034422838655298054\n",
      "Testing params: {'num_heads': 6, 'lookback': 10, 'dropout_rate': 0.25, 'batch_size': 32, 'ff_dim': 64}\n",
      "\u001b[1m194/194\u001b[0m \u001b[32m━━━━━━━━━━━━━━━━━━━━\u001b[0m\u001b[37m\u001b[0m \u001b[1m1s\u001b[0m 596us/step  \n",
      "Transformer MSE: 0.002860856782184684\n",
      "Testing params: {'num_heads': 6, 'lookback': 10, 'dropout_rate': 0.25, 'batch_size': 32, 'ff_dim': 128}\n",
      "\u001b[1m194/194\u001b[0m \u001b[32m━━━━━━━━━━━━━━━━━━━━\u001b[0m\u001b[37m\u001b[0m \u001b[1m1s\u001b[0m 545us/step  \n",
      "Transformer MSE: 0.011322031303019241\n",
      "Testing params: {'num_heads': 6, 'lookback': 10, 'dropout_rate': 0.25, 'batch_size': 64, 'ff_dim': 64}\n"
     ]
    },
    {
     "name": "stderr",
     "output_type": "stream",
     "text": [
      "2025-02-25 22:30:09.185824: I external/local_xla/xla/stream_executor/cuda/cuda_asm_compiler.cc:397] ptxas warning : Registers are spilled to local memory in function 'input_add_multiply_reduce_select_fusion', 56 bytes spill stores, 44 bytes spill loads\n",
      "\n"
     ]
    },
    {
     "name": "stdout",
     "output_type": "stream",
     "text": [
      "\u001b[1m194/194\u001b[0m \u001b[32m━━━━━━━━━━━━━━━━━━━━\u001b[0m\u001b[37m\u001b[0m \u001b[1m0s\u001b[0m 546us/step  \n",
      "Transformer MSE: 0.013293871958453348\n",
      "Testing params: {'num_heads': 6, 'lookback': 10, 'dropout_rate': 0.25, 'batch_size': 64, 'ff_dim': 128}\n"
     ]
    },
    {
     "name": "stderr",
     "output_type": "stream",
     "text": [
      "2025-02-25 22:30:41.236547: I external/local_xla/xla/stream_executor/cuda/cuda_asm_compiler.cc:397] ptxas warning : Registers are spilled to local memory in function 'input_add_multiply_reduce_select_fusion', 56 bytes spill stores, 44 bytes spill loads\n",
      "\n"
     ]
    },
    {
     "name": "stdout",
     "output_type": "stream",
     "text": [
      "\u001b[1m194/194\u001b[0m \u001b[32m━━━━━━━━━━━━━━━━━━━━\u001b[0m\u001b[37m\u001b[0m \u001b[1m0s\u001b[0m 524us/step  \n",
      "Transformer MSE: 0.008685597884938601\n",
      "Testing params: {'num_heads': 6, 'lookback': 15, 'dropout_rate': 0.25, 'batch_size': 32, 'ff_dim': 64}\n"
     ]
    },
    {
     "name": "stderr",
     "output_type": "stream",
     "text": [
      "2025-02-25 22:31:13.198915: I external/local_xla/xla/stream_executor/cuda/cuda_asm_compiler.cc:397] ptxas warning : Registers are spilled to local memory in function 'input_add_multiply_reduce_select_fusion', 56 bytes spill stores, 44 bytes spill loads\n",
      "\n",
      "2025-02-25 22:31:16.606456: I external/local_xla/xla/stream_executor/cuda/cuda_asm_compiler.cc:397] ptxas warning : Registers are spilled to local memory in function 'input_add_multiply_reduce_select_fusion', 56 bytes spill stores, 52 bytes spill loads\n",
      "\n"
     ]
    },
    {
     "name": "stdout",
     "output_type": "stream",
     "text": [
      "\u001b[1m194/194\u001b[0m \u001b[32m━━━━━━━━━━━━━━━━━━━━\u001b[0m\u001b[37m\u001b[0m \u001b[1m1s\u001b[0m 4ms/step    \n",
      "Transformer MSE: 0.0010446203406827062\n",
      "Testing params: {'num_heads': 6, 'lookback': 15, 'dropout_rate': 0.25, 'batch_size': 32, 'ff_dim': 128}\n"
     ]
    },
    {
     "name": "stderr",
     "output_type": "stream",
     "text": [
      "2025-02-25 22:32:06.514758: I external/local_xla/xla/stream_executor/cuda/cuda_asm_compiler.cc:397] ptxas warning : Registers are spilled to local memory in function 'gemm_fusion_dot_10', 12 bytes spill stores, 12 bytes spill loads\n",
      "\n",
      "2025-02-25 22:32:08.174672: I external/local_xla/xla/stream_executor/cuda/cuda_asm_compiler.cc:397] ptxas warning : Registers are spilled to local memory in function 'input_add_multiply_reduce_select_fusion', 56 bytes spill stores, 44 bytes spill loads\n",
      "\n",
      "2025-02-25 22:32:09.998189: I external/local_xla/xla/stream_executor/cuda/cuda_asm_compiler.cc:397] ptxas warning : Registers are spilled to local memory in function 'gemm_fusion_dot_10', 12 bytes spill stores, 12 bytes spill loads\n",
      "\n",
      "2025-02-25 22:32:11.796010: I external/local_xla/xla/stream_executor/cuda/cuda_asm_compiler.cc:397] ptxas warning : Registers are spilled to local memory in function 'input_add_multiply_reduce_select_fusion', 56 bytes spill stores, 52 bytes spill loads\n",
      "\n"
     ]
    },
    {
     "name": "stdout",
     "output_type": "stream",
     "text": [
      "\u001b[1m194/194\u001b[0m \u001b[32m━━━━━━━━━━━━━━━━━━━━\u001b[0m\u001b[37m\u001b[0m \u001b[1m1s\u001b[0m 5ms/step    \n",
      "Transformer MSE: 0.0018006964882479994\n",
      "Testing params: {'num_heads': 6, 'lookback': 15, 'dropout_rate': 0.25, 'batch_size': 64, 'ff_dim': 64}\n"
     ]
    },
    {
     "name": "stderr",
     "output_type": "stream",
     "text": [
      "2025-02-25 22:33:10.220309: I external/local_xla/xla/stream_executor/cuda/cuda_asm_compiler.cc:397] ptxas warning : Registers are spilled to local memory in function 'input_add_multiply_reduce_select_fusion', 56 bytes spill stores, 44 bytes spill loads\n",
      "\n",
      "2025-02-25 22:33:13.468599: I external/local_xla/xla/stream_executor/cuda/cuda_asm_compiler.cc:397] ptxas warning : Registers are spilled to local memory in function 'input_add_multiply_reduce_select_fusion', 56 bytes spill stores, 52 bytes spill loads\n",
      "\n"
     ]
    },
    {
     "name": "stdout",
     "output_type": "stream",
     "text": [
      "\u001b[1m194/194\u001b[0m \u001b[32m━━━━━━━━━━━━━━━━━━━━\u001b[0m\u001b[37m\u001b[0m \u001b[1m1s\u001b[0m 2ms/step    \n",
      "Transformer MSE: 0.0018778262354742308\n",
      "Testing params: {'num_heads': 6, 'lookback': 15, 'dropout_rate': 0.25, 'batch_size': 64, 'ff_dim': 128}\n"
     ]
    },
    {
     "name": "stderr",
     "output_type": "stream",
     "text": [
      "2025-02-25 22:33:44.062021: I external/local_xla/xla/stream_executor/cuda/cuda_asm_compiler.cc:397] ptxas warning : Registers are spilled to local memory in function 'input_add_multiply_reduce_select_fusion', 56 bytes spill stores, 44 bytes spill loads\n",
      "\n",
      "2025-02-25 22:33:45.715599: I external/local_xla/xla/stream_executor/cuda/cuda_asm_compiler.cc:397] ptxas warning : Registers are spilled to local memory in function 'gemm_fusion_dot_10', 12 bytes spill stores, 12 bytes spill loads\n",
      "\n",
      "2025-02-25 22:33:47.615455: I external/local_xla/xla/stream_executor/cuda/cuda_asm_compiler.cc:397] ptxas warning : Registers are spilled to local memory in function 'input_add_multiply_reduce_select_fusion', 56 bytes spill stores, 52 bytes spill loads\n",
      "\n"
     ]
    },
    {
     "name": "stdout",
     "output_type": "stream",
     "text": [
      "\u001b[1m194/194\u001b[0m \u001b[32m━━━━━━━━━━━━━━━━━━━━\u001b[0m\u001b[37m\u001b[0m \u001b[1m1s\u001b[0m 3ms/step    \n",
      "Transformer MSE: 0.004934920210870047\n",
      "Best parameters: {'num_heads': 6, 'lookback': 15, 'dropout_rate': 0.25, 'batch_size': 32, 'ff_dim': 64}, Best MSE: 0.0010446203406827062\n",
      "Best MSE: 0.001045\n",
      "num_heads: 6, lookback: 15, ff_dim: 64, batch_size: 32\n",
      "Time taken: 1617.255170 seconds\n",
      "[pypickle] Pickle file saved: [/home/alfred/projects/mscfe-masters-project/src/models/best/transformer/best_lstm_BNBUSDT_TRXUSDT.pkl]\n",
      "\n",
      "(10) Pairs: BNBUSDT XRPUSDT\n",
      "Testing params: {'num_heads': 2, 'lookback': 5, 'dropout_rate': 0.25, 'batch_size': 32, 'ff_dim': 64}\n",
      "\u001b[1m195/195\u001b[0m \u001b[32m━━━━━━━━━━━━━━━━━━━━\u001b[0m\u001b[37m\u001b[0m \u001b[1m1s\u001b[0m 3ms/step    \n",
      "Transformer MSE: 0.0018654361543660343\n",
      "Testing params: {'num_heads': 2, 'lookback': 5, 'dropout_rate': 0.25, 'batch_size': 32, 'ff_dim': 128}\n",
      "\u001b[1m195/195\u001b[0m \u001b[32m━━━━━━━━━━━━━━━━━━━━\u001b[0m\u001b[37m\u001b[0m \u001b[1m1s\u001b[0m 3ms/step    \n",
      "Transformer MSE: 0.032609895518375204\n",
      "Testing params: {'num_heads': 2, 'lookback': 5, 'dropout_rate': 0.25, 'batch_size': 64, 'ff_dim': 64}\n",
      "\u001b[1m195/195\u001b[0m \u001b[32m━━━━━━━━━━━━━━━━━━━━\u001b[0m\u001b[37m\u001b[0m \u001b[1m1s\u001b[0m 2ms/step    \n",
      "Transformer MSE: 0.008407213948911986\n",
      "Testing params: {'num_heads': 2, 'lookback': 5, 'dropout_rate': 0.25, 'batch_size': 64, 'ff_dim': 128}\n",
      "\u001b[1m195/195\u001b[0m \u001b[32m━━━━━━━━━━━━━━━━━━━━\u001b[0m\u001b[37m\u001b[0m \u001b[1m1s\u001b[0m 3ms/step    \n",
      "Transformer MSE: 0.011272327083043583\n",
      "Testing params: {'num_heads': 2, 'lookback': 10, 'dropout_rate': 0.25, 'batch_size': 32, 'ff_dim': 64}\n",
      "\u001b[1m194/194\u001b[0m \u001b[32m━━━━━━━━━━━━━━━━━━━━\u001b[0m\u001b[37m\u001b[0m \u001b[1m0s\u001b[0m 686us/step  \n",
      "Transformer MSE: 0.00396218911333259\n",
      "Testing params: {'num_heads': 2, 'lookback': 10, 'dropout_rate': 0.25, 'batch_size': 32, 'ff_dim': 128}\n",
      "\u001b[1m194/194\u001b[0m \u001b[32m━━━━━━━━━━━━━━━━━━━━\u001b[0m\u001b[37m\u001b[0m \u001b[1m0s\u001b[0m 631us/step  \n",
      "Transformer MSE: 0.013588508888936732\n",
      "Testing params: {'num_heads': 2, 'lookback': 10, 'dropout_rate': 0.25, 'batch_size': 64, 'ff_dim': 64}\n",
      "\u001b[1m194/194\u001b[0m \u001b[32m━━━━━━━━━━━━━━━━━━━━\u001b[0m\u001b[37m\u001b[0m \u001b[1m0s\u001b[0m 526us/step  \n",
      "Transformer MSE: 0.005829955363415571\n",
      "Testing params: {'num_heads': 2, 'lookback': 10, 'dropout_rate': 0.25, 'batch_size': 64, 'ff_dim': 128}\n",
      "\u001b[1m194/194\u001b[0m \u001b[32m━━━━━━━━━━━━━━━━━━━━\u001b[0m\u001b[37m\u001b[0m \u001b[1m0s\u001b[0m 631us/step  \n",
      "Transformer MSE: 0.01661288051461822\n",
      "Testing params: {'num_heads': 2, 'lookback': 15, 'dropout_rate': 0.25, 'batch_size': 32, 'ff_dim': 64}\n",
      "\u001b[1m194/194\u001b[0m \u001b[32m━━━━━━━━━━━━━━━━━━━━\u001b[0m\u001b[37m\u001b[0m \u001b[1m1s\u001b[0m 2ms/step    \n",
      "Transformer MSE: 0.01675330555830397\n",
      "Testing params: {'num_heads': 2, 'lookback': 15, 'dropout_rate': 0.25, 'batch_size': 32, 'ff_dim': 128}\n",
      "\u001b[1m194/194\u001b[0m \u001b[32m━━━━━━━━━━━━━━━━━━━━\u001b[0m\u001b[37m\u001b[0m \u001b[1m1s\u001b[0m 3ms/step    \n",
      "Transformer MSE: 0.010050703082133372\n",
      "Testing params: {'num_heads': 2, 'lookback': 15, 'dropout_rate': 0.25, 'batch_size': 64, 'ff_dim': 64}\n"
     ]
    },
    {
     "name": "stderr",
     "output_type": "stream",
     "text": [
      "2025-02-25 22:41:45.958756: I external/local_xla/xla/stream_executor/cuda/cuda_asm_compiler.cc:397] ptxas warning : Registers are spilled to local memory in function 'input_add_multiply_reduce_select_fusion', 56 bytes spill stores, 44 bytes spill loads\n",
      "\n",
      "2025-02-25 22:41:48.523140: I external/local_xla/xla/stream_executor/cuda/cuda_asm_compiler.cc:397] ptxas warning : Registers are spilled to local memory in function 'input_add_multiply_reduce_select_fusion', 56 bytes spill stores, 52 bytes spill loads\n",
      "\n"
     ]
    },
    {
     "name": "stdout",
     "output_type": "stream",
     "text": [
      "\u001b[1m194/194\u001b[0m \u001b[32m━━━━━━━━━━━━━━━━━━━━\u001b[0m\u001b[37m\u001b[0m \u001b[1m1s\u001b[0m 2ms/step    \n",
      "Transformer MSE: 0.0035327349434046418\n",
      "Testing params: {'num_heads': 2, 'lookback': 15, 'dropout_rate': 0.25, 'batch_size': 64, 'ff_dim': 128}\n",
      "\u001b[1m194/194\u001b[0m \u001b[32m━━━━━━━━━━━━━━━━━━━━\u001b[0m\u001b[37m\u001b[0m \u001b[1m1s\u001b[0m 2ms/step    \n",
      "Transformer MSE: 0.006719681935018966\n",
      "Testing params: {'num_heads': 4, 'lookback': 5, 'dropout_rate': 0.25, 'batch_size': 32, 'ff_dim': 64}\n",
      "\u001b[1m195/195\u001b[0m \u001b[32m━━━━━━━━━━━━━━━━━━━━\u001b[0m\u001b[37m\u001b[0m \u001b[1m1s\u001b[0m 3ms/step    \n",
      "Transformer MSE: 0.0026212733041625093\n",
      "Testing params: {'num_heads': 4, 'lookback': 5, 'dropout_rate': 0.25, 'batch_size': 32, 'ff_dim': 128}\n",
      "\u001b[1m195/195\u001b[0m \u001b[32m━━━━━━━━━━━━━━━━━━━━\u001b[0m\u001b[37m\u001b[0m \u001b[1m1s\u001b[0m 3ms/step    \n",
      "Transformer MSE: 0.0031705489010049742\n",
      "Testing params: {'num_heads': 4, 'lookback': 5, 'dropout_rate': 0.25, 'batch_size': 64, 'ff_dim': 64}\n",
      "\u001b[1m195/195\u001b[0m \u001b[32m━━━━━━━━━━━━━━━━━━━━\u001b[0m\u001b[37m\u001b[0m \u001b[1m1s\u001b[0m 2ms/step    \n",
      "Transformer MSE: 0.010317418832684692\n",
      "Testing params: {'num_heads': 4, 'lookback': 5, 'dropout_rate': 0.25, 'batch_size': 64, 'ff_dim': 128}\n",
      "\u001b[1m195/195\u001b[0m \u001b[32m━━━━━━━━━━━━━━━━━━━━\u001b[0m\u001b[37m\u001b[0m \u001b[1m1s\u001b[0m 3ms/step    \n",
      "Transformer MSE: 0.00592551809890647\n",
      "Testing params: {'num_heads': 4, 'lookback': 10, 'dropout_rate': 0.25, 'batch_size': 32, 'ff_dim': 64}\n",
      "\u001b[1m194/194\u001b[0m \u001b[32m━━━━━━━━━━━━━━━━━━━━\u001b[0m\u001b[37m\u001b[0m \u001b[1m0s\u001b[0m 596us/step  \n",
      "Transformer MSE: 0.03176697196301097\n",
      "Testing params: {'num_heads': 4, 'lookback': 10, 'dropout_rate': 0.25, 'batch_size': 32, 'ff_dim': 128}\n",
      "\u001b[1m194/194\u001b[0m \u001b[32m━━━━━━━━━━━━━━━━━━━━\u001b[0m\u001b[37m\u001b[0m \u001b[1m0s\u001b[0m 544us/step  \n",
      "Transformer MSE: 0.012044031086939038\n",
      "Testing params: {'num_heads': 4, 'lookback': 10, 'dropout_rate': 0.25, 'batch_size': 64, 'ff_dim': 64}\n",
      "\u001b[1m194/194\u001b[0m \u001b[32m━━━━━━━━━━━━━━━━━━━━\u001b[0m\u001b[37m\u001b[0m \u001b[1m0s\u001b[0m 671us/step  \n",
      "Transformer MSE: 0.006299348377377965\n",
      "Testing params: {'num_heads': 4, 'lookback': 10, 'dropout_rate': 0.25, 'batch_size': 64, 'ff_dim': 128}\n",
      "\u001b[1m194/194\u001b[0m \u001b[32m━━━━━━━━━━━━━━━━━━━━\u001b[0m\u001b[37m\u001b[0m \u001b[1m0s\u001b[0m 525us/step  \n",
      "Transformer MSE: 0.01644016964436687\n",
      "Testing params: {'num_heads': 4, 'lookback': 15, 'dropout_rate': 0.25, 'batch_size': 32, 'ff_dim': 64}\n",
      "\u001b[1m194/194\u001b[0m \u001b[32m━━━━━━━━━━━━━━━━━━━━\u001b[0m\u001b[37m\u001b[0m \u001b[1m1s\u001b[0m 3ms/step    \n",
      "Transformer MSE: 0.013696611243426634\n",
      "Testing params: {'num_heads': 4, 'lookback': 15, 'dropout_rate': 0.25, 'batch_size': 32, 'ff_dim': 128}\n",
      "\u001b[1m194/194\u001b[0m \u001b[32m━━━━━━━━━━━━━━━━━━━━\u001b[0m\u001b[37m\u001b[0m \u001b[1m1s\u001b[0m 2ms/step    \n",
      "Transformer MSE: 0.004574220591440921\n",
      "Testing params: {'num_heads': 4, 'lookback': 15, 'dropout_rate': 0.25, 'batch_size': 64, 'ff_dim': 64}\n"
     ]
    },
    {
     "name": "stderr",
     "output_type": "stream",
     "text": [
      "2025-02-25 22:50:21.518313: I external/local_xla/xla/stream_executor/cuda/cuda_asm_compiler.cc:397] ptxas warning : Registers are spilled to local memory in function 'input_add_multiply_reduce_select_fusion', 56 bytes spill stores, 52 bytes spill loads\n",
      "\n"
     ]
    },
    {
     "name": "stdout",
     "output_type": "stream",
     "text": [
      "\u001b[1m194/194\u001b[0m \u001b[32m━━━━━━━━━━━━━━━━━━━━\u001b[0m\u001b[37m\u001b[0m \u001b[1m1s\u001b[0m 2ms/step    \n",
      "Transformer MSE: 0.0042856451479143754\n",
      "Testing params: {'num_heads': 4, 'lookback': 15, 'dropout_rate': 0.25, 'batch_size': 64, 'ff_dim': 128}\n"
     ]
    },
    {
     "name": "stderr",
     "output_type": "stream",
     "text": [
      "2025-02-25 22:50:50.854404: I external/local_xla/xla/stream_executor/cuda/cuda_asm_compiler.cc:397] ptxas warning : Registers are spilled to local memory in function 'input_add_multiply_reduce_select_fusion', 56 bytes spill stores, 44 bytes spill loads\n",
      "\n",
      "2025-02-25 22:50:53.452035: I external/local_xla/xla/stream_executor/cuda/cuda_asm_compiler.cc:397] ptxas warning : Registers are spilled to local memory in function 'input_add_multiply_reduce_select_fusion', 56 bytes spill stores, 52 bytes spill loads\n",
      "\n"
     ]
    },
    {
     "name": "stdout",
     "output_type": "stream",
     "text": [
      "\u001b[1m194/194\u001b[0m \u001b[32m━━━━━━━━━━━━━━━━━━━━\u001b[0m\u001b[37m\u001b[0m \u001b[1m1s\u001b[0m 3ms/step    \n",
      "Transformer MSE: 0.005059019769952222\n",
      "Testing params: {'num_heads': 6, 'lookback': 5, 'dropout_rate': 0.25, 'batch_size': 32, 'ff_dim': 64}\n",
      "\u001b[1m195/195\u001b[0m \u001b[32m━━━━━━━━━━━━━━━━━━━━\u001b[0m\u001b[37m\u001b[0m \u001b[1m1s\u001b[0m 3ms/step    \n",
      "Transformer MSE: 0.013005581478881945\n",
      "Testing params: {'num_heads': 6, 'lookback': 5, 'dropout_rate': 0.25, 'batch_size': 32, 'ff_dim': 128}\n",
      "\u001b[1m195/195\u001b[0m \u001b[32m━━━━━━━━━━━━━━━━━━━━\u001b[0m\u001b[37m\u001b[0m \u001b[1m1s\u001b[0m 3ms/step    \n",
      "Transformer MSE: 0.004494696010963318\n",
      "Testing params: {'num_heads': 6, 'lookback': 5, 'dropout_rate': 0.25, 'batch_size': 64, 'ff_dim': 64}\n",
      "\u001b[1m195/195\u001b[0m \u001b[32m━━━━━━━━━━━━━━━━━━━━\u001b[0m\u001b[37m\u001b[0m \u001b[1m1s\u001b[0m 3ms/step    \n",
      "Transformer MSE: 0.0023497119868128497\n",
      "Testing params: {'num_heads': 6, 'lookback': 5, 'dropout_rate': 0.25, 'batch_size': 64, 'ff_dim': 128}\n",
      "\u001b[1m195/195\u001b[0m \u001b[32m━━━━━━━━━━━━━━━━━━━━\u001b[0m\u001b[37m\u001b[0m \u001b[1m1s\u001b[0m 3ms/step    \n",
      "Transformer MSE: 0.006033382684883828\n",
      "Testing params: {'num_heads': 6, 'lookback': 10, 'dropout_rate': 0.25, 'batch_size': 32, 'ff_dim': 64}\n",
      "\u001b[1m194/194\u001b[0m \u001b[32m━━━━━━━━━━━━━━━━━━━━\u001b[0m\u001b[37m\u001b[0m \u001b[1m0s\u001b[0m 685us/step  \n",
      "Transformer MSE: 0.0018562497744552518\n",
      "Testing params: {'num_heads': 6, 'lookback': 10, 'dropout_rate': 0.25, 'batch_size': 32, 'ff_dim': 128}\n",
      "\u001b[1m194/194\u001b[0m \u001b[32m━━━━━━━━━━━━━━━━━━━━\u001b[0m\u001b[37m\u001b[0m \u001b[1m0s\u001b[0m 526us/step  \n",
      "Transformer MSE: 0.0030984599054540963\n",
      "Testing params: {'num_heads': 6, 'lookback': 10, 'dropout_rate': 0.25, 'batch_size': 64, 'ff_dim': 64}\n",
      "\u001b[1m194/194\u001b[0m \u001b[32m━━━━━━━━━━━━━━━━━━━━\u001b[0m\u001b[37m\u001b[0m \u001b[1m0s\u001b[0m 530us/step  \n",
      "Transformer MSE: 0.008623130918501542\n",
      "Testing params: {'num_heads': 6, 'lookback': 10, 'dropout_rate': 0.25, 'batch_size': 64, 'ff_dim': 128}\n"
     ]
    },
    {
     "name": "stderr",
     "output_type": "stream",
     "text": [
      "2025-02-25 22:56:57.978227: I external/local_xla/xla/stream_executor/cuda/cuda_asm_compiler.cc:397] ptxas warning : Registers are spilled to local memory in function 'input_add_multiply_reduce_select_fusion', 56 bytes spill stores, 44 bytes spill loads\n",
      "\n"
     ]
    },
    {
     "name": "stdout",
     "output_type": "stream",
     "text": [
      "\u001b[1m194/194\u001b[0m \u001b[32m━━━━━━━━━━━━━━━━━━━━\u001b[0m\u001b[37m\u001b[0m \u001b[1m0s\u001b[0m 570us/step  \n",
      "Transformer MSE: 0.0059281580906867665\n",
      "Testing params: {'num_heads': 6, 'lookback': 15, 'dropout_rate': 0.25, 'batch_size': 32, 'ff_dim': 64}\n",
      "\u001b[1m194/194\u001b[0m \u001b[32m━━━━━━━━━━━━━━━━━━━━\u001b[0m\u001b[37m\u001b[0m \u001b[1m1s\u001b[0m 2ms/step    \n",
      "Transformer MSE: 0.002486951846385493\n",
      "Testing params: {'num_heads': 6, 'lookback': 15, 'dropout_rate': 0.25, 'batch_size': 32, 'ff_dim': 128}\n",
      "\u001b[1m194/194\u001b[0m \u001b[32m━━━━━━━━━━━━━━━━━━━━\u001b[0m\u001b[37m\u001b[0m \u001b[1m1s\u001b[0m 3ms/step    \n",
      "Transformer MSE: 0.007159145433929854\n",
      "Testing params: {'num_heads': 6, 'lookback': 15, 'dropout_rate': 0.25, 'batch_size': 64, 'ff_dim': 64}\n"
     ]
    },
    {
     "name": "stderr",
     "output_type": "stream",
     "text": [
      "2025-02-25 22:59:25.739711: I external/local_xla/xla/stream_executor/cuda/cuda_asm_compiler.cc:397] ptxas warning : Registers are spilled to local memory in function 'input_add_multiply_reduce_select_fusion', 56 bytes spill stores, 52 bytes spill loads\n",
      "\n"
     ]
    },
    {
     "name": "stdout",
     "output_type": "stream",
     "text": [
      "\u001b[1m194/194\u001b[0m \u001b[32m━━━━━━━━━━━━━━━━━━━━\u001b[0m\u001b[37m\u001b[0m \u001b[1m1s\u001b[0m 2ms/step    \n",
      "Transformer MSE: 0.005272014459521054\n",
      "Testing params: {'num_heads': 6, 'lookback': 15, 'dropout_rate': 0.25, 'batch_size': 64, 'ff_dim': 128}\n"
     ]
    },
    {
     "name": "stderr",
     "output_type": "stream",
     "text": [
      "2025-02-25 23:00:00.456915: I external/local_xla/xla/stream_executor/cuda/cuda_asm_compiler.cc:397] ptxas warning : Registers are spilled to local memory in function 'input_add_multiply_reduce_select_fusion', 56 bytes spill stores, 44 bytes spill loads\n",
      "\n"
     ]
    },
    {
     "name": "stdout",
     "output_type": "stream",
     "text": [
      "\u001b[1m194/194\u001b[0m \u001b[32m━━━━━━━━━━━━━━━━━━━━\u001b[0m\u001b[37m\u001b[0m \u001b[1m1s\u001b[0m 3ms/step    \n",
      "Transformer MSE: 0.006890615004981486\n",
      "Best parameters: {'num_heads': 6, 'lookback': 10, 'dropout_rate': 0.25, 'batch_size': 32, 'ff_dim': 64}, Best MSE: 0.0018562497744552518\n",
      "Best MSE: 0.001856\n",
      "num_heads: 6, lookback: 10, ff_dim: 64, batch_size: 32\n",
      "Time taken: 1577.863419 seconds\n",
      "[pypickle] Pickle file saved: [/home/alfred/projects/mscfe-masters-project/src/models/best/transformer/best_lstm_BNBUSDT_XRPUSDT.pkl]\n",
      "\n"
     ]
    },
    {
     "ename": "NameError",
     "evalue": "name 'df_lstm' is not defined",
     "output_type": "error",
     "traceback": [
      "\u001b[0;31m---------------------------------------------------------------------------\u001b[0m",
      "\u001b[0;31mNameError\u001b[0m                                 Traceback (most recent call last)",
      "Cell \u001b[0;32mIn[10], line 56\u001b[0m\n\u001b[1;32m     54\u001b[0m df_transformer \u001b[38;5;241m=\u001b[39m pd\u001b[38;5;241m.\u001b[39mDataFrame(tuned_params)\u001b[38;5;241m.\u001b[39mset_index(\u001b[38;5;124m'\u001b[39m\u001b[38;5;124mpair\u001b[39m\u001b[38;5;124m'\u001b[39m)\n\u001b[1;32m     55\u001b[0m df_transformer\u001b[38;5;241m.\u001b[39mto_csv(dir_param)\n\u001b[0;32m---> 56\u001b[0m df_transformer(df_lstm)\n",
      "\u001b[0;31mNameError\u001b[0m: name 'df_lstm' is not defined"
     ]
    }
   ],
   "source": [
    "dir_best = os.path.join(dir_models_best, 'transformer')\n",
    "param_grid = {\n",
    "    'num_heads': [2, 4, 6],\n",
    "    'lookback': [5, 10, 15],  # Number of steps to lookback\n",
    "    'dropout_rate': [0.25],  # Dropout rates\n",
    "    'batch_size': [32, 64], # Number of data per batch\n",
    "    'ff_dim': [64, 128],\n",
    "}\n",
    "\n",
    "verbose = True\n",
    "tuned_params = []\n",
    "i = 1\n",
    "\n",
    "for p in pairs:\n",
    "    print(f\"({i}) Pairs: {p}\")\n",
    "\n",
    "    # 1. Read normalized features\n",
    "    df_norm = dict_data['df_norm'][p]\n",
    "    \n",
    "    # 2. Create X, y based on LassoCV\n",
    "    lasso_features_cols = dict_cv_features[p]\n",
    "    target_col = df_norm.columns.tolist()[-1]\n",
    "    df_lasso = pd.concat([df_norm[lasso_features_cols], df_norm[target_col]], axis=1)\n",
    "\n",
    "    # 3. Run Hyperparameters tunning\n",
    "    start_time = time.perf_counter()\n",
    "    best_model, best_params, best_mse, best_df_test = models.hyperparameter_tuning(\n",
    "        df=df_lasso, p=p, model_func=models.transformer_regression, param_grid=param_grid, verbose=verbose)\n",
    "    end_time = time.perf_counter()\n",
    "    elapsed_time = end_time - start_time\n",
    "\n",
    "    stats = {\n",
    "        'pair':p, \n",
    "        'best_mse': best_mse,\n",
    "        'data_points': len(df_lasso),\n",
    "        'features': len(df_lasso.columns),\n",
    "    }\n",
    "    stats.update(best_params)\n",
    "    tuned_params.append(stats)\n",
    "\n",
    "    print(f\"Best MSE: {best_mse:.6f}\")\n",
    "    print(f\"num_heads: {best_params['num_heads']}, lookback: {best_params['lookback']}, ff_dim: {best_params['ff_dim']}, batch_size: {best_params['batch_size']}\")\n",
    "    print(f\"Time taken: {elapsed_time:.6f} seconds\")\n",
    "\n",
    "    # 4. Save best model future use like testing and strategy\n",
    "    model_name = f\"best_lstm_{p.replace(' ', '_')}.pkl\"\n",
    "    dir_model_name = os.path.join(dir_best, model_name)\n",
    "    pypickle.save(dir_model_name, best_model, overwrite=pypickle_overwrite)\n",
    "\n",
    "    i+=1\n",
    "    print('')\n",
    "\n",
    "dir_param = os.path.join(dir_best, 'best_model_results.csv')\n",
    "df_transformer = pd.DataFrame(tuned_params).set_index('pair')\n",
    "df_transformer.to_csv(dir_param)\n",
    "df_transformer(df_lstm)"
   ]
  },
  {
   "cell_type": "code",
   "execution_count": 11,
   "id": "7f51ddd6-8c08-4cbb-b056-76d6fff9b260",
   "metadata": {},
   "outputs": [
    {
     "data": {
      "text/html": [
       "<div>\n",
       "<style scoped>\n",
       "    .dataframe tbody tr th:only-of-type {\n",
       "        vertical-align: middle;\n",
       "    }\n",
       "\n",
       "    .dataframe tbody tr th {\n",
       "        vertical-align: top;\n",
       "    }\n",
       "\n",
       "    .dataframe thead th {\n",
       "        text-align: right;\n",
       "    }\n",
       "</style>\n",
       "<table border=\"1\" class=\"dataframe\">\n",
       "  <thead>\n",
       "    <tr style=\"text-align: right;\">\n",
       "      <th></th>\n",
       "      <th>best_mse</th>\n",
       "      <th>data_points</th>\n",
       "      <th>features</th>\n",
       "      <th>num_heads</th>\n",
       "      <th>lookback</th>\n",
       "      <th>dropout_rate</th>\n",
       "      <th>batch_size</th>\n",
       "      <th>ff_dim</th>\n",
       "    </tr>\n",
       "    <tr>\n",
       "      <th>pair</th>\n",
       "      <th></th>\n",
       "      <th></th>\n",
       "      <th></th>\n",
       "      <th></th>\n",
       "      <th></th>\n",
       "      <th></th>\n",
       "      <th></th>\n",
       "      <th></th>\n",
       "    </tr>\n",
       "  </thead>\n",
       "  <tbody>\n",
       "    <tr>\n",
       "      <th>META DAXEX_ETF</th>\n",
       "      <td>0.030082</td>\n",
       "      <td>1145</td>\n",
       "      <td>15</td>\n",
       "      <td>6</td>\n",
       "      <td>5</td>\n",
       "      <td>0.25</td>\n",
       "      <td>32</td>\n",
       "      <td>128</td>\n",
       "    </tr>\n",
       "    <tr>\n",
       "      <th>AMZN BNBUSDT</th>\n",
       "      <td>0.011686</td>\n",
       "      <td>4991</td>\n",
       "      <td>16</td>\n",
       "      <td>2</td>\n",
       "      <td>15</td>\n",
       "      <td>0.25</td>\n",
       "      <td>64</td>\n",
       "      <td>128</td>\n",
       "    </tr>\n",
       "    <tr>\n",
       "      <th>AMZN TRXUSDT</th>\n",
       "      <td>0.002809</td>\n",
       "      <td>4991</td>\n",
       "      <td>9</td>\n",
       "      <td>2</td>\n",
       "      <td>10</td>\n",
       "      <td>0.25</td>\n",
       "      <td>32</td>\n",
       "      <td>128</td>\n",
       "    </tr>\n",
       "    <tr>\n",
       "      <th>SPY_ETF AVAXUSDT</th>\n",
       "      <td>0.036903</td>\n",
       "      <td>4997</td>\n",
       "      <td>21</td>\n",
       "      <td>4</td>\n",
       "      <td>5</td>\n",
       "      <td>0.25</td>\n",
       "      <td>64</td>\n",
       "      <td>64</td>\n",
       "    </tr>\n",
       "    <tr>\n",
       "      <th>SPY_ETF ETHUSDT</th>\n",
       "      <td>0.006406</td>\n",
       "      <td>4997</td>\n",
       "      <td>16</td>\n",
       "      <td>2</td>\n",
       "      <td>5</td>\n",
       "      <td>0.25</td>\n",
       "      <td>64</td>\n",
       "      <td>128</td>\n",
       "    </tr>\n",
       "    <tr>\n",
       "      <th>EQQQ_ETF BNBUSDT</th>\n",
       "      <td>0.023795</td>\n",
       "      <td>3217</td>\n",
       "      <td>13</td>\n",
       "      <td>4</td>\n",
       "      <td>5</td>\n",
       "      <td>0.25</td>\n",
       "      <td>32</td>\n",
       "      <td>128</td>\n",
       "    </tr>\n",
       "    <tr>\n",
       "      <th>BNBUSDT ADAUSDT</th>\n",
       "      <td>0.001136</td>\n",
       "      <td>31051</td>\n",
       "      <td>9</td>\n",
       "      <td>4</td>\n",
       "      <td>15</td>\n",
       "      <td>0.25</td>\n",
       "      <td>32</td>\n",
       "      <td>64</td>\n",
       "    </tr>\n",
       "    <tr>\n",
       "      <th>BNBUSDT BTCUSDT</th>\n",
       "      <td>0.002063</td>\n",
       "      <td>31051</td>\n",
       "      <td>9</td>\n",
       "      <td>2</td>\n",
       "      <td>5</td>\n",
       "      <td>0.25</td>\n",
       "      <td>32</td>\n",
       "      <td>64</td>\n",
       "    </tr>\n",
       "    <tr>\n",
       "      <th>BNBUSDT TRXUSDT</th>\n",
       "      <td>0.001045</td>\n",
       "      <td>31051</td>\n",
       "      <td>12</td>\n",
       "      <td>6</td>\n",
       "      <td>15</td>\n",
       "      <td>0.25</td>\n",
       "      <td>32</td>\n",
       "      <td>64</td>\n",
       "    </tr>\n",
       "    <tr>\n",
       "      <th>BNBUSDT XRPUSDT</th>\n",
       "      <td>0.001856</td>\n",
       "      <td>31051</td>\n",
       "      <td>12</td>\n",
       "      <td>6</td>\n",
       "      <td>10</td>\n",
       "      <td>0.25</td>\n",
       "      <td>32</td>\n",
       "      <td>64</td>\n",
       "    </tr>\n",
       "  </tbody>\n",
       "</table>\n",
       "</div>"
      ],
      "text/plain": [
       "                  best_mse  data_points  features  num_heads  lookback  \\\n",
       "pair                                                                     \n",
       "META DAXEX_ETF    0.030082         1145        15          6         5   \n",
       "AMZN BNBUSDT      0.011686         4991        16          2        15   \n",
       "AMZN TRXUSDT      0.002809         4991         9          2        10   \n",
       "SPY_ETF AVAXUSDT  0.036903         4997        21          4         5   \n",
       "SPY_ETF ETHUSDT   0.006406         4997        16          2         5   \n",
       "EQQQ_ETF BNBUSDT  0.023795         3217        13          4         5   \n",
       "BNBUSDT ADAUSDT   0.001136        31051         9          4        15   \n",
       "BNBUSDT BTCUSDT   0.002063        31051         9          2         5   \n",
       "BNBUSDT TRXUSDT   0.001045        31051        12          6        15   \n",
       "BNBUSDT XRPUSDT   0.001856        31051        12          6        10   \n",
       "\n",
       "                  dropout_rate  batch_size  ff_dim  \n",
       "pair                                                \n",
       "META DAXEX_ETF            0.25          32     128  \n",
       "AMZN BNBUSDT              0.25          64     128  \n",
       "AMZN TRXUSDT              0.25          32     128  \n",
       "SPY_ETF AVAXUSDT          0.25          64      64  \n",
       "SPY_ETF ETHUSDT           0.25          64     128  \n",
       "EQQQ_ETF BNBUSDT          0.25          32     128  \n",
       "BNBUSDT ADAUSDT           0.25          32      64  \n",
       "BNBUSDT BTCUSDT           0.25          32      64  \n",
       "BNBUSDT TRXUSDT           0.25          32      64  \n",
       "BNBUSDT XRPUSDT           0.25          32      64  "
      ]
     },
     "metadata": {},
     "output_type": "display_data"
    }
   ],
   "source": [
    "display(df_transformer)"
   ]
  },
  {
   "cell_type": "code",
   "execution_count": null,
   "id": "f4bc9841-6e32-4c55-90a4-0175e46749a5",
   "metadata": {},
   "outputs": [],
   "source": []
  }
 ],
 "metadata": {
  "kernelspec": {
   "display_name": "Python (tf_py311)",
   "language": "python",
   "name": "tf_py311"
  },
  "language_info": {
   "codemirror_mode": {
    "name": "ipython",
    "version": 3
   },
   "file_extension": ".py",
   "mimetype": "text/x-python",
   "name": "python",
   "nbconvert_exporter": "python",
   "pygments_lexer": "ipython3",
   "version": "3.11.11"
  }
 },
 "nbformat": 4,
 "nbformat_minor": 5
}
