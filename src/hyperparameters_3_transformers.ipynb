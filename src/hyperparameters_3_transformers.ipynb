{
 "cells": [
  {
   "cell_type": "code",
   "execution_count": 1,
   "id": "bb3e861e-48f6-4e4d-b2e0-61fd2c404c50",
   "metadata": {},
   "outputs": [
    {
     "name": "stderr",
     "output_type": "stream",
     "text": [
      "2025-02-24 21:29:49.151990: I tensorflow/core/util/port.cc:153] oneDNN custom operations are on. You may see slightly different numerical results due to floating-point round-off errors from different computation orders. To turn them off, set the environment variable `TF_ENABLE_ONEDNN_OPTS=0`.\n",
      "2025-02-24 21:29:49.161912: E external/local_xla/xla/stream_executor/cuda/cuda_fft.cc:477] Unable to register cuFFT factory: Attempting to register factory for plugin cuFFT when one has already been registered\n",
      "WARNING: All log messages before absl::InitializeLog() is called are written to STDERR\n",
      "E0000 00:00:1740403789.175476  224076 cuda_dnn.cc:8310] Unable to register cuDNN factory: Attempting to register factory for plugin cuDNN when one has already been registered\n",
      "E0000 00:00:1740403789.179647  224076 cuda_blas.cc:1418] Unable to register cuBLAS factory: Attempting to register factory for plugin cuBLAS when one has already been registered\n",
      "2025-02-24 21:29:49.194279: I tensorflow/core/platform/cpu_feature_guard.cc:210] This TensorFlow binary is optimized to use available CPU instructions in performance-critical operations.\n",
      "To enable the following instructions: AVX2 AVX_VNNI FMA, in other operations, rebuild TensorFlow with the appropriate compiler flags.\n"
     ]
    }
   ],
   "source": [
    "# %conda install -c conda-forge ta-lib -q\n",
    "# %pip install -r requirements.txt -q\n",
    "\n",
    "# import boto3\n",
    "import data\n",
    "import glob\n",
    "import matplotlib.pyplot as plt\n",
    "import models\n",
    "import numpy as np\n",
    "import os\n",
    "import pandas as pd\n",
    "import pypickle\n",
    "import strategy\n",
    "import time\n",
    "\n",
    "from data import * \n",
    "from feature_engineering import FeaturesEngineering\n",
    "from models import Models\n",
    "from io import StringIO\n",
    "from IPython.display import display\n",
    "from sklearn.linear_model import LassoCV\n",
    "from utils import log"
   ]
  },
  {
   "cell_type": "code",
   "execution_count": 2,
   "id": "72379642-7d44-4b0c-b4f9-1c34592312a3",
   "metadata": {},
   "outputs": [],
   "source": [
    "pypickle_overwrite = True\n",
    "\n",
    "models = Models(use_xgboost_gpu=True)"
   ]
  },
  {
   "cell_type": "code",
   "execution_count": 3,
   "id": "a10f57a0-0849-4813-bb67-801da2b8c8b4",
   "metadata": {},
   "outputs": [
    {
     "name": "stdout",
     "output_type": "stream",
     "text": [
      "\n",
      "Project directory: /home/alfred/projects/mscfe-masters-project/src\n",
      "Models directory: /home/alfred/projects/mscfe-masters-project/src/models\n",
      "Base models directory: /home/alfred/projects/mscfe-masters-project/src/models/base\n",
      "Scalers directory: /home/alfred/projects/mscfe-masters-project/src/models/scaler\n",
      "Best models directory: /home/alfred/projects/mscfe-masters-project/src/models/best\n",
      "\n"
     ]
    }
   ],
   "source": [
    "dir_project = os.getcwd()\n",
    "dir_models = os.path.join(dir_project, 'models')\n",
    "dir_models_base = os.path.join(dir_project, 'models', 'base')\n",
    "dir_models_scaler = os.path.join(dir_project, 'models', 'scaler')\n",
    "dir_models_best = os.path.join(dir_project, 'models', 'best')\n",
    "\n",
    "print(f\"\"\"\n",
    "Project directory: {dir_project}\n",
    "Models directory: {dir_models}\n",
    "Base models directory: {dir_models_base}\n",
    "Scalers directory: {dir_models_scaler}\n",
    "Best models directory: {dir_models_best}\n",
    "\"\"\")"
   ]
  },
  {
   "cell_type": "markdown",
   "id": "a0c06ccb-5fbb-4edc-b968-f6cf9050768d",
   "metadata": {},
   "source": [
    "# Read raw data"
   ]
  },
  {
   "cell_type": "code",
   "execution_count": 4,
   "id": "b3e39bdf-f344-4744-a85b-1659dad65f84",
   "metadata": {},
   "outputs": [
    {
     "data": {
      "text/html": [
       "<div>\n",
       "<style scoped>\n",
       "    .dataframe tbody tr th:only-of-type {\n",
       "        vertical-align: middle;\n",
       "    }\n",
       "\n",
       "    .dataframe tbody tr th {\n",
       "        vertical-align: top;\n",
       "    }\n",
       "\n",
       "    .dataframe thead th {\n",
       "        text-align: right;\n",
       "    }\n",
       "</style>\n",
       "<table border=\"1\" class=\"dataframe\">\n",
       "  <thead>\n",
       "    <tr style=\"text-align: right;\">\n",
       "      <th></th>\n",
       "      <th>seriesX</th>\n",
       "      <th>seriesY</th>\n",
       "      <th>correlation</th>\n",
       "      <th>spread_adf_stat</th>\n",
       "      <th>spread_adf_pValue</th>\n",
       "      <th>spread_stationary</th>\n",
       "      <th>series_coint_stat</th>\n",
       "      <th>series_coint_pValue</th>\n",
       "      <th>series_cointegrated</th>\n",
       "    </tr>\n",
       "  </thead>\n",
       "  <tbody>\n",
       "    <tr>\n",
       "      <th>0</th>\n",
       "      <td>GOOG</td>\n",
       "      <td>GOOGL</td>\n",
       "      <td>0.999931</td>\n",
       "      <td>-4.971937</td>\n",
       "      <td>0.000025</td>\n",
       "      <td>True</td>\n",
       "      <td>-4.976339</td>\n",
       "      <td>0.000182</td>\n",
       "      <td>True</td>\n",
       "    </tr>\n",
       "    <tr>\n",
       "      <th>1</th>\n",
       "      <td>META</td>\n",
       "      <td>DAXEX_ETF</td>\n",
       "      <td>0.888934</td>\n",
       "      <td>-2.917056</td>\n",
       "      <td>0.043400</td>\n",
       "      <td>True</td>\n",
       "      <td>-3.483091</td>\n",
       "      <td>0.033924</td>\n",
       "      <td>True</td>\n",
       "    </tr>\n",
       "    <tr>\n",
       "      <th>2</th>\n",
       "      <td>AMZN</td>\n",
       "      <td>BNBUSDT</td>\n",
       "      <td>0.877059</td>\n",
       "      <td>-3.631203</td>\n",
       "      <td>0.005192</td>\n",
       "      <td>True</td>\n",
       "      <td>-3.545100</td>\n",
       "      <td>0.028601</td>\n",
       "      <td>True</td>\n",
       "    </tr>\n",
       "    <tr>\n",
       "      <th>3</th>\n",
       "      <td>AMZN</td>\n",
       "      <td>TRXUSDT</td>\n",
       "      <td>0.814577</td>\n",
       "      <td>-3.869803</td>\n",
       "      <td>0.002269</td>\n",
       "      <td>True</td>\n",
       "      <td>-3.387413</td>\n",
       "      <td>0.043768</td>\n",
       "      <td>True</td>\n",
       "    </tr>\n",
       "    <tr>\n",
       "      <th>4</th>\n",
       "      <td>SPY_ETF</td>\n",
       "      <td>AVAXUSDT</td>\n",
       "      <td>0.847292</td>\n",
       "      <td>-3.309927</td>\n",
       "      <td>0.014441</td>\n",
       "      <td>True</td>\n",
       "      <td>-3.698512</td>\n",
       "      <td>0.018406</td>\n",
       "      <td>True</td>\n",
       "    </tr>\n",
       "    <tr>\n",
       "      <th>5</th>\n",
       "      <td>SPY_ETF</td>\n",
       "      <td>ETHUSDT</td>\n",
       "      <td>0.862483</td>\n",
       "      <td>-3.428205</td>\n",
       "      <td>0.010034</td>\n",
       "      <td>True</td>\n",
       "      <td>-3.737367</td>\n",
       "      <td>0.016394</td>\n",
       "      <td>True</td>\n",
       "    </tr>\n",
       "    <tr>\n",
       "      <th>6</th>\n",
       "      <td>EQQQ_ETF</td>\n",
       "      <td>BNBUSDT</td>\n",
       "      <td>0.886060</td>\n",
       "      <td>-3.816404</td>\n",
       "      <td>0.002744</td>\n",
       "      <td>True</td>\n",
       "      <td>-3.670509</td>\n",
       "      <td>0.019987</td>\n",
       "      <td>True</td>\n",
       "    </tr>\n",
       "    <tr>\n",
       "      <th>7</th>\n",
       "      <td>BNBUSDT</td>\n",
       "      <td>ADAUSDT</td>\n",
       "      <td>0.901459</td>\n",
       "      <td>-3.279504</td>\n",
       "      <td>0.015820</td>\n",
       "      <td>True</td>\n",
       "      <td>-3.775562</td>\n",
       "      <td>0.014607</td>\n",
       "      <td>True</td>\n",
       "    </tr>\n",
       "    <tr>\n",
       "      <th>8</th>\n",
       "      <td>BNBUSDT</td>\n",
       "      <td>BTCUSDT</td>\n",
       "      <td>0.884604</td>\n",
       "      <td>-2.909961</td>\n",
       "      <td>0.044202</td>\n",
       "      <td>True</td>\n",
       "      <td>-3.393160</td>\n",
       "      <td>0.043116</td>\n",
       "      <td>True</td>\n",
       "    </tr>\n",
       "    <tr>\n",
       "      <th>9</th>\n",
       "      <td>BNBUSDT</td>\n",
       "      <td>TRXUSDT</td>\n",
       "      <td>0.933562</td>\n",
       "      <td>-3.656380</td>\n",
       "      <td>0.004770</td>\n",
       "      <td>True</td>\n",
       "      <td>-4.003675</td>\n",
       "      <td>0.007095</td>\n",
       "      <td>True</td>\n",
       "    </tr>\n",
       "    <tr>\n",
       "      <th>10</th>\n",
       "      <td>BNBUSDT</td>\n",
       "      <td>XRPUSDT</td>\n",
       "      <td>0.919004</td>\n",
       "      <td>-3.380878</td>\n",
       "      <td>0.011628</td>\n",
       "      <td>True</td>\n",
       "      <td>-4.054516</td>\n",
       "      <td>0.005995</td>\n",
       "      <td>True</td>\n",
       "    </tr>\n",
       "  </tbody>\n",
       "</table>\n",
       "</div>"
      ],
      "text/plain": [
       "     seriesX    seriesY  correlation  spread_adf_stat  spread_adf_pValue  \\\n",
       "0       GOOG      GOOGL     0.999931        -4.971937           0.000025   \n",
       "1       META  DAXEX_ETF     0.888934        -2.917056           0.043400   \n",
       "2       AMZN    BNBUSDT     0.877059        -3.631203           0.005192   \n",
       "3       AMZN    TRXUSDT     0.814577        -3.869803           0.002269   \n",
       "4    SPY_ETF   AVAXUSDT     0.847292        -3.309927           0.014441   \n",
       "5    SPY_ETF    ETHUSDT     0.862483        -3.428205           0.010034   \n",
       "6   EQQQ_ETF    BNBUSDT     0.886060        -3.816404           0.002744   \n",
       "7    BNBUSDT    ADAUSDT     0.901459        -3.279504           0.015820   \n",
       "8    BNBUSDT    BTCUSDT     0.884604        -2.909961           0.044202   \n",
       "9    BNBUSDT    TRXUSDT     0.933562        -3.656380           0.004770   \n",
       "10   BNBUSDT    XRPUSDT     0.919004        -3.380878           0.011628   \n",
       "\n",
       "    spread_stationary  series_coint_stat  series_coint_pValue  \\\n",
       "0                True          -4.976339             0.000182   \n",
       "1                True          -3.483091             0.033924   \n",
       "2                True          -3.545100             0.028601   \n",
       "3                True          -3.387413             0.043768   \n",
       "4                True          -3.698512             0.018406   \n",
       "5                True          -3.737367             0.016394   \n",
       "6                True          -3.670509             0.019987   \n",
       "7                True          -3.775562             0.014607   \n",
       "8                True          -3.393160             0.043116   \n",
       "9                True          -4.003675             0.007095   \n",
       "10               True          -4.054516             0.005995   \n",
       "\n",
       "    series_cointegrated  \n",
       "0                  True  \n",
       "1                  True  \n",
       "2                  True  \n",
       "3                  True  \n",
       "4                  True  \n",
       "5                  True  \n",
       "6                  True  \n",
       "7                  True  \n",
       "8                  True  \n",
       "9                  True  \n",
       "10                 True  "
      ]
     },
     "metadata": {},
     "output_type": "display_data"
    }
   ],
   "source": [
    "# Define S3 bucket and file path\n",
    "bucket_name = 'mscfe-capstone-project-bucket'\n",
    "file_key = 'filtered_data.csv'\n",
    "\n",
    "filtered = pd.read_csv('filtered_data.csv').drop(['Unnamed: 0'], axis=1)\n",
    "display(filtered)"
   ]
  },
  {
   "cell_type": "code",
   "execution_count": 5,
   "id": "81678977-4845-4bf5-a08f-521e7a0f6595",
   "metadata": {},
   "outputs": [
    {
     "name": "stdout",
     "output_type": "stream",
     "text": [
      "********************\n",
      "Trading pairs:\n",
      "META DAXEX_ETF\n",
      "AMZN BNBUSDT\n",
      "AMZN TRXUSDT\n",
      "SPY_ETF AVAXUSDT\n",
      "SPY_ETF ETHUSDT\n",
      "EQQQ_ETF BNBUSDT\n",
      "BNBUSDT ADAUSDT\n",
      "BNBUSDT BTCUSDT\n",
      "BNBUSDT TRXUSDT\n",
      "BNBUSDT XRPUSDT\n",
      "********************\n",
      "Unique tickers:\n",
      "META\n",
      "AMZN\n",
      "SPY_ETF\n",
      "EQQQ_ETF\n",
      "BNBUSDT\n",
      "DAXEX_ETF\n",
      "TRXUSDT\n",
      "AVAXUSDT\n",
      "ETHUSDT\n",
      "ADAUSDT\n",
      "BTCUSDT\n",
      "XRPUSDT\n",
      "********************\n"
     ]
    },
    {
     "data": {
      "text/html": [
       "<div>\n",
       "<style scoped>\n",
       "    .dataframe tbody tr th:only-of-type {\n",
       "        vertical-align: middle;\n",
       "    }\n",
       "\n",
       "    .dataframe tbody tr th {\n",
       "        vertical-align: top;\n",
       "    }\n",
       "\n",
       "    .dataframe thead th {\n",
       "        text-align: right;\n",
       "    }\n",
       "</style>\n",
       "<table border=\"1\" class=\"dataframe\">\n",
       "  <thead>\n",
       "    <tr style=\"text-align: right;\">\n",
       "      <th></th>\n",
       "      <th>OpenTime</th>\n",
       "      <th>Open</th>\n",
       "      <th>High</th>\n",
       "      <th>Low</th>\n",
       "      <th>Close</th>\n",
       "      <th>Symbol</th>\n",
       "    </tr>\n",
       "  </thead>\n",
       "  <tbody>\n",
       "    <tr>\n",
       "      <th>337012</th>\n",
       "      <td>2025-01-01 05:15:00</td>\n",
       "      <td>190.2500</td>\n",
       "      <td>190.4700</td>\n",
       "      <td>189.6700</td>\n",
       "      <td>189.8500</td>\n",
       "      <td>SOLUSDT</td>\n",
       "    </tr>\n",
       "    <tr>\n",
       "      <th>143516</th>\n",
       "      <td>2024-10-26 00:50:00</td>\n",
       "      <td>0.3315</td>\n",
       "      <td>0.3315</td>\n",
       "      <td>0.3307</td>\n",
       "      <td>0.3308</td>\n",
       "      <td>ADAUSDT</td>\n",
       "    </tr>\n",
       "    <tr>\n",
       "      <th>352778</th>\n",
       "      <td>2025-01-06 16:40:00</td>\n",
       "      <td>729.7500</td>\n",
       "      <td>730.1500</td>\n",
       "      <td>729.0000</td>\n",
       "      <td>729.3200</td>\n",
       "      <td>BNBUSDT</td>\n",
       "    </tr>\n",
       "    <tr>\n",
       "      <th>278401</th>\n",
       "      <td>2024-12-11 20:50:00</td>\n",
       "      <td>3903.0000</td>\n",
       "      <td>3903.2000</td>\n",
       "      <td>3894.0900</td>\n",
       "      <td>3901.2400</td>\n",
       "      <td>ETHUSDT</td>\n",
       "    </tr>\n",
       "    <tr>\n",
       "      <th>251261</th>\n",
       "      <td>2024-12-02 10:40:00</td>\n",
       "      <td>3628.1900</td>\n",
       "      <td>3628.9800</td>\n",
       "      <td>3624.5100</td>\n",
       "      <td>3627.4900</td>\n",
       "      <td>ETHUSDT</td>\n",
       "    </tr>\n",
       "  </tbody>\n",
       "</table>\n",
       "</div>"
      ],
      "text/plain": [
       "                   OpenTime       Open       High        Low      Close  \\\n",
       "337012  2025-01-01 05:15:00   190.2500   190.4700   189.6700   189.8500   \n",
       "143516  2024-10-26 00:50:00     0.3315     0.3315     0.3307     0.3308   \n",
       "352778  2025-01-06 16:40:00   729.7500   730.1500   729.0000   729.3200   \n",
       "278401  2024-12-11 20:50:00  3903.0000  3903.2000  3894.0900  3901.2400   \n",
       "251261  2024-12-02 10:40:00  3628.1900  3628.9800  3624.5100  3627.4900   \n",
       "\n",
       "         Symbol  \n",
       "337012  SOLUSDT  \n",
       "143516  ADAUSDT  \n",
       "352778  BNBUSDT  \n",
       "278401  ETHUSDT  \n",
       "251261  ETHUSDT  "
      ]
     },
     "metadata": {},
     "output_type": "display_data"
    }
   ],
   "source": [
    "print('********************')\n",
    "pairs = filtered['seriesX'].iloc[1:] + ' ' + filtered['seriesY'].iloc[1:]\n",
    "print('Trading pairs:')\n",
    "for p in pairs:\n",
    "    print(p)\n",
    "print('********************')\n",
    "\n",
    "unique_tickers = pd.concat([filtered['seriesX'].iloc[1:], filtered['seriesY'].iloc[1:]]).drop_duplicates()\n",
    "print('Unique tickers:')\n",
    "for ut in unique_tickers:\n",
    "    print(ut)\n",
    "print('********************')\n",
    "\n",
    "# Preview the source data\n",
    "file_key = 'df_full.csv'\n",
    "df_full = pd.read_csv('df_full.csv').drop(['Unnamed: 0'], axis=1)\n",
    "# obj = s3.get_object(Bucket=bucket_name, Key=file_key)\n",
    "# df_full = pd.read_csv(StringIO(obj['Body'].read().decode('utf-8'))).drop(['Unnamed: 0'], axis=1)\n",
    "display(df_full.sample(5))"
   ]
  },
  {
   "cell_type": "markdown",
   "id": "592ec869-2800-42d1-8343-d7bf1b3e55fd",
   "metadata": {},
   "source": [
    "## Placeholders"
   ]
  },
  {
   "cell_type": "code",
   "execution_count": 6,
   "id": "870bbf1f-3b93-47db-afa0-847459a86f7a",
   "metadata": {},
   "outputs": [],
   "source": [
    "dict_data = {}\n",
    "dict_cv_features = {}"
   ]
  },
  {
   "cell_type": "markdown",
   "id": "62424baf-1ad3-42c4-9acd-2696e1d771b9",
   "metadata": {},
   "source": [
    "# Features Engineering\n",
    "\n",
    "## Create and normalizing features"
   ]
  },
  {
   "cell_type": "code",
   "execution_count": 7,
   "id": "daf187d8-7de3-4424-ac4b-5b49fa3572ca",
   "metadata": {},
   "outputs": [
    {
     "data": {
      "text/plain": [
       "{'ema': [8, 21, 55],\n",
       " 'macd': {'fast': 12, 'slow': 26, 'signal': 9},\n",
       " 'rsi': [14],\n",
       " 'bb': {'timeperiod': 20, 'nbdevup': 2, 'nbdevdn': 2},\n",
       " 'atr': {'timeperiod': 14},\n",
       " 'stoch': {'fastk_period': 14, 'slowk_period': 3, 'slowd_period': 3},\n",
       " 'cci': {'timeperiod': 20},\n",
       " 'willr': {'timeperiod': 14}}"
      ]
     },
     "execution_count": 7,
     "metadata": {},
     "output_type": "execute_result"
    }
   ],
   "source": [
    "# Initializing the FeaturesEngineering obj\n",
    "feat = FeaturesEngineering()\n",
    "\n",
    "# Default config\n",
    "feat.default_config"
   ]
  },
  {
   "cell_type": "markdown",
   "id": "1a34f932-bdf4-4378-9a53-9541a6157b96",
   "metadata": {},
   "source": [
    "1. Create features from pairs data\n",
    "2. Load saved scaler\n",
    "3. Perform normalization / standardization"
   ]
  },
  {
   "cell_type": "code",
   "execution_count": 8,
   "id": "889c9b25-0102-4097-9ce3-970e0575ef39",
   "metadata": {},
   "outputs": [
    {
     "name": "stdout",
     "output_type": "stream",
     "text": [
      "(1) Pairs: META DAXEX_ETF\n",
      "[pypickle] Pickle file loaded: [/home/alfred/projects/mscfe-masters-project/src/models/scaler/standardscaler_META_DAXEX_ETF.pkl]\n",
      "\n",
      "(2) Pairs: AMZN BNBUSDT\n",
      "[pypickle] Pickle file loaded: [/home/alfred/projects/mscfe-masters-project/src/models/scaler/standardscaler_AMZN_BNBUSDT.pkl]\n",
      "\n",
      "(3) Pairs: AMZN TRXUSDT\n",
      "[pypickle] Pickle file loaded: [/home/alfred/projects/mscfe-masters-project/src/models/scaler/standardscaler_AMZN_TRXUSDT.pkl]\n",
      "\n",
      "(4) Pairs: SPY_ETF AVAXUSDT\n",
      "[pypickle] Pickle file loaded: [/home/alfred/projects/mscfe-masters-project/src/models/scaler/standardscaler_SPY_ETF_AVAXUSDT.pkl]\n",
      "\n",
      "(5) Pairs: SPY_ETF ETHUSDT\n",
      "[pypickle] Pickle file loaded: [/home/alfred/projects/mscfe-masters-project/src/models/scaler/standardscaler_SPY_ETF_ETHUSDT.pkl]\n",
      "\n",
      "(6) Pairs: EQQQ_ETF BNBUSDT\n",
      "[pypickle] Pickle file loaded: [/home/alfred/projects/mscfe-masters-project/src/models/scaler/standardscaler_EQQQ_ETF_BNBUSDT.pkl]\n",
      "\n",
      "(7) Pairs: BNBUSDT ADAUSDT\n",
      "[pypickle] Pickle file loaded: [/home/alfred/projects/mscfe-masters-project/src/models/scaler/standardscaler_BNBUSDT_ADAUSDT.pkl]\n",
      "\n",
      "(8) Pairs: BNBUSDT BTCUSDT\n",
      "[pypickle] Pickle file loaded: [/home/alfred/projects/mscfe-masters-project/src/models/scaler/standardscaler_BNBUSDT_BTCUSDT.pkl]\n",
      "\n",
      "(9) Pairs: BNBUSDT TRXUSDT\n",
      "[pypickle] Pickle file loaded: [/home/alfred/projects/mscfe-masters-project/src/models/scaler/standardscaler_BNBUSDT_TRXUSDT.pkl]\n",
      "\n",
      "(10) Pairs: BNBUSDT XRPUSDT\n",
      "[pypickle] Pickle file loaded: [/home/alfred/projects/mscfe-masters-project/src/models/scaler/standardscaler_BNBUSDT_XRPUSDT.pkl]\n",
      "\n"
     ]
    }
   ],
   "source": [
    "scaler_type = \"StandardScaler\"\n",
    "dict_data['df_feat'] = {}\n",
    "dict_data['df_norm'] = {}\n",
    "dict_data['scaler'] = {}\n",
    "i = 1\n",
    "\n",
    "for p in pairs:\n",
    "\n",
    "    print(f\"({i}) Pairs: {p}\")\n",
    "    tickerX, tickerY = p.split(' ')\n",
    "    \n",
    "    # 1. Create features from pairs data\n",
    "    df_feat = feat.create_features(\n",
    "        tickerX, \n",
    "        tickerY,\n",
    "        df_full[df_full['Symbol']==tickerX],\n",
    "        df_full[df_full['Symbol']==tickerY],\n",
    "        config=None, # using default config in the FeaturesEngineering\n",
    "        dropna=True\n",
    "    )\n",
    "\n",
    "    # 2. Load saved scaler\n",
    "    scaler_name = f\"{scaler_type.lower()}_{p.replace(' ', '_')}.pkl\"\n",
    "    dir_scaler = os.path.join(dir_models_scaler, scaler_name)\n",
    "    scaler = pypickle.load(dir_scaler)\n",
    "\n",
    "    # 3. Perform normalization / standardization\n",
    "    data_scaled = scaler.transform(df_feat)\n",
    "    df_norm = pd.DataFrame(\n",
    "        data_scaled, index=df_feat.index, columns=df_feat.columns\n",
    "    )\n",
    "    df_norm = df_norm.rename(columns={'Spread':'NormalizedSpread'})\n",
    "    \n",
    "    dict_data['df_feat'][p] = df_feat\n",
    "    dict_data['df_norm'][p] = df_norm\n",
    "    dict_data['scaler'][p] = scaler\n",
    "\n",
    "    i+=1\n",
    "    print('')"
   ]
  },
  {
   "cell_type": "markdown",
   "id": "4933b4dd-5bf4-4267-b612-31bb6f87ea3e",
   "metadata": {},
   "source": [
    "## Read LassoCV selected features"
   ]
  },
  {
   "cell_type": "code",
   "execution_count": 9,
   "id": "ce80957b-1fc7-41e0-a28e-33024188a410",
   "metadata": {},
   "outputs": [
    {
     "name": "stdout",
     "output_type": "stream",
     "text": [
      "[pypickle] Pickle file loaded: [/home/alfred/projects/mscfe-masters-project/src/models/lasso_cv_features.pkl]\n",
      "META DAXEX_ETF: ['META_EMA8', 'META_EMA55', 'META_RSI14', 'META_ATR14', 'META_StochD3', 'META_CCI20', 'META_WILLR14', 'DAXEX_ETF_EMA8', 'DAXEX_ETF_EMA21', 'DAXEX_ETF_MACD', 'DAXEX_ETF_BBupper', 'DAXEX_ETF_BBmiddle', 'DAXEX_ETF_BBlower', 'DAXEX_ETF_StochD3']\n",
      "AMZN BNBUSDT: ['AMZN_EMA8', 'AMZN_EMA21', 'AMZN_EMA55', 'AMZN_RSI14', 'AMZN_ATR14', 'AMZN_StochD3', 'AMZN_WILLR14', 'BNBUSDT_EMA8', 'BNBUSDT_EMA55', 'BNBUSDT_MACD', 'BNBUSDT_RSI14', 'BNBUSDT_ATR14', 'BNBUSDT_StochD3', 'BNBUSDT_CCI20', 'BNBUSDT_WILLR14']\n",
      "AMZN TRXUSDT: ['AMZN_EMA8', 'AMZN_EMA55', 'AMZN_RSI14', 'AMZN_ATR14', 'AMZN_StochD3', 'AMZN_CCI20', 'AMZN_WILLR14', 'TRXUSDT_MACD']\n",
      "SPY_ETF AVAXUSDT: ['SPY_ETF_EMA8', 'SPY_ETF_EMA55', 'SPY_ETF_MACD', 'SPY_ETF_RSI14', 'SPY_ETF_BBupper', 'SPY_ETF_BBmiddle', 'SPY_ETF_BBlower', 'SPY_ETF_ATR14', 'SPY_ETF_StochK14', 'SPY_ETF_StochD3', 'SPY_ETF_CCI20', 'SPY_ETF_WILLR14', 'AVAXUSDT_EMA8', 'AVAXUSDT_EMA55', 'AVAXUSDT_MACD', 'AVAXUSDT_ATR14', 'AVAXUSDT_StochK14', 'AVAXUSDT_StochD3', 'AVAXUSDT_CCI20', 'AVAXUSDT_WILLR14']\n",
      "SPY_ETF ETHUSDT: ['SPY_ETF_EMA8', 'SPY_ETF_EMA21', 'SPY_ETF_MACD', 'SPY_ETF_BBupper', 'SPY_ETF_BBmiddle', 'SPY_ETF_BBlower', 'SPY_ETF_ATR14', 'SPY_ETF_CCI20', 'ETHUSDT_EMA8', 'ETHUSDT_EMA55', 'ETHUSDT_MACD', 'ETHUSDT_RSI14', 'ETHUSDT_ATR14', 'ETHUSDT_StochD3', 'ETHUSDT_CCI20']\n",
      "EQQQ_ETF BNBUSDT: ['EQQQ_ETF_EMA8', 'EQQQ_ETF_EMA55', 'EQQQ_ETF_RSI14', 'EQQQ_ETF_ATR14', 'EQQQ_ETF_StochD3', 'EQQQ_ETF_CCI20', 'EQQQ_ETF_WILLR14', 'BNBUSDT_EMA8', 'BNBUSDT_MACD', 'BNBUSDT_BBupper', 'BNBUSDT_BBmiddle', 'BNBUSDT_BBlower']\n",
      "BNBUSDT ADAUSDT: ['BNBUSDT_EMA8', 'BNBUSDT_MACD', 'BNBUSDT_RSI14', 'BNBUSDT_StochD3', 'BNBUSDT_CCI20', 'BNBUSDT_WILLR14', 'ADAUSDT_ATR14', 'ADAUSDT_WILLR14']\n",
      "BNBUSDT BTCUSDT: ['BNBUSDT_WILLR14', 'BTCUSDT_EMA8', 'BTCUSDT_EMA21', 'BTCUSDT_EMA55', 'BTCUSDT_RSI14', 'BTCUSDT_BBlower', 'BTCUSDT_CCI20', 'BTCUSDT_WILLR14']\n",
      "BNBUSDT TRXUSDT: ['BNBUSDT_EMA8', 'BNBUSDT_EMA55', 'BNBUSDT_MACD', 'BNBUSDT_RSI14', 'BNBUSDT_StochD3', 'BNBUSDT_CCI20', 'BNBUSDT_WILLR14', 'TRXUSDT_EMA8', 'TRXUSDT_MACD', 'TRXUSDT_CCI20', 'TRXUSDT_WILLR14']\n",
      "BNBUSDT XRPUSDT: ['BNBUSDT_EMA8', 'BNBUSDT_MACD', 'BNBUSDT_RSI14', 'BNBUSDT_ATR14', 'BNBUSDT_StochD3', 'BNBUSDT_CCI20', 'BNBUSDT_WILLR14', 'XRPUSDT_EMA21', 'XRPUSDT_BBupper', 'XRPUSDT_ATR14', 'XRPUSDT_WILLR14']\n"
     ]
    }
   ],
   "source": [
    "lasso_cv_name = f\"lasso_cv_features.pkl\"\n",
    "dir_lasso = os.path.join(dir_models, lasso_cv_name)\n",
    "dict_cv_features = pypickle.load(dir_lasso)\n",
    "\n",
    "for key in dict_cv_features:\n",
    "    print(f\"{key}: {dict_cv_features[key]}\")"
   ]
  },
  {
   "cell_type": "markdown",
   "id": "b22af26c-0d52-46b0-b8a5-bc1e47cb54f1",
   "metadata": {},
   "source": [
    "# Hyperparameters Tunning\n",
    "\n",
    "## Transformer Regression"
   ]
  },
  {
   "cell_type": "code",
   "execution_count": 10,
   "id": "512eaa8e-75b5-4dc4-aa44-2919702e485f",
   "metadata": {},
   "outputs": [
    {
     "name": "stdout",
     "output_type": "stream",
     "text": [
      "(1) Pairs: META DAXEX_ETF\n",
      "Testing params: {'num_heads': 2, 'lookback': 10, 'dropout_rate': 0.25, 'batch_size': 32, 'ff_dim': 64}\n"
     ]
    },
    {
     "name": "stderr",
     "output_type": "stream",
     "text": [
      "I0000 00:00:1740403791.634352  224076 gpu_device.cc:2022] Created device /job:localhost/replica:0/task:0/device:GPU:0 with 854 MB memory:  -> device: 0, name: NVIDIA GeForce RTX 4090, pci bus id: 0000:01:00.0, compute capability: 8.9\n",
      "WARNING: All log messages before absl::InitializeLog() is called are written to STDERR\n",
      "I0000 00:00:1740403793.659955  226131 service.cc:148] XLA service 0x767b60014b90 initialized for platform CUDA (this does not guarantee that XLA will be used). Devices:\n",
      "I0000 00:00:1740403793.659983  226131 service.cc:156]   StreamExecutor device (0): NVIDIA GeForce RTX 4090, Compute Capability 8.9\n",
      "2025-02-24 21:29:53.704781: I tensorflow/compiler/mlir/tensorflow/utils/dump_mlir_util.cc:268] disabling MLIR crash reproducer, set env var `MLIR_CRASH_REPRODUCER_DIRECTORY` to enable.\n",
      "I0000 00:00:1740403793.926173  226131 cuda_dnn.cc:529] Loaded cuDNN version 90300\n",
      "I0000 00:00:1740403796.766139  226131 device_compiler.h:188] Compiled cluster using XLA!  This line is logged at most once for the lifetime of the process.\n"
     ]
    },
    {
     "name": "stdout",
     "output_type": "stream",
     "text": [
      "\u001b[1m8/8\u001b[0m \u001b[32m━━━━━━━━━━━━━━━━━━━━\u001b[0m\u001b[37m\u001b[0m \u001b[1m1s\u001b[0m 104ms/step\n",
      "Transformer MSE: 0.04167376096981029\n",
      "Testing params: {'num_heads': 2, 'lookback': 10, 'dropout_rate': 0.25, 'batch_size': 32, 'ff_dim': 128}\n",
      "\u001b[1m8/8\u001b[0m \u001b[32m━━━━━━━━━━━━━━━━━━━━\u001b[0m\u001b[37m\u001b[0m \u001b[1m1s\u001b[0m 117ms/step\n",
      "Transformer MSE: 0.0382024076369841\n",
      "Testing params: {'num_heads': 2, 'lookback': 10, 'dropout_rate': 0.25, 'batch_size': 64, 'ff_dim': 64}\n"
     ]
    },
    {
     "name": "stderr",
     "output_type": "stream",
     "text": [
      "2025-02-24 21:30:21.216608: I external/local_xla/xla/stream_executor/cuda/cuda_asm_compiler.cc:397] ptxas warning : Registers are spilled to local memory in function 'input_multiply_reduce_select_fusion', 8 bytes spill stores, 4 bytes spill loads\n",
      "ptxas warning : Registers are spilled to local memory in function 'input_add_multiply_reduce_select_fusion', 8 bytes spill stores, 4 bytes spill loads\n",
      "\n"
     ]
    },
    {
     "name": "stdout",
     "output_type": "stream",
     "text": [
      "\u001b[1m8/8\u001b[0m \u001b[32m━━━━━━━━━━━━━━━━━━━━\u001b[0m\u001b[37m\u001b[0m \u001b[1m1s\u001b[0m 48ms/step \n",
      "Transformer MSE: 0.04990539427796508\n",
      "Testing params: {'num_heads': 2, 'lookback': 10, 'dropout_rate': 0.25, 'batch_size': 64, 'ff_dim': 128}\n"
     ]
    },
    {
     "name": "stderr",
     "output_type": "stream",
     "text": [
      "2025-02-24 21:30:30.780784: I external/local_xla/xla/stream_executor/cuda/cuda_asm_compiler.cc:397] ptxas warning : Registers are spilled to local memory in function 'input_multiply_reduce_select_fusion', 8 bytes spill stores, 4 bytes spill loads\n",
      "ptxas warning : Registers are spilled to local memory in function 'input_add_multiply_reduce_select_fusion', 8 bytes spill stores, 4 bytes spill loads\n",
      "\n"
     ]
    },
    {
     "name": "stdout",
     "output_type": "stream",
     "text": [
      "\u001b[1m8/8\u001b[0m \u001b[32m━━━━━━━━━━━━━━━━━━━━\u001b[0m\u001b[37m\u001b[0m \u001b[1m1s\u001b[0m 49ms/step \n",
      "Transformer MSE: 0.07078734675529325\n",
      "Testing params: {'num_heads': 2, 'lookback': 5, 'dropout_rate': 0.25, 'batch_size': 32, 'ff_dim': 64}\n",
      "\u001b[1m8/8\u001b[0m \u001b[32m━━━━━━━━━━━━━━━━━━━━\u001b[0m\u001b[37m\u001b[0m \u001b[1m1s\u001b[0m 116ms/step\n",
      "Transformer MSE: 0.03328602382799453\n",
      "Testing params: {'num_heads': 2, 'lookback': 5, 'dropout_rate': 0.25, 'batch_size': 32, 'ff_dim': 128}\n",
      "\u001b[1m8/8\u001b[0m \u001b[32m━━━━━━━━━━━━━━━━━━━━\u001b[0m\u001b[37m\u001b[0m \u001b[1m1s\u001b[0m 134ms/step\n",
      "Transformer MSE: 0.030560543564198538\n",
      "Testing params: {'num_heads': 2, 'lookback': 5, 'dropout_rate': 0.25, 'batch_size': 64, 'ff_dim': 64}\n",
      "\u001b[1m8/8\u001b[0m \u001b[32m━━━━━━━━━━━━━━━━━━━━\u001b[0m\u001b[37m\u001b[0m \u001b[1m1s\u001b[0m 50ms/step \n",
      "Transformer MSE: 0.03214772929458458\n",
      "Testing params: {'num_heads': 2, 'lookback': 5, 'dropout_rate': 0.25, 'batch_size': 64, 'ff_dim': 128}\n",
      "\u001b[1m8/8\u001b[0m \u001b[32m━━━━━━━━━━━━━━━━━━━━\u001b[0m\u001b[37m\u001b[0m \u001b[1m1s\u001b[0m 57ms/step \n",
      "Transformer MSE: 0.048525589801882534\n",
      "Testing params: {'num_heads': 2, 'lookback': 15, 'dropout_rate': 0.25, 'batch_size': 32, 'ff_dim': 64}\n",
      "\u001b[1m8/8\u001b[0m \u001b[32m━━━━━━━━━━━━━━━━━━━━\u001b[0m\u001b[37m\u001b[0m \u001b[1m1s\u001b[0m 91ms/step \n",
      "Transformer MSE: 0.042145019499578856\n",
      "Testing params: {'num_heads': 2, 'lookback': 15, 'dropout_rate': 0.25, 'batch_size': 32, 'ff_dim': 128}\n",
      "\u001b[1m8/8\u001b[0m \u001b[32m━━━━━━━━━━━━━━━━━━━━\u001b[0m\u001b[37m\u001b[0m \u001b[1m1s\u001b[0m 99ms/step \n",
      "Transformer MSE: 0.035349579088719045\n",
      "Testing params: {'num_heads': 2, 'lookback': 15, 'dropout_rate': 0.25, 'batch_size': 64, 'ff_dim': 64}\n"
     ]
    },
    {
     "name": "stderr",
     "output_type": "stream",
     "text": [
      "2025-02-24 21:31:47.614382: I external/local_xla/xla/stream_executor/cuda/cuda_asm_compiler.cc:397] ptxas warning : Registers are spilled to local memory in function 'input_multiply_reduce_select_fusion', 8 bytes spill stores, 4 bytes spill loads\n",
      "ptxas warning : Registers are spilled to local memory in function 'input_add_multiply_reduce_select_fusion', 8 bytes spill stores, 4 bytes spill loads\n",
      "\n"
     ]
    },
    {
     "name": "stdout",
     "output_type": "stream",
     "text": [
      "\u001b[1m8/8\u001b[0m \u001b[32m━━━━━━━━━━━━━━━━━━━━\u001b[0m\u001b[37m\u001b[0m \u001b[1m1s\u001b[0m 46ms/step \n",
      "Transformer MSE: 0.03882005348285713\n",
      "Testing params: {'num_heads': 2, 'lookback': 15, 'dropout_rate': 0.25, 'batch_size': 64, 'ff_dim': 128}\n"
     ]
    },
    {
     "name": "stderr",
     "output_type": "stream",
     "text": [
      "2025-02-24 21:31:57.305631: I external/local_xla/xla/stream_executor/cuda/cuda_asm_compiler.cc:397] ptxas warning : Registers are spilled to local memory in function 'input_multiply_reduce_select_fusion', 8 bytes spill stores, 4 bytes spill loads\n",
      "ptxas warning : Registers are spilled to local memory in function 'input_add_multiply_reduce_select_fusion', 8 bytes spill stores, 4 bytes spill loads\n",
      "\n"
     ]
    },
    {
     "name": "stdout",
     "output_type": "stream",
     "text": [
      "\u001b[1m8/8\u001b[0m \u001b[32m━━━━━━━━━━━━━━━━━━━━\u001b[0m\u001b[37m\u001b[0m \u001b[1m1s\u001b[0m 50ms/step \n",
      "Transformer MSE: 0.05796201258716959\n",
      "Testing params: {'num_heads': 4, 'lookback': 10, 'dropout_rate': 0.25, 'batch_size': 32, 'ff_dim': 64}\n",
      "\u001b[1m8/8\u001b[0m \u001b[32m━━━━━━━━━━━━━━━━━━━━\u001b[0m\u001b[37m\u001b[0m \u001b[1m1s\u001b[0m 73ms/step \n",
      "Transformer MSE: 0.035046329835756285\n",
      "Testing params: {'num_heads': 4, 'lookback': 10, 'dropout_rate': 0.25, 'batch_size': 32, 'ff_dim': 128}\n",
      "\u001b[1m8/8\u001b[0m \u001b[32m━━━━━━━━━━━━━━━━━━━━\u001b[0m\u001b[37m\u001b[0m \u001b[1m1s\u001b[0m 96ms/step \n",
      "Transformer MSE: 0.05124286280627586\n",
      "Testing params: {'num_heads': 4, 'lookback': 10, 'dropout_rate': 0.25, 'batch_size': 64, 'ff_dim': 64}\n"
     ]
    },
    {
     "name": "stderr",
     "output_type": "stream",
     "text": [
      "2025-02-24 21:32:28.585693: I external/local_xla/xla/stream_executor/cuda/cuda_asm_compiler.cc:397] ptxas warning : Registers are spilled to local memory in function 'input_multiply_reduce_select_fusion', 8 bytes spill stores, 4 bytes spill loads\n",
      "ptxas warning : Registers are spilled to local memory in function 'input_add_multiply_reduce_select_fusion', 8 bytes spill stores, 4 bytes spill loads\n",
      "\n"
     ]
    },
    {
     "name": "stdout",
     "output_type": "stream",
     "text": [
      "\u001b[1m8/8\u001b[0m \u001b[32m━━━━━━━━━━━━━━━━━━━━\u001b[0m\u001b[37m\u001b[0m \u001b[1m1s\u001b[0m 48ms/step \n",
      "Transformer MSE: 0.0398975628598782\n",
      "Testing params: {'num_heads': 4, 'lookback': 10, 'dropout_rate': 0.25, 'batch_size': 64, 'ff_dim': 128}\n"
     ]
    },
    {
     "name": "stderr",
     "output_type": "stream",
     "text": [
      "2025-02-24 21:32:37.939088: I external/local_xla/xla/stream_executor/cuda/cuda_asm_compiler.cc:397] ptxas warning : Registers are spilled to local memory in function 'input_multiply_reduce_select_fusion', 8 bytes spill stores, 4 bytes spill loads\n",
      "ptxas warning : Registers are spilled to local memory in function 'input_add_multiply_reduce_select_fusion', 8 bytes spill stores, 4 bytes spill loads\n",
      "\n"
     ]
    },
    {
     "name": "stdout",
     "output_type": "stream",
     "text": [
      "\u001b[1m8/8\u001b[0m \u001b[32m━━━━━━━━━━━━━━━━━━━━\u001b[0m\u001b[37m\u001b[0m \u001b[1m1s\u001b[0m 48ms/step \n",
      "Transformer MSE: 0.03682534660644129\n",
      "Testing params: {'num_heads': 4, 'lookback': 5, 'dropout_rate': 0.25, 'batch_size': 32, 'ff_dim': 64}\n",
      "\u001b[1m8/8\u001b[0m \u001b[32m━━━━━━━━━━━━━━━━━━━━\u001b[0m\u001b[37m\u001b[0m \u001b[1m1s\u001b[0m 70ms/step \n",
      "Transformer MSE: 0.06777456926044982\n",
      "Testing params: {'num_heads': 4, 'lookback': 5, 'dropout_rate': 0.25, 'batch_size': 32, 'ff_dim': 128}\n",
      "\u001b[1m8/8\u001b[0m \u001b[32m━━━━━━━━━━━━━━━━━━━━\u001b[0m\u001b[37m\u001b[0m \u001b[1m1s\u001b[0m 103ms/step\n",
      "Transformer MSE: 0.03626969566201529\n",
      "Testing params: {'num_heads': 4, 'lookback': 5, 'dropout_rate': 0.25, 'batch_size': 64, 'ff_dim': 64}\n",
      "\u001b[1m8/8\u001b[0m \u001b[32m━━━━━━━━━━━━━━━━━━━━\u001b[0m\u001b[37m\u001b[0m \u001b[1m1s\u001b[0m 47ms/step \n",
      "Transformer MSE: 0.041775137642250645\n",
      "Testing params: {'num_heads': 4, 'lookback': 5, 'dropout_rate': 0.25, 'batch_size': 64, 'ff_dim': 128}\n",
      "\u001b[1m8/8\u001b[0m \u001b[32m━━━━━━━━━━━━━━━━━━━━\u001b[0m\u001b[37m\u001b[0m \u001b[1m1s\u001b[0m 51ms/step \n",
      "Transformer MSE: 0.03854140287635555\n",
      "Testing params: {'num_heads': 4, 'lookback': 15, 'dropout_rate': 0.25, 'batch_size': 32, 'ff_dim': 64}\n",
      "\u001b[1m8/8\u001b[0m \u001b[32m━━━━━━━━━━━━━━━━━━━━\u001b[0m\u001b[37m\u001b[0m \u001b[1m1s\u001b[0m 73ms/step \n",
      "Transformer MSE: 0.046080351979386355\n",
      "Testing params: {'num_heads': 4, 'lookback': 15, 'dropout_rate': 0.25, 'batch_size': 32, 'ff_dim': 128}\n",
      "\u001b[1m8/8\u001b[0m \u001b[32m━━━━━━━━━━━━━━━━━━━━\u001b[0m\u001b[37m\u001b[0m \u001b[1m1s\u001b[0m 90ms/step \n",
      "Transformer MSE: 0.060308589805299566\n",
      "Testing params: {'num_heads': 4, 'lookback': 15, 'dropout_rate': 0.25, 'batch_size': 64, 'ff_dim': 64}\n"
     ]
    },
    {
     "name": "stderr",
     "output_type": "stream",
     "text": [
      "2025-02-24 21:33:50.188212: I external/local_xla/xla/stream_executor/cuda/cuda_asm_compiler.cc:397] ptxas warning : Registers are spilled to local memory in function 'input_multiply_reduce_select_fusion', 8 bytes spill stores, 4 bytes spill loads\n",
      "ptxas warning : Registers are spilled to local memory in function 'input_add_multiply_reduce_select_fusion', 8 bytes spill stores, 4 bytes spill loads\n",
      "\n"
     ]
    },
    {
     "name": "stdout",
     "output_type": "stream",
     "text": [
      "\u001b[1m8/8\u001b[0m \u001b[32m━━━━━━━━━━━━━━━━━━━━\u001b[0m\u001b[37m\u001b[0m \u001b[1m1s\u001b[0m 48ms/step \n",
      "Transformer MSE: 0.03658392077485354\n",
      "Testing params: {'num_heads': 4, 'lookback': 15, 'dropout_rate': 0.25, 'batch_size': 64, 'ff_dim': 128}\n"
     ]
    },
    {
     "name": "stderr",
     "output_type": "stream",
     "text": [
      "2025-02-24 21:33:59.749684: I external/local_xla/xla/stream_executor/cuda/cuda_asm_compiler.cc:397] ptxas warning : Registers are spilled to local memory in function 'input_multiply_reduce_select_fusion', 8 bytes spill stores, 4 bytes spill loads\n",
      "ptxas warning : Registers are spilled to local memory in function 'input_add_multiply_reduce_select_fusion', 8 bytes spill stores, 4 bytes spill loads\n",
      "\n"
     ]
    },
    {
     "name": "stdout",
     "output_type": "stream",
     "text": [
      "\u001b[1m8/8\u001b[0m \u001b[32m━━━━━━━━━━━━━━━━━━━━\u001b[0m\u001b[37m\u001b[0m \u001b[1m1s\u001b[0m 49ms/step \n",
      "Transformer MSE: 0.03972045504444946\n",
      "Testing params: {'num_heads': 8, 'lookback': 10, 'dropout_rate': 0.25, 'batch_size': 32, 'ff_dim': 64}\n",
      "\u001b[1m8/8\u001b[0m \u001b[32m━━━━━━━━━━━━━━━━━━━━\u001b[0m\u001b[37m\u001b[0m \u001b[1m1s\u001b[0m 75ms/step \n",
      "Transformer MSE: 0.0643825123924775\n",
      "Testing params: {'num_heads': 8, 'lookback': 10, 'dropout_rate': 0.25, 'batch_size': 32, 'ff_dim': 128}\n",
      "\u001b[1m8/8\u001b[0m \u001b[32m━━━━━━━━━━━━━━━━━━━━\u001b[0m\u001b[37m\u001b[0m \u001b[1m1s\u001b[0m 103ms/step\n",
      "Transformer MSE: 0.03425331133879806\n",
      "Testing params: {'num_heads': 8, 'lookback': 10, 'dropout_rate': 0.25, 'batch_size': 64, 'ff_dim': 64}\n"
     ]
    },
    {
     "name": "stderr",
     "output_type": "stream",
     "text": [
      "2025-02-24 21:34:31.041648: I external/local_xla/xla/stream_executor/cuda/cuda_asm_compiler.cc:397] ptxas warning : Registers are spilled to local memory in function 'input_multiply_reduce_select_fusion', 8 bytes spill stores, 4 bytes spill loads\n",
      "ptxas warning : Registers are spilled to local memory in function 'input_add_multiply_reduce_select_fusion', 8 bytes spill stores, 4 bytes spill loads\n",
      "\n"
     ]
    },
    {
     "name": "stdout",
     "output_type": "stream",
     "text": [
      "\u001b[1m8/8\u001b[0m \u001b[32m━━━━━━━━━━━━━━━━━━━━\u001b[0m\u001b[37m\u001b[0m \u001b[1m1s\u001b[0m 47ms/step \n",
      "Transformer MSE: 0.05442341803858492\n",
      "Testing params: {'num_heads': 8, 'lookback': 10, 'dropout_rate': 0.25, 'batch_size': 64, 'ff_dim': 128}\n"
     ]
    },
    {
     "name": "stderr",
     "output_type": "stream",
     "text": [
      "2025-02-24 21:34:40.848524: I external/local_xla/xla/stream_executor/cuda/cuda_asm_compiler.cc:397] ptxas warning : Registers are spilled to local memory in function 'input_multiply_reduce_select_fusion', 8 bytes spill stores, 4 bytes spill loads\n",
      "ptxas warning : Registers are spilled to local memory in function 'input_add_multiply_reduce_select_fusion', 8 bytes spill stores, 4 bytes spill loads\n",
      "\n"
     ]
    },
    {
     "name": "stdout",
     "output_type": "stream",
     "text": [
      "\u001b[1m8/8\u001b[0m \u001b[32m━━━━━━━━━━━━━━━━━━━━\u001b[0m\u001b[37m\u001b[0m \u001b[1m1s\u001b[0m 55ms/step \n",
      "Transformer MSE: 0.03597711070958859\n",
      "Testing params: {'num_heads': 8, 'lookback': 5, 'dropout_rate': 0.25, 'batch_size': 32, 'ff_dim': 64}\n",
      "\u001b[1m8/8\u001b[0m \u001b[32m━━━━━━━━━━━━━━━━━━━━\u001b[0m\u001b[37m\u001b[0m \u001b[1m1s\u001b[0m 72ms/step \n",
      "Transformer MSE: 0.04037495914362578\n",
      "Testing params: {'num_heads': 8, 'lookback': 5, 'dropout_rate': 0.25, 'batch_size': 32, 'ff_dim': 128}\n",
      "\u001b[1m8/8\u001b[0m \u001b[32m━━━━━━━━━━━━━━━━━━━━\u001b[0m\u001b[37m\u001b[0m \u001b[1m1s\u001b[0m 113ms/step\n",
      "Transformer MSE: 0.034615445483939376\n",
      "Testing params: {'num_heads': 8, 'lookback': 5, 'dropout_rate': 0.25, 'batch_size': 64, 'ff_dim': 64}\n",
      "\u001b[1m8/8\u001b[0m \u001b[32m━━━━━━━━━━━━━━━━━━━━\u001b[0m\u001b[37m\u001b[0m \u001b[1m1s\u001b[0m 45ms/step \n",
      "Transformer MSE: 0.08603895403182464\n",
      "Testing params: {'num_heads': 8, 'lookback': 5, 'dropout_rate': 0.25, 'batch_size': 64, 'ff_dim': 128}\n",
      "\u001b[1m8/8\u001b[0m \u001b[32m━━━━━━━━━━━━━━━━━━━━\u001b[0m\u001b[37m\u001b[0m \u001b[1m1s\u001b[0m 55ms/step \n",
      "Transformer MSE: 0.05301391055554617\n",
      "Testing params: {'num_heads': 8, 'lookback': 15, 'dropout_rate': 0.25, 'batch_size': 32, 'ff_dim': 64}\n",
      "\u001b[1m8/8\u001b[0m \u001b[32m━━━━━━━━━━━━━━━━━━━━\u001b[0m\u001b[37m\u001b[0m \u001b[1m1s\u001b[0m 69ms/step \n",
      "Transformer MSE: 0.0504521321583913\n",
      "Testing params: {'num_heads': 8, 'lookback': 15, 'dropout_rate': 0.25, 'batch_size': 32, 'ff_dim': 128}\n",
      "\u001b[1m8/8\u001b[0m \u001b[32m━━━━━━━━━━━━━━━━━━━━\u001b[0m\u001b[37m\u001b[0m \u001b[1m1s\u001b[0m 90ms/step \n",
      "Transformer MSE: 0.046419198069457525\n",
      "Testing params: {'num_heads': 8, 'lookback': 15, 'dropout_rate': 0.25, 'batch_size': 64, 'ff_dim': 64}\n"
     ]
    },
    {
     "name": "stderr",
     "output_type": "stream",
     "text": [
      "2025-02-24 21:35:51.464965: I external/local_xla/xla/stream_executor/cuda/cuda_asm_compiler.cc:397] ptxas warning : Registers are spilled to local memory in function 'input_multiply_reduce_select_fusion', 8 bytes spill stores, 4 bytes spill loads\n",
      "ptxas warning : Registers are spilled to local memory in function 'input_add_multiply_reduce_select_fusion', 8 bytes spill stores, 4 bytes spill loads\n",
      "\n"
     ]
    },
    {
     "name": "stdout",
     "output_type": "stream",
     "text": [
      "\u001b[1m8/8\u001b[0m \u001b[32m━━━━━━━━━━━━━━━━━━━━\u001b[0m\u001b[37m\u001b[0m \u001b[1m1s\u001b[0m 47ms/step \n",
      "Transformer MSE: 0.0422278834765458\n",
      "Testing params: {'num_heads': 8, 'lookback': 15, 'dropout_rate': 0.25, 'batch_size': 64, 'ff_dim': 128}\n"
     ]
    },
    {
     "name": "stderr",
     "output_type": "stream",
     "text": [
      "2025-02-24 21:36:01.569162: I external/local_xla/xla/stream_executor/cuda/cuda_asm_compiler.cc:397] ptxas warning : Registers are spilled to local memory in function 'input_multiply_reduce_select_fusion', 8 bytes spill stores, 4 bytes spill loads\n",
      "ptxas warning : Registers are spilled to local memory in function 'input_add_multiply_reduce_select_fusion', 8 bytes spill stores, 4 bytes spill loads\n",
      "\n"
     ]
    },
    {
     "name": "stdout",
     "output_type": "stream",
     "text": [
      "\u001b[1m8/8\u001b[0m \u001b[32m━━━━━━━━━━━━━━━━━━━━\u001b[0m\u001b[37m\u001b[0m \u001b[1m1s\u001b[0m 50ms/step \n",
      "Transformer MSE: 0.05567026621646008\n",
      "Best parameters: {'num_heads': 2, 'lookback': 5, 'dropout_rate': 0.25, 'batch_size': 32, 'ff_dim': 128}, Best MSE: 0.030560543564198538\n",
      "Best MSE: 0.030561\n",
      "num_heads: 2, lookback: 5, ff_dim: 128, batch_size: 32\n",
      "Time taken: 374.983778 seconds\n",
      "[pypickle] Pickle file saved: [/home/alfred/projects/mscfe-masters-project/src/models/best/transformer/best_lstm_META_DAXEX_ETF.pkl]\n",
      "\n",
      "(2) Pairs: AMZN BNBUSDT\n",
      "Testing params: {'num_heads': 2, 'lookback': 10, 'dropout_rate': 0.25, 'batch_size': 32, 'ff_dim': 64}\n",
      "\u001b[1m32/32\u001b[0m \u001b[32m━━━━━━━━━━━━━━━━━━━━\u001b[0m\u001b[37m\u001b[0m \u001b[1m1s\u001b[0m 25ms/step  \n",
      "Transformer MSE: 0.01700202478303365\n",
      "Testing params: {'num_heads': 2, 'lookback': 10, 'dropout_rate': 0.25, 'batch_size': 32, 'ff_dim': 128}\n",
      "\u001b[1m32/32\u001b[0m \u001b[32m━━━━━━━━━━━━━━━━━━━━\u001b[0m\u001b[37m\u001b[0m \u001b[1m1s\u001b[0m 30ms/step  \n",
      "Transformer MSE: 0.06010514112312349\n",
      "Testing params: {'num_heads': 2, 'lookback': 10, 'dropout_rate': 0.25, 'batch_size': 64, 'ff_dim': 64}\n",
      "\u001b[1m32/32\u001b[0m \u001b[32m━━━━━━━━━━━━━━━━━━━━\u001b[0m\u001b[37m\u001b[0m \u001b[1m1s\u001b[0m 11ms/step \n",
      "Transformer MSE: 0.06309564170013245\n",
      "Testing params: {'num_heads': 2, 'lookback': 10, 'dropout_rate': 0.25, 'batch_size': 64, 'ff_dim': 128}\n",
      "\u001b[1m32/32\u001b[0m \u001b[32m━━━━━━━━━━━━━━━━━━━━\u001b[0m\u001b[37m\u001b[0m \u001b[1m1s\u001b[0m 13ms/step  \n",
      "Transformer MSE: 0.013727612990450947\n",
      "Testing params: {'num_heads': 2, 'lookback': 5, 'dropout_rate': 0.25, 'batch_size': 32, 'ff_dim': 64}\n",
      "\u001b[1m32/32\u001b[0m \u001b[32m━━━━━━━━━━━━━━━━━━━━\u001b[0m\u001b[37m\u001b[0m \u001b[1m1s\u001b[0m 25ms/step  \n",
      "Transformer MSE: 0.012674823651045487\n",
      "Testing params: {'num_heads': 2, 'lookback': 5, 'dropout_rate': 0.25, 'batch_size': 32, 'ff_dim': 128}\n",
      "\u001b[1m32/32\u001b[0m \u001b[32m━━━━━━━━━━━━━━━━━━━━\u001b[0m\u001b[37m\u001b[0m \u001b[1m1s\u001b[0m 31ms/step  \n",
      "Transformer MSE: 0.02298543110560224\n",
      "Testing params: {'num_heads': 2, 'lookback': 5, 'dropout_rate': 0.25, 'batch_size': 64, 'ff_dim': 64}\n",
      "\u001b[1m32/32\u001b[0m \u001b[32m━━━━━━━━━━━━━━━━━━━━\u001b[0m\u001b[37m\u001b[0m \u001b[1m1s\u001b[0m 12ms/step \n",
      "Transformer MSE: 0.03890999756575319\n",
      "Testing params: {'num_heads': 2, 'lookback': 5, 'dropout_rate': 0.25, 'batch_size': 64, 'ff_dim': 128}\n",
      "\u001b[1m32/32\u001b[0m \u001b[32m━━━━━━━━━━━━━━━━━━━━\u001b[0m\u001b[37m\u001b[0m \u001b[1m1s\u001b[0m 13ms/step  \n",
      "Transformer MSE: 0.02800096130050743\n",
      "Testing params: {'num_heads': 2, 'lookback': 15, 'dropout_rate': 0.25, 'batch_size': 32, 'ff_dim': 64}\n"
     ]
    },
    {
     "name": "stderr",
     "output_type": "stream",
     "text": [
      "2025-02-24 21:38:20.314227: I external/local_xla/xla/stream_executor/cuda/cuda_asm_compiler.cc:397] ptxas warning : Registers are spilled to local memory in function 'gemm_fusion_dot_8', 4 bytes spill stores, 4 bytes spill loads\n",
      "\n",
      "2025-02-24 21:38:25.510191: I external/local_xla/xla/stream_executor/cuda/cuda_asm_compiler.cc:397] ptxas warning : Registers are spilled to local memory in function 'input_reduce_select_fusion', 72 bytes spill stores, 104 bytes spill loads\n",
      "\n"
     ]
    },
    {
     "name": "stdout",
     "output_type": "stream",
     "text": [
      "\u001b[1m32/32\u001b[0m \u001b[32m━━━━━━━━━━━━━━━━━━━━\u001b[0m\u001b[37m\u001b[0m \u001b[1m1s\u001b[0m 27ms/step  \n",
      "Transformer MSE: 0.041946351984301855\n",
      "Testing params: {'num_heads': 2, 'lookback': 15, 'dropout_rate': 0.25, 'batch_size': 32, 'ff_dim': 128}\n"
     ]
    },
    {
     "name": "stderr",
     "output_type": "stream",
     "text": [
      "2025-02-24 21:38:49.167022: I external/local_xla/xla/stream_executor/cuda/cuda_asm_compiler.cc:397] ptxas warning : Registers are spilled to local memory in function 'input_reduce_select_fusion', 72 bytes spill stores, 104 bytes spill loads\n",
      "\n"
     ]
    },
    {
     "name": "stdout",
     "output_type": "stream",
     "text": [
      "\u001b[1m32/32\u001b[0m \u001b[32m━━━━━━━━━━━━━━━━━━━━\u001b[0m\u001b[37m\u001b[0m \u001b[1m1s\u001b[0m 30ms/step  \n",
      "Transformer MSE: 0.03303439484721576\n",
      "Testing params: {'num_heads': 2, 'lookback': 15, 'dropout_rate': 0.25, 'batch_size': 64, 'ff_dim': 64}\n",
      "\u001b[1m32/32\u001b[0m \u001b[32m━━━━━━━━━━━━━━━━━━━━\u001b[0m\u001b[37m\u001b[0m \u001b[1m1s\u001b[0m 12ms/step  \n",
      "Transformer MSE: 0.019566441852163306\n",
      "Testing params: {'num_heads': 2, 'lookback': 15, 'dropout_rate': 0.25, 'batch_size': 64, 'ff_dim': 128}\n"
     ]
    },
    {
     "name": "stderr",
     "output_type": "stream",
     "text": [
      "2025-02-24 21:39:26.638795: I external/local_xla/xla/stream_executor/cuda/cuda_asm_compiler.cc:397] ptxas warning : Registers are spilled to local memory in function 'input_reduce_select_fusion', 72 bytes spill stores, 104 bytes spill loads\n",
      "\n"
     ]
    },
    {
     "name": "stdout",
     "output_type": "stream",
     "text": [
      "\u001b[1m32/32\u001b[0m \u001b[32m━━━━━━━━━━━━━━━━━━━━\u001b[0m\u001b[37m\u001b[0m \u001b[1m1s\u001b[0m 13ms/step  \n",
      "Transformer MSE: 0.04544074619580427\n",
      "Testing params: {'num_heads': 4, 'lookback': 10, 'dropout_rate': 0.25, 'batch_size': 32, 'ff_dim': 64}\n",
      "\u001b[1m32/32\u001b[0m \u001b[32m━━━━━━━━━━━━━━━━━━━━\u001b[0m\u001b[37m\u001b[0m \u001b[1m1s\u001b[0m 18ms/step  \n",
      "Transformer MSE: 0.01656718048797528\n",
      "Testing params: {'num_heads': 4, 'lookback': 10, 'dropout_rate': 0.25, 'batch_size': 32, 'ff_dim': 128}\n",
      "\u001b[1m32/32\u001b[0m \u001b[32m━━━━━━━━━━━━━━━━━━━━\u001b[0m\u001b[37m\u001b[0m \u001b[1m1s\u001b[0m 24ms/step  \n",
      "Transformer MSE: 0.026873303793178583\n",
      "Testing params: {'num_heads': 4, 'lookback': 10, 'dropout_rate': 0.25, 'batch_size': 64, 'ff_dim': 64}\n",
      "\u001b[1m32/32\u001b[0m \u001b[32m━━━━━━━━━━━━━━━━━━━━\u001b[0m\u001b[37m\u001b[0m \u001b[1m1s\u001b[0m 12ms/step  \n",
      "Transformer MSE: 0.017411273156285358\n",
      "Testing params: {'num_heads': 4, 'lookback': 10, 'dropout_rate': 0.25, 'batch_size': 64, 'ff_dim': 128}\n",
      "\u001b[1m32/32\u001b[0m \u001b[32m━━━━━━━━━━━━━━━━━━━━\u001b[0m\u001b[37m\u001b[0m \u001b[1m1s\u001b[0m 12ms/step  \n",
      "Transformer MSE: 0.07986727383922981\n",
      "Testing params: {'num_heads': 4, 'lookback': 5, 'dropout_rate': 0.25, 'batch_size': 32, 'ff_dim': 64}\n",
      "\u001b[1m32/32\u001b[0m \u001b[32m━━━━━━━━━━━━━━━━━━━━\u001b[0m\u001b[37m\u001b[0m \u001b[1m1s\u001b[0m 17ms/step  \n",
      "Transformer MSE: 0.018033894709770557\n",
      "Testing params: {'num_heads': 4, 'lookback': 5, 'dropout_rate': 0.25, 'batch_size': 32, 'ff_dim': 128}\n",
      "\u001b[1m32/32\u001b[0m \u001b[32m━━━━━━━━━━━━━━━━━━━━\u001b[0m\u001b[37m\u001b[0m \u001b[1m1s\u001b[0m 23ms/step  \n",
      "Transformer MSE: 0.029027282265583237\n",
      "Testing params: {'num_heads': 4, 'lookback': 5, 'dropout_rate': 0.25, 'batch_size': 64, 'ff_dim': 64}\n",
      "\u001b[1m32/32\u001b[0m \u001b[32m━━━━━━━━━━━━━━━━━━━━\u001b[0m\u001b[37m\u001b[0m \u001b[1m1s\u001b[0m 11ms/step  \n",
      "Transformer MSE: 0.022008661135805477\n",
      "Testing params: {'num_heads': 4, 'lookback': 5, 'dropout_rate': 0.25, 'batch_size': 64, 'ff_dim': 128}\n",
      "\u001b[1m32/32\u001b[0m \u001b[32m━━━━━━━━━━━━━━━━━━━━\u001b[0m\u001b[37m\u001b[0m \u001b[1m1s\u001b[0m 12ms/step  \n",
      "Transformer MSE: 0.028198426769457715\n",
      "Testing params: {'num_heads': 4, 'lookback': 15, 'dropout_rate': 0.25, 'batch_size': 32, 'ff_dim': 64}\n"
     ]
    },
    {
     "name": "stderr",
     "output_type": "stream",
     "text": [
      "2025-02-24 21:41:59.111569: I external/local_xla/xla/stream_executor/cuda/cuda_asm_compiler.cc:397] ptxas warning : Registers are spilled to local memory in function 'input_reduce_select_fusion', 72 bytes spill stores, 104 bytes spill loads\n",
      "\n"
     ]
    },
    {
     "name": "stdout",
     "output_type": "stream",
     "text": [
      "\u001b[1m32/32\u001b[0m \u001b[32m━━━━━━━━━━━━━━━━━━━━\u001b[0m\u001b[37m\u001b[0m \u001b[1m1s\u001b[0m 17ms/step  \n",
      "Transformer MSE: 0.033772782981633866\n",
      "Testing params: {'num_heads': 4, 'lookback': 15, 'dropout_rate': 0.25, 'batch_size': 32, 'ff_dim': 128}\n"
     ]
    },
    {
     "name": "stderr",
     "output_type": "stream",
     "text": [
      "2025-02-24 21:42:23.980769: I external/local_xla/xla/stream_executor/cuda/cuda_asm_compiler.cc:397] ptxas warning : Registers are spilled to local memory in function 'input_reduce_select_fusion', 72 bytes spill stores, 104 bytes spill loads\n",
      "\n"
     ]
    },
    {
     "name": "stdout",
     "output_type": "stream",
     "text": [
      "\u001b[1m32/32\u001b[0m \u001b[32m━━━━━━━━━━━━━━━━━━━━\u001b[0m\u001b[37m\u001b[0m \u001b[1m1s\u001b[0m 26ms/step  \n",
      "Transformer MSE: 0.04870972467292373\n",
      "Testing params: {'num_heads': 4, 'lookback': 15, 'dropout_rate': 0.25, 'batch_size': 64, 'ff_dim': 64}\n",
      "\u001b[1m32/32\u001b[0m \u001b[32m━━━━━━━━━━━━━━━━━━━━\u001b[0m\u001b[37m\u001b[0m \u001b[1m1s\u001b[0m 11ms/step  \n",
      "Transformer MSE: 0.014964176949154275\n",
      "Testing params: {'num_heads': 4, 'lookback': 15, 'dropout_rate': 0.25, 'batch_size': 64, 'ff_dim': 128}\n"
     ]
    },
    {
     "name": "stderr",
     "output_type": "stream",
     "text": [
      "2025-02-24 21:42:58.098579: I external/local_xla/xla/stream_executor/cuda/cuda_asm_compiler.cc:397] ptxas warning : Registers are spilled to local memory in function 'input_reduce_select_fusion', 72 bytes spill stores, 104 bytes spill loads\n",
      "\n"
     ]
    },
    {
     "name": "stdout",
     "output_type": "stream",
     "text": [
      "\u001b[1m32/32\u001b[0m \u001b[32m━━━━━━━━━━━━━━━━━━━━\u001b[0m\u001b[37m\u001b[0m \u001b[1m1s\u001b[0m 13ms/step  \n",
      "Transformer MSE: 0.05482115035088528\n",
      "Testing params: {'num_heads': 8, 'lookback': 10, 'dropout_rate': 0.25, 'batch_size': 32, 'ff_dim': 64}\n",
      "\u001b[1m32/32\u001b[0m \u001b[32m━━━━━━━━━━━━━━━━━━━━\u001b[0m\u001b[37m\u001b[0m \u001b[1m1s\u001b[0m 16ms/step  \n",
      "Transformer MSE: 0.04422052345829714\n",
      "Testing params: {'num_heads': 8, 'lookback': 10, 'dropout_rate': 0.25, 'batch_size': 32, 'ff_dim': 128}\n",
      "\u001b[1m32/32\u001b[0m \u001b[32m━━━━━━━━━━━━━━━━━━━━\u001b[0m\u001b[37m\u001b[0m \u001b[1m1s\u001b[0m 23ms/step  \n",
      "Transformer MSE: 0.16462353433952948\n",
      "Testing params: {'num_heads': 8, 'lookback': 10, 'dropout_rate': 0.25, 'batch_size': 64, 'ff_dim': 64}\n",
      "\u001b[1m32/32\u001b[0m \u001b[32m━━━━━━━━━━━━━━━━━━━━\u001b[0m\u001b[37m\u001b[0m \u001b[1m1s\u001b[0m 11ms/step  \n",
      "Transformer MSE: 0.033480890329864114\n",
      "Testing params: {'num_heads': 8, 'lookback': 10, 'dropout_rate': 0.25, 'batch_size': 64, 'ff_dim': 128}\n",
      "\u001b[1m32/32\u001b[0m \u001b[32m━━━━━━━━━━━━━━━━━━━━\u001b[0m\u001b[37m\u001b[0m \u001b[1m1s\u001b[0m 13ms/step  \n",
      "Transformer MSE: 0.0356082888708955\n",
      "Testing params: {'num_heads': 8, 'lookback': 5, 'dropout_rate': 0.25, 'batch_size': 32, 'ff_dim': 64}\n",
      "\u001b[1m32/32\u001b[0m \u001b[32m━━━━━━━━━━━━━━━━━━━━\u001b[0m\u001b[37m\u001b[0m \u001b[1m1s\u001b[0m 18ms/step  \n",
      "Transformer MSE: 0.03432747941983593\n",
      "Testing params: {'num_heads': 8, 'lookback': 5, 'dropout_rate': 0.25, 'batch_size': 32, 'ff_dim': 128}\n",
      "\u001b[1m32/32\u001b[0m \u001b[32m━━━━━━━━━━━━━━━━━━━━\u001b[0m\u001b[37m\u001b[0m \u001b[1m1s\u001b[0m 25ms/step  \n",
      "Transformer MSE: 0.007818784759000209\n",
      "Testing params: {'num_heads': 8, 'lookback': 5, 'dropout_rate': 0.25, 'batch_size': 64, 'ff_dim': 64}\n",
      "\u001b[1m32/32\u001b[0m \u001b[32m━━━━━━━━━━━━━━━━━━━━\u001b[0m\u001b[37m\u001b[0m \u001b[1m1s\u001b[0m 12ms/step \n",
      "Transformer MSE: 0.02611372128086306\n",
      "Testing params: {'num_heads': 8, 'lookback': 5, 'dropout_rate': 0.25, 'batch_size': 64, 'ff_dim': 128}\n",
      "\u001b[1m32/32\u001b[0m \u001b[32m━━━━━━━━━━━━━━━━━━━━\u001b[0m\u001b[37m\u001b[0m \u001b[1m1s\u001b[0m 13ms/step  \n",
      "Transformer MSE: 0.027924612283364417\n",
      "Testing params: {'num_heads': 8, 'lookback': 15, 'dropout_rate': 0.25, 'batch_size': 32, 'ff_dim': 64}\n"
     ]
    },
    {
     "name": "stderr",
     "output_type": "stream",
     "text": [
      "2025-02-24 21:45:34.158719: I external/local_xla/xla/stream_executor/cuda/cuda_asm_compiler.cc:397] ptxas warning : Registers are spilled to local memory in function 'input_reduce_select_fusion', 72 bytes spill stores, 104 bytes spill loads\n",
      "\n"
     ]
    },
    {
     "name": "stdout",
     "output_type": "stream",
     "text": [
      "\u001b[1m32/32\u001b[0m \u001b[32m━━━━━━━━━━━━━━━━━━━━\u001b[0m\u001b[37m\u001b[0m \u001b[1m1s\u001b[0m 17ms/step  \n",
      "Transformer MSE: 0.041077619300320445\n",
      "Testing params: {'num_heads': 8, 'lookback': 15, 'dropout_rate': 0.25, 'batch_size': 32, 'ff_dim': 128}\n"
     ]
    },
    {
     "name": "stderr",
     "output_type": "stream",
     "text": [
      "2025-02-24 21:45:53.733007: I external/local_xla/xla/stream_executor/cuda/cuda_asm_compiler.cc:397] ptxas warning : Registers are spilled to local memory in function 'input_reduce_select_fusion', 72 bytes spill stores, 104 bytes spill loads\n",
      "\n"
     ]
    },
    {
     "name": "stdout",
     "output_type": "stream",
     "text": [
      "\u001b[1m32/32\u001b[0m \u001b[32m━━━━━━━━━━━━━━━━━━━━\u001b[0m\u001b[37m\u001b[0m \u001b[1m1s\u001b[0m 25ms/step  \n",
      "Transformer MSE: 0.06392328939371082\n",
      "Testing params: {'num_heads': 8, 'lookback': 15, 'dropout_rate': 0.25, 'batch_size': 64, 'ff_dim': 64}\n"
     ]
    },
    {
     "name": "stderr",
     "output_type": "stream",
     "text": [
      "2025-02-24 21:46:14.395871: I external/local_xla/xla/stream_executor/cuda/cuda_asm_compiler.cc:397] ptxas warning : Registers are spilled to local memory in function 'input_reduce_select_fusion', 72 bytes spill stores, 104 bytes spill loads\n",
      "\n"
     ]
    },
    {
     "name": "stdout",
     "output_type": "stream",
     "text": [
      "\u001b[1m32/32\u001b[0m \u001b[32m━━━━━━━━━━━━━━━━━━━━\u001b[0m\u001b[37m\u001b[0m \u001b[1m1s\u001b[0m 12ms/step  \n",
      "Transformer MSE: 0.03758476624546583\n",
      "Testing params: {'num_heads': 8, 'lookback': 15, 'dropout_rate': 0.25, 'batch_size': 64, 'ff_dim': 128}\n"
     ]
    },
    {
     "name": "stderr",
     "output_type": "stream",
     "text": [
      "2025-02-24 21:46:28.565635: I external/local_xla/xla/stream_executor/cuda/cuda_asm_compiler.cc:397] ptxas warning : Registers are spilled to local memory in function 'input_reduce_select_fusion', 72 bytes spill stores, 104 bytes spill loads\n",
      "\n"
     ]
    },
    {
     "name": "stdout",
     "output_type": "stream",
     "text": [
      "\u001b[1m32/32\u001b[0m \u001b[32m━━━━━━━━━━━━━━━━━━━━\u001b[0m\u001b[37m\u001b[0m \u001b[1m1s\u001b[0m 13ms/step  \n",
      "Transformer MSE: 0.0619538540226382\n",
      "Best parameters: {'num_heads': 8, 'lookback': 5, 'dropout_rate': 0.25, 'batch_size': 32, 'ff_dim': 128}, Best MSE: 0.007818784759000209\n",
      "Best MSE: 0.007819\n",
      "num_heads: 8, lookback: 5, ff_dim: 128, batch_size: 32\n",
      "Time taken: 630.084574 seconds\n",
      "[pypickle] Pickle file saved: [/home/alfred/projects/mscfe-masters-project/src/models/best/transformer/best_lstm_AMZN_BNBUSDT.pkl]\n",
      "\n",
      "(3) Pairs: AMZN TRXUSDT\n",
      "Testing params: {'num_heads': 2, 'lookback': 10, 'dropout_rate': 0.25, 'batch_size': 32, 'ff_dim': 64}\n",
      "\u001b[1m32/32\u001b[0m \u001b[32m━━━━━━━━━━━━━━━━━━━━\u001b[0m\u001b[37m\u001b[0m \u001b[1m1s\u001b[0m 22ms/step  \n",
      "Transformer MSE: 0.032279392131654226\n",
      "Testing params: {'num_heads': 2, 'lookback': 10, 'dropout_rate': 0.25, 'batch_size': 32, 'ff_dim': 128}\n",
      "\u001b[1m32/32\u001b[0m \u001b[32m━━━━━━━━━━━━━━━━━━━━\u001b[0m\u001b[37m\u001b[0m \u001b[1m1s\u001b[0m 26ms/step  \n",
      "Transformer MSE: 0.004972723286793713\n",
      "Testing params: {'num_heads': 2, 'lookback': 10, 'dropout_rate': 0.25, 'batch_size': 64, 'ff_dim': 64}\n",
      "\u001b[1m32/32\u001b[0m \u001b[32m━━━━━━━━━━━━━━━━━━━━\u001b[0m\u001b[37m\u001b[0m \u001b[1m1s\u001b[0m 12ms/step \n",
      "Transformer MSE: 0.025161291088129426\n",
      "Testing params: {'num_heads': 2, 'lookback': 10, 'dropout_rate': 0.25, 'batch_size': 64, 'ff_dim': 128}\n",
      "\u001b[1m32/32\u001b[0m \u001b[32m━━━━━━━━━━━━━━━━━━━━\u001b[0m\u001b[37m\u001b[0m \u001b[1m1s\u001b[0m 11ms/step  \n",
      "Transformer MSE: 0.009387358146302137\n",
      "Testing params: {'num_heads': 2, 'lookback': 5, 'dropout_rate': 0.25, 'batch_size': 32, 'ff_dim': 64}\n",
      "\u001b[1m32/32\u001b[0m \u001b[32m━━━━━━━━━━━━━━━━━━━━\u001b[0m\u001b[37m\u001b[0m \u001b[1m1s\u001b[0m 28ms/step  \n",
      "Transformer MSE: 0.006001566586775647\n",
      "Testing params: {'num_heads': 2, 'lookback': 5, 'dropout_rate': 0.25, 'batch_size': 32, 'ff_dim': 128}\n",
      "\u001b[1m32/32\u001b[0m \u001b[32m━━━━━━━━━━━━━━━━━━━━\u001b[0m\u001b[37m\u001b[0m \u001b[1m1s\u001b[0m 29ms/step  \n",
      "Transformer MSE: 0.014446275408479906\n",
      "Testing params: {'num_heads': 2, 'lookback': 5, 'dropout_rate': 0.25, 'batch_size': 64, 'ff_dim': 64}\n",
      "\u001b[1m32/32\u001b[0m \u001b[32m━━━━━━━━━━━━━━━━━━━━\u001b[0m\u001b[37m\u001b[0m \u001b[1m1s\u001b[0m 14ms/step \n",
      "Transformer MSE: 0.003719344473563613\n",
      "Testing params: {'num_heads': 2, 'lookback': 5, 'dropout_rate': 0.25, 'batch_size': 64, 'ff_dim': 128}\n",
      "\u001b[1m32/32\u001b[0m \u001b[32m━━━━━━━━━━━━━━━━━━━━\u001b[0m\u001b[37m\u001b[0m \u001b[1m1s\u001b[0m 14ms/step  \n",
      "Transformer MSE: 0.018243097776415165\n",
      "Testing params: {'num_heads': 2, 'lookback': 15, 'dropout_rate': 0.25, 'batch_size': 32, 'ff_dim': 64}\n",
      "\u001b[1m32/32\u001b[0m \u001b[32m━━━━━━━━━━━━━━━━━━━━\u001b[0m\u001b[37m\u001b[0m \u001b[1m1s\u001b[0m 22ms/step  \n",
      "Transformer MSE: 0.006105883835880275\n",
      "Testing params: {'num_heads': 2, 'lookback': 15, 'dropout_rate': 0.25, 'batch_size': 32, 'ff_dim': 128}\n",
      "\u001b[1m32/32\u001b[0m \u001b[32m━━━━━━━━━━━━━━━━━━━━\u001b[0m\u001b[37m\u001b[0m \u001b[1m1s\u001b[0m 26ms/step  \n",
      "Transformer MSE: 0.01519964525668887\n",
      "Testing params: {'num_heads': 2, 'lookback': 15, 'dropout_rate': 0.25, 'batch_size': 64, 'ff_dim': 64}\n",
      "\u001b[1m32/32\u001b[0m \u001b[32m━━━━━━━━━━━━━━━━━━━━\u001b[0m\u001b[37m\u001b[0m \u001b[1m1s\u001b[0m 11ms/step \n",
      "Transformer MSE: 0.0031546875796505504\n",
      "Testing params: {'num_heads': 2, 'lookback': 15, 'dropout_rate': 0.25, 'batch_size': 64, 'ff_dim': 128}\n",
      "\u001b[1m32/32\u001b[0m \u001b[32m━━━━━━━━━━━━━━━━━━━━\u001b[0m\u001b[37m\u001b[0m \u001b[1m1s\u001b[0m 12ms/step  \n",
      "Transformer MSE: 0.007337053637897486\n",
      "Testing params: {'num_heads': 4, 'lookback': 10, 'dropout_rate': 0.25, 'batch_size': 32, 'ff_dim': 64}\n",
      "\u001b[1m32/32\u001b[0m \u001b[32m━━━━━━━━━━━━━━━━━━━━\u001b[0m\u001b[37m\u001b[0m \u001b[1m1s\u001b[0m 14ms/step  \n",
      "Transformer MSE: 0.01814108237582673\n",
      "Testing params: {'num_heads': 4, 'lookback': 10, 'dropout_rate': 0.25, 'batch_size': 32, 'ff_dim': 128}\n",
      "\u001b[1m32/32\u001b[0m \u001b[32m━━━━━━━━━━━━━━━━━━━━\u001b[0m\u001b[37m\u001b[0m \u001b[1m1s\u001b[0m 22ms/step  \n",
      "Transformer MSE: 0.005790458207564107\n",
      "Testing params: {'num_heads': 4, 'lookback': 10, 'dropout_rate': 0.25, 'batch_size': 64, 'ff_dim': 64}\n",
      "\u001b[1m32/32\u001b[0m \u001b[32m━━━━━━━━━━━━━━━━━━━━\u001b[0m\u001b[37m\u001b[0m \u001b[1m1s\u001b[0m 11ms/step \n",
      "Transformer MSE: 0.007194096889178198\n",
      "Testing params: {'num_heads': 4, 'lookback': 10, 'dropout_rate': 0.25, 'batch_size': 64, 'ff_dim': 128}\n",
      "\u001b[1m32/32\u001b[0m \u001b[32m━━━━━━━━━━━━━━━━━━━━\u001b[0m\u001b[37m\u001b[0m \u001b[1m1s\u001b[0m 13ms/step  \n",
      "Transformer MSE: 0.007272697766128456\n",
      "Testing params: {'num_heads': 4, 'lookback': 5, 'dropout_rate': 0.25, 'batch_size': 32, 'ff_dim': 64}\n",
      "\u001b[1m32/32\u001b[0m \u001b[32m━━━━━━━━━━━━━━━━━━━━\u001b[0m\u001b[37m\u001b[0m \u001b[1m1s\u001b[0m 17ms/step  \n",
      "Transformer MSE: 0.004417960195424853\n",
      "Testing params: {'num_heads': 4, 'lookback': 5, 'dropout_rate': 0.25, 'batch_size': 32, 'ff_dim': 128}\n",
      "\u001b[1m32/32\u001b[0m \u001b[32m━━━━━━━━━━━━━━━━━━━━\u001b[0m\u001b[37m\u001b[0m \u001b[1m1s\u001b[0m 23ms/step  \n",
      "Transformer MSE: 0.0043171344899100164\n",
      "Testing params: {'num_heads': 4, 'lookback': 5, 'dropout_rate': 0.25, 'batch_size': 64, 'ff_dim': 64}\n",
      "\u001b[1m32/32\u001b[0m \u001b[32m━━━━━━━━━━━━━━━━━━━━\u001b[0m\u001b[37m\u001b[0m \u001b[1m1s\u001b[0m 12ms/step \n",
      "Transformer MSE: 0.006963059040406658\n",
      "Testing params: {'num_heads': 4, 'lookback': 5, 'dropout_rate': 0.25, 'batch_size': 64, 'ff_dim': 128}\n",
      "\u001b[1m32/32\u001b[0m \u001b[32m━━━━━━━━━━━━━━━━━━━━\u001b[0m\u001b[37m\u001b[0m \u001b[1m1s\u001b[0m 13ms/step  \n",
      "Transformer MSE: 0.002162688298196483\n",
      "Testing params: {'num_heads': 4, 'lookback': 15, 'dropout_rate': 0.25, 'batch_size': 32, 'ff_dim': 64}\n",
      "\u001b[1m32/32\u001b[0m \u001b[32m━━━━━━━━━━━━━━━━━━━━\u001b[0m\u001b[37m\u001b[0m \u001b[1m1s\u001b[0m 14ms/step  \n",
      "Transformer MSE: 0.0076594963924989995\n",
      "Testing params: {'num_heads': 4, 'lookback': 15, 'dropout_rate': 0.25, 'batch_size': 32, 'ff_dim': 128}\n",
      "\u001b[1m32/32\u001b[0m \u001b[32m━━━━━━━━━━━━━━━━━━━━\u001b[0m\u001b[37m\u001b[0m \u001b[1m1s\u001b[0m 23ms/step  \n",
      "Transformer MSE: 0.007189696031359458\n",
      "Testing params: {'num_heads': 4, 'lookback': 15, 'dropout_rate': 0.25, 'batch_size': 64, 'ff_dim': 64}\n",
      "\u001b[1m32/32\u001b[0m \u001b[32m━━━━━━━━━━━━━━━━━━━━\u001b[0m\u001b[37m\u001b[0m \u001b[1m1s\u001b[0m 13ms/step  \n",
      "Transformer MSE: 0.01579016043652311\n",
      "Testing params: {'num_heads': 4, 'lookback': 15, 'dropout_rate': 0.25, 'batch_size': 64, 'ff_dim': 128}\n",
      "\u001b[1m32/32\u001b[0m \u001b[32m━━━━━━━━━━━━━━━━━━━━\u001b[0m\u001b[37m\u001b[0m \u001b[1m1s\u001b[0m 13ms/step  \n",
      "Transformer MSE: 0.003149564588388728\n",
      "Testing params: {'num_heads': 8, 'lookback': 10, 'dropout_rate': 0.25, 'batch_size': 32, 'ff_dim': 64}\n",
      "\u001b[1m32/32\u001b[0m \u001b[32m━━━━━━━━━━━━━━━━━━━━\u001b[0m\u001b[37m\u001b[0m \u001b[1m1s\u001b[0m 14ms/step  \n",
      "Transformer MSE: 0.0028695180033282345\n",
      "Testing params: {'num_heads': 8, 'lookback': 10, 'dropout_rate': 0.25, 'batch_size': 32, 'ff_dim': 128}\n",
      "\u001b[1m32/32\u001b[0m \u001b[32m━━━━━━━━━━━━━━━━━━━━\u001b[0m\u001b[37m\u001b[0m \u001b[1m1s\u001b[0m 23ms/step  \n",
      "Transformer MSE: 0.0069872419337320656\n",
      "Testing params: {'num_heads': 8, 'lookback': 10, 'dropout_rate': 0.25, 'batch_size': 64, 'ff_dim': 64}\n",
      "\u001b[1m32/32\u001b[0m \u001b[32m━━━━━━━━━━━━━━━━━━━━\u001b[0m\u001b[37m\u001b[0m \u001b[1m1s\u001b[0m 11ms/step \n",
      "Transformer MSE: 0.025537911157221555\n",
      "Testing params: {'num_heads': 8, 'lookback': 10, 'dropout_rate': 0.25, 'batch_size': 64, 'ff_dim': 128}\n",
      "\u001b[1m32/32\u001b[0m \u001b[32m━━━━━━━━━━━━━━━━━━━━\u001b[0m\u001b[37m\u001b[0m \u001b[1m1s\u001b[0m 12ms/step  \n",
      "Transformer MSE: 0.016439173493908596\n",
      "Testing params: {'num_heads': 8, 'lookback': 5, 'dropout_rate': 0.25, 'batch_size': 32, 'ff_dim': 64}\n",
      "\u001b[1m32/32\u001b[0m \u001b[32m━━━━━━━━━━━━━━━━━━━━\u001b[0m\u001b[37m\u001b[0m \u001b[1m1s\u001b[0m 16ms/step  \n",
      "Transformer MSE: 0.010250904499727589\n",
      "Testing params: {'num_heads': 8, 'lookback': 5, 'dropout_rate': 0.25, 'batch_size': 32, 'ff_dim': 128}\n",
      "\u001b[1m32/32\u001b[0m \u001b[32m━━━━━━━━━━━━━━━━━━━━\u001b[0m\u001b[37m\u001b[0m \u001b[1m1s\u001b[0m 22ms/step  \n",
      "Transformer MSE: 0.005298762029027592\n",
      "Testing params: {'num_heads': 8, 'lookback': 5, 'dropout_rate': 0.25, 'batch_size': 64, 'ff_dim': 64}\n",
      "\u001b[1m32/32\u001b[0m \u001b[32m━━━━━━━━━━━━━━━━━━━━\u001b[0m\u001b[37m\u001b[0m \u001b[1m1s\u001b[0m 13ms/step \n",
      "Transformer MSE: 0.00835217685366098\n",
      "Testing params: {'num_heads': 8, 'lookback': 5, 'dropout_rate': 0.25, 'batch_size': 64, 'ff_dim': 128}\n",
      "\u001b[1m32/32\u001b[0m \u001b[32m━━━━━━━━━━━━━━━━━━━━\u001b[0m\u001b[37m\u001b[0m \u001b[1m1s\u001b[0m 14ms/step  \n",
      "Transformer MSE: 0.004591600735564651\n",
      "Testing params: {'num_heads': 8, 'lookback': 15, 'dropout_rate': 0.25, 'batch_size': 32, 'ff_dim': 64}\n",
      "\u001b[1m32/32\u001b[0m \u001b[32m━━━━━━━━━━━━━━━━━━━━\u001b[0m\u001b[37m\u001b[0m \u001b[1m1s\u001b[0m 14ms/step  \n",
      "Transformer MSE: 0.008477828704972228\n",
      "Testing params: {'num_heads': 8, 'lookback': 15, 'dropout_rate': 0.25, 'batch_size': 32, 'ff_dim': 128}\n",
      "\u001b[1m32/32\u001b[0m \u001b[32m━━━━━━━━━━━━━━━━━━━━\u001b[0m\u001b[37m\u001b[0m \u001b[1m1s\u001b[0m 23ms/step  \n",
      "Transformer MSE: 0.003991452044680291\n",
      "Testing params: {'num_heads': 8, 'lookback': 15, 'dropout_rate': 0.25, 'batch_size': 64, 'ff_dim': 64}\n",
      "\u001b[1m32/32\u001b[0m \u001b[32m━━━━━━━━━━━━━━━━━━━━\u001b[0m\u001b[37m\u001b[0m \u001b[1m1s\u001b[0m 11ms/step  \n",
      "Transformer MSE: 0.005833222005447945\n",
      "Testing params: {'num_heads': 8, 'lookback': 15, 'dropout_rate': 0.25, 'batch_size': 64, 'ff_dim': 128}\n",
      "\u001b[1m32/32\u001b[0m \u001b[32m━━━━━━━━━━━━━━━━━━━━\u001b[0m\u001b[37m\u001b[0m \u001b[1m1s\u001b[0m 12ms/step  \n",
      "Transformer MSE: 0.004957427488603641\n",
      "Best parameters: {'num_heads': 4, 'lookback': 5, 'dropout_rate': 0.25, 'batch_size': 64, 'ff_dim': 128}, Best MSE: 0.002162688298196483\n",
      "Best MSE: 0.002163\n",
      "num_heads: 4, lookback: 5, ff_dim: 128, batch_size: 64\n",
      "Time taken: 637.480529 seconds\n",
      "[pypickle] Pickle file saved: [/home/alfred/projects/mscfe-masters-project/src/models/best/transformer/best_lstm_AMZN_TRXUSDT.pkl]\n",
      "\n",
      "(4) Pairs: SPY_ETF AVAXUSDT\n",
      "Testing params: {'num_heads': 2, 'lookback': 10, 'dropout_rate': 0.25, 'batch_size': 32, 'ff_dim': 64}\n"
     ]
    },
    {
     "name": "stderr",
     "output_type": "stream",
     "text": [
      "2025-02-24 21:57:16.741334: I external/local_xla/xla/stream_executor/cuda/cuda_asm_compiler.cc:397] ptxas warning : Registers are spilled to local memory in function 'gemm_fusion_dot_28', 8 bytes spill stores, 8 bytes spill loads\n",
      "\n",
      "2025-02-24 21:57:16.801821: I external/local_xla/xla/stream_executor/cuda/cuda_asm_compiler.cc:397] ptxas warning : Registers are spilled to local memory in function 'gemm_fusion_dot_28', 4 bytes spill stores, 4 bytes spill loads\n",
      "\n",
      "2025-02-24 21:57:16.838518: I external/local_xla/xla/stream_executor/cuda/cuda_asm_compiler.cc:397] ptxas warning : Registers are spilled to local memory in function 'gemm_fusion_dot_28', 4 bytes spill stores, 4 bytes spill loads\n",
      "\n",
      "2025-02-24 21:57:17.170123: I external/local_xla/xla/stream_executor/cuda/cuda_asm_compiler.cc:397] ptxas warning : Registers are spilled to local memory in function 'gemm_fusion_dot_10', 8 bytes spill stores, 8 bytes spill loads\n",
      "\n",
      "2025-02-24 21:57:17.200700: I external/local_xla/xla/stream_executor/cuda/cuda_asm_compiler.cc:397] ptxas warning : Registers are spilled to local memory in function 'gemm_fusion_dot_8', 8 bytes spill stores, 8 bytes spill loads\n",
      "\n",
      "2025-02-24 21:57:17.203592: I external/local_xla/xla/stream_executor/cuda/cuda_asm_compiler.cc:397] ptxas warning : Registers are spilled to local memory in function 'gemm_fusion_dot_10', 8 bytes spill stores, 8 bytes spill loads\n",
      "\n",
      "2025-02-24 21:57:19.851725: I external/local_xla/xla/stream_executor/cuda/cuda_asm_compiler.cc:397] ptxas warning : Registers are spilled to local memory in function 'gemm_fusion_dot_28', 4 bytes spill stores, 4 bytes spill loads\n",
      "\n",
      "2025-02-24 21:57:19.859024: I external/local_xla/xla/stream_executor/cuda/cuda_asm_compiler.cc:397] ptxas warning : Registers are spilled to local memory in function 'gemm_fusion_dot_28', 4 bytes spill stores, 4 bytes spill loads\n",
      "\n",
      "2025-02-24 21:57:19.863678: I external/local_xla/xla/stream_executor/cuda/cuda_asm_compiler.cc:397] ptxas warning : Registers are spilled to local memory in function 'gemm_fusion_dot_10', 8 bytes spill stores, 8 bytes spill loads\n",
      "\n",
      "2025-02-24 21:57:19.868856: I external/local_xla/xla/stream_executor/cuda/cuda_asm_compiler.cc:397] ptxas warning : Registers are spilled to local memory in function 'gemm_fusion_dot_28', 8 bytes spill stores, 8 bytes spill loads\n",
      "\n",
      "2025-02-24 21:57:20.156084: I external/local_xla/xla/stream_executor/cuda/cuda_asm_compiler.cc:397] ptxas warning : Registers are spilled to local memory in function 'gemm_fusion_dot_10', 8 bytes spill stores, 8 bytes spill loads\n",
      "\n",
      "2025-02-24 21:57:20.392894: I external/local_xla/xla/stream_executor/cuda/cuda_asm_compiler.cc:397] ptxas warning : Registers are spilled to local memory in function 'gemm_fusion_dot_8', 8 bytes spill stores, 8 bytes spill loads\n",
      "\n",
      "2025-02-24 21:57:22.060235: I external/local_xla/xla/stream_executor/cuda/cuda_asm_compiler.cc:397] ptxas warning : Registers are spilled to local memory in function 'input_add_reduce_select_fusion', 136 bytes spill stores, 100 bytes spill loads\n",
      "\n"
     ]
    },
    {
     "name": "stdout",
     "output_type": "stream",
     "text": [
      "\u001b[1m32/32\u001b[0m \u001b[32m━━━━━━━━━━━━━━━━━━━━\u001b[0m\u001b[37m\u001b[0m \u001b[1m1s\u001b[0m 25ms/step  \n",
      "Transformer MSE: 0.07261825661792483\n",
      "Testing params: {'num_heads': 2, 'lookback': 10, 'dropout_rate': 0.25, 'batch_size': 32, 'ff_dim': 128}\n"
     ]
    },
    {
     "name": "stderr",
     "output_type": "stream",
     "text": [
      "2025-02-24 21:57:42.091193: I external/local_xla/xla/stream_executor/cuda/cuda_asm_compiler.cc:397] ptxas warning : Registers are spilled to local memory in function 'gemm_fusion_dot_10', 8 bytes spill stores, 8 bytes spill loads\n",
      "\n",
      "2025-02-24 21:57:42.095924: I external/local_xla/xla/stream_executor/cuda/cuda_asm_compiler.cc:397] ptxas warning : Registers are spilled to local memory in function 'gemm_fusion_dot_28', 4 bytes spill stores, 4 bytes spill loads\n",
      "\n",
      "2025-02-24 21:57:42.107732: I external/local_xla/xla/stream_executor/cuda/cuda_asm_compiler.cc:397] ptxas warning : Registers are spilled to local memory in function 'gemm_fusion_dot_28', 4 bytes spill stores, 4 bytes spill loads\n",
      "\n",
      "2025-02-24 21:57:42.143974: I external/local_xla/xla/stream_executor/cuda/cuda_asm_compiler.cc:397] ptxas warning : Registers are spilled to local memory in function 'gemm_fusion_dot_8', 8 bytes spill stores, 8 bytes spill loads\n",
      "\n",
      "2025-02-24 21:57:42.144010: I external/local_xla/xla/stream_executor/cuda/cuda_asm_compiler.cc:397] ptxas warning : Registers are spilled to local memory in function 'gemm_fusion_dot_8', 8 bytes spill stores, 8 bytes spill loads\n",
      "\n",
      "2025-02-24 21:57:42.215739: I external/local_xla/xla/stream_executor/cuda/cuda_asm_compiler.cc:397] ptxas warning : Registers are spilled to local memory in function 'gemm_fusion_dot_28', 8 bytes spill stores, 8 bytes spill loads\n",
      "\n",
      "2025-02-24 21:57:42.221105: I external/local_xla/xla/stream_executor/cuda/cuda_asm_compiler.cc:397] ptxas warning : Registers are spilled to local memory in function 'gemm_fusion_dot_28', 4 bytes spill stores, 4 bytes spill loads\n",
      "\n",
      "2025-02-24 21:57:42.645379: I external/local_xla/xla/stream_executor/cuda/cuda_asm_compiler.cc:397] ptxas warning : Registers are spilled to local memory in function 'gemm_fusion_dot_10', 8 bytes spill stores, 8 bytes spill loads\n",
      "\n",
      "2025-02-24 21:57:45.341497: I external/local_xla/xla/stream_executor/cuda/cuda_asm_compiler.cc:397] ptxas warning : Registers are spilled to local memory in function 'gemm_fusion_dot_28', 16 bytes spill stores, 16 bytes spill loads\n",
      "\n",
      "2025-02-24 21:57:45.416947: I external/local_xla/xla/stream_executor/cuda/cuda_asm_compiler.cc:397] ptxas warning : Registers are spilled to local memory in function 'gemm_fusion_dot_28', 4 bytes spill stores, 4 bytes spill loads\n",
      "\n",
      "2025-02-24 21:57:45.417489: I external/local_xla/xla/stream_executor/cuda/cuda_asm_compiler.cc:397] ptxas warning : Registers are spilled to local memory in function 'gemm_fusion_dot_28', 4 bytes spill stores, 4 bytes spill loads\n",
      "\n",
      "2025-02-24 21:57:45.423337: I external/local_xla/xla/stream_executor/cuda/cuda_asm_compiler.cc:397] ptxas warning : Registers are spilled to local memory in function 'gemm_fusion_dot_28', 8 bytes spill stores, 8 bytes spill loads\n",
      "\n",
      "2025-02-24 21:57:45.435014: I external/local_xla/xla/stream_executor/cuda/cuda_asm_compiler.cc:397] ptxas warning : Registers are spilled to local memory in function 'gemm_fusion_dot_28', 4 bytes spill stores, 4 bytes spill loads\n",
      "\n",
      "2025-02-24 21:57:45.510464: I external/local_xla/xla/stream_executor/cuda/cuda_asm_compiler.cc:397] ptxas warning : Registers are spilled to local memory in function 'gemm_fusion_dot_10', 8 bytes spill stores, 8 bytes spill loads\n",
      "\n",
      "2025-02-24 21:57:45.716288: I external/local_xla/xla/stream_executor/cuda/cuda_asm_compiler.cc:397] ptxas warning : Registers are spilled to local memory in function 'gemm_fusion_dot_8', 8 bytes spill stores, 8 bytes spill loads\n",
      "\n",
      "2025-02-24 21:57:45.915263: I external/local_xla/xla/stream_executor/cuda/cuda_asm_compiler.cc:397] ptxas warning : Registers are spilled to local memory in function 'gemm_fusion_dot_10', 8 bytes spill stores, 8 bytes spill loads\n",
      "\n",
      "2025-02-24 21:57:46.072385: I external/local_xla/xla/stream_executor/cuda/cuda_asm_compiler.cc:397] ptxas warning : Registers are spilled to local memory in function 'gemm_fusion_dot_8', 8 bytes spill stores, 8 bytes spill loads\n",
      "\n",
      "2025-02-24 21:57:46.105649: I external/local_xla/xla/stream_executor/cuda/cuda_asm_compiler.cc:397] ptxas warning : Registers are spilled to local memory in function 'gemm_fusion_dot_10', 8 bytes spill stores, 8 bytes spill loads\n",
      "\n",
      "2025-02-24 21:57:47.823758: I external/local_xla/xla/stream_executor/cuda/cuda_asm_compiler.cc:397] ptxas warning : Registers are spilled to local memory in function 'input_add_reduce_select_fusion', 136 bytes spill stores, 100 bytes spill loads\n",
      "\n"
     ]
    },
    {
     "name": "stdout",
     "output_type": "stream",
     "text": [
      "\u001b[1m 1/32\u001b[0m \u001b[37m━━━━━━━━━━━━━━━━━━━━\u001b[0m \u001b[1m14s\u001b[0m 484ms/step"
     ]
    },
    {
     "name": "stderr",
     "output_type": "stream",
     "text": [
      "2025-02-24 21:58:01.108084: I external/local_xla/xla/stream_executor/cuda/cuda_asm_compiler.cc:397] ptxas warning : Registers are spilled to local memory in function 'gemm_fusion_dot_10', 16 bytes spill stores, 16 bytes spill loads\n",
      "\n"
     ]
    },
    {
     "name": "stdout",
     "output_type": "stream",
     "text": [
      "\u001b[1m32/32\u001b[0m \u001b[32m━━━━━━━━━━━━━━━━━━━━\u001b[0m\u001b[37m\u001b[0m \u001b[1m1s\u001b[0m 30ms/step  \n",
      "Transformer MSE: 0.06569273081474582\n",
      "Testing params: {'num_heads': 2, 'lookback': 10, 'dropout_rate': 0.25, 'batch_size': 64, 'ff_dim': 64}\n"
     ]
    },
    {
     "name": "stderr",
     "output_type": "stream",
     "text": [
      "2025-02-24 21:58:04.074906: I external/local_xla/xla/stream_executor/cuda/cuda_asm_compiler.cc:397] ptxas warning : Registers are spilled to local memory in function 'gemm_fusion_dot_28', 4 bytes spill stores, 4 bytes spill loads\n",
      "\n",
      "2025-02-24 21:58:04.142562: I external/local_xla/xla/stream_executor/cuda/cuda_asm_compiler.cc:397] ptxas warning : Registers are spilled to local memory in function 'gemm_fusion_dot_28', 8 bytes spill stores, 8 bytes spill loads\n",
      "\n",
      "2025-02-24 21:58:04.244694: I external/local_xla/xla/stream_executor/cuda/cuda_asm_compiler.cc:397] ptxas warning : Registers are spilled to local memory in function 'gemm_fusion_dot_8', 8 bytes spill stores, 8 bytes spill loads\n",
      "\n",
      "2025-02-24 21:58:04.277278: I external/local_xla/xla/stream_executor/cuda/cuda_asm_compiler.cc:397] ptxas warning : Registers are spilled to local memory in function 'gemm_fusion_dot_10', 8 bytes spill stores, 8 bytes spill loads\n",
      "\n",
      "2025-02-24 21:58:04.420627: I external/local_xla/xla/stream_executor/cuda/cuda_asm_compiler.cc:397] ptxas warning : Registers are spilled to local memory in function 'gemm_fusion_dot_10', 32 bytes spill stores, 32 bytes spill loads\n",
      "\n",
      "2025-02-24 21:58:08.067470: I external/local_xla/xla/stream_executor/cuda/cuda_asm_compiler.cc:397] ptxas warning : Registers are spilled to local memory in function 'input_add_reduce_select_fusion', 136 bytes spill stores, 100 bytes spill loads\n",
      "\n"
     ]
    },
    {
     "name": "stdout",
     "output_type": "stream",
     "text": [
      "\u001b[1m32/32\u001b[0m \u001b[32m━━━━━━━━━━━━━━━━━━━━\u001b[0m\u001b[37m\u001b[0m \u001b[1m1s\u001b[0m 12ms/step  \n",
      "Transformer MSE: 0.07116706904638549\n",
      "Testing params: {'num_heads': 2, 'lookback': 10, 'dropout_rate': 0.25, 'batch_size': 64, 'ff_dim': 128}\n"
     ]
    },
    {
     "name": "stderr",
     "output_type": "stream",
     "text": [
      "2025-02-24 21:58:18.472310: I external/local_xla/xla/stream_executor/cuda/cuda_asm_compiler.cc:397] ptxas warning : Registers are spilled to local memory in function 'gemm_fusion_dot_28', 8 bytes spill stores, 8 bytes spill loads\n",
      "\n",
      "2025-02-24 21:58:18.570222: I external/local_xla/xla/stream_executor/cuda/cuda_asm_compiler.cc:397] ptxas warning : Registers are spilled to local memory in function 'gemm_fusion_dot_28', 4 bytes spill stores, 4 bytes spill loads\n",
      "\n",
      "2025-02-24 21:58:18.609255: I external/local_xla/xla/stream_executor/cuda/cuda_asm_compiler.cc:397] ptxas warning : Registers are spilled to local memory in function 'gemm_fusion_dot_10', 32 bytes spill stores, 32 bytes spill loads\n",
      "\n",
      "2025-02-24 21:58:18.733935: I external/local_xla/xla/stream_executor/cuda/cuda_asm_compiler.cc:397] ptxas warning : Registers are spilled to local memory in function 'gemm_fusion_dot_10', 32 bytes spill stores, 32 bytes spill loads\n",
      "\n",
      "2025-02-24 21:58:18.906741: I external/local_xla/xla/stream_executor/cuda/cuda_asm_compiler.cc:397] ptxas warning : Registers are spilled to local memory in function 'gemm_fusion_dot_10', 8 bytes spill stores, 8 bytes spill loads\n",
      "\n",
      "2025-02-24 21:58:18.940730: I external/local_xla/xla/stream_executor/cuda/cuda_asm_compiler.cc:397] ptxas warning : Registers are spilled to local memory in function 'gemm_fusion_dot_8', 32 bytes spill stores, 32 bytes spill loads\n",
      "\n",
      "2025-02-24 21:58:18.965113: I external/local_xla/xla/stream_executor/cuda/cuda_asm_compiler.cc:397] ptxas warning : Registers are spilled to local memory in function 'gemm_fusion_dot_8', 8 bytes spill stores, 8 bytes spill loads\n",
      "\n",
      "2025-02-24 21:58:22.625286: I external/local_xla/xla/stream_executor/cuda/cuda_asm_compiler.cc:397] ptxas warning : Registers are spilled to local memory in function 'input_add_reduce_select_fusion', 136 bytes spill stores, 100 bytes spill loads\n",
      "\n"
     ]
    },
    {
     "name": "stdout",
     "output_type": "stream",
     "text": [
      "\u001b[1m32/32\u001b[0m \u001b[32m━━━━━━━━━━━━━━━━━━━━\u001b[0m\u001b[37m\u001b[0m \u001b[1m1s\u001b[0m 12ms/step  \n",
      "Transformer MSE: 0.05168347605970848\n",
      "Testing params: {'num_heads': 2, 'lookback': 5, 'dropout_rate': 0.25, 'batch_size': 32, 'ff_dim': 64}\n"
     ]
    },
    {
     "name": "stderr",
     "output_type": "stream",
     "text": [
      "2025-02-24 21:58:32.072749: I external/local_xla/xla/stream_executor/cuda/cuda_asm_compiler.cc:397] ptxas warning : Registers are spilled to local memory in function 'gemm_fusion_dot_28', 8 bytes spill stores, 8 bytes spill loads\n",
      "\n",
      "2025-02-24 21:58:32.120995: I external/local_xla/xla/stream_executor/cuda/cuda_asm_compiler.cc:397] ptxas warning : Registers are spilled to local memory in function 'gemm_fusion_dot_28', 4 bytes spill stores, 4 bytes spill loads\n",
      "\n",
      "2025-02-24 21:58:32.140632: I external/local_xla/xla/stream_executor/cuda/cuda_asm_compiler.cc:397] ptxas warning : Registers are spilled to local memory in function 'gemm_fusion_dot_8', 8 bytes spill stores, 8 bytes spill loads\n",
      "\n",
      "2025-02-24 21:58:32.151023: I external/local_xla/xla/stream_executor/cuda/cuda_asm_compiler.cc:397] ptxas warning : Registers are spilled to local memory in function 'gemm_fusion_dot_28', 4 bytes spill stores, 4 bytes spill loads\n",
      "\n",
      "2025-02-24 21:58:32.441647: I external/local_xla/xla/stream_executor/cuda/cuda_asm_compiler.cc:397] ptxas warning : Registers are spilled to local memory in function 'gemm_fusion_dot_10', 8 bytes spill stores, 8 bytes spill loads\n",
      "\n",
      "2025-02-24 21:58:32.529754: I external/local_xla/xla/stream_executor/cuda/cuda_asm_compiler.cc:397] ptxas warning : Registers are spilled to local memory in function 'gemm_fusion_dot_10', 8 bytes spill stores, 8 bytes spill loads\n",
      "\n",
      "2025-02-24 21:58:35.120765: I external/local_xla/xla/stream_executor/cuda/cuda_asm_compiler.cc:397] ptxas warning : Registers are spilled to local memory in function 'gemm_fusion_dot_28', 8 bytes spill stores, 8 bytes spill loads\n",
      "\n",
      "2025-02-24 21:58:35.126500: I external/local_xla/xla/stream_executor/cuda/cuda_asm_compiler.cc:397] ptxas warning : Registers are spilled to local memory in function 'gemm_fusion_dot_28', 4 bytes spill stores, 4 bytes spill loads\n",
      "\n",
      "2025-02-24 21:58:35.269654: I external/local_xla/xla/stream_executor/cuda/cuda_asm_compiler.cc:397] ptxas warning : Registers are spilled to local memory in function 'gemm_fusion_dot_28', 4 bytes spill stores, 4 bytes spill loads\n",
      "\n",
      "2025-02-24 21:58:35.620678: I external/local_xla/xla/stream_executor/cuda/cuda_asm_compiler.cc:397] ptxas warning : Registers are spilled to local memory in function 'gemm_fusion_dot_10', 8 bytes spill stores, 8 bytes spill loads\n",
      "\n",
      "2025-02-24 21:58:35.791807: I external/local_xla/xla/stream_executor/cuda/cuda_asm_compiler.cc:397] ptxas warning : Registers are spilled to local memory in function 'gemm_fusion_dot_10', 8 bytes spill stores, 8 bytes spill loads\n",
      "\n",
      "2025-02-24 21:58:35.835922: I external/local_xla/xla/stream_executor/cuda/cuda_asm_compiler.cc:397] ptxas warning : Registers are spilled to local memory in function 'gemm_fusion_dot_8', 8 bytes spill stores, 8 bytes spill loads\n",
      "\n"
     ]
    },
    {
     "name": "stdout",
     "output_type": "stream",
     "text": [
      "\u001b[1m32/32\u001b[0m \u001b[32m━━━━━━━━━━━━━━━━━━━━\u001b[0m\u001b[37m\u001b[0m \u001b[1m1s\u001b[0m 25ms/step  \n",
      "Transformer MSE: 0.04808736856503592\n",
      "Testing params: {'num_heads': 2, 'lookback': 5, 'dropout_rate': 0.25, 'batch_size': 32, 'ff_dim': 128}\n"
     ]
    },
    {
     "name": "stderr",
     "output_type": "stream",
     "text": [
      "2025-02-24 21:58:53.482540: I external/local_xla/xla/stream_executor/cuda/cuda_asm_compiler.cc:397] ptxas warning : Registers are spilled to local memory in function 'gemm_fusion_dot_28', 16 bytes spill stores, 16 bytes spill loads\n",
      "\n",
      "2025-02-24 21:58:53.498559: I external/local_xla/xla/stream_executor/cuda/cuda_asm_compiler.cc:397] ptxas warning : Registers are spilled to local memory in function 'gemm_fusion_dot_28', 4 bytes spill stores, 4 bytes spill loads\n",
      "\n",
      "2025-02-24 21:58:53.529685: I external/local_xla/xla/stream_executor/cuda/cuda_asm_compiler.cc:397] ptxas warning : Registers are spilled to local memory in function 'gemm_fusion_dot_28', 4 bytes spill stores, 4 bytes spill loads\n",
      "\n",
      "2025-02-24 21:58:53.530434: I external/local_xla/xla/stream_executor/cuda/cuda_asm_compiler.cc:397] ptxas warning : Registers are spilled to local memory in function 'gemm_fusion_dot_28', 8 bytes spill stores, 8 bytes spill loads\n",
      "\n",
      "2025-02-24 21:58:53.557581: I external/local_xla/xla/stream_executor/cuda/cuda_asm_compiler.cc:397] ptxas warning : Registers are spilled to local memory in function 'gemm_fusion_dot_28', 4 bytes spill stores, 4 bytes spill loads\n",
      "\n",
      "2025-02-24 21:58:53.884314: I external/local_xla/xla/stream_executor/cuda/cuda_asm_compiler.cc:397] ptxas warning : Registers are spilled to local memory in function 'gemm_fusion_dot_8', 8 bytes spill stores, 8 bytes spill loads\n",
      "\n",
      "2025-02-24 21:58:53.890585: I external/local_xla/xla/stream_executor/cuda/cuda_asm_compiler.cc:397] ptxas warning : Registers are spilled to local memory in function 'gemm_fusion_dot_10', 8 bytes spill stores, 8 bytes spill loads\n",
      "\n",
      "2025-02-24 21:58:53.911868: I external/local_xla/xla/stream_executor/cuda/cuda_asm_compiler.cc:397] ptxas warning : Registers are spilled to local memory in function 'gemm_fusion_dot_10', 8 bytes spill stores, 8 bytes spill loads\n",
      "\n",
      "2025-02-24 21:58:53.990613: I external/local_xla/xla/stream_executor/cuda/cuda_asm_compiler.cc:397] ptxas warning : Registers are spilled to local memory in function 'gemm_fusion_dot_8', 8 bytes spill stores, 8 bytes spill loads\n",
      "\n",
      "2025-02-24 21:58:54.000031: I external/local_xla/xla/stream_executor/cuda/cuda_asm_compiler.cc:397] ptxas warning : Registers are spilled to local memory in function 'gemm_fusion_dot_10', 8 bytes spill stores, 8 bytes spill loads\n",
      "\n",
      "2025-02-24 21:58:56.520623: I external/local_xla/xla/stream_executor/cuda/cuda_asm_compiler.cc:397] ptxas warning : Registers are spilled to local memory in function 'gemm_fusion_dot_28', 4 bytes spill stores, 4 bytes spill loads\n",
      "\n",
      "2025-02-24 21:58:56.537358: I external/local_xla/xla/stream_executor/cuda/cuda_asm_compiler.cc:397] ptxas warning : Registers are spilled to local memory in function 'gemm_fusion_dot_28', 4 bytes spill stores, 4 bytes spill loads\n",
      "\n",
      "2025-02-24 21:58:56.544458: I external/local_xla/xla/stream_executor/cuda/cuda_asm_compiler.cc:397] ptxas warning : Registers are spilled to local memory in function 'gemm_fusion_dot_28', 16 bytes spill stores, 16 bytes spill loads\n",
      "\n",
      "2025-02-24 21:58:56.588431: I external/local_xla/xla/stream_executor/cuda/cuda_asm_compiler.cc:397] ptxas warning : Registers are spilled to local memory in function 'gemm_fusion_dot_28', 8 bytes spill stores, 8 bytes spill loads\n",
      "\n",
      "2025-02-24 21:58:56.606196: I external/local_xla/xla/stream_executor/cuda/cuda_asm_compiler.cc:397] ptxas warning : Registers are spilled to local memory in function 'gemm_fusion_dot_28', 4 bytes spill stores, 4 bytes spill loads\n",
      "\n",
      "2025-02-24 21:58:56.790971: I external/local_xla/xla/stream_executor/cuda/cuda_asm_compiler.cc:397] ptxas warning : Registers are spilled to local memory in function 'gemm_fusion_dot_10', 8 bytes spill stores, 8 bytes spill loads\n",
      "\n",
      "2025-02-24 21:58:57.002677: I external/local_xla/xla/stream_executor/cuda/cuda_asm_compiler.cc:397] ptxas warning : Registers are spilled to local memory in function 'gemm_fusion_dot_8', 8 bytes spill stores, 8 bytes spill loads\n",
      "\n",
      "2025-02-24 21:58:57.094720: I external/local_xla/xla/stream_executor/cuda/cuda_asm_compiler.cc:397] ptxas warning : Registers are spilled to local memory in function 'gemm_fusion_dot_8', 8 bytes spill stores, 8 bytes spill loads\n",
      "\n",
      "2025-02-24 21:58:57.159400: I external/local_xla/xla/stream_executor/cuda/cuda_asm_compiler.cc:397] ptxas warning : Registers are spilled to local memory in function 'gemm_fusion_dot_10', 8 bytes spill stores, 8 bytes spill loads\n",
      "\n",
      "2025-02-24 21:58:57.249487: I external/local_xla/xla/stream_executor/cuda/cuda_asm_compiler.cc:397] ptxas warning : Registers are spilled to local memory in function 'gemm_fusion_dot_10', 8 bytes spill stores, 8 bytes spill loads\n",
      "\n"
     ]
    },
    {
     "name": "stdout",
     "output_type": "stream",
     "text": [
      "\u001b[1m32/32\u001b[0m \u001b[32m━━━━━━━━━━━━━━━━━━━━\u001b[0m\u001b[37m\u001b[0m \u001b[1m1s\u001b[0m 30ms/step  \n",
      "Transformer MSE: 0.05375974139663426\n",
      "Testing params: {'num_heads': 2, 'lookback': 5, 'dropout_rate': 0.25, 'batch_size': 64, 'ff_dim': 64}\n",
      "\u001b[1m32/32\u001b[0m \u001b[32m━━━━━━━━━━━━━━━━━━━━\u001b[0m\u001b[37m\u001b[0m \u001b[1m1s\u001b[0m 12ms/step  \n",
      "Transformer MSE: 0.03715854533852069\n",
      "Testing params: {'num_heads': 2, 'lookback': 5, 'dropout_rate': 0.25, 'batch_size': 64, 'ff_dim': 128}\n",
      "\u001b[1m32/32\u001b[0m \u001b[32m━━━━━━━━━━━━━━━━━━━━\u001b[0m\u001b[37m\u001b[0m \u001b[1m1s\u001b[0m 13ms/step  \n",
      "Transformer MSE: 0.04061003244505874\n",
      "Testing params: {'num_heads': 2, 'lookback': 15, 'dropout_rate': 0.25, 'batch_size': 32, 'ff_dim': 64}\n"
     ]
    },
    {
     "name": "stderr",
     "output_type": "stream",
     "text": [
      "2025-02-24 21:59:47.957518: I external/local_xla/xla/stream_executor/cuda/cuda_asm_compiler.cc:397] ptxas warning : Registers are spilled to local memory in function 'gemm_fusion_dot_28', 8 bytes spill stores, 8 bytes spill loads\n",
      "\n",
      "2025-02-24 21:59:47.982335: I external/local_xla/xla/stream_executor/cuda/cuda_asm_compiler.cc:397] ptxas warning : Registers are spilled to local memory in function 'gemm_fusion_dot_28', 4 bytes spill stores, 4 bytes spill loads\n",
      "\n",
      "2025-02-24 21:59:48.038196: I external/local_xla/xla/stream_executor/cuda/cuda_asm_compiler.cc:397] ptxas warning : Registers are spilled to local memory in function 'gemm_fusion_dot_28', 4 bytes spill stores, 4 bytes spill loads\n",
      "\n",
      "2025-02-24 21:59:48.344480: I external/local_xla/xla/stream_executor/cuda/cuda_asm_compiler.cc:397] ptxas warning : Registers are spilled to local memory in function 'gemm_fusion_dot_10', 8 bytes spill stores, 8 bytes spill loads\n",
      "\n",
      "2025-02-24 21:59:48.347295: I external/local_xla/xla/stream_executor/cuda/cuda_asm_compiler.cc:397] ptxas warning : Registers are spilled to local memory in function 'gemm_fusion_dot_8', 8 bytes spill stores, 8 bytes spill loads\n",
      "\n",
      "2025-02-24 21:59:48.392009: I external/local_xla/xla/stream_executor/cuda/cuda_asm_compiler.cc:397] ptxas warning : Registers are spilled to local memory in function 'gemm_fusion_dot_10', 8 bytes spill stores, 8 bytes spill loads\n",
      "\n",
      "2025-02-24 21:59:51.082384: I external/local_xla/xla/stream_executor/cuda/cuda_asm_compiler.cc:397] ptxas warning : Registers are spilled to local memory in function 'gemm_fusion_dot_28', 8 bytes spill stores, 8 bytes spill loads\n",
      "\n",
      "2025-02-24 21:59:51.139347: I external/local_xla/xla/stream_executor/cuda/cuda_asm_compiler.cc:397] ptxas warning : Registers are spilled to local memory in function 'gemm_fusion_dot_28', 4 bytes spill stores, 4 bytes spill loads\n",
      "\n",
      "2025-02-24 21:59:51.158578: I external/local_xla/xla/stream_executor/cuda/cuda_asm_compiler.cc:397] ptxas warning : Registers are spilled to local memory in function 'gemm_fusion_dot_28', 4 bytes spill stores, 4 bytes spill loads\n",
      "\n",
      "2025-02-24 21:59:51.171292: I external/local_xla/xla/stream_executor/cuda/cuda_asm_compiler.cc:397] ptxas warning : Registers are spilled to local memory in function 'gemm_fusion_dot_8', 8 bytes spill stores, 8 bytes spill loads\n",
      "\n",
      "2025-02-24 21:59:51.697707: I external/local_xla/xla/stream_executor/cuda/cuda_asm_compiler.cc:397] ptxas warning : Registers are spilled to local memory in function 'gemm_fusion_dot_10', 8 bytes spill stores, 8 bytes spill loads\n",
      "\n",
      "2025-02-24 21:59:51.710379: I external/local_xla/xla/stream_executor/cuda/cuda_asm_compiler.cc:397] ptxas warning : Registers are spilled to local memory in function 'gemm_fusion_dot_10', 8 bytes spill stores, 8 bytes spill loads\n",
      "\n",
      "2025-02-24 21:59:53.376213: I external/local_xla/xla/stream_executor/cuda/cuda_asm_compiler.cc:397] ptxas warning : Registers are spilled to local memory in function 'input_reduce_select_fusion', 12 bytes spill stores, 8 bytes spill loads\n",
      "ptxas warning : Registers are spilled to local memory in function 'input_add_reduce_select_fusion', 136 bytes spill stores, 92 bytes spill loads\n",
      "\n"
     ]
    },
    {
     "name": "stdout",
     "output_type": "stream",
     "text": [
      "\u001b[1m32/32\u001b[0m \u001b[32m━━━━━━━━━━━━━━━━━━━━\u001b[0m\u001b[37m\u001b[0m \u001b[1m1s\u001b[0m 28ms/step  \n",
      "Transformer MSE: 0.05893276849762541\n",
      "Testing params: {'num_heads': 2, 'lookback': 15, 'dropout_rate': 0.25, 'batch_size': 32, 'ff_dim': 128}\n"
     ]
    },
    {
     "name": "stderr",
     "output_type": "stream",
     "text": [
      "2025-02-24 22:00:11.640037: I external/local_xla/xla/stream_executor/cuda/cuda_asm_compiler.cc:397] ptxas warning : Registers are spilled to local memory in function 'gemm_fusion_dot_28', 4 bytes spill stores, 4 bytes spill loads\n",
      "\n",
      "2025-02-24 22:00:11.653247: I external/local_xla/xla/stream_executor/cuda/cuda_asm_compiler.cc:397] ptxas warning : Registers are spilled to local memory in function 'gemm_fusion_dot_28', 16 bytes spill stores, 16 bytes spill loads\n",
      "\n",
      "2025-02-24 22:00:11.655057: I external/local_xla/xla/stream_executor/cuda/cuda_asm_compiler.cc:397] ptxas warning : Registers are spilled to local memory in function 'gemm_fusion_dot_28', 8 bytes spill stores, 8 bytes spill loads\n",
      "\n",
      "2025-02-24 22:00:11.748854: I external/local_xla/xla/stream_executor/cuda/cuda_asm_compiler.cc:397] ptxas warning : Registers are spilled to local memory in function 'gemm_fusion_dot_28', 4 bytes spill stores, 4 bytes spill loads\n",
      "\n",
      "2025-02-24 22:00:11.776126: I external/local_xla/xla/stream_executor/cuda/cuda_asm_compiler.cc:397] ptxas warning : Registers are spilled to local memory in function 'gemm_fusion_dot_28', 4 bytes spill stores, 4 bytes spill loads\n",
      "\n",
      "2025-02-24 22:00:11.886929: I external/local_xla/xla/stream_executor/cuda/cuda_asm_compiler.cc:397] ptxas warning : Registers are spilled to local memory in function 'gemm_fusion_dot_10', 8 bytes spill stores, 8 bytes spill loads\n",
      "\n",
      "2025-02-24 22:00:11.979176: I external/local_xla/xla/stream_executor/cuda/cuda_asm_compiler.cc:397] ptxas warning : Registers are spilled to local memory in function 'gemm_fusion_dot_8', 8 bytes spill stores, 8 bytes spill loads\n",
      "\n",
      "2025-02-24 22:00:12.098789: I external/local_xla/xla/stream_executor/cuda/cuda_asm_compiler.cc:397] ptxas warning : Registers are spilled to local memory in function 'gemm_fusion_dot_10', 8 bytes spill stores, 8 bytes spill loads\n",
      "\n",
      "2025-02-24 22:00:12.146089: I external/local_xla/xla/stream_executor/cuda/cuda_asm_compiler.cc:397] ptxas warning : Registers are spilled to local memory in function 'gemm_fusion_dot_8', 8 bytes spill stores, 8 bytes spill loads\n",
      "\n",
      "2025-02-24 22:00:12.181080: I external/local_xla/xla/stream_executor/cuda/cuda_asm_compiler.cc:397] ptxas warning : Registers are spilled to local memory in function 'gemm_fusion_dot_10', 8 bytes spill stores, 8 bytes spill loads\n",
      "\n",
      "2025-02-24 22:00:14.785939: I external/local_xla/xla/stream_executor/cuda/cuda_asm_compiler.cc:397] ptxas warning : Registers are spilled to local memory in function 'gemm_fusion_dot_28', 4 bytes spill stores, 4 bytes spill loads\n",
      "\n",
      "2025-02-24 22:00:14.819215: I external/local_xla/xla/stream_executor/cuda/cuda_asm_compiler.cc:397] ptxas warning : Registers are spilled to local memory in function 'gemm_fusion_dot_28', 4 bytes spill stores, 4 bytes spill loads\n",
      "\n",
      "2025-02-24 22:00:14.823233: I external/local_xla/xla/stream_executor/cuda/cuda_asm_compiler.cc:397] ptxas warning : Registers are spilled to local memory in function 'gemm_fusion_dot_28', 8 bytes spill stores, 8 bytes spill loads\n",
      "\n",
      "2025-02-24 22:00:14.853729: I external/local_xla/xla/stream_executor/cuda/cuda_asm_compiler.cc:397] ptxas warning : Registers are spilled to local memory in function 'gemm_fusion_dot_10', 8 bytes spill stores, 8 bytes spill loads\n",
      "\n",
      "2025-02-24 22:00:14.894889: I external/local_xla/xla/stream_executor/cuda/cuda_asm_compiler.cc:397] ptxas warning : Registers are spilled to local memory in function 'gemm_fusion_dot_28', 4 bytes spill stores, 4 bytes spill loads\n",
      "\n",
      "2025-02-24 22:00:14.903772: I external/local_xla/xla/stream_executor/cuda/cuda_asm_compiler.cc:397] ptxas warning : Registers are spilled to local memory in function 'gemm_fusion_dot_28', 16 bytes spill stores, 16 bytes spill loads\n",
      "\n",
      "2025-02-24 22:00:14.918868: I external/local_xla/xla/stream_executor/cuda/cuda_asm_compiler.cc:397] ptxas warning : Registers are spilled to local memory in function 'gemm_fusion_dot_10', 8 bytes spill stores, 8 bytes spill loads\n",
      "\n",
      "2025-02-24 22:00:15.204757: I external/local_xla/xla/stream_executor/cuda/cuda_asm_compiler.cc:397] ptxas warning : Registers are spilled to local memory in function 'gemm_fusion_dot_8', 8 bytes spill stores, 8 bytes spill loads\n",
      "\n",
      "2025-02-24 22:00:15.308136: I external/local_xla/xla/stream_executor/cuda/cuda_asm_compiler.cc:397] ptxas warning : Registers are spilled to local memory in function 'gemm_fusion_dot_10', 8 bytes spill stores, 8 bytes spill loads\n",
      "\n",
      "2025-02-24 22:00:15.521148: I external/local_xla/xla/stream_executor/cuda/cuda_asm_compiler.cc:397] ptxas warning : Registers are spilled to local memory in function 'gemm_fusion_dot_8', 8 bytes spill stores, 8 bytes spill loads\n",
      "\n",
      "2025-02-24 22:00:17.304240: I external/local_xla/xla/stream_executor/cuda/cuda_asm_compiler.cc:397] ptxas warning : Registers are spilled to local memory in function 'input_reduce_select_fusion', 12 bytes spill stores, 8 bytes spill loads\n",
      "ptxas warning : Registers are spilled to local memory in function 'input_add_reduce_select_fusion', 136 bytes spill stores, 92 bytes spill loads\n",
      "\n"
     ]
    },
    {
     "name": "stdout",
     "output_type": "stream",
     "text": [
      "\u001b[1m 1/32\u001b[0m \u001b[37m━━━━━━━━━━━━━━━━━━━━\u001b[0m \u001b[1m15s\u001b[0m 498ms/step"
     ]
    },
    {
     "name": "stderr",
     "output_type": "stream",
     "text": [
      "2025-02-24 22:00:34.228423: I external/local_xla/xla/stream_executor/cuda/cuda_asm_compiler.cc:397] ptxas warning : Registers are spilled to local memory in function 'gemm_fusion_dot_10', 16 bytes spill stores, 16 bytes spill loads\n",
      "\n"
     ]
    },
    {
     "name": "stdout",
     "output_type": "stream",
     "text": [
      "\u001b[1m32/32\u001b[0m \u001b[32m━━━━━━━━━━━━━━━━━━━━\u001b[0m\u001b[37m\u001b[0m \u001b[1m2s\u001b[0m 33ms/step  \n",
      "Transformer MSE: 0.06208037074406112\n",
      "Testing params: {'num_heads': 2, 'lookback': 15, 'dropout_rate': 0.25, 'batch_size': 64, 'ff_dim': 64}\n"
     ]
    },
    {
     "name": "stderr",
     "output_type": "stream",
     "text": [
      "2025-02-24 22:00:37.149592: I external/local_xla/xla/stream_executor/cuda/cuda_asm_compiler.cc:397] ptxas warning : Registers are spilled to local memory in function 'gemm_fusion_dot_28', 4 bytes spill stores, 4 bytes spill loads\n",
      "\n",
      "2025-02-24 22:00:37.273110: I external/local_xla/xla/stream_executor/cuda/cuda_asm_compiler.cc:397] ptxas warning : Registers are spilled to local memory in function 'gemm_fusion_dot_28', 8 bytes spill stores, 8 bytes spill loads\n",
      "\n",
      "2025-02-24 22:00:37.279031: I external/local_xla/xla/stream_executor/cuda/cuda_asm_compiler.cc:397] ptxas warning : Registers are spilled to local memory in function 'gemm_fusion_dot_28', 4 bytes spill stores, 4 bytes spill loads\n",
      "\n",
      "2025-02-24 22:00:37.385498: I external/local_xla/xla/stream_executor/cuda/cuda_asm_compiler.cc:397] ptxas warning : Registers are spilled to local memory in function 'gemm_fusion_dot_10', 8 bytes spill stores, 8 bytes spill loads\n",
      "\n",
      "2025-02-24 22:00:37.604592: I external/local_xla/xla/stream_executor/cuda/cuda_asm_compiler.cc:397] ptxas warning : Registers are spilled to local memory in function 'gemm_fusion_dot_10', 8 bytes spill stores, 8 bytes spill loads\n",
      "\n",
      "2025-02-24 22:00:37.624362: I external/local_xla/xla/stream_executor/cuda/cuda_asm_compiler.cc:397] ptxas warning : Registers are spilled to local memory in function 'gemm_fusion_dot_8', 8 bytes spill stores, 8 bytes spill loads\n",
      "\n",
      "2025-02-24 22:00:41.437177: I external/local_xla/xla/stream_executor/cuda/cuda_asm_compiler.cc:397] ptxas warning : Registers are spilled to local memory in function 'input_reduce_select_fusion', 12 bytes spill stores, 8 bytes spill loads\n",
      "ptxas warning : Registers are spilled to local memory in function 'input_add_reduce_select_fusion', 136 bytes spill stores, 92 bytes spill loads\n",
      "\n"
     ]
    },
    {
     "name": "stdout",
     "output_type": "stream",
     "text": [
      "\u001b[1m32/32\u001b[0m \u001b[32m━━━━━━━━━━━━━━━━━━━━\u001b[0m\u001b[37m\u001b[0m \u001b[1m1s\u001b[0m 11ms/step  \n",
      "Transformer MSE: 0.05013020172859853\n",
      "Testing params: {'num_heads': 2, 'lookback': 15, 'dropout_rate': 0.25, 'batch_size': 64, 'ff_dim': 128}\n"
     ]
    },
    {
     "name": "stderr",
     "output_type": "stream",
     "text": [
      "2025-02-24 22:00:52.739450: I external/local_xla/xla/stream_executor/cuda/cuda_asm_compiler.cc:397] ptxas warning : Registers are spilled to local memory in function 'gemm_fusion_dot_28', 4 bytes spill stores, 4 bytes spill loads\n",
      "\n",
      "2025-02-24 22:00:52.759685: I external/local_xla/xla/stream_executor/cuda/cuda_asm_compiler.cc:397] ptxas warning : Registers are spilled to local memory in function 'gemm_fusion_dot_28', 8 bytes spill stores, 8 bytes spill loads\n",
      "\n",
      "2025-02-24 22:00:52.800597: I external/local_xla/xla/stream_executor/cuda/cuda_asm_compiler.cc:397] ptxas warning : Registers are spilled to local memory in function 'gemm_fusion_dot_28', 4 bytes spill stores, 4 bytes spill loads\n",
      "\n",
      "2025-02-24 22:00:52.852861: I external/local_xla/xla/stream_executor/cuda/cuda_asm_compiler.cc:397] ptxas warning : Registers are spilled to local memory in function 'gemm_fusion_dot_28', 4 bytes spill stores, 4 bytes spill loads\n",
      "\n",
      "2025-02-24 22:00:52.921417: I external/local_xla/xla/stream_executor/cuda/cuda_asm_compiler.cc:397] ptxas warning : Registers are spilled to local memory in function 'gemm_fusion_dot_10', 8 bytes spill stores, 8 bytes spill loads\n",
      "\n",
      "2025-02-24 22:00:53.134668: I external/local_xla/xla/stream_executor/cuda/cuda_asm_compiler.cc:397] ptxas warning : Registers are spilled to local memory in function 'gemm_fusion_dot_8', 8 bytes spill stores, 8 bytes spill loads\n",
      "\n",
      "2025-02-24 22:00:53.137523: I external/local_xla/xla/stream_executor/cuda/cuda_asm_compiler.cc:397] ptxas warning : Registers are spilled to local memory in function 'gemm_fusion_dot_8', 8 bytes spill stores, 8 bytes spill loads\n",
      "\n",
      "2025-02-24 22:00:53.223797: I external/local_xla/xla/stream_executor/cuda/cuda_asm_compiler.cc:397] ptxas warning : Registers are spilled to local memory in function 'gemm_fusion_dot_10', 8 bytes spill stores, 8 bytes spill loads\n",
      "\n",
      "2025-02-24 22:00:57.210392: I external/local_xla/xla/stream_executor/cuda/cuda_asm_compiler.cc:397] ptxas warning : Registers are spilled to local memory in function 'input_reduce_select_fusion', 12 bytes spill stores, 8 bytes spill loads\n",
      "ptxas warning : Registers are spilled to local memory in function 'input_add_reduce_select_fusion', 136 bytes spill stores, 92 bytes spill loads\n",
      "\n"
     ]
    },
    {
     "name": "stdout",
     "output_type": "stream",
     "text": [
      "\u001b[1m32/32\u001b[0m \u001b[32m━━━━━━━━━━━━━━━━━━━━\u001b[0m\u001b[37m\u001b[0m \u001b[1m1s\u001b[0m 13ms/step  \n",
      "Transformer MSE: 0.07717721034889567\n",
      "Testing params: {'num_heads': 4, 'lookback': 10, 'dropout_rate': 0.25, 'batch_size': 32, 'ff_dim': 64}\n"
     ]
    },
    {
     "name": "stderr",
     "output_type": "stream",
     "text": [
      "2025-02-24 22:01:12.451024: I external/local_xla/xla/stream_executor/cuda/cuda_asm_compiler.cc:397] ptxas warning : Registers are spilled to local memory in function 'input_add_reduce_select_fusion', 136 bytes spill stores, 100 bytes spill loads\n",
      "\n"
     ]
    },
    {
     "name": "stdout",
     "output_type": "stream",
     "text": [
      "\u001b[1m32/32\u001b[0m \u001b[32m━━━━━━━━━━━━━━━━━━━━\u001b[0m\u001b[37m\u001b[0m \u001b[1m1s\u001b[0m 17ms/step  \n",
      "Transformer MSE: 0.055999322499541884\n",
      "Testing params: {'num_heads': 4, 'lookback': 10, 'dropout_rate': 0.25, 'batch_size': 32, 'ff_dim': 128}\n"
     ]
    },
    {
     "name": "stderr",
     "output_type": "stream",
     "text": [
      "2025-02-24 22:01:27.644206: I external/local_xla/xla/stream_executor/cuda/cuda_asm_compiler.cc:397] ptxas warning : Registers are spilled to local memory in function 'gemm_fusion_dot_10', 8 bytes spill stores, 8 bytes spill loads\n",
      "\n",
      "2025-02-24 22:01:27.660597: I external/local_xla/xla/stream_executor/cuda/cuda_asm_compiler.cc:397] ptxas warning : Registers are spilled to local memory in function 'gemm_fusion_dot_28', 8 bytes spill stores, 8 bytes spill loads\n",
      "\n",
      "2025-02-24 22:01:27.728477: I external/local_xla/xla/stream_executor/cuda/cuda_asm_compiler.cc:397] ptxas warning : Registers are spilled to local memory in function 'gemm_fusion_dot_28', 4 bytes spill stores, 4 bytes spill loads\n",
      "\n",
      "2025-02-24 22:01:27.765911: I external/local_xla/xla/stream_executor/cuda/cuda_asm_compiler.cc:397] ptxas warning : Registers are spilled to local memory in function 'gemm_fusion_dot_28', 4 bytes spill stores, 4 bytes spill loads\n",
      "\n",
      "2025-02-24 22:01:27.796387: I external/local_xla/xla/stream_executor/cuda/cuda_asm_compiler.cc:397] ptxas warning : Registers are spilled to local memory in function 'gemm_fusion_dot_28', 4 bytes spill stores, 4 bytes spill loads\n",
      "\n",
      "2025-02-24 22:01:27.857194: I external/local_xla/xla/stream_executor/cuda/cuda_asm_compiler.cc:397] ptxas warning : Registers are spilled to local memory in function 'gemm_fusion_dot_10', 8 bytes spill stores, 8 bytes spill loads\n",
      "\n",
      "2025-02-24 22:01:30.719916: I external/local_xla/xla/stream_executor/cuda/cuda_asm_compiler.cc:397] ptxas warning : Registers are spilled to local memory in function 'gemm_fusion_dot_10', 8 bytes spill stores, 8 bytes spill loads\n",
      "\n",
      "2025-02-24 22:01:30.822135: I external/local_xla/xla/stream_executor/cuda/cuda_asm_compiler.cc:397] ptxas warning : Registers are spilled to local memory in function 'gemm_fusion_dot_28', 8 bytes spill stores, 8 bytes spill loads\n",
      "\n",
      "2025-02-24 22:01:30.848258: I external/local_xla/xla/stream_executor/cuda/cuda_asm_compiler.cc:397] ptxas warning : Registers are spilled to local memory in function 'gemm_fusion_dot_28', 16 bytes spill stores, 16 bytes spill loads\n",
      "\n",
      "2025-02-24 22:01:30.862324: I external/local_xla/xla/stream_executor/cuda/cuda_asm_compiler.cc:397] ptxas warning : Registers are spilled to local memory in function 'gemm_fusion_dot_28', 4 bytes spill stores, 4 bytes spill loads\n",
      "\n",
      "2025-02-24 22:01:30.885739: I external/local_xla/xla/stream_executor/cuda/cuda_asm_compiler.cc:397] ptxas warning : Registers are spilled to local memory in function 'gemm_fusion_dot_28', 4 bytes spill stores, 4 bytes spill loads\n",
      "\n",
      "2025-02-24 22:01:30.894330: I external/local_xla/xla/stream_executor/cuda/cuda_asm_compiler.cc:397] ptxas warning : Registers are spilled to local memory in function 'gemm_fusion_dot_28', 4 bytes spill stores, 4 bytes spill loads\n",
      "\n",
      "2025-02-24 22:01:31.164784: I external/local_xla/xla/stream_executor/cuda/cuda_asm_compiler.cc:397] ptxas warning : Registers are spilled to local memory in function 'gemm_fusion_dot_10', 8 bytes spill stores, 8 bytes spill loads\n",
      "\n",
      "2025-02-24 22:01:31.180549: I external/local_xla/xla/stream_executor/cuda/cuda_asm_compiler.cc:397] ptxas warning : Registers are spilled to local memory in function 'gemm_fusion_dot_10', 8 bytes spill stores, 8 bytes spill loads\n",
      "\n",
      "2025-02-24 22:01:32.856081: I external/local_xla/xla/stream_executor/cuda/cuda_asm_compiler.cc:397] ptxas warning : Registers are spilled to local memory in function 'input_add_reduce_select_fusion', 136 bytes spill stores, 100 bytes spill loads\n",
      "\n"
     ]
    },
    {
     "name": "stdout",
     "output_type": "stream",
     "text": [
      "\u001b[1m 1/32\u001b[0m \u001b[37m━━━━━━━━━━━━━━━━━━━━\u001b[0m \u001b[1m14s\u001b[0m 469ms/step"
     ]
    },
    {
     "name": "stderr",
     "output_type": "stream",
     "text": [
      "2025-02-24 22:01:49.019057: I external/local_xla/xla/stream_executor/cuda/cuda_asm_compiler.cc:397] ptxas warning : Registers are spilled to local memory in function 'gemm_fusion_dot_10', 16 bytes spill stores, 16 bytes spill loads\n",
      "\n"
     ]
    },
    {
     "name": "stdout",
     "output_type": "stream",
     "text": [
      "\u001b[1m32/32\u001b[0m \u001b[32m━━━━━━━━━━━━━━━━━━━━\u001b[0m\u001b[37m\u001b[0m \u001b[1m1s\u001b[0m 27ms/step  \n",
      "Transformer MSE: 0.0630372185654496\n",
      "Testing params: {'num_heads': 4, 'lookback': 10, 'dropout_rate': 0.25, 'batch_size': 64, 'ff_dim': 64}\n",
      "\u001b[1m32/32\u001b[0m \u001b[32m━━━━━━━━━━━━━━━━━━━━\u001b[0m\u001b[37m\u001b[0m \u001b[1m1s\u001b[0m 11ms/step  \n",
      "Transformer MSE: 0.04406075806058399\n",
      "Testing params: {'num_heads': 4, 'lookback': 10, 'dropout_rate': 0.25, 'batch_size': 64, 'ff_dim': 128}\n"
     ]
    },
    {
     "name": "stderr",
     "output_type": "stream",
     "text": [
      "2025-02-24 22:02:05.454901: I external/local_xla/xla/stream_executor/cuda/cuda_asm_compiler.cc:397] ptxas warning : Registers are spilled to local memory in function 'gemm_fusion_dot_28', 8 bytes spill stores, 8 bytes spill loads\n",
      "\n",
      "2025-02-24 22:02:05.487034: I external/local_xla/xla/stream_executor/cuda/cuda_asm_compiler.cc:397] ptxas warning : Registers are spilled to local memory in function 'gemm_fusion_dot_28', 4 bytes spill stores, 4 bytes spill loads\n",
      "\n",
      "2025-02-24 22:02:05.534782: I external/local_xla/xla/stream_executor/cuda/cuda_asm_compiler.cc:397] ptxas warning : Registers are spilled to local memory in function 'gemm_fusion_dot_10', 8 bytes spill stores, 8 bytes spill loads\n",
      "\n",
      "2025-02-24 22:02:05.569333: I external/local_xla/xla/stream_executor/cuda/cuda_asm_compiler.cc:397] ptxas warning : Registers are spilled to local memory in function 'gemm_fusion_dot_10', 32 bytes spill stores, 32 bytes spill loads\n",
      "\n",
      "2025-02-24 22:02:05.646896: I external/local_xla/xla/stream_executor/cuda/cuda_asm_compiler.cc:397] ptxas warning : Registers are spilled to local memory in function 'gemm_fusion_dot_10', 32 bytes spill stores, 32 bytes spill loads\n",
      "\n",
      "2025-02-24 22:02:09.383860: I external/local_xla/xla/stream_executor/cuda/cuda_asm_compiler.cc:397] ptxas warning : Registers are spilled to local memory in function 'input_add_reduce_select_fusion', 136 bytes spill stores, 100 bytes spill loads\n",
      "\n"
     ]
    },
    {
     "name": "stdout",
     "output_type": "stream",
     "text": [
      "\u001b[1m32/32\u001b[0m \u001b[32m━━━━━━━━━━━━━━━━━━━━\u001b[0m\u001b[37m\u001b[0m \u001b[1m1s\u001b[0m 12ms/step  \n",
      "Transformer MSE: 0.059913224991243734\n",
      "Testing params: {'num_heads': 4, 'lookback': 5, 'dropout_rate': 0.25, 'batch_size': 32, 'ff_dim': 64}\n",
      "\u001b[1m32/32\u001b[0m \u001b[32m━━━━━━━━━━━━━━━━━━━━\u001b[0m\u001b[37m\u001b[0m \u001b[1m1s\u001b[0m 17ms/step  \n",
      "Transformer MSE: 0.04416371073667267\n",
      "Testing params: {'num_heads': 4, 'lookback': 5, 'dropout_rate': 0.25, 'batch_size': 32, 'ff_dim': 128}\n"
     ]
    },
    {
     "name": "stderr",
     "output_type": "stream",
     "text": [
      "2025-02-24 22:02:42.619451: I external/local_xla/xla/stream_executor/cuda/cuda_asm_compiler.cc:397] ptxas warning : Registers are spilled to local memory in function 'gemm_fusion_dot_28', 16 bytes spill stores, 16 bytes spill loads\n",
      "\n",
      "2025-02-24 22:02:42.630756: I external/local_xla/xla/stream_executor/cuda/cuda_asm_compiler.cc:397] ptxas warning : Registers are spilled to local memory in function 'gemm_fusion_dot_28', 4 bytes spill stores, 4 bytes spill loads\n",
      "\n",
      "2025-02-24 22:02:42.655028: I external/local_xla/xla/stream_executor/cuda/cuda_asm_compiler.cc:397] ptxas warning : Registers are spilled to local memory in function 'gemm_fusion_dot_28', 4 bytes spill stores, 4 bytes spill loads\n",
      "\n",
      "2025-02-24 22:02:42.679964: I external/local_xla/xla/stream_executor/cuda/cuda_asm_compiler.cc:397] ptxas warning : Registers are spilled to local memory in function 'gemm_fusion_dot_28', 4 bytes spill stores, 4 bytes spill loads\n",
      "\n",
      "2025-02-24 22:02:42.688401: I external/local_xla/xla/stream_executor/cuda/cuda_asm_compiler.cc:397] ptxas warning : Registers are spilled to local memory in function 'gemm_fusion_dot_28', 8 bytes spill stores, 8 bytes spill loads\n",
      "\n",
      "2025-02-24 22:02:42.766378: I external/local_xla/xla/stream_executor/cuda/cuda_asm_compiler.cc:397] ptxas warning : Registers are spilled to local memory in function 'gemm_fusion_dot_10', 8 bytes spill stores, 8 bytes spill loads\n",
      "\n",
      "2025-02-24 22:02:42.787987: I external/local_xla/xla/stream_executor/cuda/cuda_asm_compiler.cc:397] ptxas warning : Registers are spilled to local memory in function 'gemm_fusion_dot_10', 8 bytes spill stores, 8 bytes spill loads\n",
      "\n",
      "2025-02-24 22:02:42.803028: I external/local_xla/xla/stream_executor/cuda/cuda_asm_compiler.cc:397] ptxas warning : Registers are spilled to local memory in function 'gemm_fusion_dot_10', 8 bytes spill stores, 8 bytes spill loads\n",
      "\n",
      "2025-02-24 22:02:45.349256: I external/local_xla/xla/stream_executor/cuda/cuda_asm_compiler.cc:397] ptxas warning : Registers are spilled to local memory in function 'gemm_fusion_dot_10', 8 bytes spill stores, 8 bytes spill loads\n",
      "\n",
      "2025-02-24 22:02:45.385719: I external/local_xla/xla/stream_executor/cuda/cuda_asm_compiler.cc:397] ptxas warning : Registers are spilled to local memory in function 'gemm_fusion_dot_28', 4 bytes spill stores, 4 bytes spill loads\n",
      "\n",
      "2025-02-24 22:02:45.449489: I external/local_xla/xla/stream_executor/cuda/cuda_asm_compiler.cc:397] ptxas warning : Registers are spilled to local memory in function 'gemm_fusion_dot_10', 8 bytes spill stores, 8 bytes spill loads\n",
      "\n",
      "2025-02-24 22:02:45.459581: I external/local_xla/xla/stream_executor/cuda/cuda_asm_compiler.cc:397] ptxas warning : Registers are spilled to local memory in function 'gemm_fusion_dot_28', 8 bytes spill stores, 8 bytes spill loads\n",
      "\n",
      "2025-02-24 22:02:45.472647: I external/local_xla/xla/stream_executor/cuda/cuda_asm_compiler.cc:397] ptxas warning : Registers are spilled to local memory in function 'gemm_fusion_dot_28', 16 bytes spill stores, 16 bytes spill loads\n",
      "\n",
      "2025-02-24 22:02:45.491817: I external/local_xla/xla/stream_executor/cuda/cuda_asm_compiler.cc:397] ptxas warning : Registers are spilled to local memory in function 'gemm_fusion_dot_28', 4 bytes spill stores, 4 bytes spill loads\n",
      "\n",
      "2025-02-24 22:02:45.515835: I external/local_xla/xla/stream_executor/cuda/cuda_asm_compiler.cc:397] ptxas warning : Registers are spilled to local memory in function 'gemm_fusion_dot_28', 4 bytes spill stores, 4 bytes spill loads\n",
      "\n",
      "2025-02-24 22:02:45.610118: I external/local_xla/xla/stream_executor/cuda/cuda_asm_compiler.cc:397] ptxas warning : Registers are spilled to local memory in function 'gemm_fusion_dot_10', 8 bytes spill stores, 8 bytes spill loads\n",
      "\n"
     ]
    },
    {
     "name": "stdout",
     "output_type": "stream",
     "text": [
      "\u001b[1m32/32\u001b[0m \u001b[32m━━━━━━━━━━━━━━━━━━━━\u001b[0m\u001b[37m\u001b[0m \u001b[1m1s\u001b[0m 27ms/step  \n",
      "Transformer MSE: 0.03688812062035319\n",
      "Testing params: {'num_heads': 4, 'lookback': 5, 'dropout_rate': 0.25, 'batch_size': 64, 'ff_dim': 64}\n",
      "\u001b[1m32/32\u001b[0m \u001b[32m━━━━━━━━━━━━━━━━━━━━\u001b[0m\u001b[37m\u001b[0m \u001b[1m1s\u001b[0m 12ms/step  \n",
      "Transformer MSE: 0.05264680011300247\n",
      "Testing params: {'num_heads': 4, 'lookback': 5, 'dropout_rate': 0.25, 'batch_size': 64, 'ff_dim': 128}\n",
      "\u001b[1m32/32\u001b[0m \u001b[32m━━━━━━━━━━━━━━━━━━━━\u001b[0m\u001b[37m\u001b[0m \u001b[1m1s\u001b[0m 13ms/step  \n",
      "Transformer MSE: 0.04124932706331345\n",
      "Testing params: {'num_heads': 4, 'lookback': 15, 'dropout_rate': 0.25, 'batch_size': 32, 'ff_dim': 64}\n"
     ]
    },
    {
     "name": "stderr",
     "output_type": "stream",
     "text": [
      "2025-02-24 22:03:36.241620: I external/local_xla/xla/stream_executor/cuda/cuda_asm_compiler.cc:397] ptxas warning : Registers are spilled to local memory in function 'input_reduce_select_fusion', 12 bytes spill stores, 8 bytes spill loads\n",
      "ptxas warning : Registers are spilled to local memory in function 'input_add_reduce_select_fusion', 136 bytes spill stores, 92 bytes spill loads\n",
      "\n"
     ]
    },
    {
     "name": "stdout",
     "output_type": "stream",
     "text": [
      "\u001b[1m32/32\u001b[0m \u001b[32m━━━━━━━━━━━━━━━━━━━━\u001b[0m\u001b[37m\u001b[0m \u001b[1m1s\u001b[0m 18ms/step  \n",
      "Transformer MSE: 0.07606006305608577\n",
      "Testing params: {'num_heads': 4, 'lookback': 15, 'dropout_rate': 0.25, 'batch_size': 32, 'ff_dim': 128}\n"
     ]
    },
    {
     "name": "stderr",
     "output_type": "stream",
     "text": [
      "2025-02-24 22:03:52.874157: I external/local_xla/xla/stream_executor/cuda/cuda_asm_compiler.cc:397] ptxas warning : Registers are spilled to local memory in function 'gemm_fusion_dot_10', 8 bytes spill stores, 8 bytes spill loads\n",
      "\n",
      "2025-02-24 22:03:52.906310: I external/local_xla/xla/stream_executor/cuda/cuda_asm_compiler.cc:397] ptxas warning : Registers are spilled to local memory in function 'gemm_fusion_dot_28', 4 bytes spill stores, 4 bytes spill loads\n",
      "\n",
      "2025-02-24 22:03:52.923248: I external/local_xla/xla/stream_executor/cuda/cuda_asm_compiler.cc:397] ptxas warning : Registers are spilled to local memory in function 'gemm_fusion_dot_28', 16 bytes spill stores, 16 bytes spill loads\n",
      "\n",
      "2025-02-24 22:03:52.927622: I external/local_xla/xla/stream_executor/cuda/cuda_asm_compiler.cc:397] ptxas warning : Registers are spilled to local memory in function 'gemm_fusion_dot_28', 4 bytes spill stores, 4 bytes spill loads\n",
      "\n",
      "2025-02-24 22:03:52.935647: I external/local_xla/xla/stream_executor/cuda/cuda_asm_compiler.cc:397] ptxas warning : Registers are spilled to local memory in function 'gemm_fusion_dot_28', 8 bytes spill stores, 8 bytes spill loads\n",
      "\n",
      "2025-02-24 22:03:52.936888: I external/local_xla/xla/stream_executor/cuda/cuda_asm_compiler.cc:397] ptxas warning : Registers are spilled to local memory in function 'gemm_fusion_dot_28', 4 bytes spill stores, 4 bytes spill loads\n",
      "\n",
      "2025-02-24 22:03:53.091904: I external/local_xla/xla/stream_executor/cuda/cuda_asm_compiler.cc:397] ptxas warning : Registers are spilled to local memory in function 'gemm_fusion_dot_10', 8 bytes spill stores, 8 bytes spill loads\n",
      "\n",
      "2025-02-24 22:03:53.179661: I external/local_xla/xla/stream_executor/cuda/cuda_asm_compiler.cc:397] ptxas warning : Registers are spilled to local memory in function 'gemm_fusion_dot_10', 8 bytes spill stores, 8 bytes spill loads\n",
      "\n",
      "2025-02-24 22:03:55.974608: I external/local_xla/xla/stream_executor/cuda/cuda_asm_compiler.cc:397] ptxas warning : Registers are spilled to local memory in function 'gemm_fusion_dot_28', 4 bytes spill stores, 4 bytes spill loads\n",
      "\n",
      "2025-02-24 22:03:55.983039: I external/local_xla/xla/stream_executor/cuda/cuda_asm_compiler.cc:397] ptxas warning : Registers are spilled to local memory in function 'gemm_fusion_dot_28', 4 bytes spill stores, 4 bytes spill loads\n",
      "\n",
      "2025-02-24 22:03:55.994930: I external/local_xla/xla/stream_executor/cuda/cuda_asm_compiler.cc:397] ptxas warning : Registers are spilled to local memory in function 'gemm_fusion_dot_28', 4 bytes spill stores, 4 bytes spill loads\n",
      "\n",
      "2025-02-24 22:03:55.997015: I external/local_xla/xla/stream_executor/cuda/cuda_asm_compiler.cc:397] ptxas warning : Registers are spilled to local memory in function 'gemm_fusion_dot_10', 8 bytes spill stores, 8 bytes spill loads\n",
      "\n",
      "2025-02-24 22:03:56.025687: I external/local_xla/xla/stream_executor/cuda/cuda_asm_compiler.cc:397] ptxas warning : Registers are spilled to local memory in function 'gemm_fusion_dot_28', 16 bytes spill stores, 16 bytes spill loads\n",
      "\n",
      "2025-02-24 22:03:56.028008: I external/local_xla/xla/stream_executor/cuda/cuda_asm_compiler.cc:397] ptxas warning : Registers are spilled to local memory in function 'gemm_fusion_dot_28', 8 bytes spill stores, 8 bytes spill loads\n",
      "\n",
      "2025-02-24 22:03:56.124336: I external/local_xla/xla/stream_executor/cuda/cuda_asm_compiler.cc:397] ptxas warning : Registers are spilled to local memory in function 'gemm_fusion_dot_10', 8 bytes spill stores, 8 bytes spill loads\n",
      "\n",
      "2025-02-24 22:03:56.200378: I external/local_xla/xla/stream_executor/cuda/cuda_asm_compiler.cc:397] ptxas warning : Registers are spilled to local memory in function 'gemm_fusion_dot_10', 8 bytes spill stores, 8 bytes spill loads\n",
      "\n",
      "2025-02-24 22:03:57.974883: I external/local_xla/xla/stream_executor/cuda/cuda_asm_compiler.cc:397] ptxas warning : Registers are spilled to local memory in function 'input_reduce_select_fusion', 12 bytes spill stores, 8 bytes spill loads\n",
      "ptxas warning : Registers are spilled to local memory in function 'input_add_reduce_select_fusion', 136 bytes spill stores, 92 bytes spill loads\n",
      "\n"
     ]
    },
    {
     "name": "stdout",
     "output_type": "stream",
     "text": [
      "\u001b[1m 1/32\u001b[0m \u001b[37m━━━━━━━━━━━━━━━━━━━━\u001b[0m \u001b[1m15s\u001b[0m 500ms/step"
     ]
    },
    {
     "name": "stderr",
     "output_type": "stream",
     "text": [
      "2025-02-24 22:04:13.758545: I external/local_xla/xla/stream_executor/cuda/cuda_asm_compiler.cc:397] ptxas warning : Registers are spilled to local memory in function 'gemm_fusion_dot_10', 16 bytes spill stores, 16 bytes spill loads\n",
      "\n"
     ]
    },
    {
     "name": "stdout",
     "output_type": "stream",
     "text": [
      "\u001b[1m32/32\u001b[0m \u001b[32m━━━━━━━━━━━━━━━━━━━━\u001b[0m\u001b[37m\u001b[0m \u001b[1m1s\u001b[0m 28ms/step  \n",
      "Transformer MSE: 0.06085835300424492\n",
      "Testing params: {'num_heads': 4, 'lookback': 15, 'dropout_rate': 0.25, 'batch_size': 64, 'ff_dim': 64}\n"
     ]
    },
    {
     "name": "stderr",
     "output_type": "stream",
     "text": [
      "2025-02-24 22:04:20.136711: I external/local_xla/xla/stream_executor/cuda/cuda_asm_compiler.cc:397] ptxas warning : Registers are spilled to local memory in function 'input_reduce_select_fusion', 12 bytes spill stores, 8 bytes spill loads\n",
      "ptxas warning : Registers are spilled to local memory in function 'input_add_reduce_select_fusion', 136 bytes spill stores, 92 bytes spill loads\n",
      "\n"
     ]
    },
    {
     "name": "stdout",
     "output_type": "stream",
     "text": [
      "\u001b[1m32/32\u001b[0m \u001b[32m━━━━━━━━━━━━━━━━━━━━\u001b[0m\u001b[37m\u001b[0m \u001b[1m1s\u001b[0m 11ms/step  \n",
      "Transformer MSE: 0.050316450141577006\n",
      "Testing params: {'num_heads': 4, 'lookback': 15, 'dropout_rate': 0.25, 'batch_size': 64, 'ff_dim': 128}\n"
     ]
    },
    {
     "name": "stderr",
     "output_type": "stream",
     "text": [
      "2025-02-24 22:04:28.948062: I external/local_xla/xla/stream_executor/cuda/cuda_asm_compiler.cc:397] ptxas warning : Registers are spilled to local memory in function 'gemm_fusion_dot_28', 4 bytes spill stores, 4 bytes spill loads\n",
      "\n",
      "2025-02-24 22:04:29.063936: I external/local_xla/xla/stream_executor/cuda/cuda_asm_compiler.cc:397] ptxas warning : Registers are spilled to local memory in function 'gemm_fusion_dot_28', 4 bytes spill stores, 4 bytes spill loads\n",
      "\n",
      "2025-02-24 22:04:29.077499: I external/local_xla/xla/stream_executor/cuda/cuda_asm_compiler.cc:397] ptxas warning : Registers are spilled to local memory in function 'gemm_fusion_dot_28', 4 bytes spill stores, 4 bytes spill loads\n",
      "\n",
      "2025-02-24 22:04:29.080948: I external/local_xla/xla/stream_executor/cuda/cuda_asm_compiler.cc:397] ptxas warning : Registers are spilled to local memory in function 'gemm_fusion_dot_28', 8 bytes spill stores, 8 bytes spill loads\n",
      "\n",
      "2025-02-24 22:04:29.126639: I external/local_xla/xla/stream_executor/cuda/cuda_asm_compiler.cc:397] ptxas warning : Registers are spilled to local memory in function 'gemm_fusion_dot_10', 8 bytes spill stores, 8 bytes spill loads\n",
      "\n",
      "2025-02-24 22:04:29.149185: I external/local_xla/xla/stream_executor/cuda/cuda_asm_compiler.cc:397] ptxas warning : Registers are spilled to local memory in function 'gemm_fusion_dot_10', 8 bytes spill stores, 8 bytes spill loads\n",
      "\n",
      "2025-02-24 22:04:33.157792: I external/local_xla/xla/stream_executor/cuda/cuda_asm_compiler.cc:397] ptxas warning : Registers are spilled to local memory in function 'input_reduce_select_fusion', 12 bytes spill stores, 8 bytes spill loads\n",
      "ptxas warning : Registers are spilled to local memory in function 'input_add_reduce_select_fusion', 136 bytes spill stores, 92 bytes spill loads\n",
      "\n"
     ]
    },
    {
     "name": "stdout",
     "output_type": "stream",
     "text": [
      "\u001b[1m32/32\u001b[0m \u001b[32m━━━━━━━━━━━━━━━━━━━━\u001b[0m\u001b[37m\u001b[0m \u001b[1m1s\u001b[0m 13ms/step  \n",
      "Transformer MSE: 0.0528436638248353\n",
      "Testing params: {'num_heads': 8, 'lookback': 10, 'dropout_rate': 0.25, 'batch_size': 32, 'ff_dim': 64}\n"
     ]
    },
    {
     "name": "stderr",
     "output_type": "stream",
     "text": [
      "2025-02-24 22:04:47.425698: I external/local_xla/xla/stream_executor/cuda/cuda_asm_compiler.cc:397] ptxas warning : Registers are spilled to local memory in function 'input_add_reduce_select_fusion', 136 bytes spill stores, 100 bytes spill loads\n",
      "\n"
     ]
    },
    {
     "name": "stdout",
     "output_type": "stream",
     "text": [
      "\u001b[1m32/32\u001b[0m \u001b[32m━━━━━━━━━━━━━━━━━━━━\u001b[0m\u001b[37m\u001b[0m \u001b[1m1s\u001b[0m 17ms/step  \n",
      "Transformer MSE: 0.08721294366861995\n",
      "Testing params: {'num_heads': 8, 'lookback': 10, 'dropout_rate': 0.25, 'batch_size': 32, 'ff_dim': 128}\n"
     ]
    },
    {
     "name": "stderr",
     "output_type": "stream",
     "text": [
      "2025-02-24 22:05:04.735258: I external/local_xla/xla/stream_executor/cuda/cuda_asm_compiler.cc:397] ptxas warning : Registers are spilled to local memory in function 'gemm_fusion_dot_10', 8 bytes spill stores, 8 bytes spill loads\n",
      "\n",
      "2025-02-24 22:05:04.743506: I external/local_xla/xla/stream_executor/cuda/cuda_asm_compiler.cc:397] ptxas warning : Registers are spilled to local memory in function 'gemm_fusion_dot_28', 4 bytes spill stores, 4 bytes spill loads\n",
      "\n",
      "2025-02-24 22:05:04.776884: I external/local_xla/xla/stream_executor/cuda/cuda_asm_compiler.cc:397] ptxas warning : Registers are spilled to local memory in function 'gemm_fusion_dot_28', 8 bytes spill stores, 8 bytes spill loads\n",
      "\n",
      "2025-02-24 22:05:04.792315: I external/local_xla/xla/stream_executor/cuda/cuda_asm_compiler.cc:397] ptxas warning : Registers are spilled to local memory in function 'gemm_fusion_dot_28', 4 bytes spill stores, 4 bytes spill loads\n",
      "\n",
      "2025-02-24 22:05:04.821566: I external/local_xla/xla/stream_executor/cuda/cuda_asm_compiler.cc:397] ptxas warning : Registers are spilled to local memory in function 'gemm_fusion_dot_28', 4 bytes spill stores, 4 bytes spill loads\n",
      "\n",
      "2025-02-24 22:05:04.884133: I external/local_xla/xla/stream_executor/cuda/cuda_asm_compiler.cc:397] ptxas warning : Registers are spilled to local memory in function 'gemm_fusion_dot_10', 8 bytes spill stores, 8 bytes spill loads\n",
      "\n",
      "2025-02-24 22:05:07.579276: I external/local_xla/xla/stream_executor/cuda/cuda_asm_compiler.cc:397] ptxas warning : Registers are spilled to local memory in function 'gemm_fusion_dot_28', 4 bytes spill stores, 4 bytes spill loads\n",
      "\n",
      "2025-02-24 22:05:07.651010: I external/local_xla/xla/stream_executor/cuda/cuda_asm_compiler.cc:397] ptxas warning : Registers are spilled to local memory in function 'gemm_fusion_dot_28', 8 bytes spill stores, 8 bytes spill loads\n",
      "\n",
      "2025-02-24 22:05:07.687808: I external/local_xla/xla/stream_executor/cuda/cuda_asm_compiler.cc:397] ptxas warning : Registers are spilled to local memory in function 'gemm_fusion_dot_28', 4 bytes spill stores, 4 bytes spill loads\n",
      "\n",
      "2025-02-24 22:05:07.692375: I external/local_xla/xla/stream_executor/cuda/cuda_asm_compiler.cc:397] ptxas warning : Registers are spilled to local memory in function 'gemm_fusion_dot_28', 16 bytes spill stores, 16 bytes spill loads\n",
      "\n",
      "2025-02-24 22:05:07.695640: I external/local_xla/xla/stream_executor/cuda/cuda_asm_compiler.cc:397] ptxas warning : Registers are spilled to local memory in function 'gemm_fusion_dot_28', 4 bytes spill stores, 4 bytes spill loads\n",
      "\n",
      "2025-02-24 22:05:07.783643: I external/local_xla/xla/stream_executor/cuda/cuda_asm_compiler.cc:397] ptxas warning : Registers are spilled to local memory in function 'gemm_fusion_dot_10', 8 bytes spill stores, 8 bytes spill loads\n",
      "\n",
      "2025-02-24 22:05:08.028761: I external/local_xla/xla/stream_executor/cuda/cuda_asm_compiler.cc:397] ptxas warning : Registers are spilled to local memory in function 'gemm_fusion_dot_10', 8 bytes spill stores, 8 bytes spill loads\n",
      "\n",
      "2025-02-24 22:05:08.051303: I external/local_xla/xla/stream_executor/cuda/cuda_asm_compiler.cc:397] ptxas warning : Registers are spilled to local memory in function 'gemm_fusion_dot_10', 8 bytes spill stores, 8 bytes spill loads\n",
      "\n",
      "2025-02-24 22:05:09.782202: I external/local_xla/xla/stream_executor/cuda/cuda_asm_compiler.cc:397] ptxas warning : Registers are spilled to local memory in function 'input_add_reduce_select_fusion', 136 bytes spill stores, 100 bytes spill loads\n",
      "\n"
     ]
    },
    {
     "name": "stdout",
     "output_type": "stream",
     "text": [
      "\u001b[1m 1/32\u001b[0m \u001b[37m━━━━━━━━━━━━━━━━━━━━\u001b[0m \u001b[1m15s\u001b[0m 500ms/step"
     ]
    },
    {
     "name": "stderr",
     "output_type": "stream",
     "text": [
      "2025-02-24 22:05:25.209365: I external/local_xla/xla/stream_executor/cuda/cuda_asm_compiler.cc:397] ptxas warning : Registers are spilled to local memory in function 'gemm_fusion_dot_10', 16 bytes spill stores, 16 bytes spill loads\n",
      "\n"
     ]
    },
    {
     "name": "stdout",
     "output_type": "stream",
     "text": [
      "\u001b[1m32/32\u001b[0m \u001b[32m━━━━━━━━━━━━━━━━━━━━\u001b[0m\u001b[37m\u001b[0m \u001b[1m1s\u001b[0m 27ms/step  \n",
      "Transformer MSE: 0.057186759324140315\n",
      "Testing params: {'num_heads': 8, 'lookback': 10, 'dropout_rate': 0.25, 'batch_size': 64, 'ff_dim': 64}\n"
     ]
    },
    {
     "name": "stderr",
     "output_type": "stream",
     "text": [
      "2025-02-24 22:05:31.613237: I external/local_xla/xla/stream_executor/cuda/cuda_asm_compiler.cc:397] ptxas warning : Registers are spilled to local memory in function 'input_add_reduce_select_fusion', 136 bytes spill stores, 100 bytes spill loads\n",
      "\n"
     ]
    },
    {
     "name": "stdout",
     "output_type": "stream",
     "text": [
      "\u001b[1m32/32\u001b[0m \u001b[32m━━━━━━━━━━━━━━━━━━━━\u001b[0m\u001b[37m\u001b[0m \u001b[1m1s\u001b[0m 13ms/step  \n",
      "Transformer MSE: 0.05696248305258571\n",
      "Testing params: {'num_heads': 8, 'lookback': 10, 'dropout_rate': 0.25, 'batch_size': 64, 'ff_dim': 128}\n"
     ]
    },
    {
     "name": "stderr",
     "output_type": "stream",
     "text": [
      "2025-02-24 22:05:42.124308: I external/local_xla/xla/stream_executor/cuda/cuda_asm_compiler.cc:397] ptxas warning : Registers are spilled to local memory in function 'gemm_fusion_dot_28', 8 bytes spill stores, 8 bytes spill loads\n",
      "\n",
      "2025-02-24 22:05:42.125924: I external/local_xla/xla/stream_executor/cuda/cuda_asm_compiler.cc:397] ptxas warning : Registers are spilled to local memory in function 'gemm_fusion_dot_10', 32 bytes spill stores, 32 bytes spill loads\n",
      "\n",
      "2025-02-24 22:05:42.257117: I external/local_xla/xla/stream_executor/cuda/cuda_asm_compiler.cc:397] ptxas warning : Registers are spilled to local memory in function 'gemm_fusion_dot_28', 4 bytes spill stores, 4 bytes spill loads\n",
      "\n",
      "2025-02-24 22:05:42.259100: I external/local_xla/xla/stream_executor/cuda/cuda_asm_compiler.cc:397] ptxas warning : Registers are spilled to local memory in function 'gemm_fusion_dot_10', 32 bytes spill stores, 32 bytes spill loads\n",
      "\n",
      "2025-02-24 22:05:42.287086: I external/local_xla/xla/stream_executor/cuda/cuda_asm_compiler.cc:397] ptxas warning : Registers are spilled to local memory in function 'gemm_fusion_dot_10', 8 bytes spill stores, 8 bytes spill loads\n",
      "\n",
      "2025-02-24 22:05:46.286243: I external/local_xla/xla/stream_executor/cuda/cuda_asm_compiler.cc:397] ptxas warning : Registers are spilled to local memory in function 'input_add_reduce_select_fusion', 136 bytes spill stores, 100 bytes spill loads\n",
      "\n"
     ]
    },
    {
     "name": "stdout",
     "output_type": "stream",
     "text": [
      "\u001b[1m32/32\u001b[0m \u001b[32m━━━━━━━━━━━━━━━━━━━━\u001b[0m\u001b[37m\u001b[0m \u001b[1m1s\u001b[0m 13ms/step  \n",
      "Transformer MSE: 0.07491592122059809\n",
      "Testing params: {'num_heads': 8, 'lookback': 5, 'dropout_rate': 0.25, 'batch_size': 32, 'ff_dim': 64}\n",
      "\u001b[1m32/32\u001b[0m \u001b[32m━━━━━━━━━━━━━━━━━━━━\u001b[0m\u001b[37m\u001b[0m \u001b[1m1s\u001b[0m 17ms/step  \n",
      "Transformer MSE: 0.04195706298003936\n",
      "Testing params: {'num_heads': 8, 'lookback': 5, 'dropout_rate': 0.25, 'batch_size': 32, 'ff_dim': 128}\n"
     ]
    },
    {
     "name": "stderr",
     "output_type": "stream",
     "text": [
      "2025-02-24 22:06:17.013144: I external/local_xla/xla/stream_executor/cuda/cuda_asm_compiler.cc:397] ptxas warning : Registers are spilled to local memory in function 'gemm_fusion_dot_28', 4 bytes spill stores, 4 bytes spill loads\n",
      "\n",
      "2025-02-24 22:06:17.022413: I external/local_xla/xla/stream_executor/cuda/cuda_asm_compiler.cc:397] ptxas warning : Registers are spilled to local memory in function 'gemm_fusion_dot_28', 4 bytes spill stores, 4 bytes spill loads\n",
      "\n",
      "2025-02-24 22:06:17.026228: I external/local_xla/xla/stream_executor/cuda/cuda_asm_compiler.cc:397] ptxas warning : Registers are spilled to local memory in function 'gemm_fusion_dot_28', 8 bytes spill stores, 8 bytes spill loads\n",
      "\n",
      "2025-02-24 22:06:17.040178: I external/local_xla/xla/stream_executor/cuda/cuda_asm_compiler.cc:397] ptxas warning : Registers are spilled to local memory in function 'gemm_fusion_dot_28', 4 bytes spill stores, 4 bytes spill loads\n",
      "\n",
      "2025-02-24 22:06:17.082768: I external/local_xla/xla/stream_executor/cuda/cuda_asm_compiler.cc:397] ptxas warning : Registers are spilled to local memory in function 'gemm_fusion_dot_28', 16 bytes spill stores, 16 bytes spill loads\n",
      "\n",
      "2025-02-24 22:06:17.142385: I external/local_xla/xla/stream_executor/cuda/cuda_asm_compiler.cc:397] ptxas warning : Registers are spilled to local memory in function 'gemm_fusion_dot_10', 8 bytes spill stores, 8 bytes spill loads\n",
      "\n",
      "2025-02-24 22:06:17.148916: I external/local_xla/xla/stream_executor/cuda/cuda_asm_compiler.cc:397] ptxas warning : Registers are spilled to local memory in function 'gemm_fusion_dot_10', 8 bytes spill stores, 8 bytes spill loads\n",
      "\n",
      "2025-02-24 22:06:17.224754: I external/local_xla/xla/stream_executor/cuda/cuda_asm_compiler.cc:397] ptxas warning : Registers are spilled to local memory in function 'gemm_fusion_dot_10', 8 bytes spill stores, 8 bytes spill loads\n",
      "\n",
      "2025-02-24 22:06:19.841505: I external/local_xla/xla/stream_executor/cuda/cuda_asm_compiler.cc:397] ptxas warning : Registers are spilled to local memory in function 'gemm_fusion_dot_28', 4 bytes spill stores, 4 bytes spill loads\n",
      "\n",
      "2025-02-24 22:06:19.877358: I external/local_xla/xla/stream_executor/cuda/cuda_asm_compiler.cc:397] ptxas warning : Registers are spilled to local memory in function 'gemm_fusion_dot_28', 4 bytes spill stores, 4 bytes spill loads\n",
      "\n",
      "2025-02-24 22:06:19.890391: I external/local_xla/xla/stream_executor/cuda/cuda_asm_compiler.cc:397] ptxas warning : Registers are spilled to local memory in function 'gemm_fusion_dot_28', 4 bytes spill stores, 4 bytes spill loads\n",
      "\n",
      "2025-02-24 22:06:19.893590: I external/local_xla/xla/stream_executor/cuda/cuda_asm_compiler.cc:397] ptxas warning : Registers are spilled to local memory in function 'gemm_fusion_dot_28', 8 bytes spill stores, 8 bytes spill loads\n",
      "\n",
      "2025-02-24 22:06:19.940904: I external/local_xla/xla/stream_executor/cuda/cuda_asm_compiler.cc:397] ptxas warning : Registers are spilled to local memory in function 'gemm_fusion_dot_28', 16 bytes spill stores, 16 bytes spill loads\n",
      "\n",
      "2025-02-24 22:06:20.038279: I external/local_xla/xla/stream_executor/cuda/cuda_asm_compiler.cc:397] ptxas warning : Registers are spilled to local memory in function 'gemm_fusion_dot_10', 8 bytes spill stores, 8 bytes spill loads\n",
      "\n",
      "2025-02-24 22:06:20.072590: I external/local_xla/xla/stream_executor/cuda/cuda_asm_compiler.cc:397] ptxas warning : Registers are spilled to local memory in function 'gemm_fusion_dot_10', 8 bytes spill stores, 8 bytes spill loads\n",
      "\n",
      "2025-02-24 22:06:20.332311: I external/local_xla/xla/stream_executor/cuda/cuda_asm_compiler.cc:397] ptxas warning : Registers are spilled to local memory in function 'gemm_fusion_dot_10', 8 bytes spill stores, 8 bytes spill loads\n",
      "\n"
     ]
    },
    {
     "name": "stdout",
     "output_type": "stream",
     "text": [
      "\u001b[1m32/32\u001b[0m \u001b[32m━━━━━━━━━━━━━━━━━━━━\u001b[0m\u001b[37m\u001b[0m \u001b[1m1s\u001b[0m 24ms/step  \n",
      "Transformer MSE: 0.03660446881008667\n",
      "Testing params: {'num_heads': 8, 'lookback': 5, 'dropout_rate': 0.25, 'batch_size': 64, 'ff_dim': 64}\n",
      "\u001b[1m32/32\u001b[0m \u001b[32m━━━━━━━━━━━━━━━━━━━━\u001b[0m\u001b[37m\u001b[0m \u001b[1m1s\u001b[0m 12ms/step  \n",
      "Transformer MSE: 0.06239788965441086\n",
      "Testing params: {'num_heads': 8, 'lookback': 5, 'dropout_rate': 0.25, 'batch_size': 64, 'ff_dim': 128}\n",
      "\u001b[1m32/32\u001b[0m \u001b[32m━━━━━━━━━━━━━━━━━━━━\u001b[0m\u001b[37m\u001b[0m \u001b[1m1s\u001b[0m 12ms/step  \n",
      "Transformer MSE: 0.08083624538644452\n",
      "Testing params: {'num_heads': 8, 'lookback': 15, 'dropout_rate': 0.25, 'batch_size': 32, 'ff_dim': 64}\n"
     ]
    },
    {
     "name": "stderr",
     "output_type": "stream",
     "text": [
      "2025-02-24 22:07:09.401718: I external/local_xla/xla/stream_executor/cuda/cuda_asm_compiler.cc:397] ptxas warning : Registers are spilled to local memory in function 'input_reduce_select_fusion', 12 bytes spill stores, 8 bytes spill loads\n",
      "ptxas warning : Registers are spilled to local memory in function 'input_add_reduce_select_fusion', 136 bytes spill stores, 92 bytes spill loads\n",
      "\n"
     ]
    },
    {
     "ename": "KeyboardInterrupt",
     "evalue": "",
     "output_type": "error",
     "traceback": [
      "\u001b[0;31m---------------------------------------------------------------------------\u001b[0m",
      "\u001b[0;31mKeyboardInterrupt\u001b[0m                         Traceback (most recent call last)",
      "Cell \u001b[0;32mIn[10], line 27\u001b[0m\n\u001b[1;32m     25\u001b[0m \u001b[38;5;66;03m# 3. Run Hyperparameters tunning\u001b[39;00m\n\u001b[1;32m     26\u001b[0m start_time \u001b[38;5;241m=\u001b[39m time\u001b[38;5;241m.\u001b[39mperf_counter()\n\u001b[0;32m---> 27\u001b[0m best_model, best_params, best_mse, best_df_test \u001b[38;5;241m=\u001b[39m models\u001b[38;5;241m.\u001b[39mhyperparameter_tuning(\n\u001b[1;32m     28\u001b[0m     df\u001b[38;5;241m=\u001b[39mdf_lasso, p\u001b[38;5;241m=\u001b[39mp, model_func\u001b[38;5;241m=\u001b[39mmodels\u001b[38;5;241m.\u001b[39mtransformer_regression, param_grid\u001b[38;5;241m=\u001b[39mparam_grid, verbose\u001b[38;5;241m=\u001b[39mverbose)\n\u001b[1;32m     29\u001b[0m end_time \u001b[38;5;241m=\u001b[39m time\u001b[38;5;241m.\u001b[39mperf_counter()\n\u001b[1;32m     30\u001b[0m elapsed_time \u001b[38;5;241m=\u001b[39m end_time \u001b[38;5;241m-\u001b[39m start_time\n",
      "File \u001b[0;32m~/projects/mscfe-masters-project/src/models.py:878\u001b[0m, in \u001b[0;36mModels.hyperparameter_tuning\u001b[0;34m(self, df, p, model_func, param_grid, verbose, use_gpu)\u001b[0m\n\u001b[1;32m    875\u001b[0m \u001b[38;5;28;01mif\u001b[39;00m verbose:\n\u001b[1;32m    876\u001b[0m     \u001b[38;5;28mprint\u001b[39m(\u001b[38;5;124mf\u001b[39m\u001b[38;5;124m\"\u001b[39m\u001b[38;5;124mTesting params: \u001b[39m\u001b[38;5;132;01m{\u001b[39;00mparams\u001b[38;5;132;01m}\u001b[39;00m\u001b[38;5;124m\"\u001b[39m)  \u001b[38;5;66;03m# Optional logging\u001b[39;00m\n\u001b[0;32m--> 878\u001b[0m model, mse, df_test, _, _ \u001b[38;5;241m=\u001b[39m model_func(\n\u001b[1;32m    879\u001b[0m     df, p, \u001b[38;5;241m*\u001b[39m\u001b[38;5;241m*\u001b[39mparams, verbose\u001b[38;5;241m=\u001b[39mverbose\n\u001b[1;32m    880\u001b[0m )  \u001b[38;5;66;03m# Run model function\u001b[39;00m\n\u001b[1;32m    882\u001b[0m \u001b[38;5;28;01mif\u001b[39;00m mse \u001b[38;5;241m<\u001b[39m best_mse:\n\u001b[1;32m    883\u001b[0m     best_mse \u001b[38;5;241m=\u001b[39m mse\n",
      "File \u001b[0;32m~/projects/mscfe-masters-project/src/models.py:630\u001b[0m, in \u001b[0;36mModels.transformer_regression\u001b[0;34m(self, df, p, lookback, s, num_heads, ff_dim, dropout_rate, learning_rate, epochs, batch_size, pickle_file, verbose)\u001b[0m\n\u001b[1;32m    628\u001b[0m model \u001b[38;5;241m=\u001b[39m Model(inputs, outputs)\n\u001b[1;32m    629\u001b[0m model\u001b[38;5;241m.\u001b[39mcompile(optimizer\u001b[38;5;241m=\u001b[39mAdam(learning_rate\u001b[38;5;241m=\u001b[39mlearning_rate), loss\u001b[38;5;241m=\u001b[39m\u001b[38;5;124m\"\u001b[39m\u001b[38;5;124mmse\u001b[39m\u001b[38;5;124m\"\u001b[39m)\n\u001b[0;32m--> 630\u001b[0m model\u001b[38;5;241m.\u001b[39mfit(\n\u001b[1;32m    631\u001b[0m     X_train, y_train, epochs\u001b[38;5;241m=\u001b[39mepochs, batch_size\u001b[38;5;241m=\u001b[39mbatch_size, verbose\u001b[38;5;241m=\u001b[39m\u001b[38;5;28;01mFalse\u001b[39;00m\n\u001b[1;32m    632\u001b[0m )\n\u001b[1;32m    634\u001b[0m end_time \u001b[38;5;241m=\u001b[39m time\u001b[38;5;241m.\u001b[39mtime()\n\u001b[1;32m    635\u001b[0m end_memory \u001b[38;5;241m=\u001b[39m \u001b[38;5;28mself\u001b[39m\u001b[38;5;241m.\u001b[39mget_memory_usage()\n",
      "File \u001b[0;32m~/miniconda3/envs/tf_py311/lib/python3.11/site-packages/keras/src/utils/traceback_utils.py:117\u001b[0m, in \u001b[0;36mfilter_traceback.<locals>.error_handler\u001b[0;34m(*args, **kwargs)\u001b[0m\n\u001b[1;32m    115\u001b[0m filtered_tb \u001b[38;5;241m=\u001b[39m \u001b[38;5;28;01mNone\u001b[39;00m\n\u001b[1;32m    116\u001b[0m \u001b[38;5;28;01mtry\u001b[39;00m:\n\u001b[0;32m--> 117\u001b[0m     \u001b[38;5;28;01mreturn\u001b[39;00m fn(\u001b[38;5;241m*\u001b[39margs, \u001b[38;5;241m*\u001b[39m\u001b[38;5;241m*\u001b[39mkwargs)\n\u001b[1;32m    118\u001b[0m \u001b[38;5;28;01mexcept\u001b[39;00m \u001b[38;5;167;01mException\u001b[39;00m \u001b[38;5;28;01mas\u001b[39;00m e:\n\u001b[1;32m    119\u001b[0m     filtered_tb \u001b[38;5;241m=\u001b[39m _process_traceback_frames(e\u001b[38;5;241m.\u001b[39m__traceback__)\n",
      "File \u001b[0;32m~/miniconda3/envs/tf_py311/lib/python3.11/site-packages/keras/src/backend/tensorflow/trainer.py:371\u001b[0m, in \u001b[0;36mTensorFlowTrainer.fit\u001b[0;34m(self, x, y, batch_size, epochs, verbose, callbacks, validation_split, validation_data, shuffle, class_weight, sample_weight, initial_epoch, steps_per_epoch, validation_steps, validation_batch_size, validation_freq)\u001b[0m\n\u001b[1;32m    369\u001b[0m \u001b[38;5;28;01mfor\u001b[39;00m step, iterator \u001b[38;5;129;01min\u001b[39;00m epoch_iterator:\n\u001b[1;32m    370\u001b[0m     callbacks\u001b[38;5;241m.\u001b[39mon_train_batch_begin(step)\n\u001b[0;32m--> 371\u001b[0m     logs \u001b[38;5;241m=\u001b[39m \u001b[38;5;28mself\u001b[39m\u001b[38;5;241m.\u001b[39mtrain_function(iterator)\n\u001b[1;32m    372\u001b[0m     callbacks\u001b[38;5;241m.\u001b[39mon_train_batch_end(step, logs)\n\u001b[1;32m    373\u001b[0m     \u001b[38;5;28;01mif\u001b[39;00m \u001b[38;5;28mself\u001b[39m\u001b[38;5;241m.\u001b[39mstop_training:\n",
      "File \u001b[0;32m~/miniconda3/envs/tf_py311/lib/python3.11/site-packages/keras/src/backend/tensorflow/trainer.py:219\u001b[0m, in \u001b[0;36mTensorFlowTrainer._make_function.<locals>.function\u001b[0;34m(iterator)\u001b[0m\n\u001b[1;32m    215\u001b[0m \u001b[38;5;28;01mdef\u001b[39;00m \u001b[38;5;21mfunction\u001b[39m(iterator):\n\u001b[1;32m    216\u001b[0m     \u001b[38;5;28;01mif\u001b[39;00m \u001b[38;5;28misinstance\u001b[39m(\n\u001b[1;32m    217\u001b[0m         iterator, (tf\u001b[38;5;241m.\u001b[39mdata\u001b[38;5;241m.\u001b[39mIterator, tf\u001b[38;5;241m.\u001b[39mdistribute\u001b[38;5;241m.\u001b[39mDistributedIterator)\n\u001b[1;32m    218\u001b[0m     ):\n\u001b[0;32m--> 219\u001b[0m         opt_outputs \u001b[38;5;241m=\u001b[39m multi_step_on_iterator(iterator)\n\u001b[1;32m    220\u001b[0m         \u001b[38;5;28;01mif\u001b[39;00m \u001b[38;5;129;01mnot\u001b[39;00m opt_outputs\u001b[38;5;241m.\u001b[39mhas_value():\n\u001b[1;32m    221\u001b[0m             \u001b[38;5;28;01mraise\u001b[39;00m \u001b[38;5;167;01mStopIteration\u001b[39;00m\n",
      "File \u001b[0;32m~/miniconda3/envs/tf_py311/lib/python3.11/site-packages/tensorflow/python/util/traceback_utils.py:150\u001b[0m, in \u001b[0;36mfilter_traceback.<locals>.error_handler\u001b[0;34m(*args, **kwargs)\u001b[0m\n\u001b[1;32m    148\u001b[0m filtered_tb \u001b[38;5;241m=\u001b[39m \u001b[38;5;28;01mNone\u001b[39;00m\n\u001b[1;32m    149\u001b[0m \u001b[38;5;28;01mtry\u001b[39;00m:\n\u001b[0;32m--> 150\u001b[0m   \u001b[38;5;28;01mreturn\u001b[39;00m fn(\u001b[38;5;241m*\u001b[39margs, \u001b[38;5;241m*\u001b[39m\u001b[38;5;241m*\u001b[39mkwargs)\n\u001b[1;32m    151\u001b[0m \u001b[38;5;28;01mexcept\u001b[39;00m \u001b[38;5;167;01mException\u001b[39;00m \u001b[38;5;28;01mas\u001b[39;00m e:\n\u001b[1;32m    152\u001b[0m   filtered_tb \u001b[38;5;241m=\u001b[39m _process_traceback_frames(e\u001b[38;5;241m.\u001b[39m__traceback__)\n",
      "File \u001b[0;32m~/miniconda3/envs/tf_py311/lib/python3.11/site-packages/tensorflow/python/eager/polymorphic_function/polymorphic_function.py:833\u001b[0m, in \u001b[0;36mFunction.__call__\u001b[0;34m(self, *args, **kwds)\u001b[0m\n\u001b[1;32m    830\u001b[0m compiler \u001b[38;5;241m=\u001b[39m \u001b[38;5;124m\"\u001b[39m\u001b[38;5;124mxla\u001b[39m\u001b[38;5;124m\"\u001b[39m \u001b[38;5;28;01mif\u001b[39;00m \u001b[38;5;28mself\u001b[39m\u001b[38;5;241m.\u001b[39m_jit_compile \u001b[38;5;28;01melse\u001b[39;00m \u001b[38;5;124m\"\u001b[39m\u001b[38;5;124mnonXla\u001b[39m\u001b[38;5;124m\"\u001b[39m\n\u001b[1;32m    832\u001b[0m \u001b[38;5;28;01mwith\u001b[39;00m OptionalXlaContext(\u001b[38;5;28mself\u001b[39m\u001b[38;5;241m.\u001b[39m_jit_compile):\n\u001b[0;32m--> 833\u001b[0m   result \u001b[38;5;241m=\u001b[39m \u001b[38;5;28mself\u001b[39m\u001b[38;5;241m.\u001b[39m_call(\u001b[38;5;241m*\u001b[39margs, \u001b[38;5;241m*\u001b[39m\u001b[38;5;241m*\u001b[39mkwds)\n\u001b[1;32m    835\u001b[0m new_tracing_count \u001b[38;5;241m=\u001b[39m \u001b[38;5;28mself\u001b[39m\u001b[38;5;241m.\u001b[39mexperimental_get_tracing_count()\n\u001b[1;32m    836\u001b[0m without_tracing \u001b[38;5;241m=\u001b[39m (tracing_count \u001b[38;5;241m==\u001b[39m new_tracing_count)\n",
      "File \u001b[0;32m~/miniconda3/envs/tf_py311/lib/python3.11/site-packages/tensorflow/python/eager/polymorphic_function/polymorphic_function.py:878\u001b[0m, in \u001b[0;36mFunction._call\u001b[0;34m(self, *args, **kwds)\u001b[0m\n\u001b[1;32m    875\u001b[0m \u001b[38;5;28mself\u001b[39m\u001b[38;5;241m.\u001b[39m_lock\u001b[38;5;241m.\u001b[39mrelease()\n\u001b[1;32m    876\u001b[0m \u001b[38;5;66;03m# In this case we have not created variables on the first call. So we can\u001b[39;00m\n\u001b[1;32m    877\u001b[0m \u001b[38;5;66;03m# run the first trace but we should fail if variables are created.\u001b[39;00m\n\u001b[0;32m--> 878\u001b[0m results \u001b[38;5;241m=\u001b[39m tracing_compilation\u001b[38;5;241m.\u001b[39mcall_function(\n\u001b[1;32m    879\u001b[0m     args, kwds, \u001b[38;5;28mself\u001b[39m\u001b[38;5;241m.\u001b[39m_variable_creation_config\n\u001b[1;32m    880\u001b[0m )\n\u001b[1;32m    881\u001b[0m \u001b[38;5;28;01mif\u001b[39;00m \u001b[38;5;28mself\u001b[39m\u001b[38;5;241m.\u001b[39m_created_variables:\n\u001b[1;32m    882\u001b[0m   \u001b[38;5;28;01mraise\u001b[39;00m \u001b[38;5;167;01mValueError\u001b[39;00m(\u001b[38;5;124m\"\u001b[39m\u001b[38;5;124mCreating variables on a non-first call to a function\u001b[39m\u001b[38;5;124m\"\u001b[39m\n\u001b[1;32m    883\u001b[0m                    \u001b[38;5;124m\"\u001b[39m\u001b[38;5;124m decorated with tf.function.\u001b[39m\u001b[38;5;124m\"\u001b[39m)\n",
      "File \u001b[0;32m~/miniconda3/envs/tf_py311/lib/python3.11/site-packages/tensorflow/python/eager/polymorphic_function/tracing_compilation.py:139\u001b[0m, in \u001b[0;36mcall_function\u001b[0;34m(args, kwargs, tracing_options)\u001b[0m\n\u001b[1;32m    137\u001b[0m bound_args \u001b[38;5;241m=\u001b[39m function\u001b[38;5;241m.\u001b[39mfunction_type\u001b[38;5;241m.\u001b[39mbind(\u001b[38;5;241m*\u001b[39margs, \u001b[38;5;241m*\u001b[39m\u001b[38;5;241m*\u001b[39mkwargs)\n\u001b[1;32m    138\u001b[0m flat_inputs \u001b[38;5;241m=\u001b[39m function\u001b[38;5;241m.\u001b[39mfunction_type\u001b[38;5;241m.\u001b[39munpack_inputs(bound_args)\n\u001b[0;32m--> 139\u001b[0m \u001b[38;5;28;01mreturn\u001b[39;00m function\u001b[38;5;241m.\u001b[39m_call_flat(  \u001b[38;5;66;03m# pylint: disable=protected-access\u001b[39;00m\n\u001b[1;32m    140\u001b[0m     flat_inputs, captured_inputs\u001b[38;5;241m=\u001b[39mfunction\u001b[38;5;241m.\u001b[39mcaptured_inputs\n\u001b[1;32m    141\u001b[0m )\n",
      "File \u001b[0;32m~/miniconda3/envs/tf_py311/lib/python3.11/site-packages/tensorflow/python/eager/polymorphic_function/concrete_function.py:1322\u001b[0m, in \u001b[0;36mConcreteFunction._call_flat\u001b[0;34m(self, tensor_inputs, captured_inputs)\u001b[0m\n\u001b[1;32m   1318\u001b[0m possible_gradient_type \u001b[38;5;241m=\u001b[39m gradients_util\u001b[38;5;241m.\u001b[39mPossibleTapeGradientTypes(args)\n\u001b[1;32m   1319\u001b[0m \u001b[38;5;28;01mif\u001b[39;00m (possible_gradient_type \u001b[38;5;241m==\u001b[39m gradients_util\u001b[38;5;241m.\u001b[39mPOSSIBLE_GRADIENT_TYPES_NONE\n\u001b[1;32m   1320\u001b[0m     \u001b[38;5;129;01mand\u001b[39;00m executing_eagerly):\n\u001b[1;32m   1321\u001b[0m   \u001b[38;5;66;03m# No tape is watching; skip to running the function.\u001b[39;00m\n\u001b[0;32m-> 1322\u001b[0m   \u001b[38;5;28;01mreturn\u001b[39;00m \u001b[38;5;28mself\u001b[39m\u001b[38;5;241m.\u001b[39m_inference_function\u001b[38;5;241m.\u001b[39mcall_preflattened(args)\n\u001b[1;32m   1323\u001b[0m forward_backward \u001b[38;5;241m=\u001b[39m \u001b[38;5;28mself\u001b[39m\u001b[38;5;241m.\u001b[39m_select_forward_and_backward_functions(\n\u001b[1;32m   1324\u001b[0m     args,\n\u001b[1;32m   1325\u001b[0m     possible_gradient_type,\n\u001b[1;32m   1326\u001b[0m     executing_eagerly)\n\u001b[1;32m   1327\u001b[0m forward_function, args_with_tangents \u001b[38;5;241m=\u001b[39m forward_backward\u001b[38;5;241m.\u001b[39mforward()\n",
      "File \u001b[0;32m~/miniconda3/envs/tf_py311/lib/python3.11/site-packages/tensorflow/python/eager/polymorphic_function/atomic_function.py:216\u001b[0m, in \u001b[0;36mAtomicFunction.call_preflattened\u001b[0;34m(self, args)\u001b[0m\n\u001b[1;32m    214\u001b[0m \u001b[38;5;28;01mdef\u001b[39;00m \u001b[38;5;21mcall_preflattened\u001b[39m(\u001b[38;5;28mself\u001b[39m, args: Sequence[core\u001b[38;5;241m.\u001b[39mTensor]) \u001b[38;5;241m-\u001b[39m\u001b[38;5;241m>\u001b[39m Any:\n\u001b[1;32m    215\u001b[0m \u001b[38;5;250m  \u001b[39m\u001b[38;5;124;03m\"\"\"Calls with flattened tensor inputs and returns the structured output.\"\"\"\u001b[39;00m\n\u001b[0;32m--> 216\u001b[0m   flat_outputs \u001b[38;5;241m=\u001b[39m \u001b[38;5;28mself\u001b[39m\u001b[38;5;241m.\u001b[39mcall_flat(\u001b[38;5;241m*\u001b[39margs)\n\u001b[1;32m    217\u001b[0m   \u001b[38;5;28;01mreturn\u001b[39;00m \u001b[38;5;28mself\u001b[39m\u001b[38;5;241m.\u001b[39mfunction_type\u001b[38;5;241m.\u001b[39mpack_output(flat_outputs)\n",
      "\u001b[0;31mKeyboardInterrupt\u001b[0m: "
     ]
    }
   ],
   "source": [
    "dir_best = os.path.join(dir_models_best, 'transformer')\n",
    "param_grid = {\n",
    "    'num_heads': [2, 4, 8],\n",
    "    'lookback': [10, 5, 15],  # Number of steps to lookback\n",
    "    'dropout_rate': [0.25],  # Dropout rates\n",
    "    'batch_size': [32, 64], # Number of data per batch\n",
    "    'ff_dim': [64, 128],\n",
    "}\n",
    "\n",
    "verbose = True\n",
    "tuned_params = []\n",
    "i = 1\n",
    "\n",
    "for p in pairs:\n",
    "    print(f\"({i}) Pairs: {p}\")\n",
    "\n",
    "    # 1. Read normalized features\n",
    "    df_norm = dict_data['df_norm'][p]\n",
    "    \n",
    "    # 2. Create X, y based on LassoCV\n",
    "    lasso_features_cols = dict_cv_features[p]\n",
    "    target_col = df_norm.columns.tolist()[-1]\n",
    "    df_lasso = pd.concat([df_norm[lasso_features_cols], df_norm[target_col]], axis=1)\n",
    "\n",
    "    # 3. Run Hyperparameters tunning\n",
    "    start_time = time.perf_counter()\n",
    "    best_model, best_params, best_mse, best_df_test = models.hyperparameter_tuning(\n",
    "        df=df_lasso, p=p, model_func=models.transformer_regression, param_grid=param_grid, verbose=verbose)\n",
    "    end_time = time.perf_counter()\n",
    "    elapsed_time = end_time - start_time\n",
    "\n",
    "    stats = {\n",
    "        'pair':p, \n",
    "        'best_mse': best_mse,\n",
    "        'data_points': len(df_lasso),\n",
    "        'features': len(df_lasso.columns),\n",
    "    }\n",
    "    stats.update(best_params)\n",
    "    tuned_params.append(stats)\n",
    "\n",
    "    print(f\"Best MSE: {best_mse:.6f}\")\n",
    "    print(f\"num_heads: {best_params['num_heads']}, lookback: {best_params['lookback']}, ff_dim: {best_params['ff_dim']}, batch_size: {best_params['batch_size']}\")\n",
    "    print(f\"Time taken: {elapsed_time:.6f} seconds\")\n",
    "\n",
    "    # 4. Save best model future use like testing and strategy\n",
    "    model_name = f\"best_lstm_{p.replace(' ', '_')}.pkl\"\n",
    "    dir_model_name = os.path.join(dir_best, model_name)\n",
    "    pypickle.save(dir_model_name, best_model, overwrite=pypickle_overwrite)\n",
    "\n",
    "    i+=1\n",
    "    print('')\n",
    "\n",
    "dir_param = os.path.join(dir_best, 'best_model_results.csv')\n",
    "df_transformer = pd.DataFrame(tuned_params).set_index('pair')\n",
    "df_transformer.to_csv(dir_param)\n",
    "df_transformer(df_lstm)"
   ]
  },
  {
   "cell_type": "code",
   "execution_count": null,
   "id": "7f51ddd6-8c08-4cbb-b056-76d6fff9b260",
   "metadata": {},
   "outputs": [],
   "source": []
  }
 ],
 "metadata": {
  "kernelspec": {
   "display_name": "Python (tf_py311)",
   "language": "python",
   "name": "tf_py311"
  },
  "language_info": {
   "codemirror_mode": {
    "name": "ipython",
    "version": 3
   },
   "file_extension": ".py",
   "mimetype": "text/x-python",
   "name": "python",
   "nbconvert_exporter": "python",
   "pygments_lexer": "ipython3",
   "version": "3.11.11"
  }
 },
 "nbformat": 4,
 "nbformat_minor": 5
}
